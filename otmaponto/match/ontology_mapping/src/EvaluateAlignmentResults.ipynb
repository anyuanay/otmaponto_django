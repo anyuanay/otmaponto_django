{
 "cells": [
  {
   "cell_type": "markdown",
   "id": "35cd399a-a6d5-406e-9115-263228e15ce1",
   "metadata": {},
   "source": [
    "# Evaluate the Alignment Results against References"
   ]
  },
  {
   "cell_type": "code",
   "execution_count": 2,
   "id": "68b1f0a7-31b2-4634-91d7-0e04d1eee33e",
   "metadata": {},
   "outputs": [],
   "source": [
    "import pandas as pd\n",
    "import numpy as np\n",
    "\n",
    "from xml.dom import minidom"
   ]
  },
  {
   "cell_type": "code",
   "execution_count": 40,
   "id": "874b35ff-e2ff-4ef4-bff2-ca5198e3046b",
   "metadata": {},
   "outputs": [],
   "source": [
    "# Load alignments as a DataFrame\n",
    "def load_alignments(rdf_path, name):\n",
    "    \"\"\"\n",
    "        input: path to a rdf file with alignments\n",
    "            <map>\n",
    "                <Cell>\n",
    "                    <entity1 rdf:resource=\"http://mouse.owl#MA_0002401\"/>\n",
    "                    <entity2 rdf:resource=\"http://human.owl#NCI_C52561\"/>\n",
    "                    <measure rdf:datatype=\"xsd:float\">1.0</measure>\n",
    "                    <relation>=</relation>\n",
    "                </Cell>\n",
    "            </map>\n",
    "        ouptut: DataFrame with 'source', 'target', 'relation', 'measure'\n",
    "    \"\"\"\n",
    "    \n",
    "    xml_data = minidom.parse(rdf_path)\n",
    "    maps = xml_data.getElementsByTagName('map')\n",
    "\n",
    "    print(\"Total number of {} is {}\".format(name, len(maps)))\n",
    "    \n",
    "    # holds the mappings from uri to uri\n",
    "    uri_maps = []\n",
    "    for ele in maps:\n",
    "        e1 = ele.getElementsByTagName('entity1')[0].attributes['rdf:resource'].value\n",
    "        e2 = ele.getElementsByTagName('entity2')[0].attributes['rdf:resource'].value\n",
    "        rel = ele.getElementsByTagName('relation')[0].childNodes[0].data\n",
    "        confd = ele.getElementsByTagName('measure')[0].childNodes[0].data\n",
    "        uri_maps.append((e1, e2, rel, confd))\n",
    "    \n",
    "    alignment = pd.DataFrame(uri_maps, columns=['source', 'target', 'relation', 'confidence'])\n",
    "    \n",
    "    return alignment"
   ]
  },
  {
   "cell_type": "code",
   "execution_count": 23,
   "id": "5e169d3a-3ff7-4b05-876b-7455dcbda417",
   "metadata": {},
   "outputs": [],
   "source": [
    "ref_path = \"../data/reference.rdf\""
   ]
  },
  {
   "cell_type": "code",
   "execution_count": 41,
   "id": "c91d7619-4568-4b9b-a6d9-fd7c6f831b58",
   "metadata": {},
   "outputs": [
    {
     "name": "stdout",
     "output_type": "stream",
     "text": [
      "Total number of references is 1516\n"
     ]
    },
    {
     "data": {
      "text/plain": [
       "(1516, 4)"
      ]
     },
     "execution_count": 41,
     "metadata": {},
     "output_type": "execute_result"
    }
   ],
   "source": [
    "refs = load_alignments(ref_path, \"references\")\n",
    "refs.shape"
   ]
  },
  {
   "cell_type": "code",
   "execution_count": 28,
   "id": "77686803-3689-4c31-b6aa-302bb2ccbdf3",
   "metadata": {},
   "outputs": [],
   "source": [
    "align_path = \"/var/folders/2v/l9vs169j3ndcvjlgxn30bk_r0000gp/T/alignment___3397p8.rdf\""
   ]
  },
  {
   "cell_type": "code",
   "execution_count": 42,
   "id": "2744891b-69e4-4c5f-bbcd-bdaa2fd93e57",
   "metadata": {},
   "outputs": [
    {
     "name": "stdout",
     "output_type": "stream",
     "text": [
      "Total number of predicted alignments is 983\n"
     ]
    }
   ],
   "source": [
    "alignments = load_alignments(align_path, \"predicted alignments\")"
   ]
  },
  {
   "cell_type": "code",
   "execution_count": 50,
   "id": "39f195e6-d163-4438-90dd-a818a1718c29",
   "metadata": {},
   "outputs": [],
   "source": [
    "# Evaluate the alignment against references by precision, recall, f-measure\n",
    "def evaluate(align_rdf_path, refs_rdf_path):\n",
    "    \"\"\"\n",
    "        input: align_rdf_path: path to alignment rdf file\n",
    "               refs_rdf_path: path to references rdf file\n",
    "        output: print precision, recall, f1-meaure\n",
    "    \"\"\"\n",
    "    \n",
    "    align_df = load_alignments(align_rdf_path, 'predicted alignments')\n",
    "    refs_df = load_alignments(refs_rdf_path, 'references')\n",
    "    \n",
    "    matched_df = align_df.merge(refs_df, how='inner', left_on=['source', 'target'], \\\n",
    "                                right_on=['source', 'target'])\n",
    "    \n",
    "    print(\"Total correctly predicted alignments is {}\".format(matched_df.shape[0]))\n",
    "    \n",
    "    p = matched_df.shape[0] / align_df.shape[0]\n",
    "    r = matched_df.shape[0] / refs_df.shape[0]\n",
    "    f = 2 / (1/p + 1/r)\n",
    "    print(\"Precision is {}\".format(p))\n",
    "    print(\"Recall is {}\".format(r))\n",
    "    print(\"F1-Measure is {}\".format(f))"
   ]
  },
  {
   "cell_type": "code",
   "execution_count": 59,
   "id": "52a439b0-a80b-456c-b4b7-e9bfb3106338",
   "metadata": {},
   "outputs": [
    {
     "name": "stdout",
     "output_type": "stream",
     "text": [
      "Total number of predicted alignments is 1781\n",
      "Total number of references is 1516\n",
      "Total correctly predicted alignments is 270\n",
      "Precision is 0.15160022459292533\n",
      "Recall is 0.17810026385224276\n",
      "F1-Measure is 0.16378525932666058\n"
     ]
    }
   ],
   "source": [
    "evaluate('/var/folders/2v/l9vs169j3ndcvjlgxn30bk_r0000gp/T/alignment_zq7k1uxn.rdf', ref_path)"
   ]
  },
  {
   "cell_type": "code",
   "execution_count": 64,
   "id": "0966806e-9631-4515-93c5-0b525e267ce9",
   "metadata": {},
   "outputs": [
    {
     "name": "stdout",
     "output_type": "stream",
     "text": [
      "Total number of predicted alignments is 983\n",
      "Total number of references is 1516\n",
      "Total correctly predicted alignments is 974\n",
      "Precision is 0.9908443540183113\n",
      "Recall is 0.6424802110817942\n",
      "F1-Measure is 0.7795118047218887\n"
     ]
    }
   ],
   "source": [
    "evaluate('/var/folders/2v/l9vs169j3ndcvjlgxn30bk_r0000gp/T/alignment_sm7qr0eu.rdf', ref_path)"
   ]
  },
  {
   "cell_type": "code",
   "execution_count": 63,
   "id": "bc991295-de33-47bb-82c4-c1a02762067e",
   "metadata": {},
   "outputs": [
    {
     "name": "stdout",
     "output_type": "stream",
     "text": [
      "Total number of predicted alignments is 2764\n",
      "Total number of references is 1516\n",
      "Total correctly predicted alignments is 1244\n",
      "Precision is 0.45007235890014474\n",
      "Recall is 0.820580474934037\n",
      "F1-Measure is 0.5813084112149532\n"
     ]
    }
   ],
   "source": [
    "evaluate('/var/folders/2v/l9vs169j3ndcvjlgxn30bk_r0000gp/T/alignment_bmqlgxbf.rdf', ref_path)"
   ]
  },
  {
   "cell_type": "code",
   "execution_count": null,
   "id": "d83009ff-c7bc-453f-8428-420c8c617cd2",
   "metadata": {},
   "outputs": [],
   "source": []
  }
 ],
 "metadata": {
  "kernelspec": {
   "display_name": "Python 3",
   "language": "python",
   "name": "python3"
  },
  "language_info": {
   "codemirror_mode": {
    "name": "ipython",
    "version": 3
   },
   "file_extension": ".py",
   "mimetype": "text/x-python",
   "name": "python",
   "nbconvert_exporter": "python",
   "pygments_lexer": "ipython3",
   "version": "3.7.7"
  }
 },
 "nbformat": 4,
 "nbformat_minor": 5
}
