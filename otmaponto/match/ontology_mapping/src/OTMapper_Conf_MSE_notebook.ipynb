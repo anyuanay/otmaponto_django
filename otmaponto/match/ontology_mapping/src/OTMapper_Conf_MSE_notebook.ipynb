{
 "cells": [
  {
   "cell_type": "markdown",
   "id": "f03aa0d4-3dac-4b21-b28d-6fe23d216a89",
   "metadata": {},
   "source": [
    "# OTMapper test"
   ]
  },
  {
   "cell_type": "code",
   "execution_count": 295,
   "id": "2c2084bc-9fd5-4ea6-9748-d7ab6232f1c1",
   "metadata": {},
   "outputs": [],
   "source": [
    "import OTMapOnto as maponto\n",
    "import OTMapper as otmapper\n",
    "import OTNeighborhood_TDA as mapneighbor\n",
    "from rdflib import Graph\n",
    "\n",
    "import pandas as pd\n",
    "import numpy as np\n",
    "import matplotlib.pyplot as plt"
   ]
  },
  {
   "cell_type": "code",
   "execution_count": 2,
   "id": "27961270-37cb-4143-9dbb-8fcf5b64fee5",
   "metadata": {},
   "outputs": [
    {
     "name": "stderr",
     "output_type": "stream",
     "text": [
      "INFO:root:Load pre-trained embeddings for about 10 mins if the model hasn't been load yet.\n",
      "INFO:root:Loading the pre-trained Fasttext model...Please be patient...It may take about 10 mins to load...\n",
      "INFO:gensim.models._fasttext_bin:loading 2000000 words for fastText model from ../model/crawl-300d-2M-subword.bin\n"
     ]
    },
    {
     "name": "stdout",
     "output_type": "stream",
     "text": [
      "Loading the pre-trained Fasttext model...Please be patient...It may take about 10 mins to load...\n"
     ]
    },
    {
     "name": "stderr",
     "output_type": "stream",
     "text": [
      "ERROR:gensim.models._fasttext_bin:failed to decode invalid unicode bytes b'DeutschHrvatskiEnglishDanskNederlandssuomiFran\\xc3\\xa7ais\\xce\\x95\\xce\\xbb\\xce\\xbb\\xce'; replacing invalid characters, using 'DeutschHrvatskiEnglishDanskNederlandssuomiFrançaisΕλλ\\\\xce'\n",
      "ERROR:gensim.models._fasttext_bin:failed to decode invalid unicode bytes b'\\xe3\\x81\\x99\\xe3\\x81\\xb9\\xe3\\x81\\xa6\\xe3\\x81\\xae\\xe5\\x9b\\x9e\\xe7\\xad\\x94\\xe3\\x82\\x92\\xe9\\x9d\\x9e\\xe8\\xa1\\xa8\\xe7\\xa4\\xba\\xe3\\x81\\xab\\xe3\\x81\\x99\\xe3\\x82\\x8b\\xe8\\xb3\\xaa\\xe5\\x95\\x8f\\xe3\\x82\\x92\\xe5\\x89\\x8a\\xe9\\x99\\xa4\\xe3\\x81\\x97\\xe3'; replacing invalid characters, using 'すべての回答を非表示にする質問を削除し\\\\xe3'\n",
      "ERROR:gensim.models._fasttext_bin:failed to decode invalid unicode bytes b'00Z\\xe9\\x83\\xa8\\xe5\\xb1\\x8b\\xe3\\x82\\xbf\\xe3\\x82\\xa4\\xe3\\x83\\x97\\xe3\\x81\\xbe\\xe3\\x82\\x8b\\xe3\\x81\\xbe\\xe3\\x82\\x8b\\xe8\\xb2\\xb8\\xe5\\x88\\x87\\xe5\\xbb\\xba\\xe7\\x89\\xa9\\xe3\\x82\\xbf\\xe3\\x82\\xa4\\xe3\\x83\\x97\\xe4\\xb8\\x80\\xe8\\xbb\\x92\\xe5'; replacing invalid characters, using '00Z部屋タイプまるまる貸切建物タイプ一軒\\\\xe5'\n",
      "ERROR:gensim.models._fasttext_bin:failed to decode invalid unicode bytes b'2017\\xe6\\x88\\xbf\\xe9\\x97\\xb4\\xe7\\xb1\\xbb\\xe5\\x9e\\x8b\\xe7\\x8b\\xac\\xe7\\xab\\x8b\\xe6\\x88\\xbf\\xe9\\x97\\xb4\\xe6\\x88\\xbf\\xe6\\xba\\x90\\xe7\\xb1\\xbb\\xe5\\x9e\\x8b\\xe7\\x8b\\xac\\xe7\\xab\\x8b\\xe5\\xb1\\x8b\\xe5\\x8f\\xaf\\xe4\\xbd\\x8f2\\xe5\\x8d'; replacing invalid characters, using '2017房间类型独立房间房源类型独立屋可住2\\\\xe5\\\\x8d'\n",
      "ERROR:gensim.models._fasttext_bin:failed to decode invalid unicode bytes b'2016\\xe6\\x88\\xbf\\xe9\\x97\\xb4\\xe7\\xb1\\xbb\\xe5\\x9e\\x8b\\xe7\\x8b\\xac\\xe7\\xab\\x8b\\xe6\\x88\\xbf\\xe9\\x97\\xb4\\xe6\\x88\\xbf\\xe6\\xba\\x90\\xe7\\xb1\\xbb\\xe5\\x9e\\x8b\\xe7\\x8b\\xac\\xe7\\xab\\x8b\\xe5\\xb1\\x8b\\xe5\\x8f\\xaf\\xe4\\xbd\\x8f2\\xe5\\x8d'; replacing invalid characters, using '2016房间类型独立房间房源类型独立屋可住2\\\\xe5\\\\x8d'\n",
      "ERROR:gensim.models._fasttext_bin:failed to decode invalid unicode bytes b'00Z\\xe9\\x83\\xa8\\xe5\\xb1\\x8b\\xe3\\x82\\xbf\\xe3\\x82\\xa4\\xe3\\x83\\x97\\xe3\\x81\\xbe\\xe3\\x82\\x8b\\xe3\\x81\\xbe\\xe3\\x82\\x8b\\xe8\\xb2\\xb8\\xe5\\x88\\x87\\xe5\\xbb\\xba\\xe7\\x89\\xa9\\xe3\\x82\\xbf\\xe3\\x82\\xa4\\xe3\\x83\\x97\\xe5\\x88\\xa5\\xe8\\x8d\\x98\\xe5'; replacing invalid characters, using '00Z部屋タイプまるまる貸切建物タイプ別荘\\\\xe5'\n",
      "ERROR:gensim.models._fasttext_bin:failed to decode invalid unicode bytes b'\\xe6\\xb6\\x88\\xe8\\xb2\\xbb\\xe8\\x80\\x85\\xe7\\x9f\\xa5\\xe9\\x81\\x93\\xe4\\xb8\\x80\\xe5\\x80\\x8b\\xe8\\xa3\\xbd\\xe9\\x80\\xa0\\xe5\\x95\\x86\\xe5\\x85\\xb6\\xe4\\xb8\\xad\\xe4\\xb8\\x80\\xe5\\x80\\x8b\\xe7\\x94\\xa2\\xe5\\x93\\x81\\xe7\\x9a\\x84\\xe4\\xb8\\x80\\xe8\\x88\\xac\\xe5'; replacing invalid characters, using '消費者知道一個製造商其中一個產品的一般\\\\xe5'\n",
      "ERROR:gensim.models._fasttext_bin:failed to decode invalid unicode bytes b'\\xce\\xb9\\xce\\xb4\\xce\\xb9\\xce\\xbf\\xce\\xba\\xcf\\x84\\xce\\xb7\\xcf\\x83\\xce\\xaf\\xce\\xb1\\xcf\\x82\\xce\\x94\\xce\\xb9\\xce\\xb1\\xce\\xbc\\xce\\xad\\xcf\\x81\\xce\\xb9\\xcf\\x83\\xce\\xbc\\xce\\xb1\\xce\\x86\\xcf\\x84\\xce\\xbf\\xce\\xbc\\xce\\xb12\\xce\\xa5\\xcf\\x80\\xce'; replacing invalid characters, using 'ιδιοκτησίαςΔιαμέρισμαΆτομα2Υπ\\\\xce'\n",
      "ERROR:gensim.models._fasttext_bin:failed to decode invalid unicode bytes b'\\xe6\\x88\\x96\\xe5\\x85\\xb6\\xe4\\xbb\\x96\\xe5\\xae\\x98\\xe6\\x96\\xb9\\xe7\\x82\\xb9\\xe8\\xaf\\x84\\xe6\\x94\\xb6\\xe9\\x9b\\x86\\xe5\\x90\\x88\\xe4\\xbd\\x9c\\xe4\\xbc\\x99\\xe4\\xbc\\xb4\\xe6\\x8f\\x90\\xe4\\xbe\\x9b\\xe7\\x9a\\x84\\xe5\\xb7\\xa5\\xe5\\x85\\xb7\\xe9\\xbc\\x93\\xe5'; replacing invalid characters, using '或其他官方点评收集合作伙伴提供的工具鼓\\\\xe5'\n",
      "ERROR:gensim.models._fasttext_bin:failed to decode invalid unicode bytes b'00Z\\xe6\\x88\\xbf\\xe9\\x96\\x93\\xe9\\xa1\\x9e\\xe5\\x9e\\x8b\\xe7\\xa7\\x81\\xe4\\xba\\xba\\xe6\\x88\\xbf\\xe9\\x96\\x93\\xe6\\x88\\xbf\\xe6\\xba\\x90\\xe9\\xa1\\x9e\\xe5\\x9e\\x8b\\xe5\\xae\\xb6\\xe5\\xba\\xad\\xe5\\xbc\\x8f\\xe6\\x97\\x85\\xe9\\xa4\\xa8\\xe5\\x8f\\xaf\\xe4'; replacing invalid characters, using '00Z房間類型私人房間房源類型家庭式旅館可\\\\xe4'\n",
      "INFO:gensim.utils:FastText lifecycle event {'params': 'FastText(vocab=0, vector_size=300, alpha=0.025)', 'datetime': '2021-09-10T23:30:03.103014', 'gensim': '4.0.1', 'python': '3.8.8 (default, Apr 13 2021, 19:58:26) \\n[GCC 7.3.0]', 'platform': 'Linux-5.4.0-81-generic-x86_64-with-glibc2.10', 'event': 'created'}\n",
      "INFO:gensim.models.word2vec:Updating model with new vocabulary\n",
      "INFO:gensim.utils:FastText lifecycle event {'msg': 'added 2000000 new unique words (100.0%% of original 2000000) and increased the count of 0 pre-existing words (0.0%% of original 2000000)', 'datetime': '2021-09-10T23:30:33.552354', 'gensim': '4.0.1', 'python': '3.8.8 (default, Apr 13 2021, 19:58:26) \\n[GCC 7.3.0]', 'platform': 'Linux-5.4.0-81-generic-x86_64-with-glibc2.10', 'event': 'prepare_vocab'}\n",
      "INFO:gensim.models.word2vec:deleting the raw counts dictionary of 2000000 items\n",
      "INFO:gensim.models.word2vec:sample=1e-05 downsamples 2869 most-common words\n",
      "INFO:gensim.utils:FastText lifecycle event {'msg': 'downsampling leaves estimated 153327037539.57678 word corpus (30.4%% of prior 505076145972)', 'datetime': '2021-09-10T23:31:04.560038', 'gensim': '4.0.1', 'python': '3.8.8 (default, Apr 13 2021, 19:58:26) \\n[GCC 7.3.0]', 'platform': 'Linux-5.4.0-81-generic-x86_64-with-glibc2.10', 'event': 'prepare_vocab'}\n",
      "INFO:gensim.utils:FastText lifecycle event {'msg': 'loaded (4000000, 300) weight matrix for fastText model from ../model/crawl-300d-2M-subword.bin', 'datetime': '2021-09-10T23:33:50.092200', 'gensim': '4.0.1', 'python': '3.8.8 (default, Apr 13 2021, 19:58:26) \\n[GCC 7.3.0]', 'platform': 'Linux-5.4.0-81-generic-x86_64-with-glibc2.10', 'event': 'load_fasttext_format'}\n",
      "INFO:root:Completed loading the pre-trained Fasttext model.\n"
     ]
    },
    {
     "name": "stdout",
     "output_type": "stream",
     "text": [
      "Completed loading the pre-trained Fasttext model.\n",
      "CPU times: user 3min 55s, sys: 11.7 s, total: 4min 7s\n",
      "Wall time: 4min 7s\n"
     ]
    }
   ],
   "source": [
    "%%time\n",
    "model_path=\"../model/crawl-300d-2M-subword.bin\"\n",
    "embs_model = maponto.load_embeddings(model_path, None)"
   ]
  },
  {
   "cell_type": "code",
   "execution_count": 4,
   "id": "359a96c6-67dd-46df-be52-a37ce2567d2e",
   "metadata": {},
   "outputs": [],
   "source": [
    "mapper = otmapper.Mapper(embs_model)"
   ]
  },
  {
   "cell_type": "markdown",
   "id": "55f3ecb7-fb57-4fb5-bbd7-d521c3e9823c",
   "metadata": {},
   "source": [
    "# MSE Benchmark"
   ]
  },
  {
   "cell_type": "code",
   "execution_count": 322,
   "id": "62bdc49d-dd17-46f7-8d2c-93497d69a76c",
   "metadata": {},
   "outputs": [
    {
     "name": "stderr",
     "output_type": "stream",
     "text": [
      "INFO:root:logging info test\n"
     ]
    },
    {
     "data": {
      "text/plain": [
       "<module 'OTMapper' from '/home/ubuntu/django/otmaponto/match/ontology_mapping/src/OTMapper.py'>"
      ]
     },
     "execution_count": 322,
     "metadata": {},
     "output_type": "execute_result"
    }
   ],
   "source": [
    "import importlib\n",
    "importlib.reload(maponto)\n",
    "importlib.reload(mapneighbor)\n",
    "importlib.reload(otmapper)"
   ]
  },
  {
   "cell_type": "code",
   "execution_count": 66,
   "id": "73d61a07-efcd-4b56-a705-9a23eb76d6f2",
   "metadata": {},
   "outputs": [],
   "source": [
    "source_url = \"../data/MSE-Benchmark/testCases/firstTestCase/MaterialInformation-Reduced.owl\"\n",
    "target_url = \"../data/MSE-Benchmark/testCases/firstTestCase/MatOnto.owl\"\n",
    "output_url = '../data/results/MSE_firstTest_case_alignments.rdf'\n",
    "refs_url = \"../data/MSE-Benchmark/testCases/firstTestCase/RefAlign1.rdf\""
   ]
  },
  {
   "cell_type": "code",
   "execution_count": 67,
   "id": "059ff6c9-49fb-4ae4-b563-a9ac8748c9bc",
   "metadata": {},
   "outputs": [
    {
     "name": "stderr",
     "output_type": "stream",
     "text": [
      "INFO:root:Python ensemble mapper info: map ../data/MSE-Benchmark/testCases/firstTestCase/MaterialInformation-Reduced.owl to ../data/MSE-Benchmark/testCases/firstTestCase/MatOnto.owl\n",
      "INFO:root:Read source with 309 triples.\n"
     ]
    },
    {
     "name": "stdout",
     "output_type": "stream",
     "text": [
      "../data/MSE-Benchmark/testCases/firstTestCase/MaterialInformation-Reduced.owl\n",
      "../data/MSE-Benchmark/testCases/firstTestCase/MatOnto.owl\n"
     ]
    },
    {
     "name": "stderr",
     "output_type": "stream",
     "text": [
      "INFO:root:Read target with 11363 triples.\n",
      "INFO:root:MAP CONCEPTS\n",
      "INFO:root:The number of level_1 predicted mapping is 2.\n",
      "INFO:root:Retrieving Synsets by WordNet...\n",
      "INFO:root:The number of level_2 predicted mapping is 5\n",
      "INFO:root:Compute the related words for each source concept....\n",
      "25it [00:00, 54.04it/s]\n",
      "INFO:root:Total number of source concepts computed with relatd words is 25\n",
      "INFO:root:Compute the related words for each target concept....\n",
      "820it [00:17, 47.73it/s]\n",
      "INFO:root:Total number of target concepts computed with related words is 818\n",
      "100%|██████████| 25/25 [00:00<00:00, 268.50it/s]\n",
      "INFO:root:The number of level_3 predicted mapping is 10\n",
      "INFO:root:Compute Pairwise Wasserstein Distances...\n",
      "100%|██████████| 15/15 [00:15<00:00,  1.02s/it]\n",
      "INFO:root:The number of level_4 predicted mapping is 2\n",
      "INFO:root:Skip level_5 mapping.\n",
      "INFO:root:Matching Label Embeddings by Optimal Transport...\n",
      "INFO:root:Computing the Ground Embedding Costs between the Source and Target Points...\n",
      "INFO:root:The shape of the cost matrix is (13, 808)\n",
      "INFO:root:Computing Optimal Transport Plan...\n",
      "INFO:root:Computing Wasserstein distance by the Sinkhorn algorithm...\n",
      "INFO:root:The Sinkhorn got warnings. Computing Wasserstein distance by the EMD algorithm...\n",
      "INFO:root:Making Mappings from a Pairwise OT Plan Matrix by Mutual NN...\n",
      "INFO:root:The number of level_6 predicted mapping is 13\n",
      "INFO:root:TOTAL NUMBER OF MAPPINGS BETWEEN CONCPETS IS 32\n",
      "INFO:root:=================================================\n",
      "INFO:root:MAP OBJECT PROPERTIES\n",
      "INFO:root:The number of level_1 predicted mapping is 2.\n",
      "INFO:root:Retrieving Synsets by WordNet...\n"
     ]
    },
    {
     "name": "stdout",
     "output_type": "stream",
     "text": [
      "Warning: numerical errors at iteration 0\n"
     ]
    },
    {
     "name": "stderr",
     "output_type": "stream",
     "text": [
      "INFO:root:Compute the related words for each source concept....\n",
      "9it [00:00, 57.82it/s]\n",
      "INFO:root:Total number of source concepts computed with relatd words is 9\n",
      "INFO:root:Compute the related words for each target concept....\n",
      "80it [00:01, 52.08it/s]\n",
      "INFO:root:Total number of target concepts computed with related words is 80\n",
      "100%|██████████| 9/9 [00:00<00:00, 2569.86it/s]\n",
      "INFO:root:The number of level_3 predicted mapping is 2\n",
      "INFO:root:Skip the level_4 mapping.\n",
      "INFO:root:Skip the level_5 mapping.\n",
      "INFO:root:Skip the level_6 mappping.\n",
      "INFO:root:TOTAL NUMBER OF MAPPINGS BETWEEN OBJECT PROPERTIES IS 4\n",
      "INFO:root:========================================================\n",
      "INFO:root:MAP DATATYPE PROPERTIES\n",
      "INFO:root:Retrieving Synsets by WordNet...\n",
      "INFO:root:Compute the related words for each source concept....\n",
      "32it [00:00, 55.12it/s]\n",
      "INFO:root:Total number of source concepts computed with relatd words is 32\n",
      "INFO:root:Compute the related words for each target concept....\n",
      "13it [00:00, 44.87it/s]\n",
      "INFO:root:Total number of target concepts computed with related words is 13\n",
      "100%|██████████| 32/32 [00:00<00:00, 15191.59it/s]\n",
      "INFO:root:The number of level_3 predicted mapping is 3\n",
      "INFO:root:Skip the level_4 mapping.\n",
      "INFO:root:Skip the level_5 mapping.\n",
      "INFO:root:Skip the level_6 mappping.\n",
      "INFO:root:TOTAL NUMBER OF MAPPINGS BETWEEN DATATYPE PROPERTIES IS 3\n",
      "INFO:root:===========================================================\n"
     ]
    }
   ],
   "source": [
    "mapper.align(source_url, target_url, output_url)"
   ]
  },
  {
   "cell_type": "code",
   "execution_count": 68,
   "id": "bd41521f-00f3-4dae-8949-c4002fec79e1",
   "metadata": {},
   "outputs": [
    {
     "name": "stdout",
     "output_type": "stream",
     "text": [
      "Total number of None is 39\n",
      "Total number of references is 23\n",
      "Total correctly predicted alignments is 9\n",
      "Total number of predicted is 39\n",
      "Precision is 0.23076923076923078\n",
      "Recall is 0.391304347826087\n",
      "F1-Measure is 0.2903225806451613\n"
     ]
    }
   ],
   "source": [
    "preds = maponto.load_alignments(output_url, None)\n",
    "maponto.evaluate(preds, refs_url)"
   ]
  },
  {
   "cell_type": "code",
   "execution_count": 69,
   "id": "c8e66ba9-3ebe-425d-8e28-edc59c381110",
   "metadata": {},
   "outputs": [],
   "source": [
    "source_url = \"../data/MSE-Benchmark/testCases/secondTestCase/MaterialInformation.owl\"\n",
    "target_url = \"../data/MSE-Benchmark/testCases/secondTestCase/MatOnto.owl\"\n",
    "output_url = '../data/results/MSE_secondTest_case_alignments.rdf'\n",
    "refs_url = \"../data/MSE-Benchmark/testCases/secondTestCase/RefAlign2.rdf\""
   ]
  },
  {
   "cell_type": "code",
   "execution_count": 70,
   "id": "5c62ce2d-92f5-4c31-b2d5-2c187074d30d",
   "metadata": {},
   "outputs": [
    {
     "name": "stderr",
     "output_type": "stream",
     "text": [
      "INFO:root:Python ensemble mapper info: map ../data/MSE-Benchmark/testCases/secondTestCase/MaterialInformation.owl to ../data/MSE-Benchmark/testCases/secondTestCase/MatOnto.owl\n"
     ]
    },
    {
     "name": "stdout",
     "output_type": "stream",
     "text": [
      "../data/MSE-Benchmark/testCases/secondTestCase/MaterialInformation.owl\n"
     ]
    },
    {
     "name": "stderr",
     "output_type": "stream",
     "text": [
      "INFO:root:Read source with 2350 triples.\n"
     ]
    },
    {
     "name": "stdout",
     "output_type": "stream",
     "text": [
      "../data/MSE-Benchmark/testCases/secondTestCase/MatOnto.owl\n"
     ]
    },
    {
     "name": "stderr",
     "output_type": "stream",
     "text": [
      "INFO:root:Read target with 11362 triples.\n",
      "INFO:root:MAP CONCEPTS\n",
      "INFO:root:The number of level_1 predicted mapping is 59.\n",
      "INFO:root:Retrieving Synsets by WordNet...\n",
      "INFO:root:The number of level_2 predicted mapping is 209\n",
      "INFO:root:Compute the related words for each source concept....\n",
      "362it [00:06, 55.32it/s]\n",
      "INFO:root:Total number of source concepts computed with relatd words is 362\n",
      "INFO:root:Compute the related words for each target concept....\n",
      "643it [00:12, 52.36it/s]\n",
      "INFO:root:Total number of target concepts computed with related words is 641\n",
      "100%|██████████| 362/362 [00:01<00:00, 324.94it/s]\n",
      "INFO:root:The number of level_3 predicted mapping is 67\n",
      "INFO:root:Compute Pairwise Wasserstein Distances...\n",
      "100%|██████████| 295/295 [03:38<00:00,  1.35it/s]\n",
      "INFO:root:The number of level_4 predicted mapping is 10\n",
      "INFO:root:Skip level_5 mapping.\n",
      "INFO:root:Matching Label Embeddings by Optimal Transport...\n",
      "INFO:root:Computing the Ground Embedding Costs between the Source and Target Points...\n",
      "INFO:root:The shape of the cost matrix is (285, 566)\n",
      "INFO:root:Computing Optimal Transport Plan...\n",
      "INFO:root:Computing Wasserstein distance by the Sinkhorn algorithm...\n",
      "INFO:root:Making Mappings from a Pairwise OT Plan Matrix by Mutual NN...\n",
      "INFO:root:The number of level_6 predicted mapping is 169\n",
      "INFO:root:TOTAL NUMBER OF MAPPINGS BETWEEN CONCPETS IS 514\n",
      "INFO:root:=================================================\n",
      "INFO:root:MAP OBJECT PROPERTIES\n",
      "INFO:root:The number of level_1 predicted mapping is 2.\n",
      "INFO:root:Retrieving Synsets by WordNet...\n",
      "INFO:root:Compute the related words for each source concept....\n",
      "26it [00:00, 56.98it/s]\n",
      "INFO:root:Total number of source concepts computed with relatd words is 26\n",
      "INFO:root:Compute the related words for each target concept....\n",
      "80it [00:01, 57.02it/s]\n",
      "INFO:root:Total number of target concepts computed with related words is 80\n",
      "100%|██████████| 26/26 [00:00<00:00, 2235.36it/s]\n",
      "INFO:root:The number of level_3 predicted mapping is 3\n",
      "INFO:root:Skip the level_4 mapping.\n",
      "INFO:root:Skip the level_5 mapping.\n",
      "INFO:root:Skip the level_6 mappping.\n",
      "INFO:root:TOTAL NUMBER OF MAPPINGS BETWEEN OBJECT PROPERTIES IS 5\n",
      "INFO:root:========================================================\n",
      "INFO:root:MAP DATATYPE PROPERTIES\n",
      "INFO:root:The number of level_1 predicted mapping is 1.\n",
      "INFO:root:Retrieving Synsets by WordNet...\n",
      "INFO:root:The number of level_2 predicted mapping is 1\n",
      "INFO:root:Compute the related words for each source concept....\n",
      "68it [00:01, 36.10it/s]\n",
      "INFO:root:Total number of source concepts computed with relatd words is 68\n",
      "INFO:root:Compute the related words for each target concept....\n",
      "11it [00:00, 43.59it/s]\n",
      "INFO:root:Total number of target concepts computed with related words is 11\n",
      "100%|██████████| 68/68 [00:00<00:00, 17220.91it/s]\n",
      "INFO:root:The number of level_3 predicted mapping is 3\n",
      "INFO:root:Skip the level_4 mapping.\n",
      "INFO:root:Skip the level_5 mapping.\n",
      "INFO:root:Skip the level_6 mappping.\n",
      "INFO:root:TOTAL NUMBER OF MAPPINGS BETWEEN DATATYPE PROPERTIES IS 5\n",
      "INFO:root:===========================================================\n"
     ]
    }
   ],
   "source": [
    "mapper.align(source_url, target_url, output_url)"
   ]
  },
  {
   "cell_type": "code",
   "execution_count": 46,
   "id": "503f8bb9-5582-43c9-9993-d572a9e2c76c",
   "metadata": {},
   "outputs": [
    {
     "name": "stdout",
     "output_type": "stream",
     "text": [
      "Total number of None is 413\n",
      "Total number of references is 63\n",
      "Total correctly predicted alignments is 57\n",
      "Total number of predicted is 413\n",
      "Precision is 0.13801452784503632\n",
      "Recall is 0.9047619047619048\n",
      "F1-Measure is 0.23949579831932774\n"
     ]
    }
   ],
   "source": [
    "preds = maponto.load_alignments(output_url, None)\n",
    "maponto.evaluate(preds, refs_url)"
   ]
  },
  {
   "cell_type": "code",
   "execution_count": 43,
   "id": "fba7db95-e016-4b55-ac05-83facb9ae4e0",
   "metadata": {},
   "outputs": [],
   "source": [
    "source_url = \"../data/MSE-Benchmark/testCases/thirdTestCase/MaterialInformation.owl\"\n",
    "target_url = \"../data/MSE-Benchmark/testCases/thirdTestCase/EMMO.owl\"\n",
    "output_url = '../data/results/MSE_thirdTest_case_alignments.rdf'\n",
    "refs_url = \"../data/MSE-Benchmark/testCases/thirdTestCase/RefAlign3.rdf\""
   ]
  },
  {
   "cell_type": "code",
   "execution_count": 44,
   "id": "bdb2e6b1-7da1-44d5-a8dc-85d23fec940d",
   "metadata": {},
   "outputs": [
    {
     "name": "stderr",
     "output_type": "stream",
     "text": [
      "INFO:root:Python ensemble mapper info: map ../data/MSE-Benchmark/testCases/thirdTestCase/MaterialInformation.owl to ../data/MSE-Benchmark/testCases/thirdTestCase/EMMO.owl\n"
     ]
    },
    {
     "name": "stdout",
     "output_type": "stream",
     "text": [
      "../data/MSE-Benchmark/testCases/thirdTestCase/MaterialInformation.owl\n"
     ]
    },
    {
     "name": "stderr",
     "output_type": "stream",
     "text": [
      "INFO:root:Read source with 2350 triples.\n"
     ]
    },
    {
     "name": "stdout",
     "output_type": "stream",
     "text": [
      "../data/MSE-Benchmark/testCases/thirdTestCase/EMMO.owl\n",
      "http://emmo.info/emmo/1.0.0-alpha2/middle/isq\n",
      "http://emmo.info/emmo/1.0.0-alpha2/middle/metrology\n",
      "http://emmo.info/emmo/1.0.0-alpha2/middle/math\n",
      "http://emmo.info/emmo/1.0.0-alpha2/middle/reductionistic\n",
      "http://emmo.info/emmo/1.0.0-alpha2/middle/materials\n",
      "http://emmo.info/emmo/1.0.0-alpha2/middle/models\n",
      "http://emmo.info/emmo/1.0.0-alpha2/top\n",
      "http://emmo.info/emmo/1.0.0-alpha2/top/physical\n",
      "http://emmo.info/emmo/1.0.0-alpha2/top/mereotopology\n",
      "http://emmo.info/emmo/1.0.0-alpha2/top/annotations\n",
      "http://emmo.info/emmo/1.0.0-alpha2/middle/physicalistic\n",
      "http://emmo.info/emmo/1.0.0-alpha2/middle/siunits\n",
      "http://emmo.info/emmo/1.0.0-alpha2/middle/properties\n",
      "http://emmo.info/emmo/1.0.0-alpha2/middle/perceptual\n",
      "http://emmo.info/emmo/1.0.0-alpha2/middle/holistic\n",
      "http://emmo.info/emmo/1.0.0-alpha2/middle/manufacturing\n",
      "http://emmo.info/emmo/1.0.0-alpha2/middle/semiotics\n",
      "http://emmo.info/emmo/1.0.0-alpha2/middle/units-extension\n"
     ]
    },
    {
     "name": "stderr",
     "output_type": "stream",
     "text": [
      "INFO:root:Read target with 4644 triples.\n",
      "INFO:root:MAP CONCEPTS\n",
      "INFO:root:The number of level_1 predicted mapping is 52.\n",
      "INFO:root:Retrieving Synsets by WordNet...\n",
      "INFO:root:The number of level_2 predicted mapping is 87\n",
      "INFO:root:Compute the related words for each source concept....\n",
      "445it [00:08, 50.18it/s]\n",
      "INFO:root:Total number of source concepts computed with relatd words is 445\n",
      "INFO:root:Compute the related words for each target concept....\n",
      "158it [00:03, 52.05it/s]WARNING:rdflib.term:http://emmo.info/emmo#EMMO_28fbea28_2204_4613_87ff_6d877b855fcd  does not look like a valid URI, trying to serialize this will break.\n",
      "WARNING:rdflib.term:http://emmo.info/emmo#EMMO_28fbea28_2204_4613_87ff_6d877b855fcd  does not look like a valid URI, trying to serialize this will break.\n",
      "357it [00:07, 50.71it/s]\n",
      "INFO:root:Total number of target concepts computed with related words is 357\n",
      "100%|██████████| 445/445 [00:00<00:00, 550.82it/s]\n",
      "INFO:root:The number of level_3 predicted mapping is 55\n",
      "INFO:root:Compute Pairwise Wasserstein Distances...\n",
      "100%|██████████| 390/390 [02:00<00:00,  3.24it/s]\n",
      "INFO:root:The number of level_4 predicted mapping is 7\n",
      "INFO:root:Skip level_5 mapping.\n",
      "INFO:root:Matching Label Embeddings by Optimal Transport...\n",
      "INFO:root:Computing the Ground Embedding Costs between the Source and Target Points...\n",
      "INFO:root:The shape of the cost matrix is (383, 295)\n",
      "INFO:root:Computing Optimal Transport Plan...\n",
      "INFO:root:Computing Wasserstein distance by the Sinkhorn algorithm...\n",
      "INFO:root:The Sinkhorn got warnings. Computing Wasserstein distance by the EMD algorithm...\n",
      "INFO:root:Making Mappings from a Pairwise OT Plan Matrix by Mutual NN...\n"
     ]
    },
    {
     "name": "stdout",
     "output_type": "stream",
     "text": [
      "Warning: numerical errors at iteration 0\n"
     ]
    },
    {
     "name": "stderr",
     "output_type": "stream",
     "text": [
      "INFO:root:The number of level_6 predicted mapping is 209\n",
      "INFO:root:TOTAL NUMBER OF MAPPINGS BETWEEN CONCPETS IS 410\n",
      "INFO:root:=================================================\n",
      "INFO:root:MAP OBJECT PROPERTIES\n",
      "INFO:root:Retrieving Synsets by WordNet...\n",
      "INFO:root:Compute the related words for each source concept....\n",
      "28it [00:00, 56.14it/s]\n",
      "INFO:root:Total number of source concepts computed with relatd words is 28\n",
      "INFO:root:Compute the related words for each target concept....\n",
      "31it [00:00, 48.12it/s]\n",
      "INFO:root:Total number of target concepts computed with related words is 31\n",
      "100%|██████████| 28/28 [00:00<00:00, 3728.03it/s]\n",
      "INFO:root:The number of level_3 predicted mapping is 2\n",
      "INFO:root:Skip the level_4 mapping.\n",
      "INFO:root:Skip the level_5 mapping.\n",
      "INFO:root:Skip the level_6 mappping.\n",
      "INFO:root:TOTAL NUMBER OF MAPPINGS BETWEEN OBJECT PROPERTIES IS 2\n",
      "INFO:root:========================================================\n",
      "INFO:root:MAP DATATYPE PROPERTIES\n",
      "INFO:root:Retrieving Synsets by WordNet...\n",
      "INFO:root:Compute the related words for each source concept....\n",
      "70it [00:01, 52.76it/s]\n",
      "INFO:root:Total number of source concepts computed with relatd words is 70\n",
      "INFO:root:Compute the related words for each target concept....\n",
      "2it [00:00, 51.01it/s]\n",
      "INFO:root:Total number of target concepts computed with related words is 2\n",
      "100%|██████████| 70/70 [00:00<00:00, 39616.96it/s]\n",
      "INFO:root:The number of level_3 predicted mapping is 1\n",
      "INFO:root:Skip the level_4 mapping.\n",
      "INFO:root:Skip the level_5 mapping.\n",
      "INFO:root:Skip the level_6 mappping.\n",
      "INFO:root:TOTAL NUMBER OF MAPPINGS BETWEEN DATATYPE PROPERTIES IS 1\n",
      "INFO:root:===========================================================\n"
     ]
    }
   ],
   "source": [
    "mapper.align(source_url, target_url, output_url)"
   ]
  },
  {
   "cell_type": "code",
   "execution_count": 45,
   "id": "4d78b40b-1e51-44d2-b92a-7e3a4d600c3a",
   "metadata": {},
   "outputs": [
    {
     "name": "stdout",
     "output_type": "stream",
     "text": [
      "Total number of None is 413\n",
      "Total number of references is 63\n",
      "Total correctly predicted alignments is 57\n",
      "Total number of predicted is 413\n",
      "Precision is 0.13801452784503632\n",
      "Recall is 0.9047619047619048\n",
      "F1-Measure is 0.23949579831932774\n"
     ]
    }
   ],
   "source": [
    "preds = maponto.load_alignments(output_url, None)\n",
    "maponto.evaluate(preds, refs_url)"
   ]
  },
  {
   "cell_type": "code",
   "execution_count": 63,
   "id": "7a800dc9-c83c-4af0-a8f6-1f507200ff98",
   "metadata": {},
   "outputs": [
    {
     "name": "stdout",
     "output_type": "stream",
     "text": [
      "Total number of None is 413\n"
     ]
    }
   ],
   "source": [
    "aligns = maponto.load_alignments(output_url, None)"
   ]
  },
  {
   "cell_type": "code",
   "execution_count": 64,
   "id": "4df3a1f9-5a4d-45d0-aa4b-dc914e58a552",
   "metadata": {},
   "outputs": [
    {
     "data": {
      "text/plain": [
       "source        http://codata.jp/OML-MaterialInformation#Amoun...\n",
       "target        http://emmo.info/emmo/middle/isq#EMMO_8159c26a...\n",
       "relation                                                      =\n",
       "confidence                                                  1.0\n",
       "Name: 1, dtype: object"
      ]
     },
     "execution_count": 64,
     "metadata": {},
     "output_type": "execute_result"
    }
   ],
   "source": [
    "aligns.iloc[1]"
   ]
  },
  {
   "cell_type": "code",
   "execution_count": 65,
   "id": "e151928e-6772-457a-98ca-4b6215699e5a",
   "metadata": {},
   "outputs": [
    {
     "name": "stdout",
     "output_type": "stream",
     "text": [
      "Total number of None is 63\n"
     ]
    },
    {
     "data": {
      "text/html": [
       "<div>\n",
       "<style scoped>\n",
       "    .dataframe tbody tr th:only-of-type {\n",
       "        vertical-align: middle;\n",
       "    }\n",
       "\n",
       "    .dataframe tbody tr th {\n",
       "        vertical-align: top;\n",
       "    }\n",
       "\n",
       "    .dataframe thead th {\n",
       "        text-align: right;\n",
       "    }\n",
       "</style>\n",
       "<table border=\"1\" class=\"dataframe\">\n",
       "  <thead>\n",
       "    <tr style=\"text-align: right;\">\n",
       "      <th></th>\n",
       "      <th>source</th>\n",
       "      <th>target</th>\n",
       "      <th>relation</th>\n",
       "      <th>confidence</th>\n",
       "    </tr>\n",
       "  </thead>\n",
       "  <tbody>\n",
       "    <tr>\n",
       "      <th>0</th>\n",
       "      <td>http://codata.jp/OML-MaterialInformation#Energy</td>\n",
       "      <td>http://emmo.info/emmo/middle/isq#EMMO_31ec09ba...</td>\n",
       "      <td>=</td>\n",
       "      <td>0.9306</td>\n",
       "    </tr>\n",
       "    <tr>\n",
       "      <th>1</th>\n",
       "      <td>http://codata.jp/OML-MaterialInformation#Illum...</td>\n",
       "      <td>http://emmo.info/emmo/middle/isq#EMMO_b51fbd00...</td>\n",
       "      <td>=</td>\n",
       "      <td>0.9306</td>\n",
       "    </tr>\n",
       "    <tr>\n",
       "      <th>2</th>\n",
       "      <td>http://codata.jp/OML-MaterialInformation#Density</td>\n",
       "      <td>http://emmo.info/emmo/middle/isq#EMMO_06448f64...</td>\n",
       "      <td>=</td>\n",
       "      <td>0.9306</td>\n",
       "    </tr>\n",
       "    <tr>\n",
       "      <th>3</th>\n",
       "      <td>http://codata.jp/OML-MaterialInformation#Lumin...</td>\n",
       "      <td>http://emmo.info/emmo/middle/isq#EMMO_e2ee1c98...</td>\n",
       "      <td>=</td>\n",
       "      <td>0.9306</td>\n",
       "    </tr>\n",
       "    <tr>\n",
       "      <th>4</th>\n",
       "      <td>http://codata.jp/OML-MaterialInformation#Magne...</td>\n",
       "      <td>http://emmo.info/emmo/middle/isq#EMMO_3b931698...</td>\n",
       "      <td>=</td>\n",
       "      <td>0.9306</td>\n",
       "    </tr>\n",
       "    <tr>\n",
       "      <th>...</th>\n",
       "      <td>...</td>\n",
       "      <td>...</td>\n",
       "      <td>...</td>\n",
       "      <td>...</td>\n",
       "    </tr>\n",
       "    <tr>\n",
       "      <th>58</th>\n",
       "      <td>http://codata.jp/OML-MaterialInformation#Elect...</td>\n",
       "      <td>http://emmo.info/emmo/middle/isq#EMMO_e150fa8d...</td>\n",
       "      <td>=</td>\n",
       "      <td>1.0</td>\n",
       "    </tr>\n",
       "    <tr>\n",
       "      <th>59</th>\n",
       "      <td>http://codata.jp/OML-MaterialInformation#SI_units</td>\n",
       "      <td>http://emmo.info/emmo/middle/siunits#EMMO_feb0...</td>\n",
       "      <td>=</td>\n",
       "      <td>1.0</td>\n",
       "    </tr>\n",
       "    <tr>\n",
       "      <th>60</th>\n",
       "      <td>http://codata.jp/OML-MaterialInformation#CGS_u...</td>\n",
       "      <td>http://emmo.info/emmo/middle/units-extension#E...</td>\n",
       "      <td>=</td>\n",
       "      <td>1.0</td>\n",
       "    </tr>\n",
       "    <tr>\n",
       "      <th>61</th>\n",
       "      <td>http://codata.jp/OML-MaterialInformation#WaveN...</td>\n",
       "      <td>http://emmo.info/emmo/middle/isq#EMMO_d859588d...</td>\n",
       "      <td>=</td>\n",
       "      <td>1.0</td>\n",
       "    </tr>\n",
       "    <tr>\n",
       "      <th>62</th>\n",
       "      <td>http://codata.jp/OML-MaterialInformation#Foams</td>\n",
       "      <td>http://emmo.info/emmo/middle/materials#EMMO_1f...</td>\n",
       "      <td>=</td>\n",
       "      <td>1.0</td>\n",
       "    </tr>\n",
       "  </tbody>\n",
       "</table>\n",
       "<p>63 rows × 4 columns</p>\n",
       "</div>"
      ],
      "text/plain": [
       "                                               source  \\\n",
       "0     http://codata.jp/OML-MaterialInformation#Energy   \n",
       "1   http://codata.jp/OML-MaterialInformation#Illum...   \n",
       "2    http://codata.jp/OML-MaterialInformation#Density   \n",
       "3   http://codata.jp/OML-MaterialInformation#Lumin...   \n",
       "4   http://codata.jp/OML-MaterialInformation#Magne...   \n",
       "..                                                ...   \n",
       "58  http://codata.jp/OML-MaterialInformation#Elect...   \n",
       "59  http://codata.jp/OML-MaterialInformation#SI_units   \n",
       "60  http://codata.jp/OML-MaterialInformation#CGS_u...   \n",
       "61  http://codata.jp/OML-MaterialInformation#WaveN...   \n",
       "62     http://codata.jp/OML-MaterialInformation#Foams   \n",
       "\n",
       "                                               target relation confidence  \n",
       "0   http://emmo.info/emmo/middle/isq#EMMO_31ec09ba...        =     0.9306  \n",
       "1   http://emmo.info/emmo/middle/isq#EMMO_b51fbd00...        =     0.9306  \n",
       "2   http://emmo.info/emmo/middle/isq#EMMO_06448f64...        =     0.9306  \n",
       "3   http://emmo.info/emmo/middle/isq#EMMO_e2ee1c98...        =     0.9306  \n",
       "4   http://emmo.info/emmo/middle/isq#EMMO_3b931698...        =     0.9306  \n",
       "..                                                ...      ...        ...  \n",
       "58  http://emmo.info/emmo/middle/isq#EMMO_e150fa8d...        =        1.0  \n",
       "59  http://emmo.info/emmo/middle/siunits#EMMO_feb0...        =        1.0  \n",
       "60  http://emmo.info/emmo/middle/units-extension#E...        =        1.0  \n",
       "61  http://emmo.info/emmo/middle/isq#EMMO_d859588d...        =        1.0  \n",
       "62  http://emmo.info/emmo/middle/materials#EMMO_1f...        =        1.0  \n",
       "\n",
       "[63 rows x 4 columns]"
      ]
     },
     "execution_count": 65,
     "metadata": {},
     "output_type": "execute_result"
    }
   ],
   "source": [
    "refs = maponto.load_alignments(refs_url, None)\n",
    "refs"
   ]
  },
  {
   "cell_type": "code",
   "execution_count": 58,
   "id": "011b0ab0-13c7-4b5b-8857-3d6ef44591f1",
   "metadata": {},
   "outputs": [
    {
     "name": "stdout",
     "output_type": "stream",
     "text": [
      "../data/MSE-Benchmark/testCases/thirdTestCase/EMMO.owl\n",
      "http://emmo.info/emmo/1.0.0-alpha2/middle/properties\n",
      "http://emmo.info/emmo/1.0.0-alpha2/middle/reductionistic\n",
      "http://emmo.info/emmo/1.0.0-alpha2/middle/materials\n",
      "http://emmo.info/emmo/1.0.0-alpha2/middle/isq\n",
      "http://emmo.info/emmo/1.0.0-alpha2/middle/metrology\n",
      "http://emmo.info/emmo/1.0.0-alpha2/middle/math\n",
      "http://emmo.info/emmo/1.0.0-alpha2/middle/manufacturing\n",
      "http://emmo.info/emmo/1.0.0-alpha2/top\n",
      "http://emmo.info/emmo/1.0.0-alpha2/top/physical\n",
      "http://emmo.info/emmo/1.0.0-alpha2/top/mereotopology\n",
      "http://emmo.info/emmo/1.0.0-alpha2/top/annotations\n",
      "http://emmo.info/emmo/1.0.0-alpha2/middle/siunits\n",
      "http://emmo.info/emmo/1.0.0-alpha2/middle/units-extension\n",
      "http://emmo.info/emmo/1.0.0-alpha2/middle/semiotics\n",
      "http://emmo.info/emmo/1.0.0-alpha2/middle/holistic\n",
      "http://emmo.info/emmo/1.0.0-alpha2/middle/models\n",
      "http://emmo.info/emmo/1.0.0-alpha2/middle/physicalistic\n",
      "http://emmo.info/emmo/1.0.0-alpha2/middle/perceptual\n"
     ]
    },
    {
     "data": {
      "text/plain": [
       "4644"
      ]
     },
     "execution_count": 58,
     "metadata": {},
     "output_type": "execute_result"
    }
   ],
   "source": [
    "target_graph = Graph()\n",
    "stack_urls = []\n",
    "visited_urls = []\n",
    "stack_urls.append(target_url)\n",
    "maptonto.parse_owl_withImports(target_graph, stack_urls, visited_urls)\n",
    "len(target_graph)"
   ]
  },
  {
   "cell_type": "markdown",
   "id": "65012772-3e98-4ac5-8ff2-e7b0e0ffefa5",
   "metadata": {},
   "source": [
    "# Retrieve skos:prefLabel"
   ]
  },
  {
   "cell_type": "code",
   "execution_count": 59,
   "id": "7ea1bf56-f6e4-4040-af74-8f98f67286e6",
   "metadata": {},
   "outputs": [
    {
     "data": {
      "text/html": [
       "<div>\n",
       "<style scoped>\n",
       "    .dataframe tbody tr th:only-of-type {\n",
       "        vertical-align: middle;\n",
       "    }\n",
       "\n",
       "    .dataframe tbody tr th {\n",
       "        vertical-align: top;\n",
       "    }\n",
       "\n",
       "    .dataframe thead th {\n",
       "        text-align: right;\n",
       "    }\n",
       "</style>\n",
       "<table border=\"1\" class=\"dataframe\">\n",
       "  <thead>\n",
       "    <tr style=\"text-align: right;\">\n",
       "      <th></th>\n",
       "      <th>label</th>\n",
       "      <th>uri</th>\n",
       "    </tr>\n",
       "  </thead>\n",
       "  <tbody>\n",
       "    <tr>\n",
       "      <th>0</th>\n",
       "      <td>Holistic</td>\n",
       "      <td>http://emmo.info/emmo/middle/holistic#EMMO_027...</td>\n",
       "    </tr>\n",
       "    <tr>\n",
       "      <th>1</th>\n",
       "      <td>Process</td>\n",
       "      <td>http://emmo.info/emmo/middle/holistic#EMMO_43e...</td>\n",
       "    </tr>\n",
       "    <tr>\n",
       "      <th>2</th>\n",
       "      <td>Participant</td>\n",
       "      <td>http://emmo.info/emmo/middle/holistic#EMMO_498...</td>\n",
       "    </tr>\n",
       "    <tr>\n",
       "      <th>3</th>\n",
       "      <td>TimeDimension</td>\n",
       "      <td>http://emmo.info/emmo/middle/isq#EMMO_02e894c3...</td>\n",
       "    </tr>\n",
       "    <tr>\n",
       "      <th>4</th>\n",
       "      <td>Velocity</td>\n",
       "      <td>http://emmo.info/emmo/middle/isq#EMMO_0329f1f5...</td>\n",
       "    </tr>\n",
       "    <tr>\n",
       "      <th>...</th>\n",
       "      <td>...</td>\n",
       "      <td>...</td>\n",
       "    </tr>\n",
       "    <tr>\n",
       "      <th>445</th>\n",
       "      <td>EMMO</td>\n",
       "      <td>http://emmo.info/emmo/top/mereotopology#EMMO_8...</td>\n",
       "    </tr>\n",
       "    <tr>\n",
       "      <th>446</th>\n",
       "      <td>Item</td>\n",
       "      <td>http://emmo.info/emmo/top/mereotopology#EMMO_e...</td>\n",
       "    </tr>\n",
       "    <tr>\n",
       "      <th>447</th>\n",
       "      <td>Elementary</td>\n",
       "      <td>http://emmo.info/emmo/top/physical#EMMO_0f795e...</td>\n",
       "    </tr>\n",
       "    <tr>\n",
       "      <th>448</th>\n",
       "      <td>Void</td>\n",
       "      <td>http://emmo.info/emmo/top/physical#EMMO_29072e...</td>\n",
       "    </tr>\n",
       "    <tr>\n",
       "      <th>449</th>\n",
       "      <td>Physical</td>\n",
       "      <td>http://emmo.info/emmo/top/physical#EMMO_c5ddfd...</td>\n",
       "    </tr>\n",
       "  </tbody>\n",
       "</table>\n",
       "<p>450 rows × 2 columns</p>\n",
       "</div>"
      ],
      "text/plain": [
       "             label                                                uri\n",
       "0         Holistic  http://emmo.info/emmo/middle/holistic#EMMO_027...\n",
       "1          Process  http://emmo.info/emmo/middle/holistic#EMMO_43e...\n",
       "2      Participant  http://emmo.info/emmo/middle/holistic#EMMO_498...\n",
       "3    TimeDimension  http://emmo.info/emmo/middle/isq#EMMO_02e894c3...\n",
       "4         Velocity  http://emmo.info/emmo/middle/isq#EMMO_0329f1f5...\n",
       "..             ...                                                ...\n",
       "445           EMMO  http://emmo.info/emmo/top/mereotopology#EMMO_8...\n",
       "446           Item  http://emmo.info/emmo/top/mereotopology#EMMO_e...\n",
       "447     Elementary  http://emmo.info/emmo/top/physical#EMMO_0f795e...\n",
       "448           Void  http://emmo.info/emmo/top/physical#EMMO_29072e...\n",
       "449       Physical  http://emmo.info/emmo/top/physical#EMMO_c5ddfd...\n",
       "\n",
       "[450 rows x 2 columns]"
      ]
     },
     "execution_count": 59,
     "metadata": {},
     "output_type": "execute_result"
    }
   ],
   "source": [
    "maponto.extract_label_uris(target_graph)"
   ]
  },
  {
   "cell_type": "code",
   "execution_count": 45,
   "id": "defe7255-ed56-4f5e-a082-757d7bfa8fb8",
   "metadata": {},
   "outputs": [],
   "source": [
    "#target_url = \"../data/anatomy_track/anatomy_track-default/mouse-human-suite/target.rdf\"\n",
    "target_url = \"../data/MSE-Benchmark/testCases/thirdTestCase/EMMO.owl\""
   ]
  },
  {
   "cell_type": "code",
   "execution_count": 46,
   "id": "90b566a7-cf87-4efa-bb43-992e8443ce69",
   "metadata": {},
   "outputs": [
    {
     "name": "stdout",
     "output_type": "stream",
     "text": [
      "../data/MSE-Benchmark/testCases/thirdTestCase/EMMO.owl\n",
      "http://emmo.info/emmo/1.0.0-alpha2/middle/semiotics\n",
      "http://emmo.info/emmo/1.0.0-alpha2/middle/manufacturing\n",
      "http://emmo.info/emmo/1.0.0-alpha2/top\n",
      "http://emmo.info/emmo/1.0.0-alpha2/top/physical\n",
      "http://emmo.info/emmo/1.0.0-alpha2/top/mereotopology\n",
      "http://emmo.info/emmo/1.0.0-alpha2/top/annotations\n",
      "http://emmo.info/emmo/1.0.0-alpha2/middle/properties\n",
      "http://emmo.info/emmo/1.0.0-alpha2/middle/isq\n",
      "http://emmo.info/emmo/1.0.0-alpha2/middle/metrology\n",
      "http://emmo.info/emmo/1.0.0-alpha2/middle/math\n",
      "http://emmo.info/emmo/1.0.0-alpha2/middle/models\n",
      "http://emmo.info/emmo/1.0.0-alpha2/middle/reductionistic\n",
      "http://emmo.info/emmo/1.0.0-alpha2/middle/materials\n",
      "http://emmo.info/emmo/1.0.0-alpha2/middle/physicalistic\n",
      "http://emmo.info/emmo/1.0.0-alpha2/middle/holistic\n",
      "http://emmo.info/emmo/1.0.0-alpha2/middle/perceptual\n",
      "http://emmo.info/emmo/1.0.0-alpha2/middle/siunits\n",
      "http://emmo.info/emmo/1.0.0-alpha2/middle/units-extension\n"
     ]
    }
   ],
   "source": [
    "target_graph = Graph()\n",
    "stack_urls = []\n",
    "stack_urls.append(target_url)\n",
    "visited_urls = []\n",
    "maponto.parse_owl_withImports(target_graph, stack_urls, visited_urls)"
   ]
  },
  {
   "cell_type": "code",
   "execution_count": 47,
   "id": "f9e6e741-e3d3-4f15-a8ad-c1b1e9454d3d",
   "metadata": {},
   "outputs": [
    {
     "data": {
      "text/plain": [
       "4644"
      ]
     },
     "execution_count": 47,
     "metadata": {},
     "output_type": "execute_result"
    }
   ],
   "source": [
    "len(target_graph)"
   ]
  },
  {
   "cell_type": "code",
   "execution_count": 48,
   "id": "efce345f-e767-46b1-91a2-06865bb15d04",
   "metadata": {},
   "outputs": [],
   "source": [
    "from rdflib.namespace import Namespace, NamespaceManager\n",
    "SKOS_NS = Namespace(\"http://www.w3.org/2004/02/skos/core#\")\n",
    "target_graph.namespace_manager.bind(\"skos\", SKOS_NS)\n",
    "    \n",
    "def_query = '''SELECT DISTINCT ?a ?b\n",
    "                   WHERE {\n",
    "                   {?a a owl:Class .\n",
    "                   ?a rdfs:label ?b .\n",
    "                   }\n",
    "                   UNION\n",
    "                   {?a a owl:Class .\n",
    "                   ?a skos:prefLabel ?b .\n",
    "                   }\n",
    "                   \n",
    "                   FILTER(!isBlank(?a))}\n",
    "                   \n",
    "                   ORDER BY ?a\n",
    "            '''\n",
    "    \n",
    "q_res = target_graph.query(def_query)\n",
    "\n",
    "labels = []\n",
    "uris = []\n",
    "for res in q_res:\n",
    "    if len(str(res[1])) > 0:\n",
    "        labels.append(str(res[1]))\n",
    "        uris.append(str(res[0]))"
   ]
  },
  {
   "cell_type": "code",
   "execution_count": 52,
   "id": "ca7b821f-c903-4c7c-a52f-0d015bbce215",
   "metadata": {},
   "outputs": [
    {
     "data": {
      "text/plain": [
       "['Holistic', 'Process', 'Participant', 'TimeDimension', 'Velocity']"
      ]
     },
     "execution_count": 52,
     "metadata": {},
     "output_type": "execute_result"
    }
   ],
   "source": [
    "labels[:5]"
   ]
  },
  {
   "cell_type": "markdown",
   "id": "abd1741a-efff-4c1a-be4c-d3bf77d18135",
   "metadata": {},
   "source": [
    "# Anatomy"
   ]
  },
  {
   "cell_type": "code",
   "execution_count": 47,
   "id": "7b12f35b-a1e0-42cf-972d-fb3699a8eba2",
   "metadata": {},
   "outputs": [],
   "source": [
    "source_url = \"../data/anatomy_track/anatomy_track-default/mouse-human-suite/source.rdf\"\n",
    "target_url = \"../data/anatomy_track/anatomy_track-default/mouse-human-suite/target.rdf\"\n",
    "output_url = '../data/results/mouse_human_alignments.rdf'\n",
    "refs_url = \"../data/anatomy_track/anatomy_track-default/mouse-human-suite/reference.rdf\""
   ]
  },
  {
   "cell_type": "code",
   "execution_count": 48,
   "id": "f0098721-0692-424a-a38b-fa283826c7b6",
   "metadata": {},
   "outputs": [
    {
     "name": "stderr",
     "output_type": "stream",
     "text": [
      "INFO:root:Python ensemble mapper info: map ../data/anatomy_track/anatomy_track-default/mouse-human-suite/source.rdf to ../data/anatomy_track/anatomy_track-default/mouse-human-suite/target.rdf\n"
     ]
    },
    {
     "name": "stdout",
     "output_type": "stream",
     "text": [
      "../data/anatomy_track/anatomy_track-default/mouse-human-suite/source.rdf\n"
     ]
    },
    {
     "name": "stderr",
     "output_type": "stream",
     "text": [
      "INFO:root:Read source with 15958 triples.\n"
     ]
    },
    {
     "name": "stdout",
     "output_type": "stream",
     "text": [
      "../data/anatomy_track/anatomy_track-default/mouse-human-suite/target.rdf\n"
     ]
    },
    {
     "name": "stderr",
     "output_type": "stream",
     "text": [
      "INFO:root:Read target with 35354 triples.\n",
      "INFO:root:MAP CONCEPTS\n",
      "INFO:root:The number of level_1 predicted mapping is 951.\n",
      "INFO:root:Retrieving Synsets by WordNet...\n",
      "INFO:root:The number of level_2 predicted mapping is 32\n",
      "INFO:root:Skip the level_3 mapping.\n",
      "INFO:root:Skip the level_4 mapping.\n",
      "INFO:root:Skip the level_5 mapping.\n",
      "INFO:root:Matching Label Embeddings by Optimal Transport...\n",
      "INFO:root:Computing the Ground Embedding Costs between the Source and Target Points...\n",
      "INFO:root:The shape of the cost matrix is (1757, 2315)\n",
      "INFO:root:Computing Optimal Transport Plan...\n",
      "INFO:root:Computing Wasserstein distance by the Sinkhorn algorithm...\n",
      "INFO:root:Making Mappings from a Pairwise OT Plan Matrix by Mutual NN...\n",
      "INFO:root:The number of level_6 predicted mapping is 920\n",
      "INFO:root:TOTAL NUMBER OF MAPPINGS BETWEEN CONCPETS IS 1903\n",
      "INFO:root:=================================================\n",
      "INFO:root:MAP OBJECT PROPERTIES\n",
      "INFO:root:The number of level_1 predicted mapping is 2.\n",
      "INFO:root:Retrieving Synsets by WordNet...\n",
      "INFO:root:Compute the related words for each source concept....\n",
      "1it [00:00, 34.49it/s]\n",
      "INFO:root:Total number of source concepts computed with relatd words is 1\n",
      "INFO:root:Compute the related words for each target concept....\n",
      "0it [00:00, ?it/s]\n",
      "INFO:root:Total number of target concepts computed with related words is 0\n",
      "INFO:root:Skip the level_4 mapping.\n",
      "INFO:root:Skip the level_5 mapping.\n",
      "INFO:root:Skip the level_6 mappping.\n",
      "INFO:root:TOTAL NUMBER OF MAPPINGS BETWEEN OBJECT PROPERTIES IS 2\n",
      "INFO:root:========================================================\n",
      "INFO:root:MAP DATATYPE PROPERTIES\n",
      "INFO:root:Retrieving Synsets by WordNet...\n",
      "INFO:root:Compute the related words for each source concept....\n",
      "0it [00:00, ?it/s]\n",
      "INFO:root:Total number of source concepts computed with relatd words is 0\n",
      "INFO:root:Compute the related words for each target concept....\n",
      "0it [00:00, ?it/s]\n",
      "INFO:root:Total number of target concepts computed with related words is 0\n",
      "INFO:root:Skip the level_4 mapping.\n",
      "INFO:root:Skip the level_5 mapping.\n",
      "INFO:root:Skip the level_6 mappping.\n",
      "INFO:root:TOTAL NUMBER OF MAPPINGS BETWEEN DATATYPE PROPERTIES IS 0\n",
      "INFO:root:===========================================================\n"
     ]
    }
   ],
   "source": [
    "mapper.align(source_url, target_url, output_url)"
   ]
  },
  {
   "cell_type": "code",
   "execution_count": 49,
   "id": "dd1a9a33-f68b-4fd3-853c-8c30b4a3ff80",
   "metadata": {},
   "outputs": [
    {
     "name": "stdout",
     "output_type": "stream",
     "text": [
      "Total number of None is 1905\n",
      "Total number of references is 1516\n",
      "Total correctly predicted alignments is 1230\n",
      "Total number of predicted is 1905\n",
      "Precision is 0.6456692913385826\n",
      "Recall is 0.8113456464379947\n",
      "F1-Measure is 0.7190879859690149\n"
     ]
    }
   ],
   "source": [
    "preds = maponto.load_alignments(output_url, None)\n",
    "maponto.evaluate(preds, refs_url)"
   ]
  },
  {
   "cell_type": "markdown",
   "id": "446e3ba2-0185-4b74-8593-fcb937befa19",
   "metadata": {},
   "source": [
    "# Conference"
   ]
  },
  {
   "cell_type": "code",
   "execution_count": 12,
   "id": "c49926b1-2ca1-4aa8-8aee-4a53f430c887",
   "metadata": {},
   "outputs": [
    {
     "name": "stderr",
     "output_type": "stream",
     "text": [
      "INFO:root:Python ensemble mapper info: map ../data/conference/conference-v1/cmt-conference/source.rdf to ../data/conference/conference-v1/cmt-conference/target.rdf\n",
      "INFO:root:Read source with 412 triples.\n"
     ]
    },
    {
     "name": "stdout",
     "output_type": "stream",
     "text": [
      "../data/conference/conference-v1/cmt-conference/source.rdf\n",
      "../data/conference/conference-v1/cmt-conference/target.rdf\n"
     ]
    },
    {
     "name": "stderr",
     "output_type": "stream",
     "text": [
      "INFO:root:Read target with 639 triples.\n",
      "INFO:root:MAP CONCEPTS\n",
      "INFO:root:The number of level_1 predicted mapping is 6.\n",
      "INFO:root:Retrieving Synsets by WordNet...\n",
      "INFO:root:The number of level_2 predicted mapping is 1\n",
      "INFO:root:Compute the related words for each source concept....\n",
      "22it [00:00, 53.21it/s]\n",
      "INFO:root:Total number of source concepts computed with relatd words is 22\n",
      "INFO:root:Compute the related words for each target concept....\n",
      "52it [00:01, 47.25it/s]\n",
      "INFO:root:Total number of target concepts computed with related words is 52\n",
      "100%|██████████| 22/22 [00:00<00:00, 3021.54it/s]\n",
      "INFO:root:The number of level_3 predicted mapping is 7\n",
      "INFO:root:Compute Pairwise Wasserstein Distances...\n",
      "100%|██████████| 15/15 [00:00<00:00, 17.66it/s]\n",
      "INFO:root:The number of level_4 predicted mapping is 1\n",
      "INFO:root:Skip level_5 mapping.\n",
      "INFO:root:Matching Label Embeddings by Optimal Transport...\n",
      "INFO:root:Computing the Ground Embedding Costs between the Source and Target Points...\n",
      "INFO:root:The shape of the cost matrix is (14, 44)\n",
      "INFO:root:Computing Optimal Transport Plan...\n",
      "INFO:root:Computing Wasserstein distance by the Sinkhorn algorithm...\n",
      "INFO:root:The Sinkhorn got warnings. Computing Wasserstein distance by the EMD algorithm...\n",
      "INFO:root:Making Mappings from a Pairwise OT Plan Matrix by Mutual NN...\n",
      "INFO:root:The number of level_6 predicted mapping is 13\n",
      "INFO:root:TOTAL NUMBER OF MAPPINGS BETWEEN CONCPETS IS 28\n",
      "INFO:root:=================================================\n",
      "INFO:root:MAP OBJECT PROPERTIES\n",
      "INFO:root:Retrieving Synsets by WordNet...\n",
      "INFO:root:The number of level_2 predicted mapping is 1\n",
      "INFO:root:Compute the related words for each source concept....\n"
     ]
    },
    {
     "name": "stdout",
     "output_type": "stream",
     "text": [
      "Warning: numerical errors at iteration 0\n"
     ]
    },
    {
     "name": "stderr",
     "output_type": "stream",
     "text": [
      "48it [00:01, 46.04it/s]\n",
      "INFO:root:Total number of source concepts computed with relatd words is 48\n",
      "INFO:root:Compute the related words for each target concept....\n",
      "45it [00:00, 56.02it/s]\n",
      "INFO:root:Total number of target concepts computed with related words is 45\n",
      "100%|██████████| 48/48 [00:00<00:00, 3770.94it/s]\n",
      "INFO:root:The number of level_3 predicted mapping is 6\n",
      "INFO:root:Skip the level_4 mapping.\n",
      "INFO:root:Skip the level_5 mapping.\n",
      "INFO:root:Skip the level_6 mappping.\n",
      "INFO:root:TOTAL NUMBER OF MAPPINGS BETWEEN OBJECT PROPERTIES IS 7\n",
      "INFO:root:========================================================\n",
      "INFO:root:MAP DATATYPE PROPERTIES\n",
      "INFO:root:The number of level_1 predicted mapping is 2.\n",
      "INFO:root:Retrieving Synsets by WordNet...\n",
      "INFO:root:Compute the related words for each source concept....\n",
      "8it [00:00, 56.19it/s]\n",
      "INFO:root:Total number of source concepts computed with relatd words is 8\n",
      "INFO:root:Compute the related words for each target concept....\n",
      "16it [00:00, 47.04it/s]\n",
      "INFO:root:Total number of target concepts computed with related words is 16\n",
      "100%|██████████| 8/8 [00:00<00:00, 10887.23it/s]\n",
      "INFO:root:The number of level_3 predicted mapping is 2\n",
      "INFO:root:Skip the level_4 mapping.\n",
      "INFO:root:Skip the level_5 mapping.\n",
      "INFO:root:Skip the level_6 mappping.\n",
      "INFO:root:TOTAL NUMBER OF MAPPINGS BETWEEN DATATYPE PROPERTIES IS 4\n",
      "INFO:root:===========================================================\n"
     ]
    },
    {
     "name": "stdout",
     "output_type": "stream",
     "text": [
      "Total number of None is 39\n",
      "Total number of references is 15\n",
      "Total correctly predicted alignments is 10\n",
      "Total number of predicted is 39\n",
      "Precision is 0.2564102564102564\n",
      "Recall is 0.6666666666666666\n",
      "F1-Measure is 0.37037037037037035\n"
     ]
    }
   ],
   "source": [
    "source_url = \"../data/conference/conference-v1/cmt-conference/source.rdf\"\n",
    "target_url = \"../data/conference/conference-v1/cmt-conference/target.rdf\"\n",
    "output_url = '../data/results/cmt_conference_alignments.rdf'\n",
    "refs_url = \"../data/conference/conference-v1/cmt-conference/reference.rdf\"\n",
    "mapper.align(source_url, target_url, output_url)\n",
    "preds = maponto.load_alignments(output_url, None)\n",
    "maponto.evaluate(preds, refs_url)"
   ]
  },
  {
   "cell_type": "code",
   "execution_count": 14,
   "id": "53918df5-f4b2-463b-9468-57f10524fb80",
   "metadata": {},
   "outputs": [
    {
     "name": "stdout",
     "output_type": "stream",
     "text": [
      "../data/conference/conference-v1/cmt-conference/source.rdf\n",
      "../data/conference/conference-v1/cmt-conference/target.rdf\n"
     ]
    },
    {
     "data": {
      "text/plain": [
       "(412, 639)"
      ]
     },
     "execution_count": 14,
     "metadata": {},
     "output_type": "execute_result"
    }
   ],
   "source": [
    "source_graph = Graph()\n",
    "stack_urls = []\n",
    "visited_urls = []\n",
    "stack_urls.append(source_url)\n",
    "maponto.parse_owl_withImports(source_graph, stack_urls, visited_urls)\n",
    "#len(source_graph)\n",
    "target_graph = Graph()\n",
    "stack_urls = []\n",
    "visited_urls = []\n",
    "stack_urls.append(target_url)\n",
    "maponto.parse_owl_withImports(target_graph, stack_urls, visited_urls)\n",
    "len(source_graph), len(target_graph)"
   ]
  },
  {
   "cell_type": "code",
   "execution_count": 16,
   "id": "d06dae8e-7f6f-4778-869a-619fe7336fff",
   "metadata": {},
   "outputs": [
    {
     "data": {
      "text/html": [
       "<div>\n",
       "<style scoped>\n",
       "    .dataframe tbody tr th:only-of-type {\n",
       "        vertical-align: middle;\n",
       "    }\n",
       "\n",
       "    .dataframe tbody tr th {\n",
       "        vertical-align: top;\n",
       "    }\n",
       "\n",
       "    .dataframe thead th {\n",
       "        text-align: right;\n",
       "    }\n",
       "</style>\n",
       "<table border=\"1\" class=\"dataframe\">\n",
       "  <thead>\n",
       "    <tr style=\"text-align: right;\">\n",
       "      <th></th>\n",
       "      <th>label</th>\n",
       "      <th>uri</th>\n",
       "      <th>clndLabel</th>\n",
       "    </tr>\n",
       "  </thead>\n",
       "  <tbody>\n",
       "    <tr>\n",
       "      <th>0</th>\n",
       "      <td>Acceptance</td>\n",
       "      <td>http://cmt#Acceptance</td>\n",
       "      <td>acceptance</td>\n",
       "    </tr>\n",
       "    <tr>\n",
       "      <th>1</th>\n",
       "      <td>Administrator</td>\n",
       "      <td>http://cmt#Administrator</td>\n",
       "      <td>administrator</td>\n",
       "    </tr>\n",
       "    <tr>\n",
       "      <th>2</th>\n",
       "      <td>AssociatedChair</td>\n",
       "      <td>http://cmt#AssociatedChair</td>\n",
       "      <td>associated chair</td>\n",
       "    </tr>\n",
       "    <tr>\n",
       "      <th>3</th>\n",
       "      <td>Author</td>\n",
       "      <td>http://cmt#Author</td>\n",
       "      <td>author</td>\n",
       "    </tr>\n",
       "    <tr>\n",
       "      <th>4</th>\n",
       "      <td>AuthorNotReviewer</td>\n",
       "      <td>http://cmt#AuthorNotReviewer</td>\n",
       "      <td>author reviewer</td>\n",
       "    </tr>\n",
       "    <tr>\n",
       "      <th>5</th>\n",
       "      <td>Bid</td>\n",
       "      <td>http://cmt#Bid</td>\n",
       "      <td>bid</td>\n",
       "    </tr>\n",
       "    <tr>\n",
       "      <th>6</th>\n",
       "      <td>Chairman</td>\n",
       "      <td>http://cmt#Chairman</td>\n",
       "      <td>chairman</td>\n",
       "    </tr>\n",
       "    <tr>\n",
       "      <th>7</th>\n",
       "      <td>Co-author</td>\n",
       "      <td>http://cmt#Co-author</td>\n",
       "      <td>co author</td>\n",
       "    </tr>\n",
       "    <tr>\n",
       "      <th>8</th>\n",
       "      <td>Conference</td>\n",
       "      <td>http://cmt#Conference</td>\n",
       "      <td>conference</td>\n",
       "    </tr>\n",
       "    <tr>\n",
       "      <th>9</th>\n",
       "      <td>ConferenceChair</td>\n",
       "      <td>http://cmt#ConferenceChair</td>\n",
       "      <td>conference chair</td>\n",
       "    </tr>\n",
       "    <tr>\n",
       "      <th>10</th>\n",
       "      <td>ConferenceMember</td>\n",
       "      <td>http://cmt#ConferenceMember</td>\n",
       "      <td>conference member</td>\n",
       "    </tr>\n",
       "    <tr>\n",
       "      <th>11</th>\n",
       "      <td>Decision</td>\n",
       "      <td>http://cmt#Decision</td>\n",
       "      <td>decision</td>\n",
       "    </tr>\n",
       "    <tr>\n",
       "      <th>12</th>\n",
       "      <td>Document</td>\n",
       "      <td>http://cmt#Document</td>\n",
       "      <td>document</td>\n",
       "    </tr>\n",
       "    <tr>\n",
       "      <th>13</th>\n",
       "      <td>ExternalReviewer</td>\n",
       "      <td>http://cmt#ExternalReviewer</td>\n",
       "      <td>external reviewer</td>\n",
       "    </tr>\n",
       "    <tr>\n",
       "      <th>14</th>\n",
       "      <td>Meta-Review</td>\n",
       "      <td>http://cmt#Meta-Review</td>\n",
       "      <td>meta review</td>\n",
       "    </tr>\n",
       "    <tr>\n",
       "      <th>15</th>\n",
       "      <td>Meta-Reviewer</td>\n",
       "      <td>http://cmt#Meta-Reviewer</td>\n",
       "      <td>meta reviewer</td>\n",
       "    </tr>\n",
       "    <tr>\n",
       "      <th>16</th>\n",
       "      <td>Paper</td>\n",
       "      <td>http://cmt#Paper</td>\n",
       "      <td>paper</td>\n",
       "    </tr>\n",
       "    <tr>\n",
       "      <th>17</th>\n",
       "      <td>PaperAbstract</td>\n",
       "      <td>http://cmt#PaperAbstract</td>\n",
       "      <td>paper abstract</td>\n",
       "    </tr>\n",
       "    <tr>\n",
       "      <th>18</th>\n",
       "      <td>PaperFullVersion</td>\n",
       "      <td>http://cmt#PaperFullVersion</td>\n",
       "      <td>paper full version</td>\n",
       "    </tr>\n",
       "    <tr>\n",
       "      <th>19</th>\n",
       "      <td>Person</td>\n",
       "      <td>http://cmt#Person</td>\n",
       "      <td>person</td>\n",
       "    </tr>\n",
       "    <tr>\n",
       "      <th>20</th>\n",
       "      <td>Preference</td>\n",
       "      <td>http://cmt#Preference</td>\n",
       "      <td>preference</td>\n",
       "    </tr>\n",
       "    <tr>\n",
       "      <th>21</th>\n",
       "      <td>ProgramCommittee</td>\n",
       "      <td>http://cmt#ProgramCommittee</td>\n",
       "      <td>program committee</td>\n",
       "    </tr>\n",
       "    <tr>\n",
       "      <th>22</th>\n",
       "      <td>ProgramCommitteeChair</td>\n",
       "      <td>http://cmt#ProgramCommitteeChair</td>\n",
       "      <td>program committee chair</td>\n",
       "    </tr>\n",
       "    <tr>\n",
       "      <th>23</th>\n",
       "      <td>ProgramCommitteeMember</td>\n",
       "      <td>http://cmt#ProgramCommitteeMember</td>\n",
       "      <td>program committee member</td>\n",
       "    </tr>\n",
       "    <tr>\n",
       "      <th>24</th>\n",
       "      <td>Rejection</td>\n",
       "      <td>http://cmt#Rejection</td>\n",
       "      <td>rejection</td>\n",
       "    </tr>\n",
       "    <tr>\n",
       "      <th>25</th>\n",
       "      <td>Review</td>\n",
       "      <td>http://cmt#Review</td>\n",
       "      <td>review</td>\n",
       "    </tr>\n",
       "    <tr>\n",
       "      <th>26</th>\n",
       "      <td>Reviewer</td>\n",
       "      <td>http://cmt#Reviewer</td>\n",
       "      <td>reviewer</td>\n",
       "    </tr>\n",
       "    <tr>\n",
       "      <th>27</th>\n",
       "      <td>SubjectArea</td>\n",
       "      <td>http://cmt#SubjectArea</td>\n",
       "      <td>subject area</td>\n",
       "    </tr>\n",
       "    <tr>\n",
       "      <th>28</th>\n",
       "      <td>User</td>\n",
       "      <td>http://cmt#User</td>\n",
       "      <td>user</td>\n",
       "    </tr>\n",
       "  </tbody>\n",
       "</table>\n",
       "</div>"
      ],
      "text/plain": [
       "                     label                                uri  \\\n",
       "0               Acceptance              http://cmt#Acceptance   \n",
       "1            Administrator           http://cmt#Administrator   \n",
       "2          AssociatedChair         http://cmt#AssociatedChair   \n",
       "3                   Author                  http://cmt#Author   \n",
       "4        AuthorNotReviewer       http://cmt#AuthorNotReviewer   \n",
       "5                      Bid                     http://cmt#Bid   \n",
       "6                 Chairman                http://cmt#Chairman   \n",
       "7                Co-author               http://cmt#Co-author   \n",
       "8               Conference              http://cmt#Conference   \n",
       "9          ConferenceChair         http://cmt#ConferenceChair   \n",
       "10        ConferenceMember        http://cmt#ConferenceMember   \n",
       "11                Decision                http://cmt#Decision   \n",
       "12                Document                http://cmt#Document   \n",
       "13        ExternalReviewer        http://cmt#ExternalReviewer   \n",
       "14             Meta-Review             http://cmt#Meta-Review   \n",
       "15           Meta-Reviewer           http://cmt#Meta-Reviewer   \n",
       "16                   Paper                   http://cmt#Paper   \n",
       "17           PaperAbstract           http://cmt#PaperAbstract   \n",
       "18        PaperFullVersion        http://cmt#PaperFullVersion   \n",
       "19                  Person                  http://cmt#Person   \n",
       "20              Preference              http://cmt#Preference   \n",
       "21        ProgramCommittee        http://cmt#ProgramCommittee   \n",
       "22   ProgramCommitteeChair   http://cmt#ProgramCommitteeChair   \n",
       "23  ProgramCommitteeMember  http://cmt#ProgramCommitteeMember   \n",
       "24               Rejection               http://cmt#Rejection   \n",
       "25                  Review                  http://cmt#Review   \n",
       "26                Reviewer                http://cmt#Reviewer   \n",
       "27             SubjectArea             http://cmt#SubjectArea   \n",
       "28                    User                    http://cmt#User   \n",
       "\n",
       "                   clndLabel  \n",
       "0                 acceptance  \n",
       "1              administrator  \n",
       "2           associated chair  \n",
       "3                     author  \n",
       "4            author reviewer  \n",
       "5                        bid  \n",
       "6                   chairman  \n",
       "7                  co author  \n",
       "8                 conference  \n",
       "9           conference chair  \n",
       "10         conference member  \n",
       "11                  decision  \n",
       "12                  document  \n",
       "13         external reviewer  \n",
       "14               meta review  \n",
       "15             meta reviewer  \n",
       "16                     paper  \n",
       "17            paper abstract  \n",
       "18        paper full version  \n",
       "19                    person  \n",
       "20                preference  \n",
       "21         program committee  \n",
       "22   program committee chair  \n",
       "23  program committee member  \n",
       "24                 rejection  \n",
       "25                    review  \n",
       "26                  reviewer  \n",
       "27              subject area  \n",
       "28                      user  "
      ]
     },
     "execution_count": 16,
     "metadata": {},
     "output_type": "execute_result"
    }
   ],
   "source": [
    "source_clndLabel_uris = maponto.clean_labels(maponto.extract_label_uris(source_graph))\n",
    "source_clndLabel_uris"
   ]
  },
  {
   "cell_type": "code",
   "execution_count": 17,
   "id": "4d2f7c6e-4a7c-454f-b3d2-5f6f8f1eef3b",
   "metadata": {},
   "outputs": [
    {
     "data": {
      "text/html": [
       "<div>\n",
       "<style scoped>\n",
       "    .dataframe tbody tr th:only-of-type {\n",
       "        vertical-align: middle;\n",
       "    }\n",
       "\n",
       "    .dataframe tbody tr th {\n",
       "        vertical-align: top;\n",
       "    }\n",
       "\n",
       "    .dataframe thead th {\n",
       "        text-align: right;\n",
       "    }\n",
       "</style>\n",
       "<table border=\"1\" class=\"dataframe\">\n",
       "  <thead>\n",
       "    <tr style=\"text-align: right;\">\n",
       "      <th></th>\n",
       "      <th>label</th>\n",
       "      <th>uri</th>\n",
       "      <th>clndLabel</th>\n",
       "    </tr>\n",
       "  </thead>\n",
       "  <tbody>\n",
       "    <tr>\n",
       "      <th>0</th>\n",
       "      <td>Abstract</td>\n",
       "      <td>http://conference#Abstract</td>\n",
       "      <td>abstract</td>\n",
       "    </tr>\n",
       "    <tr>\n",
       "      <th>1</th>\n",
       "      <td>Accepted_contribution</td>\n",
       "      <td>http://conference#Accepted_contribution</td>\n",
       "      <td>accepted contribution</td>\n",
       "    </tr>\n",
       "    <tr>\n",
       "      <th>2</th>\n",
       "      <td>Active_conference_participant</td>\n",
       "      <td>http://conference#Active_conference_participant</td>\n",
       "      <td>active conference participant</td>\n",
       "    </tr>\n",
       "    <tr>\n",
       "      <th>3</th>\n",
       "      <td>Call_for_paper</td>\n",
       "      <td>http://conference#Call_for_paper</td>\n",
       "      <td>call paper</td>\n",
       "    </tr>\n",
       "    <tr>\n",
       "      <th>4</th>\n",
       "      <td>Call_for_participation</td>\n",
       "      <td>http://conference#Call_for_participation</td>\n",
       "      <td>call participation</td>\n",
       "    </tr>\n",
       "    <tr>\n",
       "      <th>5</th>\n",
       "      <td>Camera_ready_contribution</td>\n",
       "      <td>http://conference#Camera_ready_contribution</td>\n",
       "      <td>camera ready contribution</td>\n",
       "    </tr>\n",
       "    <tr>\n",
       "      <th>6</th>\n",
       "      <td>Chair</td>\n",
       "      <td>http://conference#Chair</td>\n",
       "      <td>chair</td>\n",
       "    </tr>\n",
       "    <tr>\n",
       "      <th>7</th>\n",
       "      <td>Co-chair</td>\n",
       "      <td>http://conference#Co-chair</td>\n",
       "      <td>co chair</td>\n",
       "    </tr>\n",
       "    <tr>\n",
       "      <th>8</th>\n",
       "      <td>Committee</td>\n",
       "      <td>http://conference#Committee</td>\n",
       "      <td>committee</td>\n",
       "    </tr>\n",
       "    <tr>\n",
       "      <th>9</th>\n",
       "      <td>Committee_member</td>\n",
       "      <td>http://conference#Committee_member</td>\n",
       "      <td>committee member</td>\n",
       "    </tr>\n",
       "    <tr>\n",
       "      <th>10</th>\n",
       "      <td>Conference</td>\n",
       "      <td>http://conference#Conference</td>\n",
       "      <td>conference</td>\n",
       "    </tr>\n",
       "    <tr>\n",
       "      <th>11</th>\n",
       "      <td>Conference_announcement</td>\n",
       "      <td>http://conference#Conference_announcement</td>\n",
       "      <td>conference announcement</td>\n",
       "    </tr>\n",
       "    <tr>\n",
       "      <th>12</th>\n",
       "      <td>Conference_applicant</td>\n",
       "      <td>http://conference#Conference_applicant</td>\n",
       "      <td>conference applicant</td>\n",
       "    </tr>\n",
       "    <tr>\n",
       "      <th>13</th>\n",
       "      <td>Conference_contribution</td>\n",
       "      <td>http://conference#Conference_contribution</td>\n",
       "      <td>conference contribution</td>\n",
       "    </tr>\n",
       "    <tr>\n",
       "      <th>14</th>\n",
       "      <td>Conference_contributor</td>\n",
       "      <td>http://conference#Conference_contributor</td>\n",
       "      <td>conference contributor</td>\n",
       "    </tr>\n",
       "    <tr>\n",
       "      <th>15</th>\n",
       "      <td>Conference_document</td>\n",
       "      <td>http://conference#Conference_document</td>\n",
       "      <td>conference document</td>\n",
       "    </tr>\n",
       "    <tr>\n",
       "      <th>16</th>\n",
       "      <td>Conference_fees</td>\n",
       "      <td>http://conference#Conference_fees</td>\n",
       "      <td>conference fees</td>\n",
       "    </tr>\n",
       "    <tr>\n",
       "      <th>17</th>\n",
       "      <td>Conference_part</td>\n",
       "      <td>http://conference#Conference_part</td>\n",
       "      <td>conference part</td>\n",
       "    </tr>\n",
       "    <tr>\n",
       "      <th>18</th>\n",
       "      <td>Conference_participant</td>\n",
       "      <td>http://conference#Conference_participant</td>\n",
       "      <td>conference participant</td>\n",
       "    </tr>\n",
       "    <tr>\n",
       "      <th>19</th>\n",
       "      <td>Conference_proceedings</td>\n",
       "      <td>http://conference#Conference_proceedings</td>\n",
       "      <td>conference proceedings</td>\n",
       "    </tr>\n",
       "    <tr>\n",
       "      <th>20</th>\n",
       "      <td>Conference_volume</td>\n",
       "      <td>http://conference#Conference_volume</td>\n",
       "      <td>conference volume</td>\n",
       "    </tr>\n",
       "    <tr>\n",
       "      <th>21</th>\n",
       "      <td>Conference_www</td>\n",
       "      <td>http://conference#Conference_www</td>\n",
       "      <td>conference www</td>\n",
       "    </tr>\n",
       "    <tr>\n",
       "      <th>22</th>\n",
       "      <td>Contribution_1th-author</td>\n",
       "      <td>http://conference#Contribution_1th-author</td>\n",
       "      <td>contribution 1 th author</td>\n",
       "    </tr>\n",
       "    <tr>\n",
       "      <th>23</th>\n",
       "      <td>Contribution_co-author</td>\n",
       "      <td>http://conference#Contribution_co-author</td>\n",
       "      <td>contribution co author</td>\n",
       "    </tr>\n",
       "    <tr>\n",
       "      <th>24</th>\n",
       "      <td>Early_paid_applicant</td>\n",
       "      <td>http://conference#Early_paid_applicant</td>\n",
       "      <td>early paid applicant</td>\n",
       "    </tr>\n",
       "    <tr>\n",
       "      <th>25</th>\n",
       "      <td>Extended_abstract</td>\n",
       "      <td>http://conference#Extended_abstract</td>\n",
       "      <td>extended abstract</td>\n",
       "    </tr>\n",
       "    <tr>\n",
       "      <th>26</th>\n",
       "      <td>Important_dates</td>\n",
       "      <td>http://conference#Important_dates</td>\n",
       "      <td>important dates</td>\n",
       "    </tr>\n",
       "    <tr>\n",
       "      <th>27</th>\n",
       "      <td>Information_for_participants</td>\n",
       "      <td>http://conference#Information_for_participants</td>\n",
       "      <td>information participants</td>\n",
       "    </tr>\n",
       "    <tr>\n",
       "      <th>28</th>\n",
       "      <td>Invited_speaker</td>\n",
       "      <td>http://conference#Invited_speaker</td>\n",
       "      <td>invited speaker</td>\n",
       "    </tr>\n",
       "    <tr>\n",
       "      <th>29</th>\n",
       "      <td>Invited_talk</td>\n",
       "      <td>http://conference#Invited_talk</td>\n",
       "      <td>invited talk</td>\n",
       "    </tr>\n",
       "    <tr>\n",
       "      <th>30</th>\n",
       "      <td>Late_paid_applicant</td>\n",
       "      <td>http://conference#Late_paid_applicant</td>\n",
       "      <td>late paid applicant</td>\n",
       "    </tr>\n",
       "    <tr>\n",
       "      <th>31</th>\n",
       "      <td>Organization</td>\n",
       "      <td>http://conference#Organization</td>\n",
       "      <td>organization</td>\n",
       "    </tr>\n",
       "    <tr>\n",
       "      <th>32</th>\n",
       "      <td>Organizer</td>\n",
       "      <td>http://conference#Organizer</td>\n",
       "      <td>organizer</td>\n",
       "    </tr>\n",
       "    <tr>\n",
       "      <th>33</th>\n",
       "      <td>Organizing_committee</td>\n",
       "      <td>http://conference#Organizing_committee</td>\n",
       "      <td>organizing committee</td>\n",
       "    </tr>\n",
       "    <tr>\n",
       "      <th>34</th>\n",
       "      <td>Paid_applicant</td>\n",
       "      <td>http://conference#Paid_applicant</td>\n",
       "      <td>paid applicant</td>\n",
       "    </tr>\n",
       "    <tr>\n",
       "      <th>35</th>\n",
       "      <td>Paper</td>\n",
       "      <td>http://conference#Paper</td>\n",
       "      <td>paper</td>\n",
       "    </tr>\n",
       "    <tr>\n",
       "      <th>36</th>\n",
       "      <td>Passive_conference_participant</td>\n",
       "      <td>http://conference#Passive_conference_participant</td>\n",
       "      <td>passive conference participant</td>\n",
       "    </tr>\n",
       "    <tr>\n",
       "      <th>37</th>\n",
       "      <td>Person</td>\n",
       "      <td>http://conference#Person</td>\n",
       "      <td>person</td>\n",
       "    </tr>\n",
       "    <tr>\n",
       "      <th>38</th>\n",
       "      <td>Poster</td>\n",
       "      <td>http://conference#Poster</td>\n",
       "      <td>poster</td>\n",
       "    </tr>\n",
       "    <tr>\n",
       "      <th>39</th>\n",
       "      <td>Presentation</td>\n",
       "      <td>http://conference#Presentation</td>\n",
       "      <td>presentation</td>\n",
       "    </tr>\n",
       "    <tr>\n",
       "      <th>40</th>\n",
       "      <td>Program_committee</td>\n",
       "      <td>http://conference#Program_committee</td>\n",
       "      <td>program committee</td>\n",
       "    </tr>\n",
       "    <tr>\n",
       "      <th>41</th>\n",
       "      <td>Publisher</td>\n",
       "      <td>http://conference#Publisher</td>\n",
       "      <td>publisher</td>\n",
       "    </tr>\n",
       "    <tr>\n",
       "      <th>42</th>\n",
       "      <td>Registeered_applicant</td>\n",
       "      <td>http://conference#Registeered_applicant</td>\n",
       "      <td>registeered applicant</td>\n",
       "    </tr>\n",
       "    <tr>\n",
       "      <th>43</th>\n",
       "      <td>Regular_author</td>\n",
       "      <td>http://conference#Regular_author</td>\n",
       "      <td>regular author</td>\n",
       "    </tr>\n",
       "    <tr>\n",
       "      <th>44</th>\n",
       "      <td>Regular_contribution</td>\n",
       "      <td>http://conference#Regular_contribution</td>\n",
       "      <td>regular contribution</td>\n",
       "    </tr>\n",
       "    <tr>\n",
       "      <th>45</th>\n",
       "      <td>Rejected_contribution</td>\n",
       "      <td>http://conference#Rejected_contribution</td>\n",
       "      <td>rejected contribution</td>\n",
       "    </tr>\n",
       "    <tr>\n",
       "      <th>46</th>\n",
       "      <td>Review</td>\n",
       "      <td>http://conference#Review</td>\n",
       "      <td>review</td>\n",
       "    </tr>\n",
       "    <tr>\n",
       "      <th>47</th>\n",
       "      <td>Review_expertise</td>\n",
       "      <td>http://conference#Review_expertise</td>\n",
       "      <td>review expertise</td>\n",
       "    </tr>\n",
       "    <tr>\n",
       "      <th>48</th>\n",
       "      <td>Review_preference</td>\n",
       "      <td>http://conference#Review_preference</td>\n",
       "      <td>review preference</td>\n",
       "    </tr>\n",
       "    <tr>\n",
       "      <th>49</th>\n",
       "      <td>Reviewed_contribution</td>\n",
       "      <td>http://conference#Reviewed_contribution</td>\n",
       "      <td>reviewed contribution</td>\n",
       "    </tr>\n",
       "    <tr>\n",
       "      <th>50</th>\n",
       "      <td>Reviewer</td>\n",
       "      <td>http://conference#Reviewer</td>\n",
       "      <td>reviewer</td>\n",
       "    </tr>\n",
       "    <tr>\n",
       "      <th>51</th>\n",
       "      <td>Steering_committee</td>\n",
       "      <td>http://conference#Steering_committee</td>\n",
       "      <td>steering committee</td>\n",
       "    </tr>\n",
       "    <tr>\n",
       "      <th>52</th>\n",
       "      <td>Submitted_contribution</td>\n",
       "      <td>http://conference#Submitted_contribution</td>\n",
       "      <td>submitted contribution</td>\n",
       "    </tr>\n",
       "    <tr>\n",
       "      <th>53</th>\n",
       "      <td>Topic</td>\n",
       "      <td>http://conference#Topic</td>\n",
       "      <td>topic</td>\n",
       "    </tr>\n",
       "    <tr>\n",
       "      <th>54</th>\n",
       "      <td>Track</td>\n",
       "      <td>http://conference#Track</td>\n",
       "      <td>track</td>\n",
       "    </tr>\n",
       "    <tr>\n",
       "      <th>55</th>\n",
       "      <td>Track-workshop_chair</td>\n",
       "      <td>http://conference#Track-workshop_chair</td>\n",
       "      <td>track workshop chair</td>\n",
       "    </tr>\n",
       "    <tr>\n",
       "      <th>56</th>\n",
       "      <td>Tutorial</td>\n",
       "      <td>http://conference#Tutorial</td>\n",
       "      <td>tutorial</td>\n",
       "    </tr>\n",
       "    <tr>\n",
       "      <th>57</th>\n",
       "      <td>Workshop</td>\n",
       "      <td>http://conference#Workshop</td>\n",
       "      <td>workshop</td>\n",
       "    </tr>\n",
       "    <tr>\n",
       "      <th>58</th>\n",
       "      <td>Written_contribution</td>\n",
       "      <td>http://conference#Written_contribution</td>\n",
       "      <td>written contribution</td>\n",
       "    </tr>\n",
       "  </tbody>\n",
       "</table>\n",
       "</div>"
      ],
      "text/plain": [
       "                             label  \\\n",
       "0                         Abstract   \n",
       "1            Accepted_contribution   \n",
       "2    Active_conference_participant   \n",
       "3                   Call_for_paper   \n",
       "4           Call_for_participation   \n",
       "5        Camera_ready_contribution   \n",
       "6                            Chair   \n",
       "7                         Co-chair   \n",
       "8                        Committee   \n",
       "9                 Committee_member   \n",
       "10                      Conference   \n",
       "11         Conference_announcement   \n",
       "12            Conference_applicant   \n",
       "13         Conference_contribution   \n",
       "14          Conference_contributor   \n",
       "15             Conference_document   \n",
       "16                 Conference_fees   \n",
       "17                 Conference_part   \n",
       "18          Conference_participant   \n",
       "19          Conference_proceedings   \n",
       "20               Conference_volume   \n",
       "21                  Conference_www   \n",
       "22         Contribution_1th-author   \n",
       "23          Contribution_co-author   \n",
       "24            Early_paid_applicant   \n",
       "25               Extended_abstract   \n",
       "26                 Important_dates   \n",
       "27    Information_for_participants   \n",
       "28                 Invited_speaker   \n",
       "29                    Invited_talk   \n",
       "30             Late_paid_applicant   \n",
       "31                    Organization   \n",
       "32                       Organizer   \n",
       "33            Organizing_committee   \n",
       "34                  Paid_applicant   \n",
       "35                           Paper   \n",
       "36  Passive_conference_participant   \n",
       "37                          Person   \n",
       "38                          Poster   \n",
       "39                    Presentation   \n",
       "40               Program_committee   \n",
       "41                       Publisher   \n",
       "42           Registeered_applicant   \n",
       "43                  Regular_author   \n",
       "44            Regular_contribution   \n",
       "45           Rejected_contribution   \n",
       "46                          Review   \n",
       "47                Review_expertise   \n",
       "48               Review_preference   \n",
       "49           Reviewed_contribution   \n",
       "50                        Reviewer   \n",
       "51              Steering_committee   \n",
       "52          Submitted_contribution   \n",
       "53                           Topic   \n",
       "54                           Track   \n",
       "55            Track-workshop_chair   \n",
       "56                        Tutorial   \n",
       "57                        Workshop   \n",
       "58            Written_contribution   \n",
       "\n",
       "                                                 uri  \\\n",
       "0                         http://conference#Abstract   \n",
       "1            http://conference#Accepted_contribution   \n",
       "2    http://conference#Active_conference_participant   \n",
       "3                   http://conference#Call_for_paper   \n",
       "4           http://conference#Call_for_participation   \n",
       "5        http://conference#Camera_ready_contribution   \n",
       "6                            http://conference#Chair   \n",
       "7                         http://conference#Co-chair   \n",
       "8                        http://conference#Committee   \n",
       "9                 http://conference#Committee_member   \n",
       "10                      http://conference#Conference   \n",
       "11         http://conference#Conference_announcement   \n",
       "12            http://conference#Conference_applicant   \n",
       "13         http://conference#Conference_contribution   \n",
       "14          http://conference#Conference_contributor   \n",
       "15             http://conference#Conference_document   \n",
       "16                 http://conference#Conference_fees   \n",
       "17                 http://conference#Conference_part   \n",
       "18          http://conference#Conference_participant   \n",
       "19          http://conference#Conference_proceedings   \n",
       "20               http://conference#Conference_volume   \n",
       "21                  http://conference#Conference_www   \n",
       "22         http://conference#Contribution_1th-author   \n",
       "23          http://conference#Contribution_co-author   \n",
       "24            http://conference#Early_paid_applicant   \n",
       "25               http://conference#Extended_abstract   \n",
       "26                 http://conference#Important_dates   \n",
       "27    http://conference#Information_for_participants   \n",
       "28                 http://conference#Invited_speaker   \n",
       "29                    http://conference#Invited_talk   \n",
       "30             http://conference#Late_paid_applicant   \n",
       "31                    http://conference#Organization   \n",
       "32                       http://conference#Organizer   \n",
       "33            http://conference#Organizing_committee   \n",
       "34                  http://conference#Paid_applicant   \n",
       "35                           http://conference#Paper   \n",
       "36  http://conference#Passive_conference_participant   \n",
       "37                          http://conference#Person   \n",
       "38                          http://conference#Poster   \n",
       "39                    http://conference#Presentation   \n",
       "40               http://conference#Program_committee   \n",
       "41                       http://conference#Publisher   \n",
       "42           http://conference#Registeered_applicant   \n",
       "43                  http://conference#Regular_author   \n",
       "44            http://conference#Regular_contribution   \n",
       "45           http://conference#Rejected_contribution   \n",
       "46                          http://conference#Review   \n",
       "47                http://conference#Review_expertise   \n",
       "48               http://conference#Review_preference   \n",
       "49           http://conference#Reviewed_contribution   \n",
       "50                        http://conference#Reviewer   \n",
       "51              http://conference#Steering_committee   \n",
       "52          http://conference#Submitted_contribution   \n",
       "53                           http://conference#Topic   \n",
       "54                           http://conference#Track   \n",
       "55            http://conference#Track-workshop_chair   \n",
       "56                        http://conference#Tutorial   \n",
       "57                        http://conference#Workshop   \n",
       "58            http://conference#Written_contribution   \n",
       "\n",
       "                         clndLabel  \n",
       "0                         abstract  \n",
       "1            accepted contribution  \n",
       "2    active conference participant  \n",
       "3                       call paper  \n",
       "4               call participation  \n",
       "5        camera ready contribution  \n",
       "6                            chair  \n",
       "7                         co chair  \n",
       "8                        committee  \n",
       "9                 committee member  \n",
       "10                      conference  \n",
       "11         conference announcement  \n",
       "12            conference applicant  \n",
       "13         conference contribution  \n",
       "14          conference contributor  \n",
       "15             conference document  \n",
       "16                 conference fees  \n",
       "17                 conference part  \n",
       "18          conference participant  \n",
       "19          conference proceedings  \n",
       "20               conference volume  \n",
       "21                  conference www  \n",
       "22        contribution 1 th author  \n",
       "23          contribution co author  \n",
       "24            early paid applicant  \n",
       "25               extended abstract  \n",
       "26                 important dates  \n",
       "27        information participants  \n",
       "28                 invited speaker  \n",
       "29                    invited talk  \n",
       "30             late paid applicant  \n",
       "31                    organization  \n",
       "32                       organizer  \n",
       "33            organizing committee  \n",
       "34                  paid applicant  \n",
       "35                           paper  \n",
       "36  passive conference participant  \n",
       "37                          person  \n",
       "38                          poster  \n",
       "39                    presentation  \n",
       "40               program committee  \n",
       "41                       publisher  \n",
       "42           registeered applicant  \n",
       "43                  regular author  \n",
       "44            regular contribution  \n",
       "45           rejected contribution  \n",
       "46                          review  \n",
       "47                review expertise  \n",
       "48               review preference  \n",
       "49           reviewed contribution  \n",
       "50                        reviewer  \n",
       "51              steering committee  \n",
       "52          submitted contribution  \n",
       "53                           topic  \n",
       "54                           track  \n",
       "55            track workshop chair  \n",
       "56                        tutorial  \n",
       "57                        workshop  \n",
       "58            written contribution  "
      ]
     },
     "execution_count": 17,
     "metadata": {},
     "output_type": "execute_result"
    }
   ],
   "source": [
    "target_clndLabel_uris = maponto.clean_labels(maponto.extract_label_uris(target_graph))\n",
    "target_clndLabel_uris"
   ]
  },
  {
   "cell_type": "code",
   "execution_count": 19,
   "id": "02890252-7795-457e-82a5-0b7cd4c69371",
   "metadata": {},
   "outputs": [
    {
     "name": "stdout",
     "output_type": "stream",
     "text": [
      "Total number of None is 15\n"
     ]
    },
    {
     "data": {
      "text/html": [
       "<div>\n",
       "<style scoped>\n",
       "    .dataframe tbody tr th:only-of-type {\n",
       "        vertical-align: middle;\n",
       "    }\n",
       "\n",
       "    .dataframe tbody tr th {\n",
       "        vertical-align: top;\n",
       "    }\n",
       "\n",
       "    .dataframe thead th {\n",
       "        text-align: right;\n",
       "    }\n",
       "</style>\n",
       "<table border=\"1\" class=\"dataframe\">\n",
       "  <thead>\n",
       "    <tr style=\"text-align: right;\">\n",
       "      <th></th>\n",
       "      <th>source</th>\n",
       "      <th>target</th>\n",
       "      <th>relation</th>\n",
       "      <th>confidence</th>\n",
       "    </tr>\n",
       "  </thead>\n",
       "  <tbody>\n",
       "    <tr>\n",
       "      <th>0</th>\n",
       "      <td>http://cmt#Conference</td>\n",
       "      <td>http://conference#Conference_volume</td>\n",
       "      <td>=</td>\n",
       "      <td>1.0</td>\n",
       "    </tr>\n",
       "    <tr>\n",
       "      <th>1</th>\n",
       "      <td>http://cmt#Preference</td>\n",
       "      <td>http://conference#Review_preference</td>\n",
       "      <td>=</td>\n",
       "      <td>1.0</td>\n",
       "    </tr>\n",
       "    <tr>\n",
       "      <th>2</th>\n",
       "      <td>http://cmt#Author</td>\n",
       "      <td>http://conference#Regular_author</td>\n",
       "      <td>=</td>\n",
       "      <td>1.0</td>\n",
       "    </tr>\n",
       "    <tr>\n",
       "      <th>3</th>\n",
       "      <td>http://cmt#Person</td>\n",
       "      <td>http://conference#Person</td>\n",
       "      <td>=</td>\n",
       "      <td>1.0</td>\n",
       "    </tr>\n",
       "    <tr>\n",
       "      <th>4</th>\n",
       "      <td>http://cmt#email</td>\n",
       "      <td>http://conference#has_an_email</td>\n",
       "      <td>=</td>\n",
       "      <td>1.0</td>\n",
       "    </tr>\n",
       "    <tr>\n",
       "      <th>5</th>\n",
       "      <td>http://cmt#Co-author</td>\n",
       "      <td>http://conference#Contribution_co-author</td>\n",
       "      <td>=</td>\n",
       "      <td>1.0</td>\n",
       "    </tr>\n",
       "    <tr>\n",
       "      <th>6</th>\n",
       "      <td>http://cmt#PaperAbstract</td>\n",
       "      <td>http://conference#Abstract</td>\n",
       "      <td>=</td>\n",
       "      <td>1.0</td>\n",
       "    </tr>\n",
       "    <tr>\n",
       "      <th>7</th>\n",
       "      <td>http://cmt#Document</td>\n",
       "      <td>http://conference#Conference_document</td>\n",
       "      <td>=</td>\n",
       "      <td>1.0</td>\n",
       "    </tr>\n",
       "    <tr>\n",
       "      <th>8</th>\n",
       "      <td>http://cmt#Review</td>\n",
       "      <td>http://conference#Review</td>\n",
       "      <td>=</td>\n",
       "      <td>1.0</td>\n",
       "    </tr>\n",
       "    <tr>\n",
       "      <th>9</th>\n",
       "      <td>http://cmt#Conference</td>\n",
       "      <td>http://conference#Conference</td>\n",
       "      <td>=</td>\n",
       "      <td>1.0</td>\n",
       "    </tr>\n",
       "    <tr>\n",
       "      <th>10</th>\n",
       "      <td>http://cmt#ProgramCommittee</td>\n",
       "      <td>http://conference#Program_committee</td>\n",
       "      <td>=</td>\n",
       "      <td>1.0</td>\n",
       "    </tr>\n",
       "    <tr>\n",
       "      <th>11</th>\n",
       "      <td>http://cmt#Chairman</td>\n",
       "      <td>http://conference#Chair</td>\n",
       "      <td>=</td>\n",
       "      <td>1.0</td>\n",
       "    </tr>\n",
       "    <tr>\n",
       "      <th>12</th>\n",
       "      <td>http://cmt#SubjectArea</td>\n",
       "      <td>http://conference#Topic</td>\n",
       "      <td>=</td>\n",
       "      <td>1.0</td>\n",
       "    </tr>\n",
       "    <tr>\n",
       "      <th>13</th>\n",
       "      <td>http://cmt#assignedByReviewer</td>\n",
       "      <td>http://conference#invited_by</td>\n",
       "      <td>=</td>\n",
       "      <td>1.0</td>\n",
       "    </tr>\n",
       "    <tr>\n",
       "      <th>14</th>\n",
       "      <td>http://cmt#assignExternalReviewer</td>\n",
       "      <td>http://conference#invites_co-reviewers</td>\n",
       "      <td>=</td>\n",
       "      <td>1.0</td>\n",
       "    </tr>\n",
       "  </tbody>\n",
       "</table>\n",
       "</div>"
      ],
      "text/plain": [
       "                               source  \\\n",
       "0               http://cmt#Conference   \n",
       "1               http://cmt#Preference   \n",
       "2                   http://cmt#Author   \n",
       "3                   http://cmt#Person   \n",
       "4                    http://cmt#email   \n",
       "5                http://cmt#Co-author   \n",
       "6            http://cmt#PaperAbstract   \n",
       "7                 http://cmt#Document   \n",
       "8                   http://cmt#Review   \n",
       "9               http://cmt#Conference   \n",
       "10        http://cmt#ProgramCommittee   \n",
       "11                http://cmt#Chairman   \n",
       "12             http://cmt#SubjectArea   \n",
       "13      http://cmt#assignedByReviewer   \n",
       "14  http://cmt#assignExternalReviewer   \n",
       "\n",
       "                                      target relation confidence  \n",
       "0        http://conference#Conference_volume        =        1.0  \n",
       "1        http://conference#Review_preference        =        1.0  \n",
       "2           http://conference#Regular_author        =        1.0  \n",
       "3                   http://conference#Person        =        1.0  \n",
       "4             http://conference#has_an_email        =        1.0  \n",
       "5   http://conference#Contribution_co-author        =        1.0  \n",
       "6                 http://conference#Abstract        =        1.0  \n",
       "7      http://conference#Conference_document        =        1.0  \n",
       "8                   http://conference#Review        =        1.0  \n",
       "9               http://conference#Conference        =        1.0  \n",
       "10       http://conference#Program_committee        =        1.0  \n",
       "11                   http://conference#Chair        =        1.0  \n",
       "12                   http://conference#Topic        =        1.0  \n",
       "13              http://conference#invited_by        =        1.0  \n",
       "14    http://conference#invites_co-reviewers        =        1.0  "
      ]
     },
     "execution_count": 19,
     "metadata": {},
     "output_type": "execute_result"
    }
   ],
   "source": [
    "refs_df = maponto.load_alignments(refs_url, None)\n",
    "refs_df"
   ]
  },
  {
   "cell_type": "code",
   "execution_count": 20,
   "id": "7d120609-3ffd-48f0-ad28-2b2131c625af",
   "metadata": {},
   "outputs": [
    {
     "name": "stdout",
     "output_type": "stream",
     "text": [
      "Total number of None is 39\n"
     ]
    },
    {
     "data": {
      "text/html": [
       "<div>\n",
       "<style scoped>\n",
       "    .dataframe tbody tr th:only-of-type {\n",
       "        vertical-align: middle;\n",
       "    }\n",
       "\n",
       "    .dataframe tbody tr th {\n",
       "        vertical-align: top;\n",
       "    }\n",
       "\n",
       "    .dataframe thead th {\n",
       "        text-align: right;\n",
       "    }\n",
       "</style>\n",
       "<table border=\"1\" class=\"dataframe\">\n",
       "  <thead>\n",
       "    <tr style=\"text-align: right;\">\n",
       "      <th></th>\n",
       "      <th>source</th>\n",
       "      <th>target</th>\n",
       "      <th>relation</th>\n",
       "      <th>confidence</th>\n",
       "    </tr>\n",
       "  </thead>\n",
       "  <tbody>\n",
       "    <tr>\n",
       "      <th>0</th>\n",
       "      <td>http://cmt#Conference</td>\n",
       "      <td>http://conference#Conference</td>\n",
       "      <td>=</td>\n",
       "      <td>1.0</td>\n",
       "    </tr>\n",
       "    <tr>\n",
       "      <th>1</th>\n",
       "      <td>http://cmt#Paper</td>\n",
       "      <td>http://conference#Paper</td>\n",
       "      <td>=</td>\n",
       "      <td>1.0</td>\n",
       "    </tr>\n",
       "    <tr>\n",
       "      <th>2</th>\n",
       "      <td>http://cmt#Person</td>\n",
       "      <td>http://conference#Person</td>\n",
       "      <td>=</td>\n",
       "      <td>1.0</td>\n",
       "    </tr>\n",
       "    <tr>\n",
       "      <th>3</th>\n",
       "      <td>http://cmt#ProgramCommittee</td>\n",
       "      <td>http://conference#Program_committee</td>\n",
       "      <td>=</td>\n",
       "      <td>1.0</td>\n",
       "    </tr>\n",
       "    <tr>\n",
       "      <th>4</th>\n",
       "      <td>http://cmt#Review</td>\n",
       "      <td>http://conference#Review</td>\n",
       "      <td>=</td>\n",
       "      <td>1.0</td>\n",
       "    </tr>\n",
       "    <tr>\n",
       "      <th>5</th>\n",
       "      <td>http://cmt#Reviewer</td>\n",
       "      <td>http://conference#Reviewer</td>\n",
       "      <td>=</td>\n",
       "      <td>1.0</td>\n",
       "    </tr>\n",
       "    <tr>\n",
       "      <th>6</th>\n",
       "      <td>http://cmt#Chairman</td>\n",
       "      <td>http://conference#Chair</td>\n",
       "      <td>=</td>\n",
       "      <td>1.0</td>\n",
       "    </tr>\n",
       "    <tr>\n",
       "      <th>7</th>\n",
       "      <td>http://cmt#Author</td>\n",
       "      <td>http://conference#Regular_author</td>\n",
       "      <td>=</td>\n",
       "      <td>1.0</td>\n",
       "    </tr>\n",
       "    <tr>\n",
       "      <th>8</th>\n",
       "      <td>http://cmt#Co-author</td>\n",
       "      <td>http://conference#Contribution_co-author</td>\n",
       "      <td>=</td>\n",
       "      <td>1.0</td>\n",
       "    </tr>\n",
       "    <tr>\n",
       "      <th>9</th>\n",
       "      <td>http://cmt#ConferenceChair</td>\n",
       "      <td>http://conference#Co-chair</td>\n",
       "      <td>=</td>\n",
       "      <td>1.0</td>\n",
       "    </tr>\n",
       "    <tr>\n",
       "      <th>10</th>\n",
       "      <td>http://cmt#ConferenceMember</td>\n",
       "      <td>http://conference#Committee_member</td>\n",
       "      <td>=</td>\n",
       "      <td>1.0</td>\n",
       "    </tr>\n",
       "    <tr>\n",
       "      <th>11</th>\n",
       "      <td>http://cmt#Document</td>\n",
       "      <td>http://conference#Conference_document</td>\n",
       "      <td>=</td>\n",
       "      <td>1.0</td>\n",
       "    </tr>\n",
       "    <tr>\n",
       "      <th>12</th>\n",
       "      <td>http://cmt#Meta-Review</td>\n",
       "      <td>http://conference#Review_expertise</td>\n",
       "      <td>=</td>\n",
       "      <td>1.0</td>\n",
       "    </tr>\n",
       "    <tr>\n",
       "      <th>13</th>\n",
       "      <td>http://cmt#PaperAbstract</td>\n",
       "      <td>http://conference#Abstract</td>\n",
       "      <td>=</td>\n",
       "      <td>1.0</td>\n",
       "    </tr>\n",
       "    <tr>\n",
       "      <th>14</th>\n",
       "      <td>http://cmt#AuthorNotReviewer</td>\n",
       "      <td>http://conference#Contribution_1th-author</td>\n",
       "      <td>=</td>\n",
       "      <td>1.0</td>\n",
       "    </tr>\n",
       "    <tr>\n",
       "      <th>15</th>\n",
       "      <td>http://cmt#Acceptance</td>\n",
       "      <td>http://conference#Accepted_contribution</td>\n",
       "      <td>=</td>\n",
       "      <td>1.0</td>\n",
       "    </tr>\n",
       "    <tr>\n",
       "      <th>16</th>\n",
       "      <td>http://cmt#Administrator</td>\n",
       "      <td>http://conference#Conference_contributor</td>\n",
       "      <td>=</td>\n",
       "      <td>1.0</td>\n",
       "    </tr>\n",
       "    <tr>\n",
       "      <th>17</th>\n",
       "      <td>http://cmt#AssociatedChair</td>\n",
       "      <td>http://conference#Camera_ready_contribution</td>\n",
       "      <td>=</td>\n",
       "      <td>1.0</td>\n",
       "    </tr>\n",
       "    <tr>\n",
       "      <th>18</th>\n",
       "      <td>http://cmt#Bid</td>\n",
       "      <td>http://conference#Conference_fees</td>\n",
       "      <td>=</td>\n",
       "      <td>1.0</td>\n",
       "    </tr>\n",
       "    <tr>\n",
       "      <th>19</th>\n",
       "      <td>http://cmt#Decision</td>\n",
       "      <td>http://conference#Call_for_participation</td>\n",
       "      <td>=</td>\n",
       "      <td>1.0</td>\n",
       "    </tr>\n",
       "    <tr>\n",
       "      <th>20</th>\n",
       "      <td>http://cmt#ExternalReviewer</td>\n",
       "      <td>http://conference#Passive_conference_participant</td>\n",
       "      <td>=</td>\n",
       "      <td>1.0</td>\n",
       "    </tr>\n",
       "    <tr>\n",
       "      <th>21</th>\n",
       "      <td>http://cmt#PaperFullVersion</td>\n",
       "      <td>http://conference#Call_for_paper</td>\n",
       "      <td>=</td>\n",
       "      <td>1.0</td>\n",
       "    </tr>\n",
       "    <tr>\n",
       "      <th>22</th>\n",
       "      <td>http://cmt#Preference</td>\n",
       "      <td>http://conference#Regular_contribution</td>\n",
       "      <td>=</td>\n",
       "      <td>1.0</td>\n",
       "    </tr>\n",
       "    <tr>\n",
       "      <th>23</th>\n",
       "      <td>http://cmt#ProgramCommitteeChair</td>\n",
       "      <td>http://conference#Committee</td>\n",
       "      <td>=</td>\n",
       "      <td>1.0</td>\n",
       "    </tr>\n",
       "    <tr>\n",
       "      <th>24</th>\n",
       "      <td>http://cmt#ProgramCommitteeMember</td>\n",
       "      <td>http://conference#Active_conference_participant</td>\n",
       "      <td>=</td>\n",
       "      <td>1.0</td>\n",
       "    </tr>\n",
       "    <tr>\n",
       "      <th>25</th>\n",
       "      <td>http://cmt#Rejection</td>\n",
       "      <td>http://conference#Conference_applicant</td>\n",
       "      <td>=</td>\n",
       "      <td>1.0</td>\n",
       "    </tr>\n",
       "    <tr>\n",
       "      <th>26</th>\n",
       "      <td>http://cmt#SubjectArea</td>\n",
       "      <td>http://conference#Conference_part</td>\n",
       "      <td>=</td>\n",
       "      <td>1.0</td>\n",
       "    </tr>\n",
       "    <tr>\n",
       "      <th>27</th>\n",
       "      <td>http://cmt#User</td>\n",
       "      <td>http://conference#Paid_applicant</td>\n",
       "      <td>=</td>\n",
       "      <td>1.0</td>\n",
       "    </tr>\n",
       "    <tr>\n",
       "      <th>28</th>\n",
       "      <td>http://cmt#hasAuthor</td>\n",
       "      <td>http://conference#has_authors</td>\n",
       "      <td>=</td>\n",
       "      <td>1.0</td>\n",
       "    </tr>\n",
       "    <tr>\n",
       "      <th>29</th>\n",
       "      <td>http://cmt#addedBy</td>\n",
       "      <td>http://conference#contributes</td>\n",
       "      <td>=</td>\n",
       "      <td>1.0</td>\n",
       "    </tr>\n",
       "    <tr>\n",
       "      <th>30</th>\n",
       "      <td>http://cmt#hasCo-author</td>\n",
       "      <td>http://conference#was_a_committe_co-chair_of</td>\n",
       "      <td>=</td>\n",
       "      <td>1.0</td>\n",
       "    </tr>\n",
       "    <tr>\n",
       "      <th>31</th>\n",
       "      <td>http://cmt#hasConferenceMember</td>\n",
       "      <td>http://conference#was_a_member_of</td>\n",
       "      <td>=</td>\n",
       "      <td>1.0</td>\n",
       "    </tr>\n",
       "    <tr>\n",
       "      <th>32</th>\n",
       "      <td>http://cmt#hasProgramCommitteeMember</td>\n",
       "      <td>http://conference#has_a_program_committee</td>\n",
       "      <td>=</td>\n",
       "      <td>1.0</td>\n",
       "    </tr>\n",
       "    <tr>\n",
       "      <th>33</th>\n",
       "      <td>http://cmt#submitPaper</td>\n",
       "      <td>http://conference#is_submitted_at</td>\n",
       "      <td>=</td>\n",
       "      <td>1.0</td>\n",
       "    </tr>\n",
       "    <tr>\n",
       "      <th>34</th>\n",
       "      <td>http://cmt#writeReview</td>\n",
       "      <td>http://conference#has_a_review</td>\n",
       "      <td>=</td>\n",
       "      <td>1.0</td>\n",
       "    </tr>\n",
       "    <tr>\n",
       "      <th>35</th>\n",
       "      <td>http://cmt#email</td>\n",
       "      <td>http://conference#has_an_email</td>\n",
       "      <td>=</td>\n",
       "      <td>1.0</td>\n",
       "    </tr>\n",
       "    <tr>\n",
       "      <th>36</th>\n",
       "      <td>http://cmt#name</td>\n",
       "      <td>http://conference#has_a_name</td>\n",
       "      <td>=</td>\n",
       "      <td>1.0</td>\n",
       "    </tr>\n",
       "    <tr>\n",
       "      <th>37</th>\n",
       "      <td>http://cmt#date</td>\n",
       "      <td>http://conference#is_an_ending_date</td>\n",
       "      <td>=</td>\n",
       "      <td>1.0</td>\n",
       "    </tr>\n",
       "    <tr>\n",
       "      <th>38</th>\n",
       "      <td>http://cmt#logoURL</td>\n",
       "      <td>http://conference#has_a_URL</td>\n",
       "      <td>=</td>\n",
       "      <td>1.0</td>\n",
       "    </tr>\n",
       "  </tbody>\n",
       "</table>\n",
       "</div>"
      ],
      "text/plain": [
       "                                  source  \\\n",
       "0                  http://cmt#Conference   \n",
       "1                       http://cmt#Paper   \n",
       "2                      http://cmt#Person   \n",
       "3            http://cmt#ProgramCommittee   \n",
       "4                      http://cmt#Review   \n",
       "5                    http://cmt#Reviewer   \n",
       "6                    http://cmt#Chairman   \n",
       "7                      http://cmt#Author   \n",
       "8                   http://cmt#Co-author   \n",
       "9             http://cmt#ConferenceChair   \n",
       "10           http://cmt#ConferenceMember   \n",
       "11                   http://cmt#Document   \n",
       "12                http://cmt#Meta-Review   \n",
       "13              http://cmt#PaperAbstract   \n",
       "14          http://cmt#AuthorNotReviewer   \n",
       "15                 http://cmt#Acceptance   \n",
       "16              http://cmt#Administrator   \n",
       "17            http://cmt#AssociatedChair   \n",
       "18                        http://cmt#Bid   \n",
       "19                   http://cmt#Decision   \n",
       "20           http://cmt#ExternalReviewer   \n",
       "21           http://cmt#PaperFullVersion   \n",
       "22                 http://cmt#Preference   \n",
       "23      http://cmt#ProgramCommitteeChair   \n",
       "24     http://cmt#ProgramCommitteeMember   \n",
       "25                  http://cmt#Rejection   \n",
       "26                http://cmt#SubjectArea   \n",
       "27                       http://cmt#User   \n",
       "28                  http://cmt#hasAuthor   \n",
       "29                    http://cmt#addedBy   \n",
       "30               http://cmt#hasCo-author   \n",
       "31        http://cmt#hasConferenceMember   \n",
       "32  http://cmt#hasProgramCommitteeMember   \n",
       "33                http://cmt#submitPaper   \n",
       "34                http://cmt#writeReview   \n",
       "35                      http://cmt#email   \n",
       "36                       http://cmt#name   \n",
       "37                       http://cmt#date   \n",
       "38                    http://cmt#logoURL   \n",
       "\n",
       "                                              target relation confidence  \n",
       "0                       http://conference#Conference        =        1.0  \n",
       "1                            http://conference#Paper        =        1.0  \n",
       "2                           http://conference#Person        =        1.0  \n",
       "3                http://conference#Program_committee        =        1.0  \n",
       "4                           http://conference#Review        =        1.0  \n",
       "5                         http://conference#Reviewer        =        1.0  \n",
       "6                            http://conference#Chair        =        1.0  \n",
       "7                   http://conference#Regular_author        =        1.0  \n",
       "8           http://conference#Contribution_co-author        =        1.0  \n",
       "9                         http://conference#Co-chair        =        1.0  \n",
       "10                http://conference#Committee_member        =        1.0  \n",
       "11             http://conference#Conference_document        =        1.0  \n",
       "12                http://conference#Review_expertise        =        1.0  \n",
       "13                        http://conference#Abstract        =        1.0  \n",
       "14         http://conference#Contribution_1th-author        =        1.0  \n",
       "15           http://conference#Accepted_contribution        =        1.0  \n",
       "16          http://conference#Conference_contributor        =        1.0  \n",
       "17       http://conference#Camera_ready_contribution        =        1.0  \n",
       "18                 http://conference#Conference_fees        =        1.0  \n",
       "19          http://conference#Call_for_participation        =        1.0  \n",
       "20  http://conference#Passive_conference_participant        =        1.0  \n",
       "21                  http://conference#Call_for_paper        =        1.0  \n",
       "22            http://conference#Regular_contribution        =        1.0  \n",
       "23                       http://conference#Committee        =        1.0  \n",
       "24   http://conference#Active_conference_participant        =        1.0  \n",
       "25            http://conference#Conference_applicant        =        1.0  \n",
       "26                 http://conference#Conference_part        =        1.0  \n",
       "27                  http://conference#Paid_applicant        =        1.0  \n",
       "28                     http://conference#has_authors        =        1.0  \n",
       "29                     http://conference#contributes        =        1.0  \n",
       "30      http://conference#was_a_committe_co-chair_of        =        1.0  \n",
       "31                 http://conference#was_a_member_of        =        1.0  \n",
       "32         http://conference#has_a_program_committee        =        1.0  \n",
       "33                 http://conference#is_submitted_at        =        1.0  \n",
       "34                    http://conference#has_a_review        =        1.0  \n",
       "35                    http://conference#has_an_email        =        1.0  \n",
       "36                      http://conference#has_a_name        =        1.0  \n",
       "37               http://conference#is_an_ending_date        =        1.0  \n",
       "38                       http://conference#has_a_URL        =        1.0  "
      ]
     },
     "execution_count": 20,
     "metadata": {},
     "output_type": "execute_result"
    }
   ],
   "source": [
    "preds_df = maponto.load_alignments(output_url, None)\n",
    "preds_df"
   ]
  },
  {
   "cell_type": "code",
   "execution_count": 22,
   "id": "c8c46758-1242-47f0-879a-60c6cee423b7",
   "metadata": {},
   "outputs": [
    {
     "name": "stderr",
     "output_type": "stream",
     "text": [
      "INFO:root:Building a relation graph from the given RDF triple graph...\n"
     ]
    },
    {
     "data": {
      "text/html": [
       "<div>\n",
       "<style scoped>\n",
       "    .dataframe tbody tr th:only-of-type {\n",
       "        vertical-align: middle;\n",
       "    }\n",
       "\n",
       "    .dataframe tbody tr th {\n",
       "        vertical-align: top;\n",
       "    }\n",
       "\n",
       "    .dataframe thead th {\n",
       "        text-align: right;\n",
       "    }\n",
       "</style>\n",
       "<table border=\"1\" class=\"dataframe\">\n",
       "  <thead>\n",
       "    <tr style=\"text-align: right;\">\n",
       "      <th></th>\n",
       "      <th>subject</th>\n",
       "      <th>predicate</th>\n",
       "      <th>object</th>\n",
       "    </tr>\n",
       "  </thead>\n",
       "  <tbody>\n",
       "    <tr>\n",
       "      <th>0</th>\n",
       "      <td>http://cmt#Paper</td>\n",
       "      <td>http://cmt#readByReviewer</td>\n",
       "      <td>http://cmt#Reviewer</td>\n",
       "    </tr>\n",
       "    <tr>\n",
       "      <th>1</th>\n",
       "      <td>http://cmt#ExternalReviewer</td>\n",
       "      <td>http://cmt#assignedByReviewer</td>\n",
       "      <td>http://cmt#Reviewer</td>\n",
       "    </tr>\n",
       "    <tr>\n",
       "      <th>2</th>\n",
       "      <td>http://cmt#Paper</td>\n",
       "      <td>http://cmt#readByMeta-Reviewer</td>\n",
       "      <td>http://cmt#Meta-Reviewer</td>\n",
       "    </tr>\n",
       "    <tr>\n",
       "      <th>3</th>\n",
       "      <td>http://cmt#Paper</td>\n",
       "      <td>http://cmt#hasDecision</td>\n",
       "      <td>http://cmt#Decision</td>\n",
       "    </tr>\n",
       "    <tr>\n",
       "      <th>4</th>\n",
       "      <td>http://cmt#Paper</td>\n",
       "      <td>http://cmt#hasDecision</td>\n",
       "      <td>http://cmt#Decision</td>\n",
       "    </tr>\n",
       "    <tr>\n",
       "      <th>5</th>\n",
       "      <td>http://cmt#AuthorNotReviewer</td>\n",
       "      <td>rdfs:subClassOf</td>\n",
       "      <td>http://cmt#Author</td>\n",
       "    </tr>\n",
       "    <tr>\n",
       "      <th>6</th>\n",
       "      <td>http://cmt#Administrator</td>\n",
       "      <td>rdfs:subClassOf</td>\n",
       "      <td>http://cmt#User</td>\n",
       "    </tr>\n",
       "    <tr>\n",
       "      <th>7</th>\n",
       "      <td>http://cmt#Meta-Reviewer</td>\n",
       "      <td>rdfs:subClassOf</td>\n",
       "      <td>http://cmt#Reviewer</td>\n",
       "    </tr>\n",
       "    <tr>\n",
       "      <th>8</th>\n",
       "      <td>http://cmt#ExternalReviewer</td>\n",
       "      <td>rdfs:subClassOf</td>\n",
       "      <td>http://cmt#Person</td>\n",
       "    </tr>\n",
       "    <tr>\n",
       "      <th>9</th>\n",
       "      <td>http://cmt#Rejection</td>\n",
       "      <td>rdfs:subClassOf</td>\n",
       "      <td>http://cmt#Decision</td>\n",
       "    </tr>\n",
       "    <tr>\n",
       "      <th>10</th>\n",
       "      <td>http://cmt#PaperFullVersion</td>\n",
       "      <td>rdfs:subClassOf</td>\n",
       "      <td>http://cmt#Paper</td>\n",
       "    </tr>\n",
       "    <tr>\n",
       "      <th>11</th>\n",
       "      <td>http://cmt#ProgramCommitteeMember</td>\n",
       "      <td>rdfs:subClassOf</td>\n",
       "      <td>http://cmt#Person</td>\n",
       "    </tr>\n",
       "    <tr>\n",
       "      <th>12</th>\n",
       "      <td>http://cmt#ConferenceChair</td>\n",
       "      <td>rdfs:subClassOf</td>\n",
       "      <td>http://cmt#ConferenceMember</td>\n",
       "    </tr>\n",
       "    <tr>\n",
       "      <th>13</th>\n",
       "      <td>http://cmt#Acceptance</td>\n",
       "      <td>rdfs:subClassOf</td>\n",
       "      <td>http://cmt#Decision</td>\n",
       "    </tr>\n",
       "    <tr>\n",
       "      <th>14</th>\n",
       "      <td>http://cmt#Paper</td>\n",
       "      <td>rdfs:subClassOf</td>\n",
       "      <td>http://cmt#Document</td>\n",
       "    </tr>\n",
       "    <tr>\n",
       "      <th>15</th>\n",
       "      <td>http://cmt#Chairman</td>\n",
       "      <td>rdfs:subClassOf</td>\n",
       "      <td>http://cmt#Person</td>\n",
       "    </tr>\n",
       "    <tr>\n",
       "      <th>16</th>\n",
       "      <td>http://cmt#Co-author</td>\n",
       "      <td>rdfs:subClassOf</td>\n",
       "      <td>http://cmt#Author</td>\n",
       "    </tr>\n",
       "    <tr>\n",
       "      <th>17</th>\n",
       "      <td>http://cmt#Conference</td>\n",
       "      <td>rdfs:subClassOf</td>\n",
       "      <td>http://www.w3.org/2002/07/owl#Thing</td>\n",
       "    </tr>\n",
       "    <tr>\n",
       "      <th>18</th>\n",
       "      <td>http://cmt#PaperAbstract</td>\n",
       "      <td>rdfs:subClassOf</td>\n",
       "      <td>http://cmt#Paper</td>\n",
       "    </tr>\n",
       "    <tr>\n",
       "      <th>19</th>\n",
       "      <td>http://cmt#ProgramCommitteeChair</td>\n",
       "      <td>rdfs:subClassOf</td>\n",
       "      <td>http://cmt#ProgramCommitteeMember</td>\n",
       "    </tr>\n",
       "    <tr>\n",
       "      <th>20</th>\n",
       "      <td>http://cmt#Reviewer</td>\n",
       "      <td>rdfs:subClassOf</td>\n",
       "      <td>http://cmt#ConferenceMember</td>\n",
       "    </tr>\n",
       "    <tr>\n",
       "      <th>21</th>\n",
       "      <td>http://cmt#ProgramCommitteeMember</td>\n",
       "      <td>rdfs:subClassOf</td>\n",
       "      <td>http://cmt#ConferenceMember</td>\n",
       "    </tr>\n",
       "    <tr>\n",
       "      <th>22</th>\n",
       "      <td>http://cmt#ConferenceMember</td>\n",
       "      <td>rdfs:subClassOf</td>\n",
       "      <td>http://cmt#Person</td>\n",
       "    </tr>\n",
       "    <tr>\n",
       "      <th>23</th>\n",
       "      <td>http://cmt#AssociatedChair</td>\n",
       "      <td>rdfs:subClassOf</td>\n",
       "      <td>http://cmt#ConferenceMember</td>\n",
       "    </tr>\n",
       "    <tr>\n",
       "      <th>24</th>\n",
       "      <td>http://cmt#Author</td>\n",
       "      <td>rdfs:subClassOf</td>\n",
       "      <td>http://cmt#ConferenceMember</td>\n",
       "    </tr>\n",
       "    <tr>\n",
       "      <th>25</th>\n",
       "      <td>http://cmt#Reviewer</td>\n",
       "      <td>rdfs:subClassOf</td>\n",
       "      <td>http://cmt#User</td>\n",
       "    </tr>\n",
       "    <tr>\n",
       "      <th>26</th>\n",
       "      <td>http://cmt#Review</td>\n",
       "      <td>rdfs:subClassOf</td>\n",
       "      <td>http://cmt#Document</td>\n",
       "    </tr>\n",
       "    <tr>\n",
       "      <th>27</th>\n",
       "      <td>http://cmt#User</td>\n",
       "      <td>rdfs:subClassOf</td>\n",
       "      <td>http://cmt#Person</td>\n",
       "    </tr>\n",
       "    <tr>\n",
       "      <th>28</th>\n",
       "      <td>http://cmt#Meta-Review</td>\n",
       "      <td>rdfs:subClassOf</td>\n",
       "      <td>http://cmt#Review</td>\n",
       "    </tr>\n",
       "    <tr>\n",
       "      <th>29</th>\n",
       "      <td>http://cmt#Author</td>\n",
       "      <td>rdfs:subClassOf</td>\n",
       "      <td>http://cmt#User</td>\n",
       "    </tr>\n",
       "  </tbody>\n",
       "</table>\n",
       "</div>"
      ],
      "text/plain": [
       "                              subject                       predicate  \\\n",
       "0                    http://cmt#Paper       http://cmt#readByReviewer   \n",
       "1         http://cmt#ExternalReviewer   http://cmt#assignedByReviewer   \n",
       "2                    http://cmt#Paper  http://cmt#readByMeta-Reviewer   \n",
       "3                    http://cmt#Paper          http://cmt#hasDecision   \n",
       "4                    http://cmt#Paper          http://cmt#hasDecision   \n",
       "5        http://cmt#AuthorNotReviewer                 rdfs:subClassOf   \n",
       "6            http://cmt#Administrator                 rdfs:subClassOf   \n",
       "7            http://cmt#Meta-Reviewer                 rdfs:subClassOf   \n",
       "8         http://cmt#ExternalReviewer                 rdfs:subClassOf   \n",
       "9                http://cmt#Rejection                 rdfs:subClassOf   \n",
       "10        http://cmt#PaperFullVersion                 rdfs:subClassOf   \n",
       "11  http://cmt#ProgramCommitteeMember                 rdfs:subClassOf   \n",
       "12         http://cmt#ConferenceChair                 rdfs:subClassOf   \n",
       "13              http://cmt#Acceptance                 rdfs:subClassOf   \n",
       "14                   http://cmt#Paper                 rdfs:subClassOf   \n",
       "15                http://cmt#Chairman                 rdfs:subClassOf   \n",
       "16               http://cmt#Co-author                 rdfs:subClassOf   \n",
       "17              http://cmt#Conference                 rdfs:subClassOf   \n",
       "18           http://cmt#PaperAbstract                 rdfs:subClassOf   \n",
       "19   http://cmt#ProgramCommitteeChair                 rdfs:subClassOf   \n",
       "20                http://cmt#Reviewer                 rdfs:subClassOf   \n",
       "21  http://cmt#ProgramCommitteeMember                 rdfs:subClassOf   \n",
       "22        http://cmt#ConferenceMember                 rdfs:subClassOf   \n",
       "23         http://cmt#AssociatedChair                 rdfs:subClassOf   \n",
       "24                  http://cmt#Author                 rdfs:subClassOf   \n",
       "25                http://cmt#Reviewer                 rdfs:subClassOf   \n",
       "26                  http://cmt#Review                 rdfs:subClassOf   \n",
       "27                    http://cmt#User                 rdfs:subClassOf   \n",
       "28             http://cmt#Meta-Review                 rdfs:subClassOf   \n",
       "29                  http://cmt#Author                 rdfs:subClassOf   \n",
       "\n",
       "                                 object  \n",
       "0                   http://cmt#Reviewer  \n",
       "1                   http://cmt#Reviewer  \n",
       "2              http://cmt#Meta-Reviewer  \n",
       "3                   http://cmt#Decision  \n",
       "4                   http://cmt#Decision  \n",
       "5                     http://cmt#Author  \n",
       "6                       http://cmt#User  \n",
       "7                   http://cmt#Reviewer  \n",
       "8                     http://cmt#Person  \n",
       "9                   http://cmt#Decision  \n",
       "10                     http://cmt#Paper  \n",
       "11                    http://cmt#Person  \n",
       "12          http://cmt#ConferenceMember  \n",
       "13                  http://cmt#Decision  \n",
       "14                  http://cmt#Document  \n",
       "15                    http://cmt#Person  \n",
       "16                    http://cmt#Author  \n",
       "17  http://www.w3.org/2002/07/owl#Thing  \n",
       "18                     http://cmt#Paper  \n",
       "19    http://cmt#ProgramCommitteeMember  \n",
       "20          http://cmt#ConferenceMember  \n",
       "21          http://cmt#ConferenceMember  \n",
       "22                    http://cmt#Person  \n",
       "23          http://cmt#ConferenceMember  \n",
       "24          http://cmt#ConferenceMember  \n",
       "25                      http://cmt#User  \n",
       "26                  http://cmt#Document  \n",
       "27                    http://cmt#Person  \n",
       "28                    http://cmt#Review  \n",
       "29                      http://cmt#User  "
      ]
     },
     "execution_count": 22,
     "metadata": {},
     "output_type": "execute_result"
    }
   ],
   "source": [
    "relation_graph = maponto.build_relation_graph(source_graph)\n",
    "relation_graph"
   ]
  },
  {
   "cell_type": "markdown",
   "id": "303cf287-081d-487a-88c6-2a7af64d7efb",
   "metadata": {},
   "source": [
    "# For a URI in an RDF graph, extract all related classes and properties"
   ]
  },
  {
   "cell_type": "code",
   "execution_count": 323,
   "id": "02a9b207-cf80-4cdc-b999-df4197274dda",
   "metadata": {},
   "outputs": [
    {
     "data": {
      "text/plain": [
       "<module 'OTMapOnto' from '/home/ubuntu/django/otmaponto/match/ontology_mapping/src/OTMapOnto.py'>"
      ]
     },
     "execution_count": 323,
     "metadata": {},
     "output_type": "execute_result"
    }
   ],
   "source": [
    "importlib.reload(maponto)"
   ]
  },
  {
   "cell_type": "code",
   "execution_count": 324,
   "id": "3313d3a1-6892-4b95-a157-ea681a44b856",
   "metadata": {},
   "outputs": [
    {
     "data": {
      "text/plain": [
       "(['rdfs:subClassOf'], ['http://cmt#Document'], ['child'])"
      ]
     },
     "execution_count": 324,
     "metadata": {},
     "output_type": "execute_result"
    }
   ],
   "source": [
    "maponto.query_superClasses(\"http://cmt#Review\", source_graph)"
   ]
  },
  {
   "cell_type": "code",
   "execution_count": 325,
   "id": "1c44d760-d24c-4354-922b-ec02c7ca976c",
   "metadata": {},
   "outputs": [
    {
     "data": {
      "text/plain": [
       "(['superClassOf', 'superClassOf', 'superClassOf'],\n",
       " ['http://cmt#Author', 'http://cmt#Reviewer', 'http://cmt#Administrator'],\n",
       " ['parent', 'parent', 'parent'])"
      ]
     },
     "execution_count": 325,
     "metadata": {},
     "output_type": "execute_result"
    }
   ],
   "source": [
    "maponto.query_subClasses(\"http://cmt#User\", source_graph)"
   ]
  },
  {
   "cell_type": "code",
   "execution_count": 326,
   "id": "efb3634d-7eb5-4ac0-9cec-bfd112cea45f",
   "metadata": {},
   "outputs": [
    {
     "data": {
      "text/plain": [
       "(['http://conference#has_a_submitted_contribution',\n",
       "  'http://conference#belongs_to_reviewers'],\n",
       " ['http://conference#Submitted_contribution', 'http://conference#Reviewer'],\n",
       " ['someValuesFrom', 'someValuesFrom'])"
      ]
     },
     "execution_count": 326,
     "metadata": {},
     "output_type": "execute_result"
    }
   ],
   "source": [
    "maponto.query_relations_someValuesFrom(\"http://conference#Review_expertise\", target_graph)"
   ]
  },
  {
   "cell_type": "code",
   "execution_count": 327,
   "id": "e2c8819d-5928-47c1-b016-94c70c556a00",
   "metadata": {},
   "outputs": [
    {
     "data": {
      "text/plain": [
       "(['http://conference#has_authors'],\n",
       " ['http://conference#Reviewer'],\n",
       " ['allValuesFrom'])"
      ]
     },
     "execution_count": 327,
     "metadata": {},
     "output_type": "execute_result"
    }
   ],
   "source": [
    "maponto.query_relations_allValuesFrom(\"http://conference#Review\", target_graph)"
   ]
  },
  {
   "cell_type": "code",
   "execution_count": 328,
   "id": "5d1e9c55-031a-4275-890e-afb785cb054f",
   "metadata": {},
   "outputs": [
    {
     "data": {
      "text/plain": [
       "(['http://cmt#readByReviewer', 'http://cmt#hasDecision'],\n",
       " [1, 0],\n",
       " ['owl:minCardinality', 'owl:minCardinality'])"
      ]
     },
     "execution_count": 328,
     "metadata": {},
     "output_type": "execute_result"
    }
   ],
   "source": [
    "maponto.query_relations_minCardinality(\"http://cmt#Paper\", source_graph)"
   ]
  },
  {
   "cell_type": "code",
   "execution_count": 329,
   "id": "766e4977-cdd7-41c0-8a05-5feb5ec53ba5",
   "metadata": {},
   "outputs": [
    {
     "data": {
      "text/plain": [
       "(['http://cmt#readByMeta-Reviewer', 'http://cmt#hasDecision'],\n",
       " [1, 1],\n",
       " ['owl:maxCardinality', 'owl:maxCardinality'])"
      ]
     },
     "execution_count": 329,
     "metadata": {},
     "output_type": "execute_result"
    }
   ],
   "source": [
    "maponto.query_relations_maxCardinality(\"http://cmt#Paper\", source_graph)"
   ]
  },
  {
   "cell_type": "code",
   "execution_count": 330,
   "id": "225a2cf2-bcab-4d36-801a-9ab4e16c67e1",
   "metadata": {},
   "outputs": [
    {
     "data": {
      "text/plain": [
       "(['http://cmt#readByReviewer',\n",
       "  'http://cmt#readByMeta-Reviewer',\n",
       "  'http://cmt#hasDecision',\n",
       "  'http://cmt#hasDecision',\n",
       "  'http://cmt#acceptedBy',\n",
       "  'http://cmt#readByMeta-Reviewer',\n",
       "  'http://cmt#hasDecision',\n",
       "  'http://cmt#assignedTo',\n",
       "  'http://cmt#rejectedBy',\n",
       "  'http://cmt#hasSubjectArea',\n",
       "  'http://cmt#readByReviewer',\n",
       "  'http://cmt#hasCo-author',\n",
       "  'http://cmt#hasAuthor',\n",
       "  'http://cmt#hasBid'],\n",
       " ['http://cmt#Reviewer',\n",
       "  'http://cmt#Meta-Reviewer',\n",
       "  'http://cmt#Decision',\n",
       "  'http://cmt#Decision',\n",
       "  'http://cmt#Administrator',\n",
       "  'http://cmt#Meta-Reviewer',\n",
       "  'http://cmt#Decision',\n",
       "  'http://cmt#Reviewer',\n",
       "  'http://cmt#Administrator',\n",
       "  'http://cmt#SubjectArea',\n",
       "  'http://cmt#Reviewer',\n",
       "  'http://cmt#Co-author',\n",
       "  'http://cmt#Author',\n",
       "  'http://cmt#Bid'],\n",
       " ['domain',\n",
       "  'domain',\n",
       "  'domain',\n",
       "  'domain',\n",
       "  'domain',\n",
       "  'domain',\n",
       "  'domain',\n",
       "  'domain',\n",
       "  'domain',\n",
       "  'domain',\n",
       "  'domain',\n",
       "  'domain',\n",
       "  'domain',\n",
       "  'domain'])"
      ]
     },
     "execution_count": 330,
     "metadata": {},
     "output_type": "execute_result"
    }
   ],
   "source": [
    "maponto.query_relations_asDomains(\"http://cmt#Paper\", source_graph)"
   ]
  },
  {
   "cell_type": "code",
   "execution_count": 331,
   "id": "3102f443-e283-4963-bb27-20f01caf1c1b",
   "metadata": {},
   "outputs": [
    {
     "data": {
      "text/plain": [
       "(['http://conference#has_the_last_name',\n",
       "  'http://conference#has_the_first_name',\n",
       "  'http://conference#has_an_email'],\n",
       " ['http://www.w3.org/2001/XMLSchema#string',\n",
       "  'http://www.w3.org/2001/XMLSchema#string',\n",
       "  'http://www.w3.org/2001/XMLSchema#string'],\n",
       " ['datatype domain', 'datatype domain', 'datatype domain'])"
      ]
     },
     "execution_count": 331,
     "metadata": {},
     "output_type": "execute_result"
    }
   ],
   "source": [
    "maponto.query_datatype_properties(\"http://conference#Person\", target_graph)"
   ]
  },
  {
   "cell_type": "code",
   "execution_count": 332,
   "id": "5f7d5eb3-6078-4bcb-b2cf-45b24080d584",
   "metadata": {},
   "outputs": [
    {
     "data": {
      "text/plain": [
       "(['http://cmt#hasBeenAssigned',\n",
       "  'http://cmt#co-writePaper',\n",
       "  'http://cmt#submitPaper',\n",
       "  'http://cmt#rejectPaper',\n",
       "  'http://cmt#acceptPaper',\n",
       "  'http://cmt#readPaper',\n",
       "  'http://cmt#writePaper'],\n",
       " ['http://cmt#Reviewer',\n",
       "  'http://cmt#Co-author',\n",
       "  'http://cmt#Author',\n",
       "  'http://cmt#Administrator',\n",
       "  'http://cmt#Administrator',\n",
       "  'http://cmt#Reviewer',\n",
       "  'http://cmt#Author'],\n",
       " ['range', 'range', 'range', 'range', 'range', 'range', 'range'])"
      ]
     },
     "execution_count": 332,
     "metadata": {},
     "output_type": "execute_result"
    }
   ],
   "source": [
    "maponto.query_relations_asRanges(\"http://cmt#Paper\", source_graph)"
   ]
  },
  {
   "cell_type": "code",
   "execution_count": 333,
   "id": "24c172d3-e7b6-4f9b-8d97-ea184c7e4949",
   "metadata": {},
   "outputs": [
    {
     "data": {
      "text/plain": [
       "(['rdfs:comment'],\n",
       " ['A special type of Reviewer.  There can be any number of Reviewers for a given paper, but only one Meta-Reviewer.  The Meta-Reviewer can go over all the reviews submitted for the paper and submit their own review.  Questions for the Meta-Reviewer can be different from those for a normal Reviewer.  Their role is to ensure that the reviews are good and consistent. The decision to use Meta-Reviewers is optional, and must be set before paper assignment occurs.'],\n",
       " ['comment'])"
      ]
     },
     "execution_count": 333,
     "metadata": {},
     "output_type": "execute_result"
    }
   ],
   "source": [
    "maponto.query_comments(\"http://cmt#Meta-Reviewer\", source_graph)"
   ]
  },
  {
   "cell_type": "code",
   "execution_count": 334,
   "id": "60f2a038-386b-4ab8-ba63-d324f6c463c2",
   "metadata": {},
   "outputs": [
    {
     "data": {
      "text/plain": [
       "(['owl:equivalentClass', 'owl:equivalentClass', 'owl:equivalentClass'],\n",
       " ['http://cmt#AssociatedChair',\n",
       "  'http://cmt#ConferenceChair',\n",
       "  'http://cmt#ProgramCommitteeChair'],\n",
       " ['equivalent', 'equivalent', 'equivalent'])"
      ]
     },
     "execution_count": 334,
     "metadata": {},
     "output_type": "execute_result"
    }
   ],
   "source": [
    "maponto.query_equivalent_classes(\"http://cmt#Chairman\", source_graph)"
   ]
  },
  {
   "cell_type": "code",
   "execution_count": 335,
   "id": "4c0d36de-2ab5-414d-9e6b-174ae6f11a09",
   "metadata": {},
   "outputs": [
    {
     "data": {
      "text/plain": [
       "(['owl:disjointWith',\n",
       "  'owl:disjointWith',\n",
       "  'owl:disjointWith',\n",
       "  'owl:disjointWith',\n",
       "  'owl:disjointWith',\n",
       "  'owl:disjointWith'],\n",
       " ['http://cmt#Bid',\n",
       "  'http://cmt#ProgramCommittee',\n",
       "  'http://cmt#Conference',\n",
       "  'http://cmt#Decision',\n",
       "  'http://cmt#Person',\n",
       "  'http://cmt#Document'],\n",
       " ['disjoint', 'disjoint', 'disjoint', 'disjoint', 'disjoint', 'disjoint'])"
      ]
     },
     "execution_count": 335,
     "metadata": {},
     "output_type": "execute_result"
    }
   ],
   "source": [
    "maponto.query_disjoint_classes(\"http://cmt#Preference\", source_graph)"
   ]
  },
  {
   "cell_type": "code",
   "execution_count": 336,
   "id": "dbed2ba1-bc8e-47bc-a383-3f59df132f56",
   "metadata": {},
   "outputs": [
    {
     "data": {
      "text/html": [
       "<div>\n",
       "<style scoped>\n",
       "    .dataframe tbody tr th:only-of-type {\n",
       "        vertical-align: middle;\n",
       "    }\n",
       "\n",
       "    .dataframe tbody tr th {\n",
       "        vertical-align: top;\n",
       "    }\n",
       "\n",
       "    .dataframe thead th {\n",
       "        text-align: right;\n",
       "    }\n",
       "</style>\n",
       "<table border=\"1\" class=\"dataframe\">\n",
       "  <thead>\n",
       "    <tr style=\"text-align: right;\">\n",
       "      <th></th>\n",
       "      <th>relation</th>\n",
       "      <th>related</th>\n",
       "      <th>what</th>\n",
       "    </tr>\n",
       "  </thead>\n",
       "  <tbody>\n",
       "    <tr>\n",
       "      <th>0</th>\n",
       "      <td>http://cmt#hasSubjectArea</td>\n",
       "      <td>http://cmt#Paper</td>\n",
       "      <td>range</td>\n",
       "    </tr>\n",
       "  </tbody>\n",
       "</table>\n",
       "</div>"
      ],
      "text/plain": [
       "                    relation           related   what\n",
       "0  http://cmt#hasSubjectArea  http://cmt#Paper  range"
      ]
     },
     "execution_count": 336,
     "metadata": {},
     "output_type": "execute_result"
    }
   ],
   "source": [
    "maponto.query_related_information(\"http://cmt#SubjectArea\", source_graph)"
   ]
  },
  {
   "cell_type": "code",
   "execution_count": 337,
   "id": "3751bc4a-a38a-4d46-aa76-c304bb973c48",
   "metadata": {},
   "outputs": [
    {
     "data": {
      "text/html": [
       "<div>\n",
       "<style scoped>\n",
       "    .dataframe tbody tr th:only-of-type {\n",
       "        vertical-align: middle;\n",
       "    }\n",
       "\n",
       "    .dataframe tbody tr th {\n",
       "        vertical-align: top;\n",
       "    }\n",
       "\n",
       "    .dataframe thead th {\n",
       "        text-align: right;\n",
       "    }\n",
       "</style>\n",
       "<table border=\"1\" class=\"dataframe\">\n",
       "  <thead>\n",
       "    <tr style=\"text-align: right;\">\n",
       "      <th></th>\n",
       "      <th>relation</th>\n",
       "      <th>related</th>\n",
       "      <th>what</th>\n",
       "    </tr>\n",
       "  </thead>\n",
       "  <tbody>\n",
       "    <tr>\n",
       "      <th>0</th>\n",
       "      <td>http://conference#belongs_to_a_review_reference</td>\n",
       "      <td>http://conference#Review_preference</td>\n",
       "      <td>domain</td>\n",
       "    </tr>\n",
       "    <tr>\n",
       "      <th>1</th>\n",
       "      <td>http://conference#is_a_topis_of_conference_parts</td>\n",
       "      <td>http://conference#Conference_part</td>\n",
       "      <td>domain</td>\n",
       "    </tr>\n",
       "    <tr>\n",
       "      <th>2</th>\n",
       "      <td>http://conference#has_a_name</td>\n",
       "      <td>http://www.w3.org/2001/XMLSchema#string</td>\n",
       "      <td>datatype domain</td>\n",
       "    </tr>\n",
       "    <tr>\n",
       "      <th>3</th>\n",
       "      <td>http://conference#has_a_track-workshop-tutoria...</td>\n",
       "      <td>http://conference#Conference_part</td>\n",
       "      <td>range</td>\n",
       "    </tr>\n",
       "  </tbody>\n",
       "</table>\n",
       "</div>"
      ],
      "text/plain": [
       "                                            relation  \\\n",
       "0    http://conference#belongs_to_a_review_reference   \n",
       "1   http://conference#is_a_topis_of_conference_parts   \n",
       "2                       http://conference#has_a_name   \n",
       "3  http://conference#has_a_track-workshop-tutoria...   \n",
       "\n",
       "                                   related             what  \n",
       "0      http://conference#Review_preference           domain  \n",
       "1        http://conference#Conference_part           domain  \n",
       "2  http://www.w3.org/2001/XMLSchema#string  datatype domain  \n",
       "3        http://conference#Conference_part            range  "
      ]
     },
     "execution_count": 337,
     "metadata": {},
     "output_type": "execute_result"
    }
   ],
   "source": [
    "maponto.query_related_information(\"http://conference#Topic\", target_graph)"
   ]
  },
  {
   "cell_type": "markdown",
   "id": "a6fbeab3-224c-4b80-bec8-64615d155e04",
   "metadata": {},
   "source": [
    "# List Variables and Sizes"
   ]
  },
  {
   "cell_type": "code",
   "execution_count": 10,
   "id": "7e2b5cda-90ec-4342-a6a6-58d14ca34859",
   "metadata": {},
   "outputs": [
    {
     "name": "stdout",
     "output_type": "stream",
     "text": [
      "                         preds: 11.1 KiB\n",
      "                             _:  2.2 KiB\n",
      "                            _7:  2.2 KiB\n",
      "                         Graph:  1.2 KiB\n",
      "                          _i10:  588.0 B\n",
      "                            _i:  587.0 B\n",
      "                           _i9:  587.0 B\n",
      "                           _i3:  465.0 B\n",
      "                           _i5:  465.0 B\n",
      "                    local_vars:  408.0 B\n"
     ]
    }
   ],
   "source": [
    "import sys\n",
    "def sizeof_fmt(num, suffix='B'):\n",
    "    ''' by Fred Cirera,  https://stackoverflow.com/a/1094933/1870254, modified'''\n",
    "    for unit in ['','Ki','Mi','Gi','Ti','Pi','Ei','Zi']:\n",
    "        if abs(num) < 1024.0:\n",
    "            return \"%3.1f %s%s\" % (num, unit, suffix)\n",
    "        num /= 1024.0\n",
    "    return \"%.1f %s%s\" % (num, 'Yi', suffix)\n",
    "\n",
    "for name, size in sorted(((name, sys.getsizeof(value)) for name, value in globals().items()),\n",
    "                         key= lambda x: -x[1])[:10]:\n",
    "    print(\"{:>30}: {:>8}\".format(name, sizeof_fmt(size)))"
   ]
  },
  {
   "cell_type": "markdown",
   "id": "9e1c5ca2-4b3f-41f0-b586-5d129b1ed4d1",
   "metadata": {},
   "source": []
  },
  {
   "cell_type": "markdown",
   "id": "3fe6b3c3-66bf-41ec-b639-51bb98eeebbb",
   "metadata": {},
   "source": [
    "# =================================\n",
    "## Other Tracks\n",
    "# ================================="
   ]
  },
  {
   "cell_type": "markdown",
   "id": "25ddd8ff-df5e-44c9-b20a-6f9039aecb07",
   "metadata": {},
   "source": [
    "# IIMB Benchmark"
   ]
  },
  {
   "cell_type": "code",
   "execution_count": 10,
   "id": "832bdd25-d29a-4beb-b049-67cfc2fd1890",
   "metadata": {},
   "outputs": [],
   "source": [
    "source_url = \"../data/iimb/v1/072/source.rdf\"\n",
    "target_url = \"../data/iimb/v1/072/target.rdf\"\n",
    "output_url = '../data/results/iimb_source_target_072_alignment.rdf'\n",
    "refs_url = \"../data/iimb/v1/072/reference.rdf\""
   ]
  },
  {
   "cell_type": "code",
   "execution_count": 11,
   "id": "095236e1-9373-4d93-9d03-d8f51314e669",
   "metadata": {},
   "outputs": [
    {
     "name": "stderr",
     "output_type": "stream",
     "text": [
      "INFO:root:Python ensemble mapper info: map ../data/iimb/v1/072/source.rdf to ../data/iimb/v1/072/target.rdf\n"
     ]
    },
    {
     "name": "stdout",
     "output_type": "stream",
     "text": [
      "../data/iimb/v1/072/source.rdf\n"
     ]
    },
    {
     "name": "stderr",
     "output_type": "stream",
     "text": [
      "INFO:root:Read source with 2617 triples.\n"
     ]
    },
    {
     "name": "stdout",
     "output_type": "stream",
     "text": [
      "../data/iimb/v1/072/target.rdf\n"
     ]
    },
    {
     "name": "stderr",
     "output_type": "stream",
     "text": [
      "INFO:root:Read target with 5874 triples.\n",
      "INFO:root:MAP CONCEPTS\n",
      "INFO:root:The number of level_1 predicted mapping is 29.\n",
      "INFO:root:Retrieving Synsets by WordNet...\n",
      "INFO:root:Compute the related words for each source concept....\n",
      "0it [00:00, ?it/s]\n",
      "INFO:root:Total number of source concepts computed with relatd words is 0\n",
      "INFO:root:Compute the related words for each target concept....\n",
      "0it [00:00, ?it/s]\n",
      "INFO:root:Total number of target concepts computed with related words is 0\n",
      "INFO:root:Compute Pairwise Wasserstein Distances...\n",
      "INFO:root:Skip level_5 mapping.\n",
      "INFO:root:TOTAL NUMBER OF MAPPINGS BETWEEN CONCPETS IS 29\n",
      "INFO:root:=================================================\n",
      "INFO:root:MAP OBJECT PROPERTIES\n",
      "INFO:root:The number of level_1 predicted mapping is 36.\n",
      "INFO:root:Retrieving Synsets by WordNet...\n",
      "INFO:root:Compute the related words for each source concept....\n",
      "0it [00:00, ?it/s]\n",
      "INFO:root:Total number of source concepts computed with relatd words is 0\n",
      "INFO:root:Compute the related words for each target concept....\n",
      "1it [00:00, 51.47it/s]\n",
      "INFO:root:Total number of target concepts computed with related words is 1\n",
      "INFO:root:Skip the level_4 mapping.\n",
      "INFO:root:Skip the level_5 mapping.\n",
      "INFO:root:Skip the level_6 mappping.\n",
      "INFO:root:TOTAL NUMBER OF MAPPINGS BETWEEN OBJECT PROPERTIES IS 36\n",
      "INFO:root:========================================================\n",
      "INFO:root:MAP DATATYPE PROPERTIES\n",
      "INFO:root:The number of level_1 predicted mapping is 13.\n",
      "INFO:root:Retrieving Synsets by WordNet...\n",
      "INFO:root:Compute the related words for each source concept....\n",
      "0it [00:00, ?it/s]\n",
      "INFO:root:Total number of source concepts computed with relatd words is 0\n",
      "INFO:root:Compute the related words for each target concept....\n",
      "0it [00:00, ?it/s]\n",
      "INFO:root:Total number of target concepts computed with related words is 0\n",
      "INFO:root:Skip the level_4 mapping.\n",
      "INFO:root:Skip the level_5 mapping.\n",
      "INFO:root:Skip the level_6 mappping.\n",
      "INFO:root:TOTAL NUMBER OF MAPPINGS BETWEEN DATATYPE PROPERTIES IS 13\n",
      "INFO:root:===========================================================\n"
     ]
    }
   ],
   "source": [
    "mapper.align(source_url, target_url, output_url)"
   ]
  },
  {
   "cell_type": "code",
   "execution_count": 12,
   "id": "5a134d71-a64e-419a-9c34-b7fc896a6186",
   "metadata": {},
   "outputs": [
    {
     "name": "stdout",
     "output_type": "stream",
     "text": [
      "Total number of None is 78\n",
      "Total number of references is 169\n",
      "Total correctly predicted alignments is 0\n"
     ]
    },
    {
     "ename": "ZeroDivisionError",
     "evalue": "float division by zero",
     "output_type": "error",
     "traceback": [
      "\u001b[0;31m---------------------------------------------------------------------------\u001b[0m",
      "\u001b[0;31mZeroDivisionError\u001b[0m                         Traceback (most recent call last)",
      "\u001b[0;32m<ipython-input-12-d13adc3721e2>\u001b[0m in \u001b[0;36m<module>\u001b[0;34m\u001b[0m\n\u001b[1;32m      1\u001b[0m \u001b[0mpreds\u001b[0m \u001b[0;34m=\u001b[0m \u001b[0mmaponto\u001b[0m\u001b[0;34m.\u001b[0m\u001b[0mload_alignments\u001b[0m\u001b[0;34m(\u001b[0m\u001b[0moutput_url\u001b[0m\u001b[0;34m,\u001b[0m \u001b[0;32mNone\u001b[0m\u001b[0;34m)\u001b[0m\u001b[0;34m\u001b[0m\u001b[0;34m\u001b[0m\u001b[0m\n\u001b[0;32m----> 2\u001b[0;31m \u001b[0mmaponto\u001b[0m\u001b[0;34m.\u001b[0m\u001b[0mevaluate\u001b[0m\u001b[0;34m(\u001b[0m\u001b[0mpreds\u001b[0m\u001b[0;34m,\u001b[0m \u001b[0mrefs_url\u001b[0m\u001b[0;34m)\u001b[0m\u001b[0;34m\u001b[0m\u001b[0;34m\u001b[0m\u001b[0m\n\u001b[0m",
      "\u001b[0;32m~/django/otmaponto/match/ontology_mapping/src/OTMapOnto.py\u001b[0m in \u001b[0;36mevaluate\u001b[0;34m(align_df, refs_rdf_path)\u001b[0m\n\u001b[1;32m     82\u001b[0m     \u001b[0mp\u001b[0m \u001b[0;34m=\u001b[0m \u001b[0mmatched_df\u001b[0m\u001b[0;34m.\u001b[0m\u001b[0mshape\u001b[0m\u001b[0;34m[\u001b[0m\u001b[0;36m0\u001b[0m\u001b[0;34m]\u001b[0m \u001b[0;34m/\u001b[0m \u001b[0malign_df\u001b[0m\u001b[0;34m.\u001b[0m\u001b[0mshape\u001b[0m\u001b[0;34m[\u001b[0m\u001b[0;36m0\u001b[0m\u001b[0;34m]\u001b[0m\u001b[0;34m\u001b[0m\u001b[0;34m\u001b[0m\u001b[0m\n\u001b[1;32m     83\u001b[0m     \u001b[0mr\u001b[0m \u001b[0;34m=\u001b[0m \u001b[0mmatched_df\u001b[0m\u001b[0;34m.\u001b[0m\u001b[0mshape\u001b[0m\u001b[0;34m[\u001b[0m\u001b[0;36m0\u001b[0m\u001b[0;34m]\u001b[0m \u001b[0;34m/\u001b[0m \u001b[0mrefs_df\u001b[0m\u001b[0;34m.\u001b[0m\u001b[0mshape\u001b[0m\u001b[0;34m[\u001b[0m\u001b[0;36m0\u001b[0m\u001b[0;34m]\u001b[0m\u001b[0;34m\u001b[0m\u001b[0;34m\u001b[0m\u001b[0m\n\u001b[0;32m---> 84\u001b[0;31m     \u001b[0mf\u001b[0m \u001b[0;34m=\u001b[0m \u001b[0;36m2\u001b[0m \u001b[0;34m/\u001b[0m \u001b[0;34m(\u001b[0m\u001b[0;36m1\u001b[0m\u001b[0;34m/\u001b[0m\u001b[0mp\u001b[0m \u001b[0;34m+\u001b[0m \u001b[0;36m1\u001b[0m\u001b[0;34m/\u001b[0m\u001b[0mr\u001b[0m\u001b[0;34m)\u001b[0m\u001b[0;34m\u001b[0m\u001b[0;34m\u001b[0m\u001b[0m\n\u001b[0m\u001b[1;32m     85\u001b[0m     \u001b[0mprint\u001b[0m\u001b[0;34m(\u001b[0m\u001b[0;34m\"Total number of predicted is {}\"\u001b[0m\u001b[0;34m.\u001b[0m\u001b[0mformat\u001b[0m\u001b[0;34m(\u001b[0m\u001b[0malign_df\u001b[0m\u001b[0;34m.\u001b[0m\u001b[0mshape\u001b[0m\u001b[0;34m[\u001b[0m\u001b[0;36m0\u001b[0m\u001b[0;34m]\u001b[0m\u001b[0;34m)\u001b[0m\u001b[0;34m)\u001b[0m\u001b[0;34m\u001b[0m\u001b[0;34m\u001b[0m\u001b[0m\n\u001b[1;32m     86\u001b[0m     \u001b[0mprint\u001b[0m\u001b[0;34m(\u001b[0m\u001b[0;34m\"Precision is {}\"\u001b[0m\u001b[0;34m.\u001b[0m\u001b[0mformat\u001b[0m\u001b[0;34m(\u001b[0m\u001b[0mp\u001b[0m\u001b[0;34m)\u001b[0m\u001b[0;34m)\u001b[0m\u001b[0;34m\u001b[0m\u001b[0;34m\u001b[0m\u001b[0m\n",
      "\u001b[0;31mZeroDivisionError\u001b[0m: float division by zero"
     ]
    }
   ],
   "source": [
    "preds = maponto.load_alignments(output_url, None)\n",
    "maponto.evaluate(preds, refs_url)"
   ]
  },
  {
   "cell_type": "markdown",
   "id": "3de01ff6-1d9e-45a5-94fa-de533dca3332",
   "metadata": {},
   "source": [
    "# Knowledge Graph"
   ]
  },
  {
   "cell_type": "code",
   "execution_count": 51,
   "id": "3aca24cb-1250-41c7-a1e9-88bd29462c35",
   "metadata": {},
   "outputs": [],
   "source": [
    "source_url = \"../data/knowledgegraph/commonkg/nell-dbpedia/source.rdf\"\n",
    "target_url = \"../data/knowledgegraph/commonkg/nell-dbpedia/target.rdf\"\n",
    "output_url = '../data/results/knowledgegraph_commonkg_alignment.rdf'\n",
    "refs_url = \"../data/knowledgegraph/commonkg/nell-dbpedia/reference.rdf\"\n",
    "#source_url = \"../data/knowledgegraph/small-test/test-small/source.rdf\"\n",
    "#target_url = \"../data/knowledgegraph/small-test/test-small/target.rdf\"\n",
    "#output_url = '../data/results/knowledgegraph_small_test_alignment.rdf'\n",
    "#refs_url = \"../data/knowledgegraph/small-test/test-small/reference.rdf\""
   ]
  },
  {
   "cell_type": "code",
   "execution_count": 52,
   "id": "ba4ffd67-7a10-49d3-b7c9-d7e6d1416d13",
   "metadata": {},
   "outputs": [
    {
     "name": "stderr",
     "output_type": "stream",
     "text": [
      "INFO:root:Python ensemble mapper info: map ../data/knowledgegraph/commonkg/nell-dbpedia/source.rdf to ../data/knowledgegraph/commonkg/nell-dbpedia/target.rdf\n"
     ]
    },
    {
     "name": "stdout",
     "output_type": "stream",
     "text": [
      "../data/knowledgegraph/commonkg/nell-dbpedia/source.rdf\n"
     ]
    },
    {
     "name": "stderr",
     "output_type": "stream",
     "text": [
      "INFO:root:Read source with 2016539 triples.\n"
     ]
    },
    {
     "name": "stdout",
     "output_type": "stream",
     "text": [
      "../data/knowledgegraph/commonkg/nell-dbpedia/target.rdf\n"
     ]
    },
    {
     "name": "stderr",
     "output_type": "stream",
     "text": [
      "INFO:root:Read target with 1342254 triples.\n",
      "INFO:root:MAP CONCEPTS\n",
      "INFO:root:The number of level_1 predicted mapping is 78.\n",
      "INFO:root:Retrieving Synsets by WordNet...\n",
      "INFO:root:The number of level_2 predicted mapping is 3\n",
      "INFO:root:Compute the related words for each source concept....\n",
      "14it [00:00, 63.56it/s]"
     ]
    },
    {
     "name": "stdout",
     "output_type": "stream",
     "text": [
      "OTNeighborhood_TDA.get_relatedWords_count(): res=rdfgraph.query(q)\n",
      "OTNeighborhood_TDA.get_relatedWords_count(): res=rdfgraph.query(q)\n",
      "OTNeighborhood_TDA.get_relatedWords_count(): res=rdfgraph.query(q)\n",
      "OTNeighborhood_TDA.get_relatedWords_count(): res=rdfgraph.query(q)\n",
      "OTNeighborhood_TDA.get_relatedWords_count(): res=rdfgraph.query(q)\n",
      "OTNeighborhood_TDA.get_relatedWords_count(): res=rdfgraph.query(q)\n",
      "OTNeighborhood_TDA.get_relatedWords_count(): res=rdfgraph.query(q)\n",
      "OTNeighborhood_TDA.get_relatedWords_count(): res=rdfgraph.query(q)\n",
      "OTNeighborhood_TDA.get_relatedWords_count(): res=rdfgraph.query(q)\n",
      "OTNeighborhood_TDA.get_relatedWords_count(): res=rdfgraph.query(q)\n",
      "OTNeighborhood_TDA.get_relatedWords_count(): res=rdfgraph.query(q)\n",
      "OTNeighborhood_TDA.get_relatedWords_count(): res=rdfgraph.query(q)\n",
      "OTNeighborhood_TDA.get_relatedWords_count(): res=rdfgraph.query(q)\n",
      "OTNeighborhood_TDA.get_relatedWords_count(): res=rdfgraph.query(q)\n"
     ]
    },
    {
     "name": "stderr",
     "output_type": "stream",
     "text": [
      "28it [00:00, 63.74it/s]"
     ]
    },
    {
     "name": "stdout",
     "output_type": "stream",
     "text": [
      "OTNeighborhood_TDA.get_relatedWords_count(): res=rdfgraph.query(q)\n",
      "OTNeighborhood_TDA.get_relatedWords_count(): res=rdfgraph.query(q)\n",
      "OTNeighborhood_TDA.get_relatedWords_count(): res=rdfgraph.query(q)\n",
      "OTNeighborhood_TDA.get_relatedWords_count(): res=rdfgraph.query(q)\n",
      "OTNeighborhood_TDA.get_relatedWords_count(): res=rdfgraph.query(q)\n",
      "OTNeighborhood_TDA.get_relatedWords_count(): res=rdfgraph.query(q)\n",
      "OTNeighborhood_TDA.get_relatedWords_count(): res=rdfgraph.query(q)\n",
      "OTNeighborhood_TDA.get_relatedWords_count(): res=rdfgraph.query(q)\n",
      "OTNeighborhood_TDA.get_relatedWords_count(): res=rdfgraph.query(q)\n",
      "OTNeighborhood_TDA.get_relatedWords_count(): res=rdfgraph.query(q)\n",
      "OTNeighborhood_TDA.get_relatedWords_count(): res=rdfgraph.query(q)\n",
      "OTNeighborhood_TDA.get_relatedWords_count(): res=rdfgraph.query(q)\n",
      "OTNeighborhood_TDA.get_relatedWords_count(): res=rdfgraph.query(q)\n",
      "OTNeighborhood_TDA.get_relatedWords_count(): res=rdfgraph.query(q)\n",
      "OTNeighborhood_TDA.get_relatedWords_count(): res=rdfgraph.query(q)\n"
     ]
    },
    {
     "name": "stderr",
     "output_type": "stream",
     "text": [
      "42it [00:00, 64.07it/s]"
     ]
    },
    {
     "name": "stdout",
     "output_type": "stream",
     "text": [
      "OTNeighborhood_TDA.get_relatedWords_count(): res=rdfgraph.query(q)\n",
      "OTNeighborhood_TDA.get_relatedWords_count(): res=rdfgraph.query(q)\n",
      "OTNeighborhood_TDA.get_relatedWords_count(): res=rdfgraph.query(q)\n",
      "OTNeighborhood_TDA.get_relatedWords_count(): res=rdfgraph.query(q)\n",
      "OTNeighborhood_TDA.get_relatedWords_count(): res=rdfgraph.query(q)\n",
      "OTNeighborhood_TDA.get_relatedWords_count(): res=rdfgraph.query(q)\n",
      "OTNeighborhood_TDA.get_relatedWords_count(): res=rdfgraph.query(q)\n",
      "OTNeighborhood_TDA.get_relatedWords_count(): res=rdfgraph.query(q)\n",
      "OTNeighborhood_TDA.get_relatedWords_count(): res=rdfgraph.query(q)\n",
      "OTNeighborhood_TDA.get_relatedWords_count(): res=rdfgraph.query(q)\n",
      "OTNeighborhood_TDA.get_relatedWords_count(): res=rdfgraph.query(q)\n",
      "OTNeighborhood_TDA.get_relatedWords_count(): res=rdfgraph.query(q)\n",
      "OTNeighborhood_TDA.get_relatedWords_count(): res=rdfgraph.query(q)\n",
      "OTNeighborhood_TDA.get_relatedWords_count(): res=rdfgraph.query(q)\n"
     ]
    },
    {
     "name": "stderr",
     "output_type": "stream",
     "text": [
      "53it [00:00, 63.72it/s]\n",
      "INFO:root:Total number of source concepts computed with relatd words is 53\n",
      "INFO:root:Compute the related words for each target concept....\n"
     ]
    },
    {
     "name": "stdout",
     "output_type": "stream",
     "text": [
      "OTNeighborhood_TDA.get_relatedWords_count(): res=rdfgraph.query(q)\n",
      "OTNeighborhood_TDA.get_relatedWords_count(): res=rdfgraph.query(q)\n",
      "OTNeighborhood_TDA.get_relatedWords_count(): res=rdfgraph.query(q)\n",
      "OTNeighborhood_TDA.get_relatedWords_count(): res=rdfgraph.query(q)\n",
      "OTNeighborhood_TDA.get_relatedWords_count(): res=rdfgraph.query(q)\n",
      "OTNeighborhood_TDA.get_relatedWords_count(): res=rdfgraph.query(q)\n",
      "OTNeighborhood_TDA.get_relatedWords_count(): res=rdfgraph.query(q)\n",
      "OTNeighborhood_TDA.get_relatedWords_count(): res=rdfgraph.query(q)\n",
      "OTNeighborhood_TDA.get_relatedWords_count(): res=rdfgraph.query(q)\n",
      "OTNeighborhood_TDA.get_relatedWords_count(): res=rdfgraph.query(q)\n"
     ]
    },
    {
     "name": "stderr",
     "output_type": "stream",
     "text": [
      "0it [00:00, ?it/s]"
     ]
    },
    {
     "name": "stdout",
     "output_type": "stream",
     "text": [
      "OTNeighborhood_TDA.get_relatedWords_count(): res=rdfgraph.query(q)\n",
      "OTNeighborhood_TDA.get_relatedWords_count(): res=rdfgraph.query(q)\n",
      "OTNeighborhood_TDA.get_relatedWords_count(): res=rdfgraph.query(q)\n"
     ]
    },
    {
     "name": "stderr",
     "output_type": "stream",
     "text": [
      "7it [00:00, 61.80it/s]"
     ]
    },
    {
     "name": "stdout",
     "output_type": "stream",
     "text": [
      "OTNeighborhood_TDA.get_relatedWords_count(): res=rdfgraph.query(q)\n",
      "OTNeighborhood_TDA.get_relatedWords_count(): res=rdfgraph.query(q)\n",
      "OTNeighborhood_TDA.get_relatedWords_count(): res=rdfgraph.query(q)\n",
      "OTNeighborhood_TDA.get_relatedWords_count(): res=rdfgraph.query(q)\n",
      "OTNeighborhood_TDA.get_relatedWords_count(): res=rdfgraph.query(q)\n",
      "OTNeighborhood_TDA.get_relatedWords_count(): res=rdfgraph.query(q)\n",
      "OTNeighborhood_TDA.get_relatedWords_count(): res=rdfgraph.query(q)\n",
      "OTNeighborhood_TDA.get_relatedWords_count(): res=rdfgraph.query(q)\n",
      "OTNeighborhood_TDA.get_relatedWords_count(): res=rdfgraph.query(q)\n",
      "OTNeighborhood_TDA.get_relatedWords_count(): res=rdfgraph.query(q)\n"
     ]
    },
    {
     "name": "stderr",
     "output_type": "stream",
     "text": [
      "14it [00:00, 58.90it/s]"
     ]
    },
    {
     "name": "stdout",
     "output_type": "stream",
     "text": [
      "OTNeighborhood_TDA.get_relatedWords_count(): res=rdfgraph.query(q)\n",
      "OTNeighborhood_TDA.get_relatedWords_count(): res=rdfgraph.query(q)\n",
      "OTNeighborhood_TDA.get_relatedWords_count(): res=rdfgraph.query(q)\n",
      "OTNeighborhood_TDA.get_relatedWords_count(): res=rdfgraph.query(q)\n"
     ]
    },
    {
     "name": "stderr",
     "output_type": "stream",
     "text": [
      "21it [00:00, 59.98it/s]"
     ]
    },
    {
     "name": "stdout",
     "output_type": "stream",
     "text": [
      "OTNeighborhood_TDA.get_relatedWords_count(): res=rdfgraph.query(q)\n",
      "OTNeighborhood_TDA.get_relatedWords_count(): res=rdfgraph.query(q)\n",
      "OTNeighborhood_TDA.get_relatedWords_count(): res=rdfgraph.query(q)\n",
      "OTNeighborhood_TDA.get_relatedWords_count(): res=rdfgraph.query(q)\n",
      "OTNeighborhood_TDA.get_relatedWords_count(): res=rdfgraph.query(q)\n",
      "OTNeighborhood_TDA.get_relatedWords_count(): res=rdfgraph.query(q)\n",
      "OTNeighborhood_TDA.get_relatedWords_count(): res=rdfgraph.query(q)\n",
      "OTNeighborhood_TDA.get_relatedWords_count(): res=rdfgraph.query(q)\n",
      "OTNeighborhood_TDA.get_relatedWords_count(): res=rdfgraph.query(q)\n"
     ]
    },
    {
     "name": "stderr",
     "output_type": "stream",
     "text": [
      "28it [00:00, 60.89it/s]"
     ]
    },
    {
     "name": "stdout",
     "output_type": "stream",
     "text": [
      "OTNeighborhood_TDA.get_relatedWords_count(): res=rdfgraph.query(q)\n",
      "OTNeighborhood_TDA.get_relatedWords_count(): res=rdfgraph.query(q)\n",
      "OTNeighborhood_TDA.get_relatedWords_count(): res=rdfgraph.query(q)\n",
      "OTNeighborhood_TDA.get_relatedWords_count(): res=rdfgraph.query(q)\n",
      "OTNeighborhood_TDA.get_relatedWords_count(): res=rdfgraph.query(q)\n"
     ]
    },
    {
     "name": "stderr",
     "output_type": "stream",
     "text": [
      "35it [00:00, 60.83it/s]"
     ]
    },
    {
     "name": "stdout",
     "output_type": "stream",
     "text": [
      "OTNeighborhood_TDA.get_relatedWords_count(): res=rdfgraph.query(q)\n",
      "OTNeighborhood_TDA.get_relatedWords_count(): res=rdfgraph.query(q)\n",
      "OTNeighborhood_TDA.get_relatedWords_count(): res=rdfgraph.query(q)\n",
      "OTNeighborhood_TDA.get_relatedWords_count(): res=rdfgraph.query(q)\n",
      "OTNeighborhood_TDA.get_relatedWords_count(): res=rdfgraph.query(q)\n",
      "OTNeighborhood_TDA.get_relatedWords_count(): res=rdfgraph.query(q)\n",
      "OTNeighborhood_TDA.get_relatedWords_count(): res=rdfgraph.query(q)\n",
      "OTNeighborhood_TDA.get_relatedWords_count(): res=rdfgraph.query(q)\n"
     ]
    },
    {
     "name": "stderr",
     "output_type": "stream",
     "text": [
      "42it [00:00, 60.85it/s]"
     ]
    },
    {
     "name": "stdout",
     "output_type": "stream",
     "text": [
      "OTNeighborhood_TDA.get_relatedWords_count(): res=rdfgraph.query(q)\n",
      "OTNeighborhood_TDA.get_relatedWords_count(): res=rdfgraph.query(q)\n",
      "OTNeighborhood_TDA.get_relatedWords_count(): res=rdfgraph.query(q)\n",
      "OTNeighborhood_TDA.get_relatedWords_count(): res=rdfgraph.query(q)\n",
      "OTNeighborhood_TDA.get_relatedWords_count(): res=rdfgraph.query(q)\n"
     ]
    },
    {
     "name": "stderr",
     "output_type": "stream",
     "text": [
      "49it [00:00, 60.46it/s]"
     ]
    },
    {
     "name": "stdout",
     "output_type": "stream",
     "text": [
      "OTNeighborhood_TDA.get_relatedWords_count(): res=rdfgraph.query(q)\n",
      "OTNeighborhood_TDA.get_relatedWords_count(): res=rdfgraph.query(q)\n",
      "OTNeighborhood_TDA.get_relatedWords_count(): res=rdfgraph.query(q)\n",
      "OTNeighborhood_TDA.get_relatedWords_count(): res=rdfgraph.query(q)\n",
      "OTNeighborhood_TDA.get_relatedWords_count(): res=rdfgraph.query(q)\n",
      "OTNeighborhood_TDA.get_relatedWords_count(): res=rdfgraph.query(q)\n",
      "OTNeighborhood_TDA.get_relatedWords_count(): res=rdfgraph.query(q)\n",
      "OTNeighborhood_TDA.get_relatedWords_count(): res=rdfgraph.query(q)\n",
      "OTNeighborhood_TDA.get_relatedWords_count(): res=rdfgraph.query(q)\n",
      "OTNeighborhood_TDA.get_relatedWords_count(): res=rdfgraph.query(q)\n"
     ]
    },
    {
     "name": "stderr",
     "output_type": "stream",
     "text": [
      "56it [00:00, 56.26it/s]\n",
      "INFO:root:Total number of target concepts computed with related words is 56\n"
     ]
    },
    {
     "name": "stdout",
     "output_type": "stream",
     "text": [
      "OTNeighborhood_TDA.get_relatedWords_count(): res=rdfgraph.query(q)\n",
      "OTNeighborhood_TDA.get_relatedWords_count(): res=rdfgraph.query(q)\n"
     ]
    },
    {
     "name": "stderr",
     "output_type": "stream",
     "text": [
      "100%|██████████| 53/53 [00:00<00:00, 5288.03it/s]\n",
      "INFO:root:The number of level_3 predicted mapping is 3\n",
      "INFO:root:Compute Pairwise Wasserstein Distances...\n",
      "100%|██████████| 50/50 [00:02<00:00, 24.18it/s]\n",
      "INFO:root:The number of level_4 predicted mapping is 1\n",
      "INFO:root:Skip level_5 mapping.\n",
      "INFO:root:Matching Label Embeddings by Optimal Transport...\n",
      "INFO:root:Computing the Ground Embedding Costs between the Source and Target Points...\n",
      "INFO:root:The shape of the cost matrix is (49, 52)\n",
      "INFO:root:Computing Optimal Transport Plan...\n",
      "INFO:root:Computing Wasserstein distance by the Sinkhorn algorithm...\n",
      "INFO:root:The Sinkhorn got warnings. Computing Wasserstein distance by the EMD algorithm...\n",
      "INFO:root:Making Mappings from a Pairwise OT Plan Matrix by Mutual NN...\n",
      "INFO:root:The number of level_6 predicted mapping is 38\n",
      "INFO:root:TOTAL NUMBER OF MAPPINGS BETWEEN CONCPETS IS 123\n",
      "INFO:root:=================================================\n",
      "INFO:root:MAP OBJECT PROPERTIES\n",
      "INFO:root:Retrieving Synsets by WordNet...\n",
      "INFO:root:Compute the related words for each source concept....\n"
     ]
    },
    {
     "name": "stdout",
     "output_type": "stream",
     "text": [
      "Warning: numerical errors at iteration 0\n"
     ]
    },
    {
     "name": "stderr",
     "output_type": "stream",
     "text": [
      "0it [00:00, ?it/s]\n",
      "INFO:root:Total number of source concepts computed with relatd words is 0\n",
      "INFO:root:Compute the related words for each target concept....\n",
      "0it [00:00, ?it/s]\n",
      "INFO:root:Total number of target concepts computed with related words is 0\n",
      "INFO:root:Skip the level_4 mapping.\n",
      "INFO:root:Skip the level_5 mapping.\n",
      "INFO:root:Skip the level_6 mappping.\n",
      "INFO:root:TOTAL NUMBER OF MAPPINGS BETWEEN OBJECT PROPERTIES IS 0\n",
      "INFO:root:========================================================\n",
      "INFO:root:MAP DATATYPE PROPERTIES\n",
      "INFO:root:Retrieving Synsets by WordNet...\n",
      "INFO:root:Compute the related words for each source concept....\n",
      "0it [00:00, ?it/s]\n",
      "INFO:root:Total number of source concepts computed with relatd words is 0\n",
      "INFO:root:Compute the related words for each target concept....\n",
      "0it [00:00, ?it/s]\n",
      "INFO:root:Total number of target concepts computed with related words is 0\n",
      "INFO:root:Skip the level_4 mapping.\n",
      "INFO:root:Skip the level_5 mapping.\n",
      "INFO:root:Skip the level_6 mappping.\n",
      "INFO:root:TOTAL NUMBER OF MAPPINGS BETWEEN DATATYPE PROPERTIES IS 0\n",
      "INFO:root:===========================================================\n"
     ]
    }
   ],
   "source": [
    "mapper.align(source_url, target_url, output_url)"
   ]
  },
  {
   "cell_type": "code",
   "execution_count": 53,
   "id": "3353fdd9-b2f8-49a1-ba2d-6f1dcf45c459",
   "metadata": {},
   "outputs": [
    {
     "name": "stdout",
     "output_type": "stream",
     "text": [
      "Total number of None is 123\n",
      "Total number of references is 129\n",
      "Total correctly predicted alignments is 109\n",
      "Total number of predicted is 123\n",
      "Precision is 0.8861788617886179\n",
      "Recall is 0.8449612403100775\n",
      "F1-Measure is 0.8650793650793651\n"
     ]
    }
   ],
   "source": [
    "preds = maponto.load_alignments(output_url, None)\n",
    "maponto.evaluate(preds, refs_url)"
   ]
  },
  {
   "cell_type": "code",
   "execution_count": 4,
   "id": "c2fefa13-d6dc-4032-9f14-23032f9b5e15",
   "metadata": {},
   "outputs": [],
   "source": [
    "source_url = \"../data/knowledgegraph/v3/ontologies/starwars.rdf\"\n",
    "target_url = \"../data/knowledgegraph/v3/ontologies/swg.rdf\"\n",
    "output_url = '../data/results/knowledgegraph_starwars_swg_alignment.rdf'\n",
    "refs_url = \"../data/knowledgegraph/v3/references/starwars-swg.rdf\""
   ]
  },
  {
   "cell_type": "code",
   "execution_count": 5,
   "id": "5cfe0a1e-2b75-4e08-a397-9760b90af0f0",
   "metadata": {},
   "outputs": [
    {
     "name": "stderr",
     "output_type": "stream",
     "text": [
      "INFO:root:Python ensemble mapper info: map ../data/knowledgegraph/v3/ontologies/starwars.rdf to ../data/knowledgegraph/v3/ontologies/swg.rdf\n",
      "INFO:root:Read source with 8246033 triples.\n",
      "INFO:root:Read target with 254354 triples.\n",
      "INFO:root:MAP CONCEPTS\n",
      "INFO:root:The number of level_1 predicted mapping is 12.\n",
      "INFO:root:Retrieving Synsets by WordNet...\n",
      "INFO:root:The number of level_2 predicted mapping is 4\n",
      "INFO:root:Compute the related words for each source concept....\n",
      "9it [00:00, 83.70it/s]"
     ]
    },
    {
     "name": "stdout",
     "output_type": "stream",
     "text": [
      "OTNeighborhood_TDA.get_relatedWords_count(): res=rdfgraph.query(q)\n",
      "OTNeighborhood_TDA.get_relatedWords_count(): res=rdfgraph.query(q)\n",
      "OTNeighborhood_TDA.get_relatedWords_count(): res=rdfgraph.query(q)\n",
      "OTNeighborhood_TDA.get_relatedWords_count(): res=rdfgraph.query(q)\n",
      "OTNeighborhood_TDA.get_relatedWords_count(): res=rdfgraph.query(q)\n",
      "OTNeighborhood_TDA.get_relatedWords_count(): res=rdfgraph.query(q)\n",
      "OTNeighborhood_TDA.get_relatedWords_count(): res=rdfgraph.query(q)\n",
      "OTNeighborhood_TDA.get_relatedWords_count(): res=rdfgraph.query(q)\n",
      "OTNeighborhood_TDA.get_relatedWords_count(): res=rdfgraph.query(q)\n",
      "OTNeighborhood_TDA.get_relatedWords_count(): res=rdfgraph.query(q)\n",
      "OTNeighborhood_TDA.get_relatedWords_count(): res=rdfgraph.query(q)\n",
      "OTNeighborhood_TDA.get_relatedWords_count(): res=rdfgraph.query(q)\n",
      "OTNeighborhood_TDA.get_relatedWords_count(): res=rdfgraph.query(q)\n",
      "OTNeighborhood_TDA.get_relatedWords_count(): res=rdfgraph.query(q)\n",
      "OTNeighborhood_TDA.get_relatedWords_count(): res=rdfgraph.query(q)\n",
      "OTNeighborhood_TDA.get_relatedWords_count(): res=rdfgraph.query(q)\n",
      "OTNeighborhood_TDA.get_relatedWords_count(): res=rdfgraph.query(q)\n"
     ]
    },
    {
     "name": "stderr",
     "output_type": "stream",
     "text": [
      "27it [00:00, 81.43it/s]"
     ]
    },
    {
     "name": "stdout",
     "output_type": "stream",
     "text": [
      "OTNeighborhood_TDA.get_relatedWords_count(): res=rdfgraph.query(q)\n",
      "OTNeighborhood_TDA.get_relatedWords_count(): res=rdfgraph.query(q)\n",
      "OTNeighborhood_TDA.get_relatedWords_count(): res=rdfgraph.query(q)\n",
      "OTNeighborhood_TDA.get_relatedWords_count(): res=rdfgraph.query(q)\n",
      "OTNeighborhood_TDA.get_relatedWords_count(): res=rdfgraph.query(q)\n",
      "OTNeighborhood_TDA.get_relatedWords_count(): res=rdfgraph.query(q)\n",
      "OTNeighborhood_TDA.get_relatedWords_count(): res=rdfgraph.query(q)\n",
      "OTNeighborhood_TDA.get_relatedWords_count(): res=rdfgraph.query(q)\n",
      "OTNeighborhood_TDA.get_relatedWords_count(): res=rdfgraph.query(q)\n",
      "OTNeighborhood_TDA.get_relatedWords_count(): res=rdfgraph.query(q)\n",
      "OTNeighborhood_TDA.get_relatedWords_count(): res=rdfgraph.query(q)\n",
      "OTNeighborhood_TDA.get_relatedWords_count(): res=rdfgraph.query(q)\n",
      "OTNeighborhood_TDA.get_relatedWords_count(): res=rdfgraph.query(q)\n",
      "OTNeighborhood_TDA.get_relatedWords_count(): res=rdfgraph.query(q)\n",
      "OTNeighborhood_TDA.get_relatedWords_count(): res=rdfgraph.query(q)\n",
      "OTNeighborhood_TDA.get_relatedWords_count(): res=rdfgraph.query(q)\n",
      "OTNeighborhood_TDA.get_relatedWords_count(): res=rdfgraph.query(q)\n"
     ]
    },
    {
     "name": "stderr",
     "output_type": "stream",
     "text": [
      "45it [00:00, 78.08it/s]"
     ]
    },
    {
     "name": "stdout",
     "output_type": "stream",
     "text": [
      "OTNeighborhood_TDA.get_relatedWords_count(): res=rdfgraph.query(q)\n",
      "OTNeighborhood_TDA.get_relatedWords_count(): res=rdfgraph.query(q)\n",
      "OTNeighborhood_TDA.get_relatedWords_count(): res=rdfgraph.query(q)\n",
      "OTNeighborhood_TDA.get_relatedWords_count(): res=rdfgraph.query(q)\n",
      "OTNeighborhood_TDA.get_relatedWords_count(): res=rdfgraph.query(q)\n",
      "OTNeighborhood_TDA.get_relatedWords_count(): res=rdfgraph.query(q)\n",
      "OTNeighborhood_TDA.get_relatedWords_count(): res=rdfgraph.query(q)\n",
      "OTNeighborhood_TDA.get_relatedWords_count(): res=rdfgraph.query(q)\n",
      "OTNeighborhood_TDA.get_relatedWords_count(): res=rdfgraph.query(q)\n",
      "OTNeighborhood_TDA.get_relatedWords_count(): res=rdfgraph.query(q)\n",
      "OTNeighborhood_TDA.get_relatedWords_count(): res=rdfgraph.query(q)\n",
      "OTNeighborhood_TDA.get_relatedWords_count(): res=rdfgraph.query(q)\n",
      "OTNeighborhood_TDA.get_relatedWords_count(): res=rdfgraph.query(q)\n",
      "OTNeighborhood_TDA.get_relatedWords_count(): res=rdfgraph.query(q)\n",
      "OTNeighborhood_TDA.get_relatedWords_count(): res=rdfgraph.query(q)\n",
      "OTNeighborhood_TDA.get_relatedWords_count(): res=rdfgraph.query(q)\n",
      "OTNeighborhood_TDA.get_relatedWords_count(): res=rdfgraph.query(q)\n"
     ]
    },
    {
     "name": "stderr",
     "output_type": "stream",
     "text": [
      "63it [00:00, 80.19it/s]"
     ]
    },
    {
     "name": "stdout",
     "output_type": "stream",
     "text": [
      "OTNeighborhood_TDA.get_relatedWords_count(): res=rdfgraph.query(q)\n",
      "OTNeighborhood_TDA.get_relatedWords_count(): res=rdfgraph.query(q)\n",
      "OTNeighborhood_TDA.get_relatedWords_count(): res=rdfgraph.query(q)\n",
      "OTNeighborhood_TDA.get_relatedWords_count(): res=rdfgraph.query(q)\n",
      "OTNeighborhood_TDA.get_relatedWords_count(): res=rdfgraph.query(q)\n",
      "OTNeighborhood_TDA.get_relatedWords_count(): res=rdfgraph.query(q)\n",
      "OTNeighborhood_TDA.get_relatedWords_count(): res=rdfgraph.query(q)\n",
      "OTNeighborhood_TDA.get_relatedWords_count(): res=rdfgraph.query(q)\n",
      "OTNeighborhood_TDA.get_relatedWords_count(): res=rdfgraph.query(q)\n",
      "OTNeighborhood_TDA.get_relatedWords_count(): res=rdfgraph.query(q)\n",
      "OTNeighborhood_TDA.get_relatedWords_count(): res=rdfgraph.query(q)\n",
      "OTNeighborhood_TDA.get_relatedWords_count(): res=rdfgraph.query(q)\n",
      "OTNeighborhood_TDA.get_relatedWords_count(): res=rdfgraph.query(q)\n",
      "OTNeighborhood_TDA.get_relatedWords_count(): res=rdfgraph.query(q)\n",
      "OTNeighborhood_TDA.get_relatedWords_count(): res=rdfgraph.query(q)\n",
      "OTNeighborhood_TDA.get_relatedWords_count(): res=rdfgraph.query(q)\n",
      "OTNeighborhood_TDA.get_relatedWords_count(): res=rdfgraph.query(q)\n",
      "OTNeighborhood_TDA.get_relatedWords_count(): res=rdfgraph.query(q)\n",
      "OTNeighborhood_TDA.get_relatedWords_count(): res=rdfgraph.query(q)\n",
      "OTNeighborhood_TDA.get_relatedWords_count(): res=rdfgraph.query(q)\n"
     ]
    },
    {
     "name": "stderr",
     "output_type": "stream",
     "text": [
      "81it [00:00, 84.78it/s]"
     ]
    },
    {
     "name": "stdout",
     "output_type": "stream",
     "text": [
      "OTNeighborhood_TDA.get_relatedWords_count(): res=rdfgraph.query(q)\n",
      "OTNeighborhood_TDA.get_relatedWords_count(): res=rdfgraph.query(q)\n",
      "OTNeighborhood_TDA.get_relatedWords_count(): res=rdfgraph.query(q)\n",
      "OTNeighborhood_TDA.get_relatedWords_count(): res=rdfgraph.query(q)\n",
      "OTNeighborhood_TDA.get_relatedWords_count(): res=rdfgraph.query(q)\n",
      "OTNeighborhood_TDA.get_relatedWords_count(): res=rdfgraph.query(q)\n",
      "OTNeighborhood_TDA.get_relatedWords_count(): res=rdfgraph.query(q)\n",
      "OTNeighborhood_TDA.get_relatedWords_count(): res=rdfgraph.query(q)\n",
      "OTNeighborhood_TDA.get_relatedWords_count(): res=rdfgraph.query(q)\n",
      "OTNeighborhood_TDA.get_relatedWords_count(): res=rdfgraph.query(q)\n",
      "OTNeighborhood_TDA.get_relatedWords_count(): res=rdfgraph.query(q)\n",
      "OTNeighborhood_TDA.get_relatedWords_count(): res=rdfgraph.query(q)\n",
      "OTNeighborhood_TDA.get_relatedWords_count(): res=rdfgraph.query(q)\n",
      "OTNeighborhood_TDA.get_relatedWords_count(): res=rdfgraph.query(q)\n",
      "OTNeighborhood_TDA.get_relatedWords_count(): res=rdfgraph.query(q)\n",
      "OTNeighborhood_TDA.get_relatedWords_count(): res=rdfgraph.query(q)\n",
      "OTNeighborhood_TDA.get_relatedWords_count(): res=rdfgraph.query(q)\n"
     ]
    },
    {
     "name": "stderr",
     "output_type": "stream",
     "text": [
      "99it [00:01, 81.45it/s]"
     ]
    },
    {
     "name": "stdout",
     "output_type": "stream",
     "text": [
      "OTNeighborhood_TDA.get_relatedWords_count(): res=rdfgraph.query(q)\n",
      "OTNeighborhood_TDA.get_relatedWords_count(): res=rdfgraph.query(q)\n",
      "OTNeighborhood_TDA.get_relatedWords_count(): res=rdfgraph.query(q)\n",
      "OTNeighborhood_TDA.get_relatedWords_count(): res=rdfgraph.query(q)\n",
      "OTNeighborhood_TDA.get_relatedWords_count(): res=rdfgraph.query(q)\n",
      "OTNeighborhood_TDA.get_relatedWords_count(): res=rdfgraph.query(q)\n",
      "OTNeighborhood_TDA.get_relatedWords_count(): res=rdfgraph.query(q)\n",
      "OTNeighborhood_TDA.get_relatedWords_count(): res=rdfgraph.query(q)\n",
      "OTNeighborhood_TDA.get_relatedWords_count(): res=rdfgraph.query(q)\n",
      "OTNeighborhood_TDA.get_relatedWords_count(): res=rdfgraph.query(q)\n",
      "OTNeighborhood_TDA.get_relatedWords_count(): res=rdfgraph.query(q)\n",
      "OTNeighborhood_TDA.get_relatedWords_count(): res=rdfgraph.query(q)\n",
      "OTNeighborhood_TDA.get_relatedWords_count(): res=rdfgraph.query(q)\n",
      "OTNeighborhood_TDA.get_relatedWords_count(): res=rdfgraph.query(q)\n",
      "OTNeighborhood_TDA.get_relatedWords_count(): res=rdfgraph.query(q)\n",
      "OTNeighborhood_TDA.get_relatedWords_count(): res=rdfgraph.query(q)\n",
      "OTNeighborhood_TDA.get_relatedWords_count(): res=rdfgraph.query(q)\n"
     ]
    },
    {
     "name": "stderr",
     "output_type": "stream",
     "text": [
      "117it [00:01, 84.66it/s]"
     ]
    },
    {
     "name": "stdout",
     "output_type": "stream",
     "text": [
      "OTNeighborhood_TDA.get_relatedWords_count(): res=rdfgraph.query(q)\n",
      "OTNeighborhood_TDA.get_relatedWords_count(): res=rdfgraph.query(q)\n",
      "OTNeighborhood_TDA.get_relatedWords_count(): res=rdfgraph.query(q)\n",
      "OTNeighborhood_TDA.get_relatedWords_count(): res=rdfgraph.query(q)\n",
      "OTNeighborhood_TDA.get_relatedWords_count(): res=rdfgraph.query(q)\n",
      "OTNeighborhood_TDA.get_relatedWords_count(): res=rdfgraph.query(q)\n",
      "OTNeighborhood_TDA.get_relatedWords_count(): res=rdfgraph.query(q)\n",
      "OTNeighborhood_TDA.get_relatedWords_count(): res=rdfgraph.query(q)\n",
      "OTNeighborhood_TDA.get_relatedWords_count(): res=rdfgraph.query(q)\n",
      "OTNeighborhood_TDA.get_relatedWords_count(): res=rdfgraph.query(q)\n",
      "OTNeighborhood_TDA.get_relatedWords_count(): res=rdfgraph.query(q)\n",
      "OTNeighborhood_TDA.get_relatedWords_count(): res=rdfgraph.query(q)\n",
      "OTNeighborhood_TDA.get_relatedWords_count(): res=rdfgraph.query(q)\n",
      "OTNeighborhood_TDA.get_relatedWords_count(): res=rdfgraph.query(q)\n",
      "OTNeighborhood_TDA.get_relatedWords_count(): res=rdfgraph.query(q)\n",
      "OTNeighborhood_TDA.get_relatedWords_count(): res=rdfgraph.query(q)\n",
      "OTNeighborhood_TDA.get_relatedWords_count(): res=rdfgraph.query(q)\n",
      "OTNeighborhood_TDA.get_relatedWords_count(): res=rdfgraph.query(q)\n",
      "OTNeighborhood_TDA.get_relatedWords_count(): res=rdfgraph.query(q)\n"
     ]
    },
    {
     "name": "stderr",
     "output_type": "stream",
     "text": [
      "136it [00:01, 86.92it/s]"
     ]
    },
    {
     "name": "stdout",
     "output_type": "stream",
     "text": [
      "OTNeighborhood_TDA.get_relatedWords_count(): res=rdfgraph.query(q)\n",
      "OTNeighborhood_TDA.get_relatedWords_count(): res=rdfgraph.query(q)\n",
      "OTNeighborhood_TDA.get_relatedWords_count(): res=rdfgraph.query(q)\n",
      "OTNeighborhood_TDA.get_relatedWords_count(): res=rdfgraph.query(q)\n",
      "OTNeighborhood_TDA.get_relatedWords_count(): res=rdfgraph.query(q)\n",
      "OTNeighborhood_TDA.get_relatedWords_count(): res=rdfgraph.query(q)\n",
      "OTNeighborhood_TDA.get_relatedWords_count(): res=rdfgraph.query(q)\n",
      "OTNeighborhood_TDA.get_relatedWords_count(): res=rdfgraph.query(q)\n",
      "OTNeighborhood_TDA.get_relatedWords_count(): res=rdfgraph.query(q)\n",
      "OTNeighborhood_TDA.get_relatedWords_count(): res=rdfgraph.query(q)\n",
      "OTNeighborhood_TDA.get_relatedWords_count(): res=rdfgraph.query(q)\n",
      "OTNeighborhood_TDA.get_relatedWords_count(): res=rdfgraph.query(q)\n",
      "OTNeighborhood_TDA.get_relatedWords_count(): res=rdfgraph.query(q)\n",
      "OTNeighborhood_TDA.get_relatedWords_count(): res=rdfgraph.query(q)\n",
      "OTNeighborhood_TDA.get_relatedWords_count(): res=rdfgraph.query(q)\n",
      "OTNeighborhood_TDA.get_relatedWords_count(): res=rdfgraph.query(q)\n",
      "OTNeighborhood_TDA.get_relatedWords_count(): res=rdfgraph.query(q)\n",
      "OTNeighborhood_TDA.get_relatedWords_count(): res=rdfgraph.query(q)\n",
      "OTNeighborhood_TDA.get_relatedWords_count(): res=rdfgraph.query(q)\n",
      "OTNeighborhood_TDA.get_relatedWords_count(): res=rdfgraph.query(q)\n"
     ]
    },
    {
     "name": "stderr",
     "output_type": "stream",
     "text": [
      "155it [00:01, 87.52it/s]"
     ]
    },
    {
     "name": "stdout",
     "output_type": "stream",
     "text": [
      "OTNeighborhood_TDA.get_relatedWords_count(): res=rdfgraph.query(q)\n",
      "OTNeighborhood_TDA.get_relatedWords_count(): res=rdfgraph.query(q)\n",
      "OTNeighborhood_TDA.get_relatedWords_count(): res=rdfgraph.query(q)\n",
      "OTNeighborhood_TDA.get_relatedWords_count(): res=rdfgraph.query(q)\n",
      "OTNeighborhood_TDA.get_relatedWords_count(): res=rdfgraph.query(q)\n",
      "OTNeighborhood_TDA.get_relatedWords_count(): res=rdfgraph.query(q)\n",
      "OTNeighborhood_TDA.get_relatedWords_count(): res=rdfgraph.query(q)\n",
      "OTNeighborhood_TDA.get_relatedWords_count(): res=rdfgraph.query(q)\n",
      "OTNeighborhood_TDA.get_relatedWords_count(): res=rdfgraph.query(q)\n",
      "OTNeighborhood_TDA.get_relatedWords_count(): res=rdfgraph.query(q)\n",
      "OTNeighborhood_TDA.get_relatedWords_count(): res=rdfgraph.query(q)\n",
      "OTNeighborhood_TDA.get_relatedWords_count(): res=rdfgraph.query(q)\n",
      "OTNeighborhood_TDA.get_relatedWords_count(): res=rdfgraph.query(q)\n",
      "OTNeighborhood_TDA.get_relatedWords_count(): res=rdfgraph.query(q)\n",
      "OTNeighborhood_TDA.get_relatedWords_count(): res=rdfgraph.query(q)\n",
      "OTNeighborhood_TDA.get_relatedWords_count(): res=rdfgraph.query(q)\n",
      "OTNeighborhood_TDA.get_relatedWords_count(): res=rdfgraph.query(q)\n",
      "OTNeighborhood_TDA.get_relatedWords_count(): res=rdfgraph.query(q)\n",
      "OTNeighborhood_TDA.get_relatedWords_count(): res=rdfgraph.query(q)\n"
     ]
    },
    {
     "name": "stderr",
     "output_type": "stream",
     "text": [
      "173it [00:02, 84.76it/s]"
     ]
    },
    {
     "name": "stdout",
     "output_type": "stream",
     "text": [
      "OTNeighborhood_TDA.get_relatedWords_count(): res=rdfgraph.query(q)\n",
      "OTNeighborhood_TDA.get_relatedWords_count(): res=rdfgraph.query(q)\n",
      "OTNeighborhood_TDA.get_relatedWords_count(): res=rdfgraph.query(q)\n",
      "OTNeighborhood_TDA.get_relatedWords_count(): res=rdfgraph.query(q)\n",
      "OTNeighborhood_TDA.get_relatedWords_count(): res=rdfgraph.query(q)\n",
      "OTNeighborhood_TDA.get_relatedWords_count(): res=rdfgraph.query(q)\n",
      "OTNeighborhood_TDA.get_relatedWords_count(): res=rdfgraph.query(q)\n",
      "OTNeighborhood_TDA.get_relatedWords_count(): res=rdfgraph.query(q)\n",
      "OTNeighborhood_TDA.get_relatedWords_count(): res=rdfgraph.query(q)\n",
      "OTNeighborhood_TDA.get_relatedWords_count(): res=rdfgraph.query(q)\n",
      "OTNeighborhood_TDA.get_relatedWords_count(): res=rdfgraph.query(q)\n",
      "OTNeighborhood_TDA.get_relatedWords_count(): res=rdfgraph.query(q)\n",
      "OTNeighborhood_TDA.get_relatedWords_count(): res=rdfgraph.query(q)\n",
      "OTNeighborhood_TDA.get_relatedWords_count(): res=rdfgraph.query(q)\n",
      "OTNeighborhood_TDA.get_relatedWords_count(): res=rdfgraph.query(q)\n",
      "OTNeighborhood_TDA.get_relatedWords_count(): res=rdfgraph.query(q)\n",
      "OTNeighborhood_TDA.get_relatedWords_count(): res=rdfgraph.query(q)\n"
     ]
    },
    {
     "name": "stderr",
     "output_type": "stream",
     "text": [
      "191it [00:02, 83.64it/s]"
     ]
    },
    {
     "name": "stdout",
     "output_type": "stream",
     "text": [
      "OTNeighborhood_TDA.get_relatedWords_count(): res=rdfgraph.query(q)\n",
      "OTNeighborhood_TDA.get_relatedWords_count(): res=rdfgraph.query(q)\n",
      "OTNeighborhood_TDA.get_relatedWords_count(): res=rdfgraph.query(q)\n",
      "OTNeighborhood_TDA.get_relatedWords_count(): res=rdfgraph.query(q)\n",
      "OTNeighborhood_TDA.get_relatedWords_count(): res=rdfgraph.query(q)\n",
      "OTNeighborhood_TDA.get_relatedWords_count(): res=rdfgraph.query(q)\n",
      "OTNeighborhood_TDA.get_relatedWords_count(): res=rdfgraph.query(q)\n",
      "OTNeighborhood_TDA.get_relatedWords_count(): res=rdfgraph.query(q)\n",
      "OTNeighborhood_TDA.get_relatedWords_count(): res=rdfgraph.query(q)\n",
      "OTNeighborhood_TDA.get_relatedWords_count(): res=rdfgraph.query(q)\n",
      "OTNeighborhood_TDA.get_relatedWords_count(): res=rdfgraph.query(q)\n",
      "OTNeighborhood_TDA.get_relatedWords_count(): res=rdfgraph.query(q)\n",
      "OTNeighborhood_TDA.get_relatedWords_count(): res=rdfgraph.query(q)\n",
      "OTNeighborhood_TDA.get_relatedWords_count(): res=rdfgraph.query(q)\n",
      "OTNeighborhood_TDA.get_relatedWords_count(): res=rdfgraph.query(q)\n",
      "OTNeighborhood_TDA.get_relatedWords_count(): res=rdfgraph.query(q)\n",
      "OTNeighborhood_TDA.get_relatedWords_count(): res=rdfgraph.query(q)\n"
     ]
    },
    {
     "name": "stderr",
     "output_type": "stream",
     "text": [
      "210it [00:02, 86.32it/s]"
     ]
    },
    {
     "name": "stdout",
     "output_type": "stream",
     "text": [
      "OTNeighborhood_TDA.get_relatedWords_count(): res=rdfgraph.query(q)\n",
      "OTNeighborhood_TDA.get_relatedWords_count(): res=rdfgraph.query(q)\n",
      "OTNeighborhood_TDA.get_relatedWords_count(): res=rdfgraph.query(q)\n",
      "OTNeighborhood_TDA.get_relatedWords_count(): res=rdfgraph.query(q)\n",
      "OTNeighborhood_TDA.get_relatedWords_count(): res=rdfgraph.query(q)\n",
      "OTNeighborhood_TDA.get_relatedWords_count(): res=rdfgraph.query(q)\n",
      "OTNeighborhood_TDA.get_relatedWords_count(): res=rdfgraph.query(q)\n",
      "OTNeighborhood_TDA.get_relatedWords_count(): res=rdfgraph.query(q)\n",
      "OTNeighborhood_TDA.get_relatedWords_count(): res=rdfgraph.query(q)\n",
      "OTNeighborhood_TDA.get_relatedWords_count(): res=rdfgraph.query(q)\n",
      "OTNeighborhood_TDA.get_relatedWords_count(): res=rdfgraph.query(q)\n",
      "OTNeighborhood_TDA.get_relatedWords_count(): res=rdfgraph.query(q)\n",
      "OTNeighborhood_TDA.get_relatedWords_count(): res=rdfgraph.query(q)\n",
      "OTNeighborhood_TDA.get_relatedWords_count(): res=rdfgraph.query(q)\n",
      "OTNeighborhood_TDA.get_relatedWords_count(): res=rdfgraph.query(q)\n",
      "OTNeighborhood_TDA.get_relatedWords_count(): res=rdfgraph.query(q)\n",
      "OTNeighborhood_TDA.get_relatedWords_count(): res=rdfgraph.query(q)\n",
      "OTNeighborhood_TDA.get_relatedWords_count(): res=rdfgraph.query(q)\n",
      "OTNeighborhood_TDA.get_relatedWords_count(): res=rdfgraph.query(q)\n",
      "OTNeighborhood_TDA.get_relatedWords_count(): res=rdfgraph.query(q)\n",
      "OTNeighborhood_TDA.get_relatedWords_count(): res=rdfgraph.query(q)\n"
     ]
    },
    {
     "name": "stderr",
     "output_type": "stream",
     "text": [
      "229it [00:02, 83.06it/s]"
     ]
    },
    {
     "name": "stdout",
     "output_type": "stream",
     "text": [
      "OTNeighborhood_TDA.get_relatedWords_count(): res=rdfgraph.query(q)\n",
      "OTNeighborhood_TDA.get_relatedWords_count(): res=rdfgraph.query(q)\n",
      "OTNeighborhood_TDA.get_relatedWords_count(): res=rdfgraph.query(q)\n",
      "OTNeighborhood_TDA.get_relatedWords_count(): res=rdfgraph.query(q)\n",
      "OTNeighborhood_TDA.get_relatedWords_count(): res=rdfgraph.query(q)\n",
      "OTNeighborhood_TDA.get_relatedWords_count(): res=rdfgraph.query(q)\n",
      "OTNeighborhood_TDA.get_relatedWords_count(): res=rdfgraph.query(q)\n",
      "OTNeighborhood_TDA.get_relatedWords_count(): res=rdfgraph.query(q)\n",
      "OTNeighborhood_TDA.get_relatedWords_count(): res=rdfgraph.query(q)\n",
      "OTNeighborhood_TDA.get_relatedWords_count(): res=rdfgraph.query(q)\n",
      "OTNeighborhood_TDA.get_relatedWords_count(): res=rdfgraph.query(q)\n",
      "OTNeighborhood_TDA.get_relatedWords_count(): res=rdfgraph.query(q)\n",
      "OTNeighborhood_TDA.get_relatedWords_count(): res=rdfgraph.query(q)\n",
      "OTNeighborhood_TDA.get_relatedWords_count(): res=rdfgraph.query(q)\n",
      "OTNeighborhood_TDA.get_relatedWords_count(): res=rdfgraph.query(q)\n",
      "OTNeighborhood_TDA.get_relatedWords_count(): res=rdfgraph.query(q)\n",
      "OTNeighborhood_TDA.get_relatedWords_count(): res=rdfgraph.query(q)\n"
     ]
    },
    {
     "name": "stderr",
     "output_type": "stream",
     "text": [
      "255it [00:03, 84.49it/s]\n",
      "INFO:root:Total number of source concepts computed with relatd words is 254\n",
      "INFO:root:Compute the related words for each target concept....\n"
     ]
    },
    {
     "name": "stdout",
     "output_type": "stream",
     "text": [
      "OTNeighborhood_TDA.get_relatedWords_count(): res=rdfgraph.query(q)\n",
      "OTNeighborhood_TDA.get_relatedWords_count(): res=rdfgraph.query(q)\n",
      "OTNeighborhood_TDA.get_relatedWords_count(): res=rdfgraph.query(q)\n",
      "OTNeighborhood_TDA.get_relatedWords_count(): res=rdfgraph.query(q)\n",
      "OTNeighborhood_TDA.get_relatedWords_count(): res=rdfgraph.query(q)\n",
      "OTNeighborhood_TDA.get_relatedWords_count(): res=rdfgraph.query(q)\n",
      "OTNeighborhood_TDA.get_relatedWords_count(): res=rdfgraph.query(q)\n",
      "OTNeighborhood_TDA.get_relatedWords_count(): res=rdfgraph.query(q)\n",
      "OTNeighborhood_TDA.get_relatedWords_count(): res=rdfgraph.query(q)\n",
      "OTNeighborhood_TDA.get_relatedWords_count(): res=rdfgraph.query(q)\n",
      "OTNeighborhood_TDA.get_relatedWords_count(): res=rdfgraph.query(q)\n",
      "OTNeighborhood_TDA.get_relatedWords_count(): res=rdfgraph.query(q)\n",
      "OTNeighborhood_TDA.get_relatedWords_count(): res=rdfgraph.query(q)\n",
      "OTNeighborhood_TDA.get_relatedWords_count(): res=rdfgraph.query(q)\n",
      "OTNeighborhood_TDA.get_relatedWords_count(): res=rdfgraph.query(q)\n",
      "OTNeighborhood_TDA.get_relatedWords_count(): res=rdfgraph.query(q)\n",
      "OTNeighborhood_TDA.get_relatedWords_count(): res=rdfgraph.query(q)\n",
      "OTNeighborhood_TDA.get_relatedWords_count(): res=rdfgraph.query(q)\n",
      "OTNeighborhood_TDA.get_relatedWords_count(): res=rdfgraph.query(q)\n",
      "OTNeighborhood_TDA.get_relatedWords_count(): res=rdfgraph.query(q)\n"
     ]
    },
    {
     "name": "stderr",
     "output_type": "stream",
     "text": [
      "9it [00:00, 77.27it/s]"
     ]
    },
    {
     "name": "stdout",
     "output_type": "stream",
     "text": [
      "OTNeighborhood_TDA.get_relatedWords_count(): res=rdfgraph.query(q)\n",
      "OTNeighborhood_TDA.get_relatedWords_count(): res=rdfgraph.query(q)\n",
      "OTNeighborhood_TDA.get_relatedWords_count(): res=rdfgraph.query(q)\n",
      "OTNeighborhood_TDA.get_relatedWords_count(): res=rdfgraph.query(q)\n",
      "OTNeighborhood_TDA.get_relatedWords_count(): res=rdfgraph.query(q)\n",
      "OTNeighborhood_TDA.get_relatedWords_count(): res=rdfgraph.query(q)\n",
      "OTNeighborhood_TDA.get_relatedWords_count(): res=rdfgraph.query(q)\n",
      "OTNeighborhood_TDA.get_relatedWords_count(): res=rdfgraph.query(q)\n",
      "OTNeighborhood_TDA.get_relatedWords_count(): res=rdfgraph.query(q)\n",
      "OTNeighborhood_TDA.get_relatedWords_count(): res=rdfgraph.query(q)\n",
      "OTNeighborhood_TDA.get_relatedWords_count(): res=rdfgraph.query(q)\n",
      "OTNeighborhood_TDA.get_relatedWords_count(): res=rdfgraph.query(q)\n",
      "OTNeighborhood_TDA.get_relatedWords_count(): res=rdfgraph.query(q)\n",
      "OTNeighborhood_TDA.get_relatedWords_count(): res=rdfgraph.query(q)\n",
      "OTNeighborhood_TDA.get_relatedWords_count(): res=rdfgraph.query(q)\n",
      "OTNeighborhood_TDA.get_relatedWords_count(): res=rdfgraph.query(q)\n",
      "OTNeighborhood_TDA.get_relatedWords_count(): res=rdfgraph.query(q)\n",
      "OTNeighborhood_TDA.get_relatedWords_count(): res=rdfgraph.query(q)\n"
     ]
    },
    {
     "name": "stderr",
     "output_type": "stream",
     "text": [
      "28it [00:00, 85.36it/s]"
     ]
    },
    {
     "name": "stdout",
     "output_type": "stream",
     "text": [
      "OTNeighborhood_TDA.get_relatedWords_count(): res=rdfgraph.query(q)\n",
      "OTNeighborhood_TDA.get_relatedWords_count(): res=rdfgraph.query(q)\n",
      "OTNeighborhood_TDA.get_relatedWords_count(): res=rdfgraph.query(q)\n",
      "OTNeighborhood_TDA.get_relatedWords_count(): res=rdfgraph.query(q)\n",
      "OTNeighborhood_TDA.get_relatedWords_count(): res=rdfgraph.query(q)\n",
      "OTNeighborhood_TDA.get_relatedWords_count(): res=rdfgraph.query(q)\n",
      "OTNeighborhood_TDA.get_relatedWords_count(): res=rdfgraph.query(q)\n",
      "OTNeighborhood_TDA.get_relatedWords_count(): res=rdfgraph.query(q)\n",
      "OTNeighborhood_TDA.get_relatedWords_count(): res=rdfgraph.query(q)\n",
      "OTNeighborhood_TDA.get_relatedWords_count(): res=rdfgraph.query(q)\n",
      "OTNeighborhood_TDA.get_relatedWords_count(): res=rdfgraph.query(q)\n",
      "OTNeighborhood_TDA.get_relatedWords_count(): res=rdfgraph.query(q)\n",
      "OTNeighborhood_TDA.get_relatedWords_count(): res=rdfgraph.query(q)\n",
      "OTNeighborhood_TDA.get_relatedWords_count(): res=rdfgraph.query(q)\n",
      "OTNeighborhood_TDA.get_relatedWords_count(): res=rdfgraph.query(q)\n",
      "OTNeighborhood_TDA.get_relatedWords_count(): res=rdfgraph.query(q)\n",
      "OTNeighborhood_TDA.get_relatedWords_count(): res=rdfgraph.query(q)\n",
      "OTNeighborhood_TDA.get_relatedWords_count(): res=rdfgraph.query(q)\n"
     ]
    },
    {
     "name": "stderr",
     "output_type": "stream",
     "text": [
      "51it [00:00, 86.42it/s]\n",
      "INFO:root:Total number of target concepts computed with related words is 51\n"
     ]
    },
    {
     "name": "stdout",
     "output_type": "stream",
     "text": [
      "OTNeighborhood_TDA.get_relatedWords_count(): res=rdfgraph.query(q)\n",
      "OTNeighborhood_TDA.get_relatedWords_count(): res=rdfgraph.query(q)\n",
      "OTNeighborhood_TDA.get_relatedWords_count(): res=rdfgraph.query(q)\n",
      "OTNeighborhood_TDA.get_relatedWords_count(): res=rdfgraph.query(q)\n",
      "OTNeighborhood_TDA.get_relatedWords_count(): res=rdfgraph.query(q)\n",
      "OTNeighborhood_TDA.get_relatedWords_count(): res=rdfgraph.query(q)\n",
      "OTNeighborhood_TDA.get_relatedWords_count(): res=rdfgraph.query(q)\n",
      "OTNeighborhood_TDA.get_relatedWords_count(): res=rdfgraph.query(q)\n",
      "OTNeighborhood_TDA.get_relatedWords_count(): res=rdfgraph.query(q)\n",
      "OTNeighborhood_TDA.get_relatedWords_count(): res=rdfgraph.query(q)\n",
      "OTNeighborhood_TDA.get_relatedWords_count(): res=rdfgraph.query(q)\n",
      "OTNeighborhood_TDA.get_relatedWords_count(): res=rdfgraph.query(q)\n",
      "OTNeighborhood_TDA.get_relatedWords_count(): res=rdfgraph.query(q)\n",
      "OTNeighborhood_TDA.get_relatedWords_count(): res=rdfgraph.query(q)\n",
      "OTNeighborhood_TDA.get_relatedWords_count(): res=rdfgraph.query(q)\n"
     ]
    },
    {
     "name": "stderr",
     "output_type": "stream",
     "text": [
      "100%|██████████| 255/255 [00:00<00:00, 8959.94it/s]\n",
      "INFO:root:The number of level_3 predicted mapping is 13\n",
      "INFO:root:Compute Pairwise Wasserstein Distances...\n",
      " 17%|█▋        | 40/242 [00:01<00:07, 25.56it/s]/Users/yan/anaconda3/lib/python3.7/site-packages/ot/lp/__init__.py:421: UserWarning: Problem infeasible. Check that a and b are in the simplex\n",
      "  check_result(result_code)\n",
      "100%|██████████| 242/242 [00:07<00:00, 34.19it/s]\n",
      "INFO:root:The number of level_4 predicted mapping is 3\n",
      "INFO:root:Skip level_5 mapping.\n",
      "INFO:root:Matching Label Embeddings by Optimal Transport...\n",
      "INFO:root:Computing the Ground Embedding Costs between the Source and Target Points...\n",
      "INFO:root:The shape of the cost matrix is (239, 35)\n",
      "INFO:root:Computing Optimal Transport Plan...\n",
      "INFO:root:Computing Wasserstein distance by the Sinkhorn algorithm...\n",
      "INFO:root:The Sinkhorn got warnings. Computing Wasserstein distance by the EMD algorithm...\n",
      "INFO:root:Making Mappings from a Pairwise OT Plan Matrix by Mutual NN...\n",
      "INFO:root:The number of level_6 predicted mapping is 35\n",
      "INFO:root:TOTAL NUMBER OF MAPPINGS BETWEEN CONCPETS IS 67\n",
      "INFO:root:=================================================\n",
      "INFO:root:MAP OBJECT PROPERTIES\n",
      "INFO:root:========================================================\n",
      "INFO:root:MAP DATATYPE PROPERTIES\n",
      "INFO:root:===========================================================\n"
     ]
    },
    {
     "name": "stdout",
     "output_type": "stream",
     "text": [
      "Warning: numerical errors at iteration 0\n"
     ]
    }
   ],
   "source": [
    "mapper.align(source_url, target_url, output_url)"
   ]
  },
  {
   "cell_type": "code",
   "execution_count": 6,
   "id": "8ab6804b-39c5-4c00-a71e-168b95e2a0cc",
   "metadata": {},
   "outputs": [
    {
     "name": "stdout",
     "output_type": "stream",
     "text": [
      "Total number of None is 67\n",
      "Total number of references is 1121\n",
      "Total correctly predicted alignments is 6\n",
      "Total number of predicted is 67\n",
      "Precision is 0.08955223880597014\n",
      "Recall is 0.0053523639607493305\n",
      "F1-Measure is 0.010101010101010102\n"
     ]
    }
   ],
   "source": [
    "preds = maponto.load_alignments(output_url, None)\n",
    "maponto.evaluate(preds, refs_url)"
   ]
  },
  {
   "cell_type": "markdown",
   "id": "c3f6beba-953e-4914-9226-35d36d509900",
   "metadata": {},
   "source": [
    "# Biodiv"
   ]
  },
  {
   "cell_type": "code",
   "execution_count": 54,
   "id": "3921eb2e-92e9-4a7d-9614-c83a24c80109",
   "metadata": {},
   "outputs": [],
   "source": [
    "source_url = \"../data/biodiv/2018/envo-sweet/source.rdf\"\n",
    "target_url = \"../data/biodiv/2018/envo-sweet/target.rdf\"\n",
    "output_url = '../data/results/biodiv_2018_envo_sweet_alignment.rdf'\n",
    "refs_url = \"../data/biodiv/2018/envo-sweet/reference.rdf\""
   ]
  },
  {
   "cell_type": "code",
   "execution_count": 55,
   "id": "addd5b3f-151e-45f0-9669-3f43556522ab",
   "metadata": {},
   "outputs": [
    {
     "name": "stderr",
     "output_type": "stream",
     "text": [
      "INFO:root:Python ensemble mapper info: map ../data/biodiv/2018/envo-sweet/source.rdf to ../data/biodiv/2018/envo-sweet/target.rdf\n"
     ]
    },
    {
     "name": "stdout",
     "output_type": "stream",
     "text": [
      "../data/biodiv/2018/envo-sweet/source.rdf\n"
     ]
    },
    {
     "name": "stderr",
     "output_type": "stream",
     "text": [
      "INFO:root:Read source with 83591 triples.\n"
     ]
    },
    {
     "name": "stdout",
     "output_type": "stream",
     "text": [
      "../data/biodiv/2018/envo-sweet/target.rdf\n"
     ]
    },
    {
     "name": "stderr",
     "output_type": "stream",
     "text": [
      "INFO:root:Read target with 27799 triples.\n",
      "INFO:root:MAP CONCEPTS\n",
      "INFO:root:The number of level_1 predicted mapping is 469.\n",
      "INFO:root:Retrieving Synsets by WordNet...\n",
      "INFO:root:The number of level_2 predicted mapping is 434\n",
      "INFO:root:Skip the level_3 mapping.\n",
      "INFO:root:Skip the level_4 mapping.\n",
      "INFO:root:Skip the level_5 mapping.\n",
      "INFO:root:Matching Label Embeddings by Optimal Transport...\n",
      "INFO:root:Computing the Ground Embedding Costs between the Source and Target Points...\n",
      "INFO:root:The shape of the cost matrix is (6349, 3808)\n",
      "INFO:root:Computing Optimal Transport Plan...\n",
      "INFO:root:Computing Wasserstein distance by the Sinkhorn algorithm...\n"
     ]
    },
    {
     "name": "stdout",
     "output_type": "stream",
     "text": [
      "Warning: numerical errors at iteration 204\n"
     ]
    },
    {
     "name": "stderr",
     "output_type": "stream",
     "text": [
      "INFO:root:The Sinkhorn got warnings. Computing Wasserstein distance by the EMD algorithm...\n",
      "INFO:root:Making Mappings from a Pairwise OT Plan Matrix by Mutual NN...\n",
      "INFO:root:The number of level_6 predicted mapping is 3517\n",
      "INFO:root:TOTAL NUMBER OF MAPPINGS BETWEEN CONCPETS IS 4420\n",
      "INFO:root:=================================================\n",
      "INFO:root:MAP OBJECT PROPERTIES\n",
      "INFO:root:The number of level_1 predicted mapping is 1.\n",
      "INFO:root:Retrieving Synsets by WordNet...\n",
      "INFO:root:Compute the related words for each source concept....\n",
      "130it [00:02, 51.47it/s]\n",
      "INFO:root:Total number of source concepts computed with relatd words is 130\n",
      "INFO:root:Compute the related words for each target concept....\n",
      "7it [00:00, 61.90it/s]"
     ]
    },
    {
     "name": "stdout",
     "output_type": "stream",
     "text": [
      "OTNeighborhood_TDA.get_relatedWords_count(): res=rdfgraph.query(q)\n",
      "OTNeighborhood_TDA.get_relatedWords_count(): res=rdfgraph.query(q)\n",
      "OTNeighborhood_TDA.get_relatedWords_count(): res=rdfgraph.query(q)\n",
      "OTNeighborhood_TDA.get_relatedWords_count(): res=rdfgraph.query(q)\n",
      "OTNeighborhood_TDA.get_relatedWords_count(): res=rdfgraph.query(q)\n",
      "OTNeighborhood_TDA.get_relatedWords_count(): res=rdfgraph.query(q)\n",
      "OTNeighborhood_TDA.get_relatedWords_count(): res=rdfgraph.query(q)\n",
      "OTNeighborhood_TDA.get_relatedWords_count(): res=rdfgraph.query(q)\n",
      "OTNeighborhood_TDA.get_relatedWords_count(): res=rdfgraph.query(q)\n",
      "OTNeighborhood_TDA.get_relatedWords_count(): res=rdfgraph.query(q)\n",
      "OTNeighborhood_TDA.get_relatedWords_count(): res=rdfgraph.query(q)\n",
      "OTNeighborhood_TDA.get_relatedWords_count(): res=rdfgraph.query(q)\n",
      "OTNeighborhood_TDA.get_relatedWords_count(): res=rdfgraph.query(q)\n"
     ]
    },
    {
     "name": "stderr",
     "output_type": "stream",
     "text": [
      "21it [00:00, 61.40it/s]"
     ]
    },
    {
     "name": "stdout",
     "output_type": "stream",
     "text": [
      "OTNeighborhood_TDA.get_relatedWords_count(): res=rdfgraph.query(q)\n",
      "OTNeighborhood_TDA.get_relatedWords_count(): res=rdfgraph.query(q)\n",
      "OTNeighborhood_TDA.get_relatedWords_count(): res=rdfgraph.query(q)\n",
      "OTNeighborhood_TDA.get_relatedWords_count(): res=rdfgraph.query(q)\n",
      "OTNeighborhood_TDA.get_relatedWords_count(): res=rdfgraph.query(q)\n",
      "OTNeighborhood_TDA.get_relatedWords_count(): res=rdfgraph.query(q)\n",
      "OTNeighborhood_TDA.get_relatedWords_count(): res=rdfgraph.query(q)\n",
      "OTNeighborhood_TDA.get_relatedWords_count(): res=rdfgraph.query(q)\n",
      "OTNeighborhood_TDA.get_relatedWords_count(): res=rdfgraph.query(q)\n",
      "OTNeighborhood_TDA.get_relatedWords_count(): res=rdfgraph.query(q)\n",
      "OTNeighborhood_TDA.get_relatedWords_count(): res=rdfgraph.query(q)\n",
      "OTNeighborhood_TDA.get_relatedWords_count(): res=rdfgraph.query(q)\n",
      "OTNeighborhood_TDA.get_relatedWords_count(): res=rdfgraph.query(q)\n",
      "OTNeighborhood_TDA.get_relatedWords_count(): res=rdfgraph.query(q)\n"
     ]
    },
    {
     "name": "stderr",
     "output_type": "stream",
     "text": [
      "35it [00:00, 61.03it/s]"
     ]
    },
    {
     "name": "stdout",
     "output_type": "stream",
     "text": [
      "OTNeighborhood_TDA.get_relatedWords_count(): res=rdfgraph.query(q)\n",
      "OTNeighborhood_TDA.get_relatedWords_count(): res=rdfgraph.query(q)\n",
      "OTNeighborhood_TDA.get_relatedWords_count(): res=rdfgraph.query(q)\n",
      "OTNeighborhood_TDA.get_relatedWords_count(): res=rdfgraph.query(q)\n",
      "OTNeighborhood_TDA.get_relatedWords_count(): res=rdfgraph.query(q)\n",
      "OTNeighborhood_TDA.get_relatedWords_count(): res=rdfgraph.query(q)\n",
      "OTNeighborhood_TDA.get_relatedWords_count(): res=rdfgraph.query(q)\n",
      "OTNeighborhood_TDA.get_relatedWords_count(): res=rdfgraph.query(q)\n",
      "OTNeighborhood_TDA.get_relatedWords_count(): res=rdfgraph.query(q)\n",
      "OTNeighborhood_TDA.get_relatedWords_count(): res=rdfgraph.query(q)\n",
      "OTNeighborhood_TDA.get_relatedWords_count(): res=rdfgraph.query(q)\n",
      "OTNeighborhood_TDA.get_relatedWords_count(): res=rdfgraph.query(q)\n",
      "OTNeighborhood_TDA.get_relatedWords_count(): res=rdfgraph.query(q)\n",
      "OTNeighborhood_TDA.get_relatedWords_count(): res=rdfgraph.query(q)\n"
     ]
    },
    {
     "name": "stderr",
     "output_type": "stream",
     "text": [
      "49it [00:00, 61.03it/s]"
     ]
    },
    {
     "name": "stdout",
     "output_type": "stream",
     "text": [
      "OTNeighborhood_TDA.get_relatedWords_count(): res=rdfgraph.query(q)\n",
      "OTNeighborhood_TDA.get_relatedWords_count(): res=rdfgraph.query(q)\n",
      "OTNeighborhood_TDA.get_relatedWords_count(): res=rdfgraph.query(q)\n",
      "OTNeighborhood_TDA.get_relatedWords_count(): res=rdfgraph.query(q)\n",
      "OTNeighborhood_TDA.get_relatedWords_count(): res=rdfgraph.query(q)\n",
      "OTNeighborhood_TDA.get_relatedWords_count(): res=rdfgraph.query(q)\n",
      "OTNeighborhood_TDA.get_relatedWords_count(): res=rdfgraph.query(q)\n",
      "OTNeighborhood_TDA.get_relatedWords_count(): res=rdfgraph.query(q)\n",
      "OTNeighborhood_TDA.get_relatedWords_count(): res=rdfgraph.query(q)\n",
      "OTNeighborhood_TDA.get_relatedWords_count(): res=rdfgraph.query(q)\n",
      "OTNeighborhood_TDA.get_relatedWords_count(): res=rdfgraph.query(q)\n",
      "OTNeighborhood_TDA.get_relatedWords_count(): res=rdfgraph.query(q)\n",
      "OTNeighborhood_TDA.get_relatedWords_count(): res=rdfgraph.query(q)\n"
     ]
    },
    {
     "name": "stderr",
     "output_type": "stream",
     "text": [
      "63it [00:01, 61.27it/s]"
     ]
    },
    {
     "name": "stdout",
     "output_type": "stream",
     "text": [
      "OTNeighborhood_TDA.get_relatedWords_count(): res=rdfgraph.query(q)\n",
      "OTNeighborhood_TDA.get_relatedWords_count(): res=rdfgraph.query(q)\n",
      "OTNeighborhood_TDA.get_relatedWords_count(): res=rdfgraph.query(q)\n",
      "OTNeighborhood_TDA.get_relatedWords_count(): res=rdfgraph.query(q)\n",
      "OTNeighborhood_TDA.get_relatedWords_count(): res=rdfgraph.query(q)\n",
      "OTNeighborhood_TDA.get_relatedWords_count(): res=rdfgraph.query(q)\n",
      "OTNeighborhood_TDA.get_relatedWords_count(): res=rdfgraph.query(q)\n",
      "OTNeighborhood_TDA.get_relatedWords_count(): res=rdfgraph.query(q)\n",
      "OTNeighborhood_TDA.get_relatedWords_count(): res=rdfgraph.query(q)\n",
      "OTNeighborhood_TDA.get_relatedWords_count(): res=rdfgraph.query(q)\n",
      "OTNeighborhood_TDA.get_relatedWords_count(): res=rdfgraph.query(q)\n",
      "OTNeighborhood_TDA.get_relatedWords_count(): res=rdfgraph.query(q)\n",
      "OTNeighborhood_TDA.get_relatedWords_count(): res=rdfgraph.query(q)\n",
      "OTNeighborhood_TDA.get_relatedWords_count(): res=rdfgraph.query(q)\n"
     ]
    },
    {
     "name": "stderr",
     "output_type": "stream",
     "text": [
      "77it [00:01, 61.32it/s]"
     ]
    },
    {
     "name": "stdout",
     "output_type": "stream",
     "text": [
      "OTNeighborhood_TDA.get_relatedWords_count(): res=rdfgraph.query(q)\n",
      "OTNeighborhood_TDA.get_relatedWords_count(): res=rdfgraph.query(q)\n",
      "OTNeighborhood_TDA.get_relatedWords_count(): res=rdfgraph.query(q)\n",
      "OTNeighborhood_TDA.get_relatedWords_count(): res=rdfgraph.query(q)\n",
      "OTNeighborhood_TDA.get_relatedWords_count(): res=rdfgraph.query(q)\n",
      "OTNeighborhood_TDA.get_relatedWords_count(): res=rdfgraph.query(q)\n",
      "OTNeighborhood_TDA.get_relatedWords_count(): res=rdfgraph.query(q)\n",
      "OTNeighborhood_TDA.get_relatedWords_count(): res=rdfgraph.query(q)\n",
      "OTNeighborhood_TDA.get_relatedWords_count(): res=rdfgraph.query(q)\n",
      "OTNeighborhood_TDA.get_relatedWords_count(): res=rdfgraph.query(q)\n",
      "OTNeighborhood_TDA.get_relatedWords_count(): res=rdfgraph.query(q)\n",
      "OTNeighborhood_TDA.get_relatedWords_count(): res=rdfgraph.query(q)\n",
      "OTNeighborhood_TDA.get_relatedWords_count(): res=rdfgraph.query(q)\n",
      "OTNeighborhood_TDA.get_relatedWords_count(): res=rdfgraph.query(q)\n"
     ]
    },
    {
     "name": "stderr",
     "output_type": "stream",
     "text": [
      "91it [00:01, 61.41it/s]"
     ]
    },
    {
     "name": "stdout",
     "output_type": "stream",
     "text": [
      "OTNeighborhood_TDA.get_relatedWords_count(): res=rdfgraph.query(q)\n",
      "OTNeighborhood_TDA.get_relatedWords_count(): res=rdfgraph.query(q)\n",
      "OTNeighborhood_TDA.get_relatedWords_count(): res=rdfgraph.query(q)\n",
      "OTNeighborhood_TDA.get_relatedWords_count(): res=rdfgraph.query(q)\n",
      "OTNeighborhood_TDA.get_relatedWords_count(): res=rdfgraph.query(q)\n",
      "OTNeighborhood_TDA.get_relatedWords_count(): res=rdfgraph.query(q)\n",
      "OTNeighborhood_TDA.get_relatedWords_count(): res=rdfgraph.query(q)\n",
      "OTNeighborhood_TDA.get_relatedWords_count(): res=rdfgraph.query(q)\n",
      "OTNeighborhood_TDA.get_relatedWords_count(): res=rdfgraph.query(q)\n",
      "OTNeighborhood_TDA.get_relatedWords_count(): res=rdfgraph.query(q)\n",
      "OTNeighborhood_TDA.get_relatedWords_count(): res=rdfgraph.query(q)\n",
      "OTNeighborhood_TDA.get_relatedWords_count(): res=rdfgraph.query(q)\n",
      "OTNeighborhood_TDA.get_relatedWords_count(): res=rdfgraph.query(q)\n"
     ]
    },
    {
     "name": "stderr",
     "output_type": "stream",
     "text": [
      "105it [00:01, 61.36it/s]"
     ]
    },
    {
     "name": "stdout",
     "output_type": "stream",
     "text": [
      "OTNeighborhood_TDA.get_relatedWords_count(): res=rdfgraph.query(q)\n",
      "OTNeighborhood_TDA.get_relatedWords_count(): res=rdfgraph.query(q)\n",
      "OTNeighborhood_TDA.get_relatedWords_count(): res=rdfgraph.query(q)\n",
      "OTNeighborhood_TDA.get_relatedWords_count(): res=rdfgraph.query(q)\n",
      "OTNeighborhood_TDA.get_relatedWords_count(): res=rdfgraph.query(q)\n",
      "OTNeighborhood_TDA.get_relatedWords_count(): res=rdfgraph.query(q)\n",
      "OTNeighborhood_TDA.get_relatedWords_count(): res=rdfgraph.query(q)\n",
      "OTNeighborhood_TDA.get_relatedWords_count(): res=rdfgraph.query(q)\n",
      "OTNeighborhood_TDA.get_relatedWords_count(): res=rdfgraph.query(q)\n",
      "OTNeighborhood_TDA.get_relatedWords_count(): res=rdfgraph.query(q)\n",
      "OTNeighborhood_TDA.get_relatedWords_count(): res=rdfgraph.query(q)\n",
      "OTNeighborhood_TDA.get_relatedWords_count(): res=rdfgraph.query(q)\n",
      "OTNeighborhood_TDA.get_relatedWords_count(): res=rdfgraph.query(q)\n"
     ]
    },
    {
     "name": "stderr",
     "output_type": "stream",
     "text": [
      "119it [00:01, 60.83it/s]"
     ]
    },
    {
     "name": "stdout",
     "output_type": "stream",
     "text": [
      "OTNeighborhood_TDA.get_relatedWords_count(): res=rdfgraph.query(q)\n",
      "OTNeighborhood_TDA.get_relatedWords_count(): res=rdfgraph.query(q)\n",
      "OTNeighborhood_TDA.get_relatedWords_count(): res=rdfgraph.query(q)\n",
      "OTNeighborhood_TDA.get_relatedWords_count(): res=rdfgraph.query(q)\n",
      "OTNeighborhood_TDA.get_relatedWords_count(): res=rdfgraph.query(q)\n",
      "OTNeighborhood_TDA.get_relatedWords_count(): res=rdfgraph.query(q)\n",
      "OTNeighborhood_TDA.get_relatedWords_count(): res=rdfgraph.query(q)\n",
      "OTNeighborhood_TDA.get_relatedWords_count(): res=rdfgraph.query(q)\n",
      "OTNeighborhood_TDA.get_relatedWords_count(): res=rdfgraph.query(q)\n",
      "OTNeighborhood_TDA.get_relatedWords_count(): res=rdfgraph.query(q)\n",
      "OTNeighborhood_TDA.get_relatedWords_count(): res=rdfgraph.query(q)\n",
      "OTNeighborhood_TDA.get_relatedWords_count(): res=rdfgraph.query(q)\n",
      "OTNeighborhood_TDA.get_relatedWords_count(): res=rdfgraph.query(q)\n",
      "OTNeighborhood_TDA.get_relatedWords_count(): res=rdfgraph.query(q)\n"
     ]
    },
    {
     "name": "stderr",
     "output_type": "stream",
     "text": [
      "133it [00:02, 60.49it/s]"
     ]
    },
    {
     "name": "stdout",
     "output_type": "stream",
     "text": [
      "OTNeighborhood_TDA.get_relatedWords_count(): res=rdfgraph.query(q)\n",
      "OTNeighborhood_TDA.get_relatedWords_count(): res=rdfgraph.query(q)\n",
      "OTNeighborhood_TDA.get_relatedWords_count(): res=rdfgraph.query(q)\n",
      "OTNeighborhood_TDA.get_relatedWords_count(): res=rdfgraph.query(q)\n",
      "OTNeighborhood_TDA.get_relatedWords_count(): res=rdfgraph.query(q)\n",
      "OTNeighborhood_TDA.get_relatedWords_count(): res=rdfgraph.query(q)\n",
      "OTNeighborhood_TDA.get_relatedWords_count(): res=rdfgraph.query(q)\n",
      "OTNeighborhood_TDA.get_relatedWords_count(): res=rdfgraph.query(q)\n",
      "OTNeighborhood_TDA.get_relatedWords_count(): res=rdfgraph.query(q)\n",
      "OTNeighborhood_TDA.get_relatedWords_count(): res=rdfgraph.query(q)\n",
      "OTNeighborhood_TDA.get_relatedWords_count(): res=rdfgraph.query(q)\n",
      "OTNeighborhood_TDA.get_relatedWords_count(): res=rdfgraph.query(q)\n",
      "OTNeighborhood_TDA.get_relatedWords_count(): res=rdfgraph.query(q)\n"
     ]
    },
    {
     "name": "stderr",
     "output_type": "stream",
     "text": [
      "147it [00:02, 59.58it/s]"
     ]
    },
    {
     "name": "stdout",
     "output_type": "stream",
     "text": [
      "OTNeighborhood_TDA.get_relatedWords_count(): res=rdfgraph.query(q)\n",
      "OTNeighborhood_TDA.get_relatedWords_count(): res=rdfgraph.query(q)\n",
      "OTNeighborhood_TDA.get_relatedWords_count(): res=rdfgraph.query(q)\n",
      "OTNeighborhood_TDA.get_relatedWords_count(): res=rdfgraph.query(q)\n",
      "OTNeighborhood_TDA.get_relatedWords_count(): res=rdfgraph.query(q)\n",
      "OTNeighborhood_TDA.get_relatedWords_count(): res=rdfgraph.query(q)\n",
      "OTNeighborhood_TDA.get_relatedWords_count(): res=rdfgraph.query(q)\n",
      "OTNeighborhood_TDA.get_relatedWords_count(): res=rdfgraph.query(q)\n",
      "OTNeighborhood_TDA.get_relatedWords_count(): res=rdfgraph.query(q)\n",
      "OTNeighborhood_TDA.get_relatedWords_count(): res=rdfgraph.query(q)\n",
      "OTNeighborhood_TDA.get_relatedWords_count(): res=rdfgraph.query(q)\n",
      "OTNeighborhood_TDA.get_relatedWords_count(): res=rdfgraph.query(q)\n",
      "OTNeighborhood_TDA.get_relatedWords_count(): res=rdfgraph.query(q)\n",
      "OTNeighborhood_TDA.get_relatedWords_count(): res=rdfgraph.query(q)\n",
      "OTNeighborhood_TDA.get_relatedWords_count(): res=rdfgraph.query(q)\n"
     ]
    },
    {
     "name": "stderr",
     "output_type": "stream",
     "text": [
      "161it [00:02, 60.58it/s]"
     ]
    },
    {
     "name": "stdout",
     "output_type": "stream",
     "text": [
      "OTNeighborhood_TDA.get_relatedWords_count(): res=rdfgraph.query(q)\n",
      "OTNeighborhood_TDA.get_relatedWords_count(): res=rdfgraph.query(q)\n",
      "OTNeighborhood_TDA.get_relatedWords_count(): res=rdfgraph.query(q)\n",
      "OTNeighborhood_TDA.get_relatedWords_count(): res=rdfgraph.query(q)\n",
      "OTNeighborhood_TDA.get_relatedWords_count(): res=rdfgraph.query(q)\n",
      "OTNeighborhood_TDA.get_relatedWords_count(): res=rdfgraph.query(q)\n",
      "OTNeighborhood_TDA.get_relatedWords_count(): res=rdfgraph.query(q)\n",
      "OTNeighborhood_TDA.get_relatedWords_count(): res=rdfgraph.query(q)\n",
      "OTNeighborhood_TDA.get_relatedWords_count(): res=rdfgraph.query(q)\n",
      "OTNeighborhood_TDA.get_relatedWords_count(): res=rdfgraph.query(q)\n",
      "OTNeighborhood_TDA.get_relatedWords_count(): res=rdfgraph.query(q)\n",
      "OTNeighborhood_TDA.get_relatedWords_count(): res=rdfgraph.query(q)\n",
      "OTNeighborhood_TDA.get_relatedWords_count(): res=rdfgraph.query(q)\n"
     ]
    },
    {
     "name": "stderr",
     "output_type": "stream",
     "text": [
      "175it [00:02, 61.09it/s]"
     ]
    },
    {
     "name": "stdout",
     "output_type": "stream",
     "text": [
      "OTNeighborhood_TDA.get_relatedWords_count(): res=rdfgraph.query(q)\n",
      "OTNeighborhood_TDA.get_relatedWords_count(): res=rdfgraph.query(q)\n",
      "OTNeighborhood_TDA.get_relatedWords_count(): res=rdfgraph.query(q)\n",
      "OTNeighborhood_TDA.get_relatedWords_count(): res=rdfgraph.query(q)\n",
      "OTNeighborhood_TDA.get_relatedWords_count(): res=rdfgraph.query(q)\n",
      "OTNeighborhood_TDA.get_relatedWords_count(): res=rdfgraph.query(q)\n",
      "OTNeighborhood_TDA.get_relatedWords_count(): res=rdfgraph.query(q)\n",
      "OTNeighborhood_TDA.get_relatedWords_count(): res=rdfgraph.query(q)\n",
      "OTNeighborhood_TDA.get_relatedWords_count(): res=rdfgraph.query(q)\n",
      "OTNeighborhood_TDA.get_relatedWords_count(): res=rdfgraph.query(q)\n",
      "OTNeighborhood_TDA.get_relatedWords_count(): res=rdfgraph.query(q)\n",
      "OTNeighborhood_TDA.get_relatedWords_count(): res=rdfgraph.query(q)\n",
      "OTNeighborhood_TDA.get_relatedWords_count(): res=rdfgraph.query(q)\n",
      "OTNeighborhood_TDA.get_relatedWords_count(): res=rdfgraph.query(q)\n",
      "OTNeighborhood_TDA.get_relatedWords_count(): res=rdfgraph.query(q)\n"
     ]
    },
    {
     "name": "stderr",
     "output_type": "stream",
     "text": [
      "189it [00:03, 61.25it/s]"
     ]
    },
    {
     "name": "stdout",
     "output_type": "stream",
     "text": [
      "OTNeighborhood_TDA.get_relatedWords_count(): res=rdfgraph.query(q)\n",
      "OTNeighborhood_TDA.get_relatedWords_count(): res=rdfgraph.query(q)\n",
      "OTNeighborhood_TDA.get_relatedWords_count(): res=rdfgraph.query(q)\n",
      "OTNeighborhood_TDA.get_relatedWords_count(): res=rdfgraph.query(q)\n",
      "OTNeighborhood_TDA.get_relatedWords_count(): res=rdfgraph.query(q)\n",
      "OTNeighborhood_TDA.get_relatedWords_count(): res=rdfgraph.query(q)\n",
      "OTNeighborhood_TDA.get_relatedWords_count(): res=rdfgraph.query(q)\n",
      "OTNeighborhood_TDA.get_relatedWords_count(): res=rdfgraph.query(q)\n",
      "OTNeighborhood_TDA.get_relatedWords_count(): res=rdfgraph.query(q)\n",
      "OTNeighborhood_TDA.get_relatedWords_count(): res=rdfgraph.query(q)\n",
      "OTNeighborhood_TDA.get_relatedWords_count(): res=rdfgraph.query(q)\n",
      "OTNeighborhood_TDA.get_relatedWords_count(): res=rdfgraph.query(q)\n",
      "OTNeighborhood_TDA.get_relatedWords_count(): res=rdfgraph.query(q)\n"
     ]
    },
    {
     "name": "stderr",
     "output_type": "stream",
     "text": [
      "203it [00:03, 61.39it/s]"
     ]
    },
    {
     "name": "stdout",
     "output_type": "stream",
     "text": [
      "OTNeighborhood_TDA.get_relatedWords_count(): res=rdfgraph.query(q)\n",
      "OTNeighborhood_TDA.get_relatedWords_count(): res=rdfgraph.query(q)\n",
      "OTNeighborhood_TDA.get_relatedWords_count(): res=rdfgraph.query(q)\n",
      "OTNeighborhood_TDA.get_relatedWords_count(): res=rdfgraph.query(q)\n",
      "OTNeighborhood_TDA.get_relatedWords_count(): res=rdfgraph.query(q)\n",
      "OTNeighborhood_TDA.get_relatedWords_count(): res=rdfgraph.query(q)\n",
      "OTNeighborhood_TDA.get_relatedWords_count(): res=rdfgraph.query(q)\n",
      "OTNeighborhood_TDA.get_relatedWords_count(): res=rdfgraph.query(q)\n",
      "OTNeighborhood_TDA.get_relatedWords_count(): res=rdfgraph.query(q)\n",
      "OTNeighborhood_TDA.get_relatedWords_count(): res=rdfgraph.query(q)\n",
      "OTNeighborhood_TDA.get_relatedWords_count(): res=rdfgraph.query(q)\n",
      "OTNeighborhood_TDA.get_relatedWords_count(): res=rdfgraph.query(q)\n",
      "OTNeighborhood_TDA.get_relatedWords_count(): res=rdfgraph.query(q)\n",
      "OTNeighborhood_TDA.get_relatedWords_count(): res=rdfgraph.query(q)\n"
     ]
    },
    {
     "name": "stderr",
     "output_type": "stream",
     "text": [
      "217it [00:03, 61.03it/s]"
     ]
    },
    {
     "name": "stdout",
     "output_type": "stream",
     "text": [
      "OTNeighborhood_TDA.get_relatedWords_count(): res=rdfgraph.query(q)\n",
      "OTNeighborhood_TDA.get_relatedWords_count(): res=rdfgraph.query(q)\n",
      "OTNeighborhood_TDA.get_relatedWords_count(): res=rdfgraph.query(q)\n",
      "OTNeighborhood_TDA.get_relatedWords_count(): res=rdfgraph.query(q)\n",
      "OTNeighborhood_TDA.get_relatedWords_count(): res=rdfgraph.query(q)\n",
      "OTNeighborhood_TDA.get_relatedWords_count(): res=rdfgraph.query(q)\n",
      "OTNeighborhood_TDA.get_relatedWords_count(): res=rdfgraph.query(q)\n",
      "OTNeighborhood_TDA.get_relatedWords_count(): res=rdfgraph.query(q)\n",
      "OTNeighborhood_TDA.get_relatedWords_count(): res=rdfgraph.query(q)\n",
      "OTNeighborhood_TDA.get_relatedWords_count(): res=rdfgraph.query(q)\n",
      "OTNeighborhood_TDA.get_relatedWords_count(): res=rdfgraph.query(q)\n",
      "OTNeighborhood_TDA.get_relatedWords_count(): res=rdfgraph.query(q)\n",
      "OTNeighborhood_TDA.get_relatedWords_count(): res=rdfgraph.query(q)\n",
      "OTNeighborhood_TDA.get_relatedWords_count(): res=rdfgraph.query(q)\n"
     ]
    },
    {
     "name": "stderr",
     "output_type": "stream",
     "text": [
      "231it [00:03, 61.12it/s]"
     ]
    },
    {
     "name": "stdout",
     "output_type": "stream",
     "text": [
      "OTNeighborhood_TDA.get_relatedWords_count(): res=rdfgraph.query(q)\n",
      "OTNeighborhood_TDA.get_relatedWords_count(): res=rdfgraph.query(q)\n",
      "OTNeighborhood_TDA.get_relatedWords_count(): res=rdfgraph.query(q)\n",
      "OTNeighborhood_TDA.get_relatedWords_count(): res=rdfgraph.query(q)\n",
      "OTNeighborhood_TDA.get_relatedWords_count(): res=rdfgraph.query(q)\n",
      "OTNeighborhood_TDA.get_relatedWords_count(): res=rdfgraph.query(q)\n",
      "OTNeighborhood_TDA.get_relatedWords_count(): res=rdfgraph.query(q)\n",
      "OTNeighborhood_TDA.get_relatedWords_count(): res=rdfgraph.query(q)\n",
      "OTNeighborhood_TDA.get_relatedWords_count(): res=rdfgraph.query(q)\n",
      "OTNeighborhood_TDA.get_relatedWords_count(): res=rdfgraph.query(q)\n",
      "OTNeighborhood_TDA.get_relatedWords_count(): res=rdfgraph.query(q)\n",
      "OTNeighborhood_TDA.get_relatedWords_count(): res=rdfgraph.query(q)\n",
      "OTNeighborhood_TDA.get_relatedWords_count(): res=rdfgraph.query(q)\n",
      "OTNeighborhood_TDA.get_relatedWords_count(): res=rdfgraph.query(q)\n"
     ]
    },
    {
     "name": "stderr",
     "output_type": "stream",
     "text": [
      "245it [00:04, 61.31it/s]"
     ]
    },
    {
     "name": "stdout",
     "output_type": "stream",
     "text": [
      "OTNeighborhood_TDA.get_relatedWords_count(): res=rdfgraph.query(q)\n",
      "OTNeighborhood_TDA.get_relatedWords_count(): res=rdfgraph.query(q)\n",
      "OTNeighborhood_TDA.get_relatedWords_count(): res=rdfgraph.query(q)\n",
      "OTNeighborhood_TDA.get_relatedWords_count(): res=rdfgraph.query(q)\n",
      "OTNeighborhood_TDA.get_relatedWords_count(): res=rdfgraph.query(q)\n",
      "OTNeighborhood_TDA.get_relatedWords_count(): res=rdfgraph.query(q)\n",
      "OTNeighborhood_TDA.get_relatedWords_count(): res=rdfgraph.query(q)\n",
      "OTNeighborhood_TDA.get_relatedWords_count(): res=rdfgraph.query(q)\n",
      "OTNeighborhood_TDA.get_relatedWords_count(): res=rdfgraph.query(q)\n",
      "OTNeighborhood_TDA.get_relatedWords_count(): res=rdfgraph.query(q)\n",
      "OTNeighborhood_TDA.get_relatedWords_count(): res=rdfgraph.query(q)\n",
      "OTNeighborhood_TDA.get_relatedWords_count(): res=rdfgraph.query(q)\n",
      "OTNeighborhood_TDA.get_relatedWords_count(): res=rdfgraph.query(q)\n"
     ]
    },
    {
     "name": "stderr",
     "output_type": "stream",
     "text": [
      "259it [00:04, 61.25it/s]"
     ]
    },
    {
     "name": "stdout",
     "output_type": "stream",
     "text": [
      "OTNeighborhood_TDA.get_relatedWords_count(): res=rdfgraph.query(q)\n",
      "OTNeighborhood_TDA.get_relatedWords_count(): res=rdfgraph.query(q)\n",
      "OTNeighborhood_TDA.get_relatedWords_count(): res=rdfgraph.query(q)\n",
      "OTNeighborhood_TDA.get_relatedWords_count(): res=rdfgraph.query(q)\n",
      "OTNeighborhood_TDA.get_relatedWords_count(): res=rdfgraph.query(q)\n",
      "OTNeighborhood_TDA.get_relatedWords_count(): res=rdfgraph.query(q)\n",
      "OTNeighborhood_TDA.get_relatedWords_count(): res=rdfgraph.query(q)\n",
      "OTNeighborhood_TDA.get_relatedWords_count(): res=rdfgraph.query(q)\n",
      "OTNeighborhood_TDA.get_relatedWords_count(): res=rdfgraph.query(q)\n",
      "OTNeighborhood_TDA.get_relatedWords_count(): res=rdfgraph.query(q)\n",
      "OTNeighborhood_TDA.get_relatedWords_count(): res=rdfgraph.query(q)\n",
      "OTNeighborhood_TDA.get_relatedWords_count(): res=rdfgraph.query(q)\n",
      "OTNeighborhood_TDA.get_relatedWords_count(): res=rdfgraph.query(q)\n",
      "OTNeighborhood_TDA.get_relatedWords_count(): res=rdfgraph.query(q)\n"
     ]
    },
    {
     "name": "stderr",
     "output_type": "stream",
     "text": [
      "266it [00:04, 53.67it/s]"
     ]
    },
    {
     "name": "stdout",
     "output_type": "stream",
     "text": [
      "OTNeighborhood_TDA.get_relatedWords_count(): res=rdfgraph.query(q)\n",
      "OTNeighborhood_TDA.get_relatedWords_count(): res=rdfgraph.query(q)\n",
      "OTNeighborhood_TDA.get_relatedWords_count(): res=rdfgraph.query(q)\n",
      "OTNeighborhood_TDA.get_relatedWords_count(): res=rdfgraph.query(q)\n",
      "OTNeighborhood_TDA.get_relatedWords_count(): res=rdfgraph.query(q)\n",
      "OTNeighborhood_TDA.get_relatedWords_count(): res=rdfgraph.query(q)\n",
      "OTNeighborhood_TDA.get_relatedWords_count(): res=rdfgraph.query(q)\n",
      "OTNeighborhood_TDA.get_relatedWords_count(): res=rdfgraph.query(q)\n",
      "OTNeighborhood_TDA.get_relatedWords_count(): res=rdfgraph.query(q)\n",
      "OTNeighborhood_TDA.get_relatedWords_count(): res=rdfgraph.query(q)\n"
     ]
    },
    {
     "name": "stderr",
     "output_type": "stream",
     "text": [
      "278it [00:04, 47.19it/s]"
     ]
    },
    {
     "name": "stdout",
     "output_type": "stream",
     "text": [
      "OTNeighborhood_TDA.get_relatedWords_count(): res=rdfgraph.query(q)\n",
      "OTNeighborhood_TDA.get_relatedWords_count(): res=rdfgraph.query(q)\n",
      "OTNeighborhood_TDA.get_relatedWords_count(): res=rdfgraph.query(q)\n",
      "OTNeighborhood_TDA.get_relatedWords_count(): res=rdfgraph.query(q)\n",
      "OTNeighborhood_TDA.get_relatedWords_count(): res=rdfgraph.query(q)\n",
      "OTNeighborhood_TDA.get_relatedWords_count(): res=rdfgraph.query(q)\n",
      "OTNeighborhood_TDA.get_relatedWords_count(): res=rdfgraph.query(q)\n",
      "OTNeighborhood_TDA.get_relatedWords_count(): res=rdfgraph.query(q)\n",
      "OTNeighborhood_TDA.get_relatedWords_count(): res=rdfgraph.query(q)\n"
     ]
    },
    {
     "name": "stderr",
     "output_type": "stream",
     "text": [
      "290it [00:04, 51.12it/s]"
     ]
    },
    {
     "name": "stdout",
     "output_type": "stream",
     "text": [
      "OTNeighborhood_TDA.get_relatedWords_count(): res=rdfgraph.query(q)\n",
      "OTNeighborhood_TDA.get_relatedWords_count(): res=rdfgraph.query(q)\n",
      "OTNeighborhood_TDA.get_relatedWords_count(): res=rdfgraph.query(q)\n",
      "OTNeighborhood_TDA.get_relatedWords_count(): res=rdfgraph.query(q)\n",
      "OTNeighborhood_TDA.get_relatedWords_count(): res=rdfgraph.query(q)\n",
      "OTNeighborhood_TDA.get_relatedWords_count(): res=rdfgraph.query(q)\n",
      "OTNeighborhood_TDA.get_relatedWords_count(): res=rdfgraph.query(q)\n",
      "OTNeighborhood_TDA.get_relatedWords_count(): res=rdfgraph.query(q)\n",
      "OTNeighborhood_TDA.get_relatedWords_count(): res=rdfgraph.query(q)\n",
      "OTNeighborhood_TDA.get_relatedWords_count(): res=rdfgraph.query(q)\n",
      "OTNeighborhood_TDA.get_relatedWords_count(): res=rdfgraph.query(q)\n",
      "OTNeighborhood_TDA.get_relatedWords_count(): res=rdfgraph.query(q)\n",
      "OTNeighborhood_TDA.get_relatedWords_count(): res=rdfgraph.query(q)\n",
      "OTNeighborhood_TDA.get_relatedWords_count(): res=rdfgraph.query(q)\n",
      "OTNeighborhood_TDA.get_relatedWords_count(): res=rdfgraph.query(q)\n"
     ]
    },
    {
     "name": "stderr",
     "output_type": "stream",
     "text": [
      "303it [00:05, 55.88it/s]"
     ]
    },
    {
     "name": "stdout",
     "output_type": "stream",
     "text": [
      "OTNeighborhood_TDA.get_relatedWords_count(): res=rdfgraph.query(q)\n",
      "OTNeighborhood_TDA.get_relatedWords_count(): res=rdfgraph.query(q)\n",
      "OTNeighborhood_TDA.get_relatedWords_count(): res=rdfgraph.query(q)\n",
      "OTNeighborhood_TDA.get_relatedWords_count(): res=rdfgraph.query(q)\n",
      "OTNeighborhood_TDA.get_relatedWords_count(): res=rdfgraph.query(q)\n",
      "OTNeighborhood_TDA.get_relatedWords_count(): res=rdfgraph.query(q)\n",
      "OTNeighborhood_TDA.get_relatedWords_count(): res=rdfgraph.query(q)\n",
      "OTNeighborhood_TDA.get_relatedWords_count(): res=rdfgraph.query(q)\n",
      "OTNeighborhood_TDA.get_relatedWords_count(): res=rdfgraph.query(q)\n",
      "OTNeighborhood_TDA.get_relatedWords_count(): res=rdfgraph.query(q)\n",
      "OTNeighborhood_TDA.get_relatedWords_count(): res=rdfgraph.query(q)\n",
      "OTNeighborhood_TDA.get_relatedWords_count(): res=rdfgraph.query(q)\n",
      "OTNeighborhood_TDA.get_relatedWords_count(): res=rdfgraph.query(q)\n",
      "OTNeighborhood_TDA.get_relatedWords_count(): res=rdfgraph.query(q)\n"
     ]
    },
    {
     "name": "stderr",
     "output_type": "stream",
     "text": [
      "318it [00:05, 59.21it/s]\n",
      "INFO:root:Total number of target concepts computed with related words is 318\n"
     ]
    },
    {
     "name": "stdout",
     "output_type": "stream",
     "text": [
      "OTNeighborhood_TDA.get_relatedWords_count(): res=rdfgraph.query(q)\n",
      "OTNeighborhood_TDA.get_relatedWords_count(): res=rdfgraph.query(q)\n",
      "OTNeighborhood_TDA.get_relatedWords_count(): res=rdfgraph.query(q)\n",
      "OTNeighborhood_TDA.get_relatedWords_count(): res=rdfgraph.query(q)\n",
      "OTNeighborhood_TDA.get_relatedWords_count(): res=rdfgraph.query(q)\n",
      "OTNeighborhood_TDA.get_relatedWords_count(): res=rdfgraph.query(q)\n",
      "OTNeighborhood_TDA.get_relatedWords_count(): res=rdfgraph.query(q)\n",
      "OTNeighborhood_TDA.get_relatedWords_count(): res=rdfgraph.query(q)\n",
      "OTNeighborhood_TDA.get_relatedWords_count(): res=rdfgraph.query(q)\n",
      "OTNeighborhood_TDA.get_relatedWords_count(): res=rdfgraph.query(q)\n"
     ]
    },
    {
     "name": "stderr",
     "output_type": "stream",
     "text": [
      "100%|██████████| 130/130 [00:00<00:00, 855.59it/s]\n",
      "INFO:root:The number of level_3 predicted mapping is 1\n",
      "INFO:root:Skip the level_4 mapping.\n",
      "INFO:root:Skip the level_5 mapping.\n",
      "INFO:root:Skip the level_6 mappping.\n",
      "INFO:root:TOTAL NUMBER OF MAPPINGS BETWEEN OBJECT PROPERTIES IS 2\n",
      "INFO:root:========================================================\n",
      "INFO:root:MAP DATATYPE PROPERTIES\n",
      "INFO:root:Retrieving Synsets by WordNet...\n",
      "INFO:root:Compute the related words for each source concept....\n",
      "0it [00:00, ?it/s]\n",
      "INFO:root:Total number of source concepts computed with relatd words is 0\n",
      "INFO:root:Compute the related words for each target concept....\n",
      "7it [00:00, 61.14it/s]"
     ]
    },
    {
     "name": "stdout",
     "output_type": "stream",
     "text": [
      "OTNeighborhood_TDA.get_relatedWords_count(): res=rdfgraph.query(q)\n",
      "OTNeighborhood_TDA.get_relatedWords_count(): res=rdfgraph.query(q)\n",
      "OTNeighborhood_TDA.get_relatedWords_count(): res=rdfgraph.query(q)\n",
      "OTNeighborhood_TDA.get_relatedWords_count(): res=rdfgraph.query(q)\n",
      "OTNeighborhood_TDA.get_relatedWords_count(): res=rdfgraph.query(q)\n",
      "OTNeighborhood_TDA.get_relatedWords_count(): res=rdfgraph.query(q)\n",
      "OTNeighborhood_TDA.get_relatedWords_count(): res=rdfgraph.query(q)\n",
      "OTNeighborhood_TDA.get_relatedWords_count(): res=rdfgraph.query(q)\n",
      "OTNeighborhood_TDA.get_relatedWords_count(): res=rdfgraph.query(q)\n",
      "OTNeighborhood_TDA.get_relatedWords_count(): res=rdfgraph.query(q)\n",
      "OTNeighborhood_TDA.get_relatedWords_count(): res=rdfgraph.query(q)\n",
      "OTNeighborhood_TDA.get_relatedWords_count(): res=rdfgraph.query(q)\n",
      "OTNeighborhood_TDA.get_relatedWords_count(): res=rdfgraph.query(q)\n"
     ]
    },
    {
     "name": "stderr",
     "output_type": "stream",
     "text": [
      "21it [00:00, 59.86it/s]"
     ]
    },
    {
     "name": "stdout",
     "output_type": "stream",
     "text": [
      "OTNeighborhood_TDA.get_relatedWords_count(): res=rdfgraph.query(q)\n",
      "OTNeighborhood_TDA.get_relatedWords_count(): res=rdfgraph.query(q)\n",
      "OTNeighborhood_TDA.get_relatedWords_count(): res=rdfgraph.query(q)\n",
      "OTNeighborhood_TDA.get_relatedWords_count(): res=rdfgraph.query(q)\n",
      "OTNeighborhood_TDA.get_relatedWords_count(): res=rdfgraph.query(q)\n",
      "OTNeighborhood_TDA.get_relatedWords_count(): res=rdfgraph.query(q)\n",
      "OTNeighborhood_TDA.get_relatedWords_count(): res=rdfgraph.query(q)\n",
      "OTNeighborhood_TDA.get_relatedWords_count(): res=rdfgraph.query(q)\n",
      "OTNeighborhood_TDA.get_relatedWords_count(): res=rdfgraph.query(q)\n",
      "OTNeighborhood_TDA.get_relatedWords_count(): res=rdfgraph.query(q)\n",
      "OTNeighborhood_TDA.get_relatedWords_count(): res=rdfgraph.query(q)\n",
      "OTNeighborhood_TDA.get_relatedWords_count(): res=rdfgraph.query(q)\n",
      "OTNeighborhood_TDA.get_relatedWords_count(): res=rdfgraph.query(q)\n",
      "OTNeighborhood_TDA.get_relatedWords_count(): res=rdfgraph.query(q)\n"
     ]
    },
    {
     "name": "stderr",
     "output_type": "stream",
     "text": [
      "32it [00:00, 59.74it/s]\n",
      "INFO:root:Total number of target concepts computed with related words is 32\n",
      "INFO:root:Skip the level_4 mapping.\n",
      "INFO:root:Skip the level_5 mapping.\n",
      "INFO:root:Skip the level_6 mappping.\n",
      "INFO:root:TOTAL NUMBER OF MAPPINGS BETWEEN DATATYPE PROPERTIES IS 0\n",
      "INFO:root:===========================================================\n"
     ]
    },
    {
     "name": "stdout",
     "output_type": "stream",
     "text": [
      "OTNeighborhood_TDA.get_relatedWords_count(): res=rdfgraph.query(q)\n",
      "OTNeighborhood_TDA.get_relatedWords_count(): res=rdfgraph.query(q)\n",
      "OTNeighborhood_TDA.get_relatedWords_count(): res=rdfgraph.query(q)\n",
      "OTNeighborhood_TDA.get_relatedWords_count(): res=rdfgraph.query(q)\n",
      "OTNeighborhood_TDA.get_relatedWords_count(): res=rdfgraph.query(q)\n"
     ]
    }
   ],
   "source": [
    "mapper.align(source_url, target_url, output_url)"
   ]
  },
  {
   "cell_type": "code",
   "execution_count": 56,
   "id": "9d246c02-ffd3-4309-85bf-42c89047a404",
   "metadata": {},
   "outputs": [
    {
     "name": "stdout",
     "output_type": "stream",
     "text": [
      "Total number of None is 4422\n",
      "Total number of references is 666\n",
      "Total correctly predicted alignments is 511\n",
      "Total number of predicted is 4422\n",
      "Precision is 0.11555857078245138\n",
      "Recall is 0.7672672672672672\n",
      "F1-Measure is 0.20086477987421386\n"
     ]
    }
   ],
   "source": [
    "preds = maponto.load_alignments(output_url, None)\n",
    "maponto.evaluate(preds, refs_url)"
   ]
  },
  {
   "cell_type": "code",
   "execution_count": 57,
   "id": "87dc0c5b-77d9-4741-bae9-4fda6c3ca313",
   "metadata": {},
   "outputs": [],
   "source": [
    "source_url = \"../data/biodiv/2018/flopo-pto/source.rdf\"\n",
    "target_url = \"../data/biodiv/2018/flopo-pto/target.rdf\"\n",
    "output_url = '../data/results/biodiv_2018_flopo_pto_alignment.rdf'\n",
    "refs_url = \"../data/biodiv/2018/flopo-pto/reference.rdf\""
   ]
  },
  {
   "cell_type": "code",
   "execution_count": 58,
   "id": "c3996a1c-f3e1-45aa-bff3-bbf6e89fd957",
   "metadata": {},
   "outputs": [
    {
     "name": "stderr",
     "output_type": "stream",
     "text": [
      "INFO:root:Python ensemble mapper info: map ../data/biodiv/2018/flopo-pto/source.rdf to ../data/biodiv/2018/flopo-pto/target.rdf\n"
     ]
    },
    {
     "name": "stdout",
     "output_type": "stream",
     "text": [
      "../data/biodiv/2018/flopo-pto/source.rdf\n",
      "http://purl.obolibrary.org/obo/po.owl\n",
      "http://purl.obolibrary.org/obo/po/imports/ro_import.owl\n",
      "http://purl.obolibrary.org/obo/po/imports/ncbitaxon_import.owl\n"
     ]
    },
    {
     "name": "stderr",
     "output_type": "stream",
     "text": [
      "INFO:root:Read source with 567475 triples.\n"
     ]
    },
    {
     "name": "stdout",
     "output_type": "stream",
     "text": [
      "http://purl.obolibrary.org/obo/pato.owl\n",
      "../data/biodiv/2018/flopo-pto/target.rdf\n"
     ]
    },
    {
     "name": "stderr",
     "output_type": "stream",
     "text": [
      "INFO:root:Read target with 24638 triples.\n",
      "INFO:root:MAP CONCEPTS\n",
      "INFO:root:The number of level_1 predicted mapping is 140.\n",
      "INFO:root:Retrieving Synsets by WordNet...\n",
      "INFO:root:The number of level_2 predicted mapping is 3\n",
      "INFO:root:Skip the level_3 mapping.\n",
      "INFO:root:Skip the level_4 mapping.\n",
      "INFO:root:Skip the level_5 mapping.\n",
      "INFO:root:Matching Label Embeddings by Optimal Transport...\n",
      "INFO:root:Computing the Ground Embedding Costs between the Source and Target Points...\n",
      "INFO:root:The shape of the cost matrix is (31389, 1338)\n",
      "INFO:root:Computing Optimal Transport Plan...\n",
      "INFO:root:Computing Wasserstein distance by the Sinkhorn algorithm...\n",
      "INFO:root:Making Mappings from a Pairwise OT Plan Matrix by Mutual NN...\n",
      "INFO:root:The number of level_6 predicted mapping is 1290\n",
      "INFO:root:TOTAL NUMBER OF MAPPINGS BETWEEN CONCPETS IS 1433\n",
      "INFO:root:=================================================\n",
      "INFO:root:MAP OBJECT PROPERTIES\n",
      "INFO:root:The number of level_1 predicted mapping is 1.\n",
      "INFO:root:Retrieving Synsets by WordNet...\n",
      "INFO:root:Compute the related words for each source concept....\n",
      "250it [00:04, 52.60it/s]\n",
      "INFO:root:Total number of source concepts computed with relatd words is 250\n",
      "INFO:root:Compute the related words for each target concept....\n",
      "0it [00:00, ?it/s]\n",
      "INFO:root:Total number of target concepts computed with related words is 0\n",
      "INFO:root:Skip the level_4 mapping.\n",
      "INFO:root:Skip the level_5 mapping.\n",
      "INFO:root:Skip the level_6 mappping.\n",
      "INFO:root:TOTAL NUMBER OF MAPPINGS BETWEEN OBJECT PROPERTIES IS 1\n",
      "INFO:root:========================================================\n",
      "INFO:root:MAP DATATYPE PROPERTIES\n",
      "INFO:root:Retrieving Synsets by WordNet...\n",
      "INFO:root:Compute the related words for each source concept....\n",
      "1it [00:00, 46.43it/s]\n",
      "INFO:root:Total number of source concepts computed with relatd words is 1\n",
      "INFO:root:Compute the related words for each target concept....\n",
      "0it [00:00, ?it/s]\n",
      "INFO:root:Total number of target concepts computed with related words is 0\n",
      "INFO:root:Skip the level_4 mapping.\n",
      "INFO:root:Skip the level_5 mapping.\n",
      "INFO:root:Skip the level_6 mappping.\n",
      "INFO:root:TOTAL NUMBER OF MAPPINGS BETWEEN DATATYPE PROPERTIES IS 0\n",
      "INFO:root:===========================================================\n"
     ]
    }
   ],
   "source": [
    "mapper.align(source_url, target_url, output_url)"
   ]
  },
  {
   "cell_type": "code",
   "execution_count": 59,
   "id": "3956513a-ec04-4098-bd3b-da13f65f9a1c",
   "metadata": {},
   "outputs": [
    {
     "name": "stdout",
     "output_type": "stream",
     "text": [
      "Total number of None is 1434\n",
      "Total number of references is 245\n",
      "Total correctly predicted alignments is 173\n",
      "Total number of predicted is 1434\n",
      "Precision is 0.1206415620641562\n",
      "Recall is 0.7061224489795919\n",
      "F1-Measure is 0.2060750446694461\n"
     ]
    }
   ],
   "source": [
    "preds = maponto.load_alignments(output_url, None)\n",
    "maponto.evaluate(preds, refs_url)"
   ]
  },
  {
   "cell_type": "markdown",
   "id": "88340102-bb7f-44aa-a64b-da8f8ac2e449",
   "metadata": {},
   "source": [
    "# largebio"
   ]
  },
  {
   "cell_type": "code",
   "execution_count": 60,
   "id": "34abc89f-b586-48ce-9e61-906b149f6ba5",
   "metadata": {},
   "outputs": [],
   "source": [
    "source_url = \"../data/largebio/largebio-all_tasks_2016/small-fma-nci/source.rdf\"\n",
    "target_url = \"../data/largebio/largebio-all_tasks_2016/small-fma-nci/target.rdf\"\n",
    "output_url = '../data/results/largebio_small_fma_nci_alignment.rdf'\n",
    "refs_url = \"../data/largebio/largebio-all_tasks_2016/small-fma-nci/reference.rdf\""
   ]
  },
  {
   "cell_type": "code",
   "execution_count": 378,
   "id": "eae96459-b166-4d28-afd4-de57d58d69d7",
   "metadata": {},
   "outputs": [],
   "source": [
    "source_graph = Graph().parse(source_url)\n",
    "target_graph = Graph().parse(target_url)"
   ]
  },
  {
   "cell_type": "code",
   "execution_count": 379,
   "id": "212598db-968e-4a0f-a767-ddd47eea8002",
   "metadata": {},
   "outputs": [
    {
     "data": {
      "text/plain": [
       "((9142, 3), (17046, 3))"
      ]
     },
     "execution_count": 379,
     "metadata": {},
     "output_type": "execute_result"
    }
   ],
   "source": [
    "slabel_clnd_uris = maponto.clean_labels(maponto.extract_label_uris(source_graph))\n",
    "tlabel_clnd_uris = maponto.clean_labels(maponto.extract_label_uris(target_graph))\n",
    "slabel_clnd_uris.shape, tlabel_clnd_uris.shape"
   ]
  },
  {
   "cell_type": "code",
   "execution_count": 404,
   "id": "70b43414-2034-473c-9dc9-dd4104c58c58",
   "metadata": {},
   "outputs": [],
   "source": [
    "tlabel_clnd_uris = tlabel_clnd_uris[tlabel_clnd_uris.clndLabel != '']"
   ]
  },
  {
   "cell_type": "code",
   "execution_count": 405,
   "id": "ee052a44-5590-421c-af85-0e5de872bf92",
   "metadata": {},
   "outputs": [],
   "source": [
    "sembs = []\n",
    "tembs = []\n",
    "for slabel in slabel_clnd_uris.clndLabel:\n",
    "    sembs.append(maponto.average_embeddings(slabel, 300, embs_model))\n",
    "for tlabel in tlabel_clnd_uris.clndLabel:\n",
    "    tembs.append(maponto.average_embeddings(tlabel, 300, embs_model))"
   ]
  },
  {
   "cell_type": "code",
   "execution_count": 406,
   "id": "2def5acc-6b41-447c-8407-719857f4cda3",
   "metadata": {},
   "outputs": [
    {
     "data": {
      "text/plain": [
       "(9142, 17044)"
      ]
     },
     "execution_count": 406,
     "metadata": {},
     "output_type": "execute_result"
    }
   ],
   "source": [
    "len(sembs), len(tembs)"
   ]
  },
  {
   "cell_type": "code",
   "execution_count": 407,
   "id": "e95e6018-7f25-4254-80d9-35fcecb9fd0a",
   "metadata": {},
   "outputs": [],
   "source": [
    "for i, emb in enumerate(tembs):\n",
    "    try:\n",
    "        if len(emb) != 300:\n",
    "            print(emb)\n",
    "    except:\n",
    "        print(i, emb)"
   ]
  },
  {
   "cell_type": "code",
   "execution_count": 409,
   "id": "7cfd9a91-9f83-4012-95b4-bcf989dea0a3",
   "metadata": {},
   "outputs": [
    {
     "name": "stderr",
     "output_type": "stream",
     "text": [
      "INFO:root:Matching Label Embeddings by Optimal Transport...\n",
      "INFO:root:Computing the Ground Embedding Costs between the Source and Target Points...\n",
      "INFO:root:The shape of the cost matrix is (9142, 17044)\n",
      "INFO:root:Computing Optimal Transport Plan...\n",
      "INFO:root:Computing Wasserstein distance by the Sinkhorn algorithm...\n"
     ]
    },
    {
     "name": "stdout",
     "output_type": "stream",
     "text": [
      "Warning: numerical errors at iteration 361\n"
     ]
    },
    {
     "name": "stderr",
     "output_type": "stream",
     "text": [
      "INFO:root:The Sinkhorn got warnings. Computing Wasserstein distance by the EMD algorithm...\n",
      "INFO:root:Making Mappings from a Pairwise OT Plan Matrix by Mutual NN...\n"
     ]
    },
    {
     "data": {
      "text/html": [
       "<div>\n",
       "<style scoped>\n",
       "    .dataframe tbody tr th:only-of-type {\n",
       "        vertical-align: middle;\n",
       "    }\n",
       "\n",
       "    .dataframe tbody tr th {\n",
       "        vertical-align: top;\n",
       "    }\n",
       "\n",
       "    .dataframe thead th {\n",
       "        text-align: right;\n",
       "    }\n",
       "</style>\n",
       "<table border=\"1\" class=\"dataframe\">\n",
       "  <thead>\n",
       "    <tr style=\"text-align: right;\">\n",
       "      <th></th>\n",
       "      <th>source</th>\n",
       "      <th>source_label</th>\n",
       "      <th>target</th>\n",
       "      <th>target_label</th>\n",
       "    </tr>\n",
       "  </thead>\n",
       "  <tbody>\n",
       "    <tr>\n",
       "      <th>0</th>\n",
       "      <td>http://bioontology.org/projects/ontologies/fma...</td>\n",
       "      <td>APUD cell</td>\n",
       "      <td>http://ncicb.nci.nih.gov/xml/owl/EVS/Thesaurus...</td>\n",
       "      <td>APUD Cell</td>\n",
       "    </tr>\n",
       "    <tr>\n",
       "      <th>1</th>\n",
       "      <td>http://bioontology.org/projects/ontologies/fma...</td>\n",
       "      <td>Abdominopelvic region</td>\n",
       "      <td>http://ncicb.nci.nih.gov/xml/owl/EVS/Thesaurus...</td>\n",
       "      <td>Rectosigmoid Region</td>\n",
       "    </tr>\n",
       "    <tr>\n",
       "      <th>2</th>\n",
       "      <td>http://bioontology.org/projects/ontologies/fma...</td>\n",
       "      <td>Abdomen</td>\n",
       "      <td>http://ncicb.nci.nih.gov/xml/owl/EVS/Thesaurus...</td>\n",
       "      <td>abdomen</td>\n",
       "    </tr>\n",
       "    <tr>\n",
       "      <th>3</th>\n",
       "      <td>http://bioontology.org/projects/ontologies/fma...</td>\n",
       "      <td>Abdominopelvis</td>\n",
       "      <td>http://ncicb.nci.nih.gov/xml/owl/EVS/Thesaurus...</td>\n",
       "      <td>Emperipolesis</td>\n",
       "    </tr>\n",
       "    <tr>\n",
       "      <th>4</th>\n",
       "      <td>http://bioontology.org/projects/ontologies/fma...</td>\n",
       "      <td>Pars abdominalis aortae</td>\n",
       "      <td>http://ncicb.nci.nih.gov/xml/owl/EVS/Thesaurus...</td>\n",
       "      <td>Brainstem Neuroglial Tumor</td>\n",
       "    </tr>\n",
       "    <tr>\n",
       "      <th>...</th>\n",
       "      <td>...</td>\n",
       "      <td>...</td>\n",
       "      <td>...</td>\n",
       "      <td>...</td>\n",
       "    </tr>\n",
       "    <tr>\n",
       "      <th>8343</th>\n",
       "      <td>http://bioontology.org/projects/ontologies/fma...</td>\n",
       "      <td>Zygomaticus major</td>\n",
       "      <td>http://ncicb.nci.nih.gov/xml/owl/EVS/Thesaurus...</td>\n",
       "      <td>Zygomaticus Major</td>\n",
       "    </tr>\n",
       "    <tr>\n",
       "      <th>8344</th>\n",
       "      <td>http://bioontology.org/projects/ontologies/fma...</td>\n",
       "      <td>Musculus zygomaticus major</td>\n",
       "      <td>http://ncicb.nci.nih.gov/xml/owl/EVS/Thesaurus...</td>\n",
       "      <td>Mesothelioma Malignant Recurrent</td>\n",
       "    </tr>\n",
       "    <tr>\n",
       "      <th>8345</th>\n",
       "      <td>http://bioontology.org/projects/ontologies/fma...</td>\n",
       "      <td>Zygomaticus minor</td>\n",
       "      <td>http://ncicb.nci.nih.gov/xml/owl/EVS/Thesaurus...</td>\n",
       "      <td>Zygomaticus Minor</td>\n",
       "    </tr>\n",
       "    <tr>\n",
       "      <th>8346</th>\n",
       "      <td>http://bioontology.org/projects/ontologies/fma...</td>\n",
       "      <td>Musculus zygomaticus minor</td>\n",
       "      <td>http://ncicb.nci.nih.gov/xml/owl/EVS/Thesaurus...</td>\n",
       "      <td>Malignant Cutaneous Melanoma</td>\n",
       "    </tr>\n",
       "    <tr>\n",
       "      <th>8347</th>\n",
       "      <td>http://bioontology.org/projects/ontologies/fma...</td>\n",
       "      <td>Zygote</td>\n",
       "      <td>http://ncicb.nci.nih.gov/xml/owl/EVS/Thesaurus...</td>\n",
       "      <td>Zygote</td>\n",
       "    </tr>\n",
       "  </tbody>\n",
       "</table>\n",
       "<p>8348 rows × 4 columns</p>\n",
       "</div>"
      ],
      "text/plain": [
       "                                                 source  \\\n",
       "0     http://bioontology.org/projects/ontologies/fma...   \n",
       "1     http://bioontology.org/projects/ontologies/fma...   \n",
       "2     http://bioontology.org/projects/ontologies/fma...   \n",
       "3     http://bioontology.org/projects/ontologies/fma...   \n",
       "4     http://bioontology.org/projects/ontologies/fma...   \n",
       "...                                                 ...   \n",
       "8343  http://bioontology.org/projects/ontologies/fma...   \n",
       "8344  http://bioontology.org/projects/ontologies/fma...   \n",
       "8345  http://bioontology.org/projects/ontologies/fma...   \n",
       "8346  http://bioontology.org/projects/ontologies/fma...   \n",
       "8347  http://bioontology.org/projects/ontologies/fma...   \n",
       "\n",
       "                    source_label  \\\n",
       "0                      APUD cell   \n",
       "1          Abdominopelvic region   \n",
       "2                        Abdomen   \n",
       "3                 Abdominopelvis   \n",
       "4        Pars abdominalis aortae   \n",
       "...                          ...   \n",
       "8343           Zygomaticus major   \n",
       "8344  Musculus zygomaticus major   \n",
       "8345           Zygomaticus minor   \n",
       "8346  Musculus zygomaticus minor   \n",
       "8347                      Zygote   \n",
       "\n",
       "                                                 target  \\\n",
       "0     http://ncicb.nci.nih.gov/xml/owl/EVS/Thesaurus...   \n",
       "1     http://ncicb.nci.nih.gov/xml/owl/EVS/Thesaurus...   \n",
       "2     http://ncicb.nci.nih.gov/xml/owl/EVS/Thesaurus...   \n",
       "3     http://ncicb.nci.nih.gov/xml/owl/EVS/Thesaurus...   \n",
       "4     http://ncicb.nci.nih.gov/xml/owl/EVS/Thesaurus...   \n",
       "...                                                 ...   \n",
       "8343  http://ncicb.nci.nih.gov/xml/owl/EVS/Thesaurus...   \n",
       "8344  http://ncicb.nci.nih.gov/xml/owl/EVS/Thesaurus...   \n",
       "8345  http://ncicb.nci.nih.gov/xml/owl/EVS/Thesaurus...   \n",
       "8346  http://ncicb.nci.nih.gov/xml/owl/EVS/Thesaurus...   \n",
       "8347  http://ncicb.nci.nih.gov/xml/owl/EVS/Thesaurus...   \n",
       "\n",
       "                          target_label  \n",
       "0                            APUD Cell  \n",
       "1                  Rectosigmoid Region  \n",
       "2                              abdomen  \n",
       "3                        Emperipolesis  \n",
       "4           Brainstem Neuroglial Tumor  \n",
       "...                                ...  \n",
       "8343                 Zygomaticus Major  \n",
       "8344  Mesothelioma Malignant Recurrent  \n",
       "8345                 Zygomaticus Minor  \n",
       "8346      Malignant Cutaneous Melanoma  \n",
       "8347                            Zygote  \n",
       "\n",
       "[8348 rows x 4 columns]"
      ]
     },
     "execution_count": 409,
     "metadata": {},
     "output_type": "execute_result"
    }
   ],
   "source": [
    "maponto.match_label_embeddings_OT(slabel_clnd_uris, tlabel_clnd_uris, embs_model, \\\n",
    "                        maponto.make_mappings_nn, None, None)"
   ]
  },
  {
   "cell_type": "code",
   "execution_count": 415,
   "id": "68ee0c17-cdf8-4290-8cb8-3c121de3ed84",
   "metadata": {},
   "outputs": [
    {
     "data": {
      "text/plain": [
       "<module 'OTMapOnto' from '/Users/yan/Google Drive/django/otmaponto/match/ontology_mapping/src/OTMapOnto.py'>"
      ]
     },
     "execution_count": 415,
     "metadata": {},
     "output_type": "execute_result"
    }
   ],
   "source": [
    "importlib.reload(maponto)"
   ]
  },
  {
   "cell_type": "code",
   "execution_count": 61,
   "id": "9e1fd8e7-36d2-406d-a401-d69b61f58f39",
   "metadata": {},
   "outputs": [
    {
     "name": "stderr",
     "output_type": "stream",
     "text": [
      "INFO:root:Python ensemble mapper info: map ../data/largebio/largebio-all_tasks_2016/small-fma-nci/source.rdf to ../data/largebio/largebio-all_tasks_2016/small-fma-nci/target.rdf\n"
     ]
    },
    {
     "name": "stdout",
     "output_type": "stream",
     "text": [
      "../data/largebio/largebio-all_tasks_2016/small-fma-nci/source.rdf\n"
     ]
    },
    {
     "name": "stderr",
     "output_type": "stream",
     "text": [
      "INFO:root:Read source with 16919 triples.\n"
     ]
    },
    {
     "name": "stdout",
     "output_type": "stream",
     "text": [
      "../data/largebio/largebio-all_tasks_2016/small-fma-nci/target.rdf\n"
     ]
    },
    {
     "name": "stderr",
     "output_type": "stream",
     "text": [
      "INFO:root:Read target with 64857 triples.\n",
      "INFO:root:MAP CONCEPTS\n",
      "INFO:root:The number of level_1 predicted mapping is 3123.\n",
      "INFO:root:Retrieving Synsets by WordNet...\n",
      "INFO:root:The number of level_2 predicted mapping is 25\n",
      "INFO:root:Skip the level_3 mapping.\n",
      "INFO:root:Skip the level_4 mapping.\n",
      "INFO:root:Skip the level_5 mapping.\n",
      "INFO:root:Matching Label Embeddings by Optimal Transport...\n",
      "INFO:root:Computing the Ground Embedding Costs between the Source and Target Points...\n",
      "INFO:root:The shape of the cost matrix is (2899, 12134)\n",
      "INFO:root:Computing Optimal Transport Plan...\n",
      "INFO:root:Computing Wasserstein distance by the Sinkhorn algorithm...\n"
     ]
    },
    {
     "name": "stdout",
     "output_type": "stream",
     "text": [
      "Warning: numerical errors at iteration 0\n"
     ]
    },
    {
     "name": "stderr",
     "output_type": "stream",
     "text": [
      "INFO:root:The Sinkhorn got warnings. Computing Wasserstein distance by the EMD algorithm...\n",
      "INFO:root:Making Mappings from a Pairwise OT Plan Matrix by Mutual NN...\n",
      "INFO:root:The number of level_6 predicted mapping is 2781\n",
      "INFO:root:TOTAL NUMBER OF MAPPINGS BETWEEN CONCPETS IS 5929\n",
      "INFO:root:=================================================\n",
      "INFO:root:MAP OBJECT PROPERTIES\n",
      "INFO:root:Retrieving Synsets by WordNet...\n",
      "INFO:root:Compute the related words for each source concept....\n",
      "0it [00:00, ?it/s]\n",
      "INFO:root:Total number of source concepts computed with relatd words is 0\n",
      "INFO:root:Compute the related words for each target concept....\n",
      "63it [00:01, 55.86it/s]\n",
      "INFO:root:Total number of target concepts computed with related words is 63\n",
      "INFO:root:Skip the level_4 mapping.\n",
      "INFO:root:Skip the level_5 mapping.\n",
      "INFO:root:Skip the level_6 mappping.\n",
      "INFO:root:TOTAL NUMBER OF MAPPINGS BETWEEN OBJECT PROPERTIES IS 0\n",
      "INFO:root:========================================================\n",
      "INFO:root:MAP DATATYPE PROPERTIES\n",
      "INFO:root:Retrieving Synsets by WordNet...\n",
      "INFO:root:Compute the related words for each source concept....\n",
      "24it [00:00, 55.47it/s]\n",
      "INFO:root:Total number of source concepts computed with relatd words is 24\n",
      "INFO:root:Compute the related words for each target concept....\n",
      "0it [00:00, ?it/s]\n",
      "INFO:root:Total number of target concepts computed with related words is 0\n",
      "INFO:root:Skip the level_4 mapping.\n",
      "INFO:root:Skip the level_5 mapping.\n",
      "INFO:root:Skip the level_6 mappping.\n",
      "INFO:root:TOTAL NUMBER OF MAPPINGS BETWEEN DATATYPE PROPERTIES IS 0\n",
      "INFO:root:===========================================================\n"
     ]
    }
   ],
   "source": [
    "mapper.align(source_url, target_url, output_url)"
   ]
  },
  {
   "cell_type": "code",
   "execution_count": 62,
   "id": "78852a92-39da-44de-a23c-2f3ea9aa1bd0",
   "metadata": {},
   "outputs": [
    {
     "name": "stdout",
     "output_type": "stream",
     "text": [
      "Total number of predicted is 5929\n",
      "Total number of references is 3024\n",
      "Total correctly predicted alignments is 3068\n",
      "Total number of predicted is 5929\n",
      "Precision is 0.5174565694046214\n",
      "Recall is 1.0145502645502646\n",
      "F1-Measure is 0.6853568636211327\n"
     ]
    }
   ],
   "source": [
    "preds = maponto.load_alignments(output_url, 'predicted')\n",
    "maponto.evaluate(preds, refs_url)"
   ]
  },
  {
   "cell_type": "code",
   "execution_count": 63,
   "id": "3041827f-ed29-4ccc-b48b-33ecfbe365f0",
   "metadata": {},
   "outputs": [],
   "source": [
    "source_url = \"../data/largebio/largebio-all_tasks_2016/small-fma-snomed/source.rdf\"\n",
    "target_url = \"../data/largebio/largebio-all_tasks_2016/small-fma-snomed/target.rdf\"\n",
    "output_url = '../data/results/largebio_small_fma_snomed_alignment.rdf'\n",
    "refs_url = \"../data/largebio/largebio-all_tasks_2016/small-fma-snomed/reference.rdf\""
   ]
  },
  {
   "cell_type": "code",
   "execution_count": 64,
   "id": "e60db0d6-ecdf-41ec-b9b5-e9810581bf46",
   "metadata": {},
   "outputs": [
    {
     "name": "stderr",
     "output_type": "stream",
     "text": [
      "INFO:root:Python ensemble mapper info: map ../data/largebio/largebio-all_tasks_2016/small-fma-snomed/source.rdf to ../data/largebio/largebio-all_tasks_2016/small-fma-snomed/target.rdf\n"
     ]
    },
    {
     "name": "stdout",
     "output_type": "stream",
     "text": [
      "../data/largebio/largebio-all_tasks_2016/small-fma-snomed/source.rdf\n"
     ]
    },
    {
     "name": "stderr",
     "output_type": "stream",
     "text": [
      "INFO:root:Read source with 47699 triples.\n"
     ]
    },
    {
     "name": "stdout",
     "output_type": "stream",
     "text": [
      "../data/largebio/largebio-all_tasks_2016/small-fma-snomed/target.rdf\n"
     ]
    },
    {
     "name": "stderr",
     "output_type": "stream",
     "text": [
      "INFO:root:Read target with 108957 triples.\n",
      "INFO:root:MAP CONCEPTS\n",
      "INFO:root:The number of level_1 predicted mapping is 1604.\n",
      "INFO:root:Retrieving Synsets by WordNet...\n",
      "INFO:root:The number of level_2 predicted mapping is 70\n",
      "INFO:root:Skip the level_3 mapping.\n",
      "INFO:root:Skip the level_4 mapping.\n",
      "INFO:root:Skip the level_5 mapping.\n",
      "INFO:root:Matching Label Embeddings by Optimal Transport...\n",
      "INFO:root:Computing the Ground Embedding Costs between the Source and Target Points...\n",
      "INFO:root:The shape of the cost matrix is (23230, 11809)\n",
      "INFO:root:Computing Optimal Transport Plan...\n",
      "INFO:root:Computing Wasserstein distance by the Sinkhorn algorithm...\n"
     ]
    },
    {
     "name": "stdout",
     "output_type": "stream",
     "text": [
      "Warning: numerical errors at iteration 663\n"
     ]
    },
    {
     "name": "stderr",
     "output_type": "stream",
     "text": [
      "INFO:root:The Sinkhorn got warnings. Computing Wasserstein distance by the EMD algorithm...\n",
      "INFO:root:Making Mappings from a Pairwise OT Plan Matrix by Mutual NN...\n",
      "INFO:root:The number of level_6 predicted mapping is 11139\n",
      "INFO:root:TOTAL NUMBER OF MAPPINGS BETWEEN CONCPETS IS 12813\n",
      "INFO:root:=================================================\n",
      "INFO:root:MAP OBJECT PROPERTIES\n",
      "INFO:root:Retrieving Synsets by WordNet...\n",
      "INFO:root:Compute the related words for each source concept....\n",
      "0it [00:00, ?it/s]\n",
      "INFO:root:Total number of source concepts computed with relatd words is 0\n",
      "INFO:root:Compute the related words for each target concept....\n",
      "18it [00:00, 54.64it/s]\n",
      "INFO:root:Total number of target concepts computed with related words is 18\n",
      "INFO:root:Skip the level_4 mapping.\n",
      "INFO:root:Skip the level_5 mapping.\n",
      "INFO:root:Skip the level_6 mappping.\n",
      "INFO:root:TOTAL NUMBER OF MAPPINGS BETWEEN OBJECT PROPERTIES IS 0\n",
      "INFO:root:========================================================\n",
      "INFO:root:MAP DATATYPE PROPERTIES\n",
      "INFO:root:Retrieving Synsets by WordNet...\n",
      "INFO:root:Compute the related words for each source concept....\n",
      "24it [00:00, 58.35it/s]\n",
      "INFO:root:Total number of source concepts computed with relatd words is 24\n",
      "INFO:root:Compute the related words for each target concept....\n",
      "0it [00:00, ?it/s]\n",
      "INFO:root:Total number of target concepts computed with related words is 0\n",
      "INFO:root:Skip the level_4 mapping.\n",
      "INFO:root:Skip the level_5 mapping.\n",
      "INFO:root:Skip the level_6 mappping.\n",
      "INFO:root:TOTAL NUMBER OF MAPPINGS BETWEEN DATATYPE PROPERTIES IS 0\n",
      "INFO:root:===========================================================\n"
     ]
    }
   ],
   "source": [
    "mapper.align(source_url, target_url, output_url)"
   ]
  },
  {
   "cell_type": "code",
   "execution_count": 65,
   "id": "6b66260e-f8bc-4ad0-be39-5bf3af3b7534",
   "metadata": {},
   "outputs": [
    {
     "name": "stdout",
     "output_type": "stream",
     "text": [
      "Total number of predicted is 12813\n",
      "Total number of references is 9008\n",
      "Total correctly predicted alignments is 6197\n",
      "Total number of predicted is 12813\n",
      "Precision is 0.48364941855927573\n",
      "Recall is 0.6879440497335702\n",
      "F1-Measure is 0.5679849686082215\n"
     ]
    }
   ],
   "source": [
    "preds = maponto.load_alignments(output_url, 'predicted')\n",
    "maponto.evaluate(preds, refs_url)"
   ]
  },
  {
   "cell_type": "code",
   "execution_count": 421,
   "id": "a474c3d6-8a6a-4ced-aa35-17a0346252ab",
   "metadata": {},
   "outputs": [],
   "source": [
    "source_url = \"../data/largebio/largebio-all_tasks_2016/small-snomed-nci/source.rdf\"\n",
    "target_url = \"../data/largebio/largebio-all_tasks_2016/small-snomed-nci/target.rdf\"\n",
    "output_url = '../data/results/largebio_small_snomed_nci_alignment.rdf'\n",
    "refs_url = \"../data/largebio/largebio-all_tasks_2016/small-snomed-nci/reference.rdf\""
   ]
  },
  {
   "cell_type": "code",
   "execution_count": null,
   "id": "9ca29645-b8cc-4030-9b0c-9ec7d2a64b0b",
   "metadata": {},
   "outputs": [
    {
     "name": "stderr",
     "output_type": "stream",
     "text": [
      "INFO:root:Python ensemble mapper info: map ../data/largebio/largebio-all_tasks_2016/small-snomed-nci/source.rdf to ../data/largebio/largebio-all_tasks_2016/small-snomed-nci/target.rdf\n",
      "INFO:root:Read source with 1027068 triples.\n",
      "INFO:root:Read target with 249276 triples.\n",
      "INFO:root:MAP CONCEPTS\n",
      "INFO:root:The number of level_1 predicted mapping is 15049.\n",
      "INFO:root:Retrieving Synsets by WordNet...\n",
      "INFO:root:The number of level_2 predicted mapping is 624\n",
      "INFO:root:Skip the level_3 mapping.\n",
      "INFO:root:Skip the level_4 mapping.\n",
      "INFO:root:Skip the level_5 mapping.\n",
      "INFO:root:Matching Label Embeddings by Optimal Transport...\n",
      "INFO:root:Computing the Ground Embedding Costs between the Source and Target Points...\n",
      "INFO:root:The shape of the cost matrix is (41031, 36011)\n",
      "INFO:root:Computing Optimal Transport Plan...\n",
      "INFO:root:Computing Wasserstein distance by the Sinkhorn algorithm...\n"
     ]
    },
    {
     "name": "stdout",
     "output_type": "stream",
     "text": [
      "Warning: numerical errors at iteration 31\n"
     ]
    }
   ],
   "source": [
    "# Kernel died on running this\n",
    "#mapper.align(source_url, target_url, output_url)"
   ]
  },
  {
   "cell_type": "code",
   "execution_count": null,
   "id": "be717fb5-7150-4b31-b8a2-38028a210909",
   "metadata": {},
   "outputs": [],
   "source": [
    "preds = maponto.load_alignments(output_url, 'predicted')\n",
    "maponto.evaluate(preds, refs_url)"
   ]
  },
  {
   "cell_type": "markdown",
   "id": "d6e3ce27-a174-497f-9515-85d8c1809c85",
   "metadata": {},
   "source": [
    "# Phenotype"
   ]
  },
  {
   "cell_type": "code",
   "execution_count": 66,
   "id": "48ce0b6d-38ba-42c9-be82-211e262fdbbf",
   "metadata": {},
   "outputs": [],
   "source": [
    "source_url = \"../data/phenotype/phenotype-doid-ordo-2017-bioportal/doid-ordo/source.rdf\"\n",
    "target_url = \"../data/phenotype/phenotype-doid-ordo-2017-bioportal/doid-ordo/target.rdf\"\n",
    "output_url = '../data/results/phenotye_doid_ordo_2017_alignment.rdf'\n",
    "refs_url = \"../data/phenotype/phenotype-doid-ordo-2017-bioportal/doid-ordo/reference.rdf\""
   ]
  },
  {
   "cell_type": "code",
   "execution_count": 67,
   "id": "17139afb-ca8b-4ade-9018-b73edeffdec2",
   "metadata": {},
   "outputs": [
    {
     "name": "stderr",
     "output_type": "stream",
     "text": [
      "INFO:root:Python ensemble mapper info: map ../data/phenotype/phenotype-doid-ordo-2017-bioportal/doid-ordo/source.rdf to ../data/phenotype/phenotype-doid-ordo-2017-bioportal/doid-ordo/target.rdf\n"
     ]
    },
    {
     "name": "stdout",
     "output_type": "stream",
     "text": [
      "../data/phenotype/phenotype-doid-ordo-2017-bioportal/doid-ordo/source.rdf\n",
      "http://purl.obolibrary.org/obo/doid/obo/ext.owl\n"
     ]
    },
    {
     "name": "stderr",
     "output_type": "stream",
     "text": [
      "INFO:root:parse_owl_withImports: graph.prase(): an exception occured.\n",
      "INFO:root:Read source with 203208 triples.\n"
     ]
    },
    {
     "name": "stdout",
     "output_type": "stream",
     "text": [
      "../data/phenotype/phenotype-doid-ordo-2017-bioportal/doid-ordo/target.rdf\n"
     ]
    },
    {
     "name": "stderr",
     "output_type": "stream",
     "text": [
      "INFO:root:Read target with 962199 triples.\n",
      "INFO:root:MAP CONCEPTS\n",
      "INFO:root:The number of level_1 predicted mapping is 1370.\n",
      "INFO:root:Retrieving Synsets by WordNet...\n",
      "INFO:root:The number of level_2 predicted mapping is 4\n",
      "INFO:root:Skip the level_3 mapping.\n",
      "INFO:root:Skip the level_4 mapping.\n",
      "INFO:root:Skip the level_5 mapping.\n",
      "INFO:root:Matching Label Embeddings by Optimal Transport...\n",
      "INFO:root:Computing the Ground Embedding Costs between the Source and Target Points...\n",
      "INFO:root:The shape of the cost matrix is (9594, 12231)\n",
      "INFO:root:Computing Optimal Transport Plan...\n",
      "INFO:root:Computing Wasserstein distance by the Sinkhorn algorithm...\n"
     ]
    },
    {
     "name": "stdout",
     "output_type": "stream",
     "text": [
      "Warning: numerical errors at iteration 329\n"
     ]
    },
    {
     "name": "stderr",
     "output_type": "stream",
     "text": [
      "INFO:root:The Sinkhorn got warnings. Computing Wasserstein distance by the EMD algorithm...\n",
      "INFO:root:Making Mappings from a Pairwise OT Plan Matrix by Mutual NN...\n",
      "INFO:root:The number of level_6 predicted mapping is 6336\n",
      "INFO:root:TOTAL NUMBER OF MAPPINGS BETWEEN CONCPETS IS 7710\n",
      "INFO:root:=================================================\n",
      "INFO:root:MAP OBJECT PROPERTIES\n",
      "INFO:root:Retrieving Synsets by WordNet...\n",
      "INFO:root:Compute the related words for each source concept....\n",
      "19it [00:00, 59.28it/s]\n",
      "INFO:root:Total number of source concepts computed with relatd words is 19\n",
      "INFO:root:Compute the related words for each target concept....\n",
      "4it [00:00, 57.03it/s]\n",
      "INFO:root:Total number of target concepts computed with related words is 4\n",
      "100%|██████████| 19/19 [00:00<00:00, 33122.10it/s]\n",
      "INFO:root:The number of level_3 predicted mapping is 0\n",
      "INFO:root:Skip the level_4 mapping.\n",
      "INFO:root:Skip the level_5 mapping.\n",
      "INFO:root:Skip the level_6 mappping.\n",
      "INFO:root:TOTAL NUMBER OF MAPPINGS BETWEEN OBJECT PROPERTIES IS 0\n",
      "INFO:root:========================================================\n",
      "INFO:root:MAP DATATYPE PROPERTIES\n",
      "INFO:root:Retrieving Synsets by WordNet...\n",
      "INFO:root:Compute the related words for each source concept....\n",
      "0it [00:00, ?it/s]\n",
      "INFO:root:Total number of source concepts computed with relatd words is 0\n",
      "INFO:root:Compute the related words for each target concept....\n",
      "0it [00:00, ?it/s]\n",
      "INFO:root:Total number of target concepts computed with related words is 0\n",
      "INFO:root:Skip the level_4 mapping.\n",
      "INFO:root:Skip the level_5 mapping.\n",
      "INFO:root:Skip the level_6 mappping.\n",
      "INFO:root:TOTAL NUMBER OF MAPPINGS BETWEEN DATATYPE PROPERTIES IS 0\n",
      "INFO:root:===========================================================\n"
     ]
    }
   ],
   "source": [
    "mapper.align(source_url, target_url, output_url)"
   ]
  },
  {
   "cell_type": "code",
   "execution_count": 68,
   "id": "00c5e132-e177-4782-9c6c-bc75b8c842d2",
   "metadata": {},
   "outputs": [
    {
     "name": "stdout",
     "output_type": "stream",
     "text": [
      "Total number of predicted is 7710\n",
      "Total number of references is 1237\n",
      "Total correctly predicted alignments is 1228\n",
      "Total number of predicted is 7710\n",
      "Precision is 0.15927367055771724\n",
      "Recall is 0.9927243330638642\n",
      "F1-Measure is 0.27450542081144513\n"
     ]
    }
   ],
   "source": [
    "preds = maponto.load_alignments(output_url, 'predicted')\n",
    "maponto.evaluate(preds, refs_url)"
   ]
  },
  {
   "cell_type": "code",
   "execution_count": 9,
   "id": "e9398c9a-e1dd-4ba9-bf17-f02a73860dcd",
   "metadata": {},
   "outputs": [],
   "source": [
    "source_graph = Graph().parse(source_url)\n",
    "target_graph = Graph().parse(target_url)\n",
    "slabel_clnd_uris = maponto.clean_labels(maponto.extract_label_uris(source_graph))\n",
    "tlabel_clnd_uris = maponto.clean_labels(maponto.extract_label_uris(target_graph))"
   ]
  },
  {
   "cell_type": "code",
   "execution_count": 10,
   "id": "db79b1dd-711e-46a1-9531-e3e18f360cef",
   "metadata": {},
   "outputs": [
    {
     "name": "stderr",
     "output_type": "stream",
     "text": [
      "INFO:root:Retrieving Synsets by WordNet...\n"
     ]
    },
    {
     "name": "stdout",
     "output_type": "stream",
     "text": [
      "Total number of references is 1237\n",
      "Total correctly predicted alignments is 1222\n",
      "Total number of predicted is 1377\n",
      "Precision is 0.8874364560639071\n",
      "Recall is 0.9878738884397736\n",
      "F1-Measure is 0.9349655700076511\n"
     ]
    }
   ],
   "source": [
    "maponto.evaluate(maponto.match_label_synonyms(slabel_clnd_uris, tlabel_clnd_uris, None), \n",
    "                 refs_url)"
   ]
  },
  {
   "cell_type": "code",
   "execution_count": 40,
   "id": "53534b3d-e90c-4d38-a914-4daae1d5af88",
   "metadata": {},
   "outputs": [],
   "source": [
    "source_url = \"../data/phenotype/phenotype-hp-mp-2017-bioportal/hp-mp/source.rdf\"\n",
    "target_url = \"../data/phenotype/phenotype-hp-mp-2017-bioportal/hp-mp/target.rdf\"\n",
    "output_url = '../data/results/phenotye_hp_mp_2017_alignment.rdf'\n",
    "refs_url = \"../data/phenotype/phenotype-hp-mp-2017-bioportal/hp-mp/reference.rdf\""
   ]
  },
  {
   "cell_type": "code",
   "execution_count": 41,
   "id": "67df3477-d7b3-4de4-937a-162125357204",
   "metadata": {},
   "outputs": [
    {
     "name": "stderr",
     "output_type": "stream",
     "text": [
      "INFO:root:Python ensemble mapper info: map ../data/phenotype/phenotype-hp-mp-2017-bioportal/hp-mp/source.rdf to ../data/phenotype/phenotype-hp-mp-2017-bioportal/hp-mp/target.rdf\n"
     ]
    },
    {
     "name": "stdout",
     "output_type": "stream",
     "text": [
      "../data/phenotype/phenotype-hp-mp-2017-bioportal/hp-mp/source.rdf\n",
      "http://purl.obolibrary.org/obo/upheno/imports/ro_extra.owl\n",
      "http://purl.obolibrary.org/obo/upheno/imports/ro_import.owl\n",
      "http://purl.obolibrary.org/obo/upheno/imports/pato_import.owl\n",
      "http://purl.obolibrary.org/obo/upheno/imports/chebi_import.owl\n",
      "http://purl.obolibrary.org/obo/upheno/imports/hsapdv_import.owl\n",
      "http://purl.obolibrary.org/obo/upheno/imports/go_import.owl\n",
      "http://purl.obolibrary.org/obo/upheno/imports/nbo_import.owl\n",
      "http://purl.obolibrary.org/obo/upheno/imports/uberon_import.owl\n",
      "http://purl.obolibrary.org/obo/upheno/imports/mpath_import.owl\n",
      "http://purl.obolibrary.org/obo/upheno/imports/doid_import.owl\n",
      "http://purl.obolibrary.org/obo/upheno/imports/extra.owl\n",
      "http://purl.obolibrary.org/obo/upheno/imports/pr_import.owl\n"
     ]
    },
    {
     "name": "stderr",
     "output_type": "stream",
     "text": [
      "INFO:root:Read source with 579995 triples.\n"
     ]
    },
    {
     "name": "stdout",
     "output_type": "stream",
     "text": [
      "../data/phenotype/phenotype-hp-mp-2017-bioportal/hp-mp/target.rdf\n",
      "http://purl.obolibrary.org/obo/upheno/imports/doid_import.owl\n",
      "http://purl.obolibrary.org/obo/upheno/imports/extra.owl\n",
      "http://purl.obolibrary.org/obo/upheno/imports/uberon_import.owl\n",
      "http://purl.obolibrary.org/obo/upheno/imports/mpath_import.owl\n",
      "http://purl.obolibrary.org/obo/upheno/imports/go_import.owl\n",
      "http://purl.obolibrary.org/obo/upheno/imports/ro_import.owl\n",
      "http://purl.obolibrary.org/obo/upheno/imports/pato_import.owl\n",
      "http://purl.obolibrary.org/obo/upheno/imports/chebi_import.owl\n",
      "http://purl.obolibrary.org/obo/upheno/imports/nbo_import.owl\n",
      "http://purl.obolibrary.org/obo/upheno/imports/pr_import.owl\n"
     ]
    },
    {
     "name": "stderr",
     "output_type": "stream",
     "text": [
      "INFO:root:Read target with 561486 triples.\n",
      "INFO:root:MAP CONCEPTS\n",
      "INFO:root:The number of level_1 predicted mapping is 21054.\n",
      "INFO:root:Retrieving Synsets by WordNet...\n",
      "INFO:root:The number of level_2 predicted mapping is 14\n",
      "INFO:root:Skip the level_3 mapping.\n",
      "INFO:root:Skip the level_4 mapping.\n",
      "INFO:root:Skip the level_5 mapping.\n",
      "INFO:root:Matching Label Embeddings by Optimal Transport...\n",
      "INFO:root:Computing the Ground Embedding Costs between the Source and Target Points...\n",
      "INFO:root:The shape of the cost matrix is (12182, 11202)\n",
      "INFO:root:Computing Optimal Transport Plan...\n",
      "INFO:root:Computing Wasserstein distance by the Sinkhorn algorithm...\n",
      "INFO:root:Making Mappings from a Pairwise OT Plan Matrix by Mutual NN...\n",
      "INFO:root:The number of level_6 predicted mapping is 5344\n",
      "INFO:root:TOTAL NUMBER OF MAPPINGS BETWEEN CONCPETS IS 26412\n",
      "INFO:root:=================================================\n",
      "INFO:root:MAP OBJECT PROPERTIES\n",
      "INFO:root:The number of level_1 predicted mapping is 123.\n",
      "INFO:root:Retrieving Synsets by WordNet...\n",
      "INFO:root:Compute the related words for each source concept....\n",
      "6it [00:00, 52.51it/s]\n",
      "INFO:root:Total number of source concepts computed with relatd words is 6\n",
      "INFO:root:Compute the related words for each target concept....\n",
      "5it [00:00, 53.24it/s]\n",
      "INFO:root:Total number of target concepts computed with related words is 5\n",
      "100%|██████████| 6/6 [00:00<00:00, 17189.77it/s]\n",
      "INFO:root:The number of level_3 predicted mapping is 0\n",
      "INFO:root:Skip the level_4 mapping.\n",
      "INFO:root:Skip the level_5 mapping.\n",
      "INFO:root:Skip the level_6 mappping.\n",
      "INFO:root:TOTAL NUMBER OF MAPPINGS BETWEEN OBJECT PROPERTIES IS 123\n",
      "INFO:root:========================================================\n",
      "INFO:root:MAP DATATYPE PROPERTIES\n",
      "INFO:root:Retrieving Synsets by WordNet...\n",
      "INFO:root:Compute the related words for each source concept....\n",
      "0it [00:00, ?it/s]\n",
      "INFO:root:Total number of source concepts computed with relatd words is 0\n",
      "INFO:root:Compute the related words for each target concept....\n",
      "0it [00:00, ?it/s]\n",
      "INFO:root:Total number of target concepts computed with related words is 0\n",
      "INFO:root:Skip the level_4 mapping.\n",
      "INFO:root:Skip the level_5 mapping.\n",
      "INFO:root:Skip the level_6 mappping.\n",
      "INFO:root:TOTAL NUMBER OF MAPPINGS BETWEEN DATATYPE PROPERTIES IS 0\n",
      "INFO:root:===========================================================\n"
     ]
    }
   ],
   "source": [
    "mapper.align(source_url, target_url, output_url)"
   ]
  },
  {
   "cell_type": "code",
   "execution_count": 42,
   "id": "d1ec7d21-b3a6-4652-a7fe-715c14af04c6",
   "metadata": {},
   "outputs": [
    {
     "name": "stdout",
     "output_type": "stream",
     "text": [
      "Total number of predicted is 26535\n",
      "Total number of references is 696\n",
      "Total correctly predicted alignments is 690\n",
      "Total number of predicted is 26535\n",
      "Precision is 0.026003391746749576\n",
      "Recall is 0.9913793103448276\n",
      "F1-Measure is 0.050677536631045496\n"
     ]
    }
   ],
   "source": [
    "preds = maponto.load_alignments(output_url, 'predicted')\n",
    "maponto.evaluate(preds, refs_url)"
   ]
  },
  {
   "cell_type": "markdown",
   "id": "6fcb940f-789d-40ed-b65d-fff9df7aa085",
   "metadata": {},
   "source": [
    "# Geolink"
   ]
  },
  {
   "cell_type": "code",
   "execution_count": 14,
   "id": "2e1038a7-24c2-490a-a61a-9d713b8efc41",
   "metadata": {},
   "outputs": [],
   "source": [
    "source_url = \"../data/geolink/geolink-v1/gbo-gmo/source.rdf\"\n",
    "target_url = \"../data/geolink/geolink-v1/gbo-gmo/target.rdf\"\n",
    "output_url = '../data/results/geolink_gbo_gmo_alignment.rdf'\n",
    "refs_url = \"../data/geolink/geolink-v1/gbo-gmo/reference.rdf\""
   ]
  },
  {
   "cell_type": "code",
   "execution_count": 15,
   "id": "557daba3-83ad-4145-9c8b-1c2efbcd7bc1",
   "metadata": {},
   "outputs": [
    {
     "name": "stderr",
     "output_type": "stream",
     "text": [
      "INFO:root:Python ensemble mapper info: map ../data/geolink/geolink-v1/gbo-gmo/source.rdf to ../data/geolink/geolink-v1/gbo-gmo/target.rdf\n"
     ]
    },
    {
     "ename": "ParserError",
     "evalue": "file:///Users/yan/Google%20Drive/django/otmaponto/match/ontology_mapping/data/geolink/geolink-v1/gbo-gmo/source.rdf:21:62: Repeat node-elements inside property elements: http://www.w3.org/2002/07/owl#IRI",
     "output_type": "error",
     "traceback": [
      "\u001b[0;31m---------------------------------------------------------------------------\u001b[0m",
      "\u001b[0;31mParserError\u001b[0m                               Traceback (most recent call last)",
      "\u001b[0;32m<ipython-input-15-6770be26f0b5>\u001b[0m in \u001b[0;36m<module>\u001b[0;34m\u001b[0m\n\u001b[0;32m----> 1\u001b[0;31m \u001b[0mmapper\u001b[0m\u001b[0;34m.\u001b[0m\u001b[0malign\u001b[0m\u001b[0;34m(\u001b[0m\u001b[0msource_url\u001b[0m\u001b[0;34m,\u001b[0m \u001b[0mtarget_url\u001b[0m\u001b[0;34m,\u001b[0m \u001b[0moutput_url\u001b[0m\u001b[0;34m)\u001b[0m\u001b[0;34m\u001b[0m\u001b[0;34m\u001b[0m\u001b[0m\n\u001b[0m",
      "\u001b[0;32m~/Google Drive/django/otmaponto/match/ontology_mapping/src/OTMapper.py\u001b[0m in \u001b[0;36malign\u001b[0;34m(self, source_url, target_url, output_url)\u001b[0m\n\u001b[1;32m   1433\u001b[0m \u001b[0;34m\u001b[0m\u001b[0m\n\u001b[1;32m   1434\u001b[0m     \u001b[0;32mdef\u001b[0m \u001b[0malign\u001b[0m\u001b[0;34m(\u001b[0m\u001b[0mself\u001b[0m\u001b[0;34m,\u001b[0m \u001b[0msource_url\u001b[0m\u001b[0;34m,\u001b[0m \u001b[0mtarget_url\u001b[0m\u001b[0;34m,\u001b[0m \u001b[0moutput_url\u001b[0m\u001b[0;34m)\u001b[0m\u001b[0;34m:\u001b[0m\u001b[0;34m\u001b[0m\u001b[0;34m\u001b[0m\u001b[0m\n\u001b[0;32m-> 1435\u001b[0;31m         \u001b[0mmatch\u001b[0m\u001b[0;34m(\u001b[0m\u001b[0msource_url\u001b[0m\u001b[0;34m,\u001b[0m \u001b[0mtarget_url\u001b[0m\u001b[0;34m,\u001b[0m \u001b[0mself\u001b[0m\u001b[0;34m.\u001b[0m\u001b[0membs_model\u001b[0m\u001b[0;34m,\u001b[0m \u001b[0moutput_url\u001b[0m\u001b[0;34m,\u001b[0m \u001b[0;32mNone\u001b[0m\u001b[0;34m)\u001b[0m\u001b[0;34m\u001b[0m\u001b[0;34m\u001b[0m\u001b[0m\n\u001b[0m\u001b[1;32m   1436\u001b[0m \u001b[0;34m\u001b[0m\u001b[0m\n\u001b[1;32m   1437\u001b[0m \u001b[0;34m\u001b[0m\u001b[0m\n",
      "\u001b[0;32m~/Google Drive/django/otmaponto/match/ontology_mapping/src/OTMapper.py\u001b[0m in \u001b[0;36mmatch\u001b[0;34m(source_url, target_url, embs_model, output_url, input_alignment_url)\u001b[0m\n\u001b[1;32m   1402\u001b[0m \u001b[0;34m\u001b[0m\u001b[0m\n\u001b[1;32m   1403\u001b[0m \u001b[0;34m\u001b[0m\u001b[0m\n\u001b[0;32m-> 1404\u001b[0;31m     \u001b[0mresulting_alignment\u001b[0m \u001b[0;34m=\u001b[0m \u001b[0mensemble_map\u001b[0m\u001b[0;34m(\u001b[0m\u001b[0msource_url\u001b[0m\u001b[0;34m,\u001b[0m \u001b[0mtarget_url\u001b[0m\u001b[0;34m,\u001b[0m \u001b[0membs_model\u001b[0m\u001b[0;34m)\u001b[0m\u001b[0;34m\u001b[0m\u001b[0;34m\u001b[0m\u001b[0m\n\u001b[0m\u001b[1;32m   1405\u001b[0m \u001b[0;34m\u001b[0m\u001b[0m\n\u001b[1;32m   1406\u001b[0m \u001b[0;34m\u001b[0m\u001b[0m\n",
      "\u001b[0;32m~/Google Drive/django/otmaponto/match/ontology_mapping/src/OTMapper.py\u001b[0m in \u001b[0;36mensemble_map\u001b[0;34m(source_url, target_url, embs_model)\u001b[0m\n\u001b[1;32m   1316\u001b[0m \u001b[0;34m\u001b[0m\u001b[0m\n\u001b[1;32m   1317\u001b[0m     \u001b[0msource_graph\u001b[0m \u001b[0;34m=\u001b[0m \u001b[0mGraph\u001b[0m\u001b[0;34m(\u001b[0m\u001b[0;34m)\u001b[0m\u001b[0;34m\u001b[0m\u001b[0;34m\u001b[0m\u001b[0m\n\u001b[0;32m-> 1318\u001b[0;31m     \u001b[0msource_graph\u001b[0m\u001b[0;34m.\u001b[0m\u001b[0mparse\u001b[0m\u001b[0;34m(\u001b[0m\u001b[0msource_url\u001b[0m\u001b[0;34m)\u001b[0m\u001b[0;34m\u001b[0m\u001b[0;34m\u001b[0m\u001b[0m\n\u001b[0m\u001b[1;32m   1319\u001b[0m     \u001b[0msource_graph\u001b[0m\u001b[0;34m.\u001b[0m\u001b[0mnamespace_manager\u001b[0m\u001b[0;34m.\u001b[0m\u001b[0mbind\u001b[0m\u001b[0;34m(\u001b[0m\u001b[0;34m\"owl\"\u001b[0m\u001b[0;34m,\u001b[0m \u001b[0mOWL_NS\u001b[0m\u001b[0;34m)\u001b[0m\u001b[0;34m\u001b[0m\u001b[0;34m\u001b[0m\u001b[0m\n\u001b[1;32m   1320\u001b[0m     \u001b[0mlogging\u001b[0m\u001b[0;34m.\u001b[0m\u001b[0minfo\u001b[0m\u001b[0;34m(\u001b[0m\u001b[0;34m\"Read source with %s triples.\"\u001b[0m\u001b[0;34m,\u001b[0m \u001b[0mlen\u001b[0m\u001b[0;34m(\u001b[0m\u001b[0msource_graph\u001b[0m\u001b[0;34m)\u001b[0m\u001b[0;34m)\u001b[0m\u001b[0;34m\u001b[0m\u001b[0;34m\u001b[0m\u001b[0m\n",
      "\u001b[0;32m~/anaconda3/lib/python3.7/site-packages/rdflib/graph.py\u001b[0m in \u001b[0;36mparse\u001b[0;34m(self, source, publicID, format, location, file, data, **args)\u001b[0m\n\u001b[1;32m   1076\u001b[0m         \u001b[0mparser\u001b[0m \u001b[0;34m=\u001b[0m \u001b[0mplugin\u001b[0m\u001b[0;34m.\u001b[0m\u001b[0mget\u001b[0m\u001b[0;34m(\u001b[0m\u001b[0mformat\u001b[0m\u001b[0;34m,\u001b[0m \u001b[0mParser\u001b[0m\u001b[0;34m)\u001b[0m\u001b[0;34m(\u001b[0m\u001b[0;34m)\u001b[0m\u001b[0;34m\u001b[0m\u001b[0;34m\u001b[0m\u001b[0m\n\u001b[1;32m   1077\u001b[0m         \u001b[0;32mtry\u001b[0m\u001b[0;34m:\u001b[0m\u001b[0;34m\u001b[0m\u001b[0;34m\u001b[0m\u001b[0m\n\u001b[0;32m-> 1078\u001b[0;31m             \u001b[0mparser\u001b[0m\u001b[0;34m.\u001b[0m\u001b[0mparse\u001b[0m\u001b[0;34m(\u001b[0m\u001b[0msource\u001b[0m\u001b[0;34m,\u001b[0m \u001b[0mself\u001b[0m\u001b[0;34m,\u001b[0m \u001b[0;34m**\u001b[0m\u001b[0margs\u001b[0m\u001b[0;34m)\u001b[0m\u001b[0;34m\u001b[0m\u001b[0;34m\u001b[0m\u001b[0m\n\u001b[0m\u001b[1;32m   1079\u001b[0m         \u001b[0;32mfinally\u001b[0m\u001b[0;34m:\u001b[0m\u001b[0;34m\u001b[0m\u001b[0;34m\u001b[0m\u001b[0m\n\u001b[1;32m   1080\u001b[0m             \u001b[0;32mif\u001b[0m \u001b[0msource\u001b[0m\u001b[0;34m.\u001b[0m\u001b[0mauto_close\u001b[0m\u001b[0;34m:\u001b[0m\u001b[0;34m\u001b[0m\u001b[0;34m\u001b[0m\u001b[0m\n",
      "\u001b[0;32m~/anaconda3/lib/python3.7/site-packages/rdflib/plugins/parsers/rdfxml.py\u001b[0m in \u001b[0;36mparse\u001b[0;34m(self, source, sink, **args)\u001b[0m\n\u001b[1;32m    577\u001b[0m         \u001b[0;31m# content_handler.reset()\u001b[0m\u001b[0;34m\u001b[0m\u001b[0;34m\u001b[0m\u001b[0;34m\u001b[0m\u001b[0m\n\u001b[1;32m    578\u001b[0m         \u001b[0;31m# self._parser.reset()\u001b[0m\u001b[0;34m\u001b[0m\u001b[0;34m\u001b[0m\u001b[0;34m\u001b[0m\u001b[0m\n\u001b[0;32m--> 579\u001b[0;31m         \u001b[0mself\u001b[0m\u001b[0;34m.\u001b[0m\u001b[0m_parser\u001b[0m\u001b[0;34m.\u001b[0m\u001b[0mparse\u001b[0m\u001b[0;34m(\u001b[0m\u001b[0msource\u001b[0m\u001b[0;34m)\u001b[0m\u001b[0;34m\u001b[0m\u001b[0;34m\u001b[0m\u001b[0m\n\u001b[0m",
      "\u001b[0;32m~/anaconda3/lib/python3.7/xml/sax/expatreader.py\u001b[0m in \u001b[0;36mparse\u001b[0;34m(self, source)\u001b[0m\n\u001b[1;32m    109\u001b[0m             \u001b[0mself\u001b[0m\u001b[0;34m.\u001b[0m\u001b[0mreset\u001b[0m\u001b[0;34m(\u001b[0m\u001b[0;34m)\u001b[0m\u001b[0;34m\u001b[0m\u001b[0;34m\u001b[0m\u001b[0m\n\u001b[1;32m    110\u001b[0m             \u001b[0mself\u001b[0m\u001b[0;34m.\u001b[0m\u001b[0m_cont_handler\u001b[0m\u001b[0;34m.\u001b[0m\u001b[0msetDocumentLocator\u001b[0m\u001b[0;34m(\u001b[0m\u001b[0mExpatLocator\u001b[0m\u001b[0;34m(\u001b[0m\u001b[0mself\u001b[0m\u001b[0;34m)\u001b[0m\u001b[0;34m)\u001b[0m\u001b[0;34m\u001b[0m\u001b[0;34m\u001b[0m\u001b[0m\n\u001b[0;32m--> 111\u001b[0;31m             \u001b[0mxmlreader\u001b[0m\u001b[0;34m.\u001b[0m\u001b[0mIncrementalParser\u001b[0m\u001b[0;34m.\u001b[0m\u001b[0mparse\u001b[0m\u001b[0;34m(\u001b[0m\u001b[0mself\u001b[0m\u001b[0;34m,\u001b[0m \u001b[0msource\u001b[0m\u001b[0;34m)\u001b[0m\u001b[0;34m\u001b[0m\u001b[0;34m\u001b[0m\u001b[0m\n\u001b[0m\u001b[1;32m    112\u001b[0m         \u001b[0;32mexcept\u001b[0m\u001b[0;34m:\u001b[0m\u001b[0;34m\u001b[0m\u001b[0;34m\u001b[0m\u001b[0m\n\u001b[1;32m    113\u001b[0m             \u001b[0;31m# bpo-30264: Close the source on error to not leak resources:\u001b[0m\u001b[0;34m\u001b[0m\u001b[0;34m\u001b[0m\u001b[0;34m\u001b[0m\u001b[0m\n",
      "\u001b[0;32m~/anaconda3/lib/python3.7/xml/sax/xmlreader.py\u001b[0m in \u001b[0;36mparse\u001b[0;34m(self, source)\u001b[0m\n\u001b[1;32m    123\u001b[0m         \u001b[0mbuffer\u001b[0m \u001b[0;34m=\u001b[0m \u001b[0mfile\u001b[0m\u001b[0;34m.\u001b[0m\u001b[0mread\u001b[0m\u001b[0;34m(\u001b[0m\u001b[0mself\u001b[0m\u001b[0;34m.\u001b[0m\u001b[0m_bufsize\u001b[0m\u001b[0;34m)\u001b[0m\u001b[0;34m\u001b[0m\u001b[0;34m\u001b[0m\u001b[0m\n\u001b[1;32m    124\u001b[0m         \u001b[0;32mwhile\u001b[0m \u001b[0mbuffer\u001b[0m\u001b[0;34m:\u001b[0m\u001b[0;34m\u001b[0m\u001b[0;34m\u001b[0m\u001b[0m\n\u001b[0;32m--> 125\u001b[0;31m             \u001b[0mself\u001b[0m\u001b[0;34m.\u001b[0m\u001b[0mfeed\u001b[0m\u001b[0;34m(\u001b[0m\u001b[0mbuffer\u001b[0m\u001b[0;34m)\u001b[0m\u001b[0;34m\u001b[0m\u001b[0;34m\u001b[0m\u001b[0m\n\u001b[0m\u001b[1;32m    126\u001b[0m             \u001b[0mbuffer\u001b[0m \u001b[0;34m=\u001b[0m \u001b[0mfile\u001b[0m\u001b[0;34m.\u001b[0m\u001b[0mread\u001b[0m\u001b[0;34m(\u001b[0m\u001b[0mself\u001b[0m\u001b[0;34m.\u001b[0m\u001b[0m_bufsize\u001b[0m\u001b[0;34m)\u001b[0m\u001b[0;34m\u001b[0m\u001b[0;34m\u001b[0m\u001b[0m\n\u001b[1;32m    127\u001b[0m         \u001b[0mself\u001b[0m\u001b[0;34m.\u001b[0m\u001b[0mclose\u001b[0m\u001b[0;34m(\u001b[0m\u001b[0;34m)\u001b[0m\u001b[0;34m\u001b[0m\u001b[0;34m\u001b[0m\u001b[0m\n",
      "\u001b[0;32m~/anaconda3/lib/python3.7/xml/sax/expatreader.py\u001b[0m in \u001b[0;36mfeed\u001b[0;34m(self, data, isFinal)\u001b[0m\n\u001b[1;32m    215\u001b[0m             \u001b[0;31m# document. When feeding chunks, they are not normally final -\u001b[0m\u001b[0;34m\u001b[0m\u001b[0;34m\u001b[0m\u001b[0;34m\u001b[0m\u001b[0m\n\u001b[1;32m    216\u001b[0m             \u001b[0;31m# except when invoked from close.\u001b[0m\u001b[0;34m\u001b[0m\u001b[0;34m\u001b[0m\u001b[0;34m\u001b[0m\u001b[0m\n\u001b[0;32m--> 217\u001b[0;31m             \u001b[0mself\u001b[0m\u001b[0;34m.\u001b[0m\u001b[0m_parser\u001b[0m\u001b[0;34m.\u001b[0m\u001b[0mParse\u001b[0m\u001b[0;34m(\u001b[0m\u001b[0mdata\u001b[0m\u001b[0;34m,\u001b[0m \u001b[0misFinal\u001b[0m\u001b[0;34m)\u001b[0m\u001b[0;34m\u001b[0m\u001b[0;34m\u001b[0m\u001b[0m\n\u001b[0m\u001b[1;32m    218\u001b[0m         \u001b[0;32mexcept\u001b[0m \u001b[0mexpat\u001b[0m\u001b[0;34m.\u001b[0m\u001b[0merror\u001b[0m \u001b[0;32mas\u001b[0m \u001b[0me\u001b[0m\u001b[0;34m:\u001b[0m\u001b[0;34m\u001b[0m\u001b[0;34m\u001b[0m\u001b[0m\n\u001b[1;32m    219\u001b[0m             \u001b[0mexc\u001b[0m \u001b[0;34m=\u001b[0m \u001b[0mSAXParseException\u001b[0m\u001b[0;34m(\u001b[0m\u001b[0mexpat\u001b[0m\u001b[0;34m.\u001b[0m\u001b[0mErrorString\u001b[0m\u001b[0;34m(\u001b[0m\u001b[0me\u001b[0m\u001b[0;34m.\u001b[0m\u001b[0mcode\u001b[0m\u001b[0;34m)\u001b[0m\u001b[0;34m,\u001b[0m \u001b[0me\u001b[0m\u001b[0;34m,\u001b[0m \u001b[0mself\u001b[0m\u001b[0;34m)\u001b[0m\u001b[0;34m\u001b[0m\u001b[0;34m\u001b[0m\u001b[0m\n",
      "\u001b[0;32m/opt/concourse/worker/volumes/live/13cf9768-d104-4df5-6143-5360c0d9e8b3/volume/python_1585235027941/work/Modules/pyexpat.c\u001b[0m in \u001b[0;36mEndElement\u001b[0;34m()\u001b[0m\n",
      "\u001b[0;32m~/anaconda3/lib/python3.7/xml/sax/expatreader.py\u001b[0m in \u001b[0;36mend_element_ns\u001b[0;34m(self, name)\u001b[0m\n\u001b[1;32m    379\u001b[0m             \u001b[0mpair\u001b[0m \u001b[0;34m=\u001b[0m \u001b[0mtuple\u001b[0m\u001b[0;34m(\u001b[0m\u001b[0mpair\u001b[0m\u001b[0;34m)\u001b[0m\u001b[0;34m\u001b[0m\u001b[0;34m\u001b[0m\u001b[0m\n\u001b[1;32m    380\u001b[0m \u001b[0;34m\u001b[0m\u001b[0m\n\u001b[0;32m--> 381\u001b[0;31m         \u001b[0mself\u001b[0m\u001b[0;34m.\u001b[0m\u001b[0m_cont_handler\u001b[0m\u001b[0;34m.\u001b[0m\u001b[0mendElementNS\u001b[0m\u001b[0;34m(\u001b[0m\u001b[0mpair\u001b[0m\u001b[0;34m,\u001b[0m \u001b[0;32mNone\u001b[0m\u001b[0;34m)\u001b[0m\u001b[0;34m\u001b[0m\u001b[0;34m\u001b[0m\u001b[0m\n\u001b[0m\u001b[1;32m    382\u001b[0m \u001b[0;34m\u001b[0m\u001b[0m\n\u001b[1;32m    383\u001b[0m     \u001b[0;31m# this is not used (call directly to ContentHandler)\u001b[0m\u001b[0;34m\u001b[0m\u001b[0;34m\u001b[0m\u001b[0;34m\u001b[0m\u001b[0m\n",
      "\u001b[0;32m~/anaconda3/lib/python3.7/site-packages/rdflib/plugins/parsers/rdfxml.py\u001b[0m in \u001b[0;36mendElementNS\u001b[0;34m(self, name, qname)\u001b[0m\n\u001b[1;32m    159\u001b[0m \u001b[0;34m\u001b[0m\u001b[0m\n\u001b[1;32m    160\u001b[0m     \u001b[0;32mdef\u001b[0m \u001b[0mendElementNS\u001b[0m\u001b[0;34m(\u001b[0m\u001b[0mself\u001b[0m\u001b[0;34m,\u001b[0m \u001b[0mname\u001b[0m\u001b[0;34m,\u001b[0m \u001b[0mqname\u001b[0m\u001b[0;34m)\u001b[0m\u001b[0;34m:\u001b[0m\u001b[0;34m\u001b[0m\u001b[0;34m\u001b[0m\u001b[0m\n\u001b[0;32m--> 161\u001b[0;31m         \u001b[0mself\u001b[0m\u001b[0;34m.\u001b[0m\u001b[0mcurrent\u001b[0m\u001b[0;34m.\u001b[0m\u001b[0mend\u001b[0m\u001b[0;34m(\u001b[0m\u001b[0mname\u001b[0m\u001b[0;34m,\u001b[0m \u001b[0mqname\u001b[0m\u001b[0;34m)\u001b[0m\u001b[0;34m\u001b[0m\u001b[0;34m\u001b[0m\u001b[0m\n\u001b[0m\u001b[1;32m    162\u001b[0m         \u001b[0mself\u001b[0m\u001b[0;34m.\u001b[0m\u001b[0mstack\u001b[0m\u001b[0;34m.\u001b[0m\u001b[0mpop\u001b[0m\u001b[0;34m(\u001b[0m\u001b[0;34m)\u001b[0m\u001b[0;34m\u001b[0m\u001b[0;34m\u001b[0m\u001b[0m\n\u001b[1;32m    163\u001b[0m \u001b[0;34m\u001b[0m\u001b[0m\n",
      "\u001b[0;32m~/anaconda3/lib/python3.7/site-packages/rdflib/plugins/parsers/rdfxml.py\u001b[0m in \u001b[0;36mnode_element_end\u001b[0;34m(self, name, qname)\u001b[0m\n\u001b[1;32m    331\u001b[0m         \u001b[0;32mif\u001b[0m \u001b[0mself\u001b[0m\u001b[0;34m.\u001b[0m\u001b[0mparent\u001b[0m\u001b[0;34m.\u001b[0m\u001b[0mobject\u001b[0m \u001b[0;32mand\u001b[0m \u001b[0mself\u001b[0m\u001b[0;34m.\u001b[0m\u001b[0mcurrent\u001b[0m \u001b[0;34m!=\u001b[0m \u001b[0mself\u001b[0m\u001b[0;34m.\u001b[0m\u001b[0mstack\u001b[0m\u001b[0;34m[\u001b[0m\u001b[0;36m2\u001b[0m\u001b[0;34m]\u001b[0m\u001b[0;34m:\u001b[0m\u001b[0;34m\u001b[0m\u001b[0;34m\u001b[0m\u001b[0m\n\u001b[1;32m    332\u001b[0m \u001b[0;34m\u001b[0m\u001b[0m\n\u001b[0;32m--> 333\u001b[0;31m             \u001b[0mself\u001b[0m\u001b[0;34m.\u001b[0m\u001b[0merror\u001b[0m\u001b[0;34m(\u001b[0m\u001b[0;34m\"Repeat node-elements inside property elements: %s\"\u001b[0m\u001b[0;34m%\u001b[0m\u001b[0;34m\"\"\u001b[0m\u001b[0;34m.\u001b[0m\u001b[0mjoin\u001b[0m\u001b[0;34m(\u001b[0m\u001b[0mname\u001b[0m\u001b[0;34m)\u001b[0m\u001b[0;34m)\u001b[0m\u001b[0;34m\u001b[0m\u001b[0;34m\u001b[0m\u001b[0m\n\u001b[0m\u001b[1;32m    334\u001b[0m \u001b[0;34m\u001b[0m\u001b[0m\n\u001b[1;32m    335\u001b[0m         \u001b[0mself\u001b[0m\u001b[0;34m.\u001b[0m\u001b[0mparent\u001b[0m\u001b[0;34m.\u001b[0m\u001b[0mobject\u001b[0m \u001b[0;34m=\u001b[0m \u001b[0mself\u001b[0m\u001b[0;34m.\u001b[0m\u001b[0mcurrent\u001b[0m\u001b[0;34m.\u001b[0m\u001b[0msubject\u001b[0m\u001b[0;34m\u001b[0m\u001b[0;34m\u001b[0m\u001b[0m\n",
      "\u001b[0;32m~/anaconda3/lib/python3.7/site-packages/rdflib/plugins/parsers/rdfxml.py\u001b[0m in \u001b[0;36merror\u001b[0;34m(self, message)\u001b[0m\n\u001b[1;32m    185\u001b[0m                                \u001b[0mlocator\u001b[0m\u001b[0;34m.\u001b[0m\u001b[0mgetLineNumber\u001b[0m\u001b[0;34m(\u001b[0m\u001b[0;34m)\u001b[0m\u001b[0;34m,\u001b[0m\u001b[0;34m\u001b[0m\u001b[0;34m\u001b[0m\u001b[0m\n\u001b[1;32m    186\u001b[0m                                locator.getColumnNumber())\n\u001b[0;32m--> 187\u001b[0;31m         \u001b[0;32mraise\u001b[0m \u001b[0mParserError\u001b[0m\u001b[0;34m(\u001b[0m\u001b[0minfo\u001b[0m \u001b[0;34m+\u001b[0m \u001b[0mmessage\u001b[0m\u001b[0;34m)\u001b[0m\u001b[0;34m\u001b[0m\u001b[0;34m\u001b[0m\u001b[0m\n\u001b[0m\u001b[1;32m    188\u001b[0m \u001b[0;34m\u001b[0m\u001b[0m\n\u001b[1;32m    189\u001b[0m     \u001b[0;32mdef\u001b[0m \u001b[0mget_current\u001b[0m\u001b[0;34m(\u001b[0m\u001b[0mself\u001b[0m\u001b[0;34m)\u001b[0m\u001b[0;34m:\u001b[0m\u001b[0;34m\u001b[0m\u001b[0;34m\u001b[0m\u001b[0m\n",
      "\u001b[0;31mParserError\u001b[0m: file:///Users/yan/Google%20Drive/django/otmaponto/match/ontology_mapping/data/geolink/geolink-v1/gbo-gmo/source.rdf:21:62: Repeat node-elements inside property elements: http://www.w3.org/2002/07/owl#IRI"
     ]
    }
   ],
   "source": [
    "mapper.align(source_url, target_url, output_url)"
   ]
  },
  {
   "cell_type": "code",
   "execution_count": null,
   "id": "e3b1500b-3092-4c49-a285-a0480ea2595c",
   "metadata": {},
   "outputs": [],
   "source": [
    "preds = maponto.load_alignments(output_url, 'predicted')\n",
    "maponto.evaluate(preds, refs_url)"
   ]
  },
  {
   "cell_type": "markdown",
   "id": "803417e1-144e-442c-ac7e-f056ad00f924",
   "metadata": {},
   "source": [
    "# Hydrography"
   ]
  },
  {
   "cell_type": "code",
   "execution_count": 16,
   "id": "eab57cd9-4b1a-428b-9416-e1732bc8efe6",
   "metadata": {},
   "outputs": [],
   "source": [
    "source_url = \"../data/hydrography/hydrography-v1/cree-swo/source.rdf\"\n",
    "target_url = \"../data/hydrography/hydrography-v1/cree-swo/target.rdf\"\n",
    "output_url = '../data/results/hydrograph_cree_swo_alignment.rdf'\n",
    "refs_url = \"../data/hydrography/hydrography-v1/cree-swo/reference.rdf\""
   ]
  },
  {
   "cell_type": "code",
   "execution_count": 17,
   "id": "b5c20ceb-7775-4ce0-99f1-db2909666979",
   "metadata": {},
   "outputs": [
    {
     "name": "stderr",
     "output_type": "stream",
     "text": [
      "INFO:root:Python ensemble mapper info: map ../data/hydrography/hydrography-v1/cree-swo/source.rdf to ../data/hydrography/hydrography-v1/cree-swo/target.rdf\n"
     ]
    },
    {
     "ename": "ParserError",
     "evalue": "file:///Users/yan/Google%20Drive/django/otmaponto/match/ontology_mapping/data/hydrography/hydrography-v1/cree-swo/source.rdf:2638:35: Repeat node-elements inside property elements: http://www.w3.org/2002/07/owl#Class",
     "output_type": "error",
     "traceback": [
      "\u001b[0;31m---------------------------------------------------------------------------\u001b[0m",
      "\u001b[0;31mParserError\u001b[0m                               Traceback (most recent call last)",
      "\u001b[0;32m<ipython-input-17-6770be26f0b5>\u001b[0m in \u001b[0;36m<module>\u001b[0;34m\u001b[0m\n\u001b[0;32m----> 1\u001b[0;31m \u001b[0mmapper\u001b[0m\u001b[0;34m.\u001b[0m\u001b[0malign\u001b[0m\u001b[0;34m(\u001b[0m\u001b[0msource_url\u001b[0m\u001b[0;34m,\u001b[0m \u001b[0mtarget_url\u001b[0m\u001b[0;34m,\u001b[0m \u001b[0moutput_url\u001b[0m\u001b[0;34m)\u001b[0m\u001b[0;34m\u001b[0m\u001b[0;34m\u001b[0m\u001b[0m\n\u001b[0m",
      "\u001b[0;32m~/Google Drive/django/otmaponto/match/ontology_mapping/src/OTMapper.py\u001b[0m in \u001b[0;36malign\u001b[0;34m(self, source_url, target_url, output_url)\u001b[0m\n\u001b[1;32m   1433\u001b[0m \u001b[0;34m\u001b[0m\u001b[0m\n\u001b[1;32m   1434\u001b[0m     \u001b[0;32mdef\u001b[0m \u001b[0malign\u001b[0m\u001b[0;34m(\u001b[0m\u001b[0mself\u001b[0m\u001b[0;34m,\u001b[0m \u001b[0msource_url\u001b[0m\u001b[0;34m,\u001b[0m \u001b[0mtarget_url\u001b[0m\u001b[0;34m,\u001b[0m \u001b[0moutput_url\u001b[0m\u001b[0;34m)\u001b[0m\u001b[0;34m:\u001b[0m\u001b[0;34m\u001b[0m\u001b[0;34m\u001b[0m\u001b[0m\n\u001b[0;32m-> 1435\u001b[0;31m         \u001b[0mmatch\u001b[0m\u001b[0;34m(\u001b[0m\u001b[0msource_url\u001b[0m\u001b[0;34m,\u001b[0m \u001b[0mtarget_url\u001b[0m\u001b[0;34m,\u001b[0m \u001b[0mself\u001b[0m\u001b[0;34m.\u001b[0m\u001b[0membs_model\u001b[0m\u001b[0;34m,\u001b[0m \u001b[0moutput_url\u001b[0m\u001b[0;34m,\u001b[0m \u001b[0;32mNone\u001b[0m\u001b[0;34m)\u001b[0m\u001b[0;34m\u001b[0m\u001b[0;34m\u001b[0m\u001b[0m\n\u001b[0m\u001b[1;32m   1436\u001b[0m \u001b[0;34m\u001b[0m\u001b[0m\n\u001b[1;32m   1437\u001b[0m \u001b[0;34m\u001b[0m\u001b[0m\n",
      "\u001b[0;32m~/Google Drive/django/otmaponto/match/ontology_mapping/src/OTMapper.py\u001b[0m in \u001b[0;36mmatch\u001b[0;34m(source_url, target_url, embs_model, output_url, input_alignment_url)\u001b[0m\n\u001b[1;32m   1402\u001b[0m \u001b[0;34m\u001b[0m\u001b[0m\n\u001b[1;32m   1403\u001b[0m \u001b[0;34m\u001b[0m\u001b[0m\n\u001b[0;32m-> 1404\u001b[0;31m     \u001b[0mresulting_alignment\u001b[0m \u001b[0;34m=\u001b[0m \u001b[0mensemble_map\u001b[0m\u001b[0;34m(\u001b[0m\u001b[0msource_url\u001b[0m\u001b[0;34m,\u001b[0m \u001b[0mtarget_url\u001b[0m\u001b[0;34m,\u001b[0m \u001b[0membs_model\u001b[0m\u001b[0;34m)\u001b[0m\u001b[0;34m\u001b[0m\u001b[0;34m\u001b[0m\u001b[0m\n\u001b[0m\u001b[1;32m   1405\u001b[0m \u001b[0;34m\u001b[0m\u001b[0m\n\u001b[1;32m   1406\u001b[0m \u001b[0;34m\u001b[0m\u001b[0m\n",
      "\u001b[0;32m~/Google Drive/django/otmaponto/match/ontology_mapping/src/OTMapper.py\u001b[0m in \u001b[0;36mensemble_map\u001b[0;34m(source_url, target_url, embs_model)\u001b[0m\n\u001b[1;32m   1316\u001b[0m \u001b[0;34m\u001b[0m\u001b[0m\n\u001b[1;32m   1317\u001b[0m     \u001b[0msource_graph\u001b[0m \u001b[0;34m=\u001b[0m \u001b[0mGraph\u001b[0m\u001b[0;34m(\u001b[0m\u001b[0;34m)\u001b[0m\u001b[0;34m\u001b[0m\u001b[0;34m\u001b[0m\u001b[0m\n\u001b[0;32m-> 1318\u001b[0;31m     \u001b[0msource_graph\u001b[0m\u001b[0;34m.\u001b[0m\u001b[0mparse\u001b[0m\u001b[0;34m(\u001b[0m\u001b[0msource_url\u001b[0m\u001b[0;34m)\u001b[0m\u001b[0;34m\u001b[0m\u001b[0;34m\u001b[0m\u001b[0m\n\u001b[0m\u001b[1;32m   1319\u001b[0m     \u001b[0msource_graph\u001b[0m\u001b[0;34m.\u001b[0m\u001b[0mnamespace_manager\u001b[0m\u001b[0;34m.\u001b[0m\u001b[0mbind\u001b[0m\u001b[0;34m(\u001b[0m\u001b[0;34m\"owl\"\u001b[0m\u001b[0;34m,\u001b[0m \u001b[0mOWL_NS\u001b[0m\u001b[0;34m)\u001b[0m\u001b[0;34m\u001b[0m\u001b[0;34m\u001b[0m\u001b[0m\n\u001b[1;32m   1320\u001b[0m     \u001b[0mlogging\u001b[0m\u001b[0;34m.\u001b[0m\u001b[0minfo\u001b[0m\u001b[0;34m(\u001b[0m\u001b[0;34m\"Read source with %s triples.\"\u001b[0m\u001b[0;34m,\u001b[0m \u001b[0mlen\u001b[0m\u001b[0;34m(\u001b[0m\u001b[0msource_graph\u001b[0m\u001b[0;34m)\u001b[0m\u001b[0;34m)\u001b[0m\u001b[0;34m\u001b[0m\u001b[0;34m\u001b[0m\u001b[0m\n",
      "\u001b[0;32m~/anaconda3/lib/python3.7/site-packages/rdflib/graph.py\u001b[0m in \u001b[0;36mparse\u001b[0;34m(self, source, publicID, format, location, file, data, **args)\u001b[0m\n\u001b[1;32m   1076\u001b[0m         \u001b[0mparser\u001b[0m \u001b[0;34m=\u001b[0m \u001b[0mplugin\u001b[0m\u001b[0;34m.\u001b[0m\u001b[0mget\u001b[0m\u001b[0;34m(\u001b[0m\u001b[0mformat\u001b[0m\u001b[0;34m,\u001b[0m \u001b[0mParser\u001b[0m\u001b[0;34m)\u001b[0m\u001b[0;34m(\u001b[0m\u001b[0;34m)\u001b[0m\u001b[0;34m\u001b[0m\u001b[0;34m\u001b[0m\u001b[0m\n\u001b[1;32m   1077\u001b[0m         \u001b[0;32mtry\u001b[0m\u001b[0;34m:\u001b[0m\u001b[0;34m\u001b[0m\u001b[0;34m\u001b[0m\u001b[0m\n\u001b[0;32m-> 1078\u001b[0;31m             \u001b[0mparser\u001b[0m\u001b[0;34m.\u001b[0m\u001b[0mparse\u001b[0m\u001b[0;34m(\u001b[0m\u001b[0msource\u001b[0m\u001b[0;34m,\u001b[0m \u001b[0mself\u001b[0m\u001b[0;34m,\u001b[0m \u001b[0;34m**\u001b[0m\u001b[0margs\u001b[0m\u001b[0;34m)\u001b[0m\u001b[0;34m\u001b[0m\u001b[0;34m\u001b[0m\u001b[0m\n\u001b[0m\u001b[1;32m   1079\u001b[0m         \u001b[0;32mfinally\u001b[0m\u001b[0;34m:\u001b[0m\u001b[0;34m\u001b[0m\u001b[0;34m\u001b[0m\u001b[0m\n\u001b[1;32m   1080\u001b[0m             \u001b[0;32mif\u001b[0m \u001b[0msource\u001b[0m\u001b[0;34m.\u001b[0m\u001b[0mauto_close\u001b[0m\u001b[0;34m:\u001b[0m\u001b[0;34m\u001b[0m\u001b[0;34m\u001b[0m\u001b[0m\n",
      "\u001b[0;32m~/anaconda3/lib/python3.7/site-packages/rdflib/plugins/parsers/rdfxml.py\u001b[0m in \u001b[0;36mparse\u001b[0;34m(self, source, sink, **args)\u001b[0m\n\u001b[1;32m    577\u001b[0m         \u001b[0;31m# content_handler.reset()\u001b[0m\u001b[0;34m\u001b[0m\u001b[0;34m\u001b[0m\u001b[0;34m\u001b[0m\u001b[0m\n\u001b[1;32m    578\u001b[0m         \u001b[0;31m# self._parser.reset()\u001b[0m\u001b[0;34m\u001b[0m\u001b[0;34m\u001b[0m\u001b[0;34m\u001b[0m\u001b[0m\n\u001b[0;32m--> 579\u001b[0;31m         \u001b[0mself\u001b[0m\u001b[0;34m.\u001b[0m\u001b[0m_parser\u001b[0m\u001b[0;34m.\u001b[0m\u001b[0mparse\u001b[0m\u001b[0;34m(\u001b[0m\u001b[0msource\u001b[0m\u001b[0;34m)\u001b[0m\u001b[0;34m\u001b[0m\u001b[0;34m\u001b[0m\u001b[0m\n\u001b[0m",
      "\u001b[0;32m~/anaconda3/lib/python3.7/xml/sax/expatreader.py\u001b[0m in \u001b[0;36mparse\u001b[0;34m(self, source)\u001b[0m\n\u001b[1;32m    109\u001b[0m             \u001b[0mself\u001b[0m\u001b[0;34m.\u001b[0m\u001b[0mreset\u001b[0m\u001b[0;34m(\u001b[0m\u001b[0;34m)\u001b[0m\u001b[0;34m\u001b[0m\u001b[0;34m\u001b[0m\u001b[0m\n\u001b[1;32m    110\u001b[0m             \u001b[0mself\u001b[0m\u001b[0;34m.\u001b[0m\u001b[0m_cont_handler\u001b[0m\u001b[0;34m.\u001b[0m\u001b[0msetDocumentLocator\u001b[0m\u001b[0;34m(\u001b[0m\u001b[0mExpatLocator\u001b[0m\u001b[0;34m(\u001b[0m\u001b[0mself\u001b[0m\u001b[0;34m)\u001b[0m\u001b[0;34m)\u001b[0m\u001b[0;34m\u001b[0m\u001b[0;34m\u001b[0m\u001b[0m\n\u001b[0;32m--> 111\u001b[0;31m             \u001b[0mxmlreader\u001b[0m\u001b[0;34m.\u001b[0m\u001b[0mIncrementalParser\u001b[0m\u001b[0;34m.\u001b[0m\u001b[0mparse\u001b[0m\u001b[0;34m(\u001b[0m\u001b[0mself\u001b[0m\u001b[0;34m,\u001b[0m \u001b[0msource\u001b[0m\u001b[0;34m)\u001b[0m\u001b[0;34m\u001b[0m\u001b[0;34m\u001b[0m\u001b[0m\n\u001b[0m\u001b[1;32m    112\u001b[0m         \u001b[0;32mexcept\u001b[0m\u001b[0;34m:\u001b[0m\u001b[0;34m\u001b[0m\u001b[0;34m\u001b[0m\u001b[0m\n\u001b[1;32m    113\u001b[0m             \u001b[0;31m# bpo-30264: Close the source on error to not leak resources:\u001b[0m\u001b[0;34m\u001b[0m\u001b[0;34m\u001b[0m\u001b[0;34m\u001b[0m\u001b[0m\n",
      "\u001b[0;32m~/anaconda3/lib/python3.7/xml/sax/xmlreader.py\u001b[0m in \u001b[0;36mparse\u001b[0;34m(self, source)\u001b[0m\n\u001b[1;32m    123\u001b[0m         \u001b[0mbuffer\u001b[0m \u001b[0;34m=\u001b[0m \u001b[0mfile\u001b[0m\u001b[0;34m.\u001b[0m\u001b[0mread\u001b[0m\u001b[0;34m(\u001b[0m\u001b[0mself\u001b[0m\u001b[0;34m.\u001b[0m\u001b[0m_bufsize\u001b[0m\u001b[0;34m)\u001b[0m\u001b[0;34m\u001b[0m\u001b[0;34m\u001b[0m\u001b[0m\n\u001b[1;32m    124\u001b[0m         \u001b[0;32mwhile\u001b[0m \u001b[0mbuffer\u001b[0m\u001b[0;34m:\u001b[0m\u001b[0;34m\u001b[0m\u001b[0;34m\u001b[0m\u001b[0m\n\u001b[0;32m--> 125\u001b[0;31m             \u001b[0mself\u001b[0m\u001b[0;34m.\u001b[0m\u001b[0mfeed\u001b[0m\u001b[0;34m(\u001b[0m\u001b[0mbuffer\u001b[0m\u001b[0;34m)\u001b[0m\u001b[0;34m\u001b[0m\u001b[0;34m\u001b[0m\u001b[0m\n\u001b[0m\u001b[1;32m    126\u001b[0m             \u001b[0mbuffer\u001b[0m \u001b[0;34m=\u001b[0m \u001b[0mfile\u001b[0m\u001b[0;34m.\u001b[0m\u001b[0mread\u001b[0m\u001b[0;34m(\u001b[0m\u001b[0mself\u001b[0m\u001b[0;34m.\u001b[0m\u001b[0m_bufsize\u001b[0m\u001b[0;34m)\u001b[0m\u001b[0;34m\u001b[0m\u001b[0;34m\u001b[0m\u001b[0m\n\u001b[1;32m    127\u001b[0m         \u001b[0mself\u001b[0m\u001b[0;34m.\u001b[0m\u001b[0mclose\u001b[0m\u001b[0;34m(\u001b[0m\u001b[0;34m)\u001b[0m\u001b[0;34m\u001b[0m\u001b[0;34m\u001b[0m\u001b[0m\n",
      "\u001b[0;32m~/anaconda3/lib/python3.7/xml/sax/expatreader.py\u001b[0m in \u001b[0;36mfeed\u001b[0;34m(self, data, isFinal)\u001b[0m\n\u001b[1;32m    215\u001b[0m             \u001b[0;31m# document. When feeding chunks, they are not normally final -\u001b[0m\u001b[0;34m\u001b[0m\u001b[0;34m\u001b[0m\u001b[0;34m\u001b[0m\u001b[0m\n\u001b[1;32m    216\u001b[0m             \u001b[0;31m# except when invoked from close.\u001b[0m\u001b[0;34m\u001b[0m\u001b[0;34m\u001b[0m\u001b[0;34m\u001b[0m\u001b[0m\n\u001b[0;32m--> 217\u001b[0;31m             \u001b[0mself\u001b[0m\u001b[0;34m.\u001b[0m\u001b[0m_parser\u001b[0m\u001b[0;34m.\u001b[0m\u001b[0mParse\u001b[0m\u001b[0;34m(\u001b[0m\u001b[0mdata\u001b[0m\u001b[0;34m,\u001b[0m \u001b[0misFinal\u001b[0m\u001b[0;34m)\u001b[0m\u001b[0;34m\u001b[0m\u001b[0;34m\u001b[0m\u001b[0m\n\u001b[0m\u001b[1;32m    218\u001b[0m         \u001b[0;32mexcept\u001b[0m \u001b[0mexpat\u001b[0m\u001b[0;34m.\u001b[0m\u001b[0merror\u001b[0m \u001b[0;32mas\u001b[0m \u001b[0me\u001b[0m\u001b[0;34m:\u001b[0m\u001b[0;34m\u001b[0m\u001b[0;34m\u001b[0m\u001b[0m\n\u001b[1;32m    219\u001b[0m             \u001b[0mexc\u001b[0m \u001b[0;34m=\u001b[0m \u001b[0mSAXParseException\u001b[0m\u001b[0;34m(\u001b[0m\u001b[0mexpat\u001b[0m\u001b[0;34m.\u001b[0m\u001b[0mErrorString\u001b[0m\u001b[0;34m(\u001b[0m\u001b[0me\u001b[0m\u001b[0;34m.\u001b[0m\u001b[0mcode\u001b[0m\u001b[0;34m)\u001b[0m\u001b[0;34m,\u001b[0m \u001b[0me\u001b[0m\u001b[0;34m,\u001b[0m \u001b[0mself\u001b[0m\u001b[0;34m)\u001b[0m\u001b[0;34m\u001b[0m\u001b[0;34m\u001b[0m\u001b[0m\n",
      "\u001b[0;32m/opt/concourse/worker/volumes/live/13cf9768-d104-4df5-6143-5360c0d9e8b3/volume/python_1585235027941/work/Modules/pyexpat.c\u001b[0m in \u001b[0;36mEndElement\u001b[0;34m()\u001b[0m\n",
      "\u001b[0;32m~/anaconda3/lib/python3.7/xml/sax/expatreader.py\u001b[0m in \u001b[0;36mend_element_ns\u001b[0;34m(self, name)\u001b[0m\n\u001b[1;32m    379\u001b[0m             \u001b[0mpair\u001b[0m \u001b[0;34m=\u001b[0m \u001b[0mtuple\u001b[0m\u001b[0;34m(\u001b[0m\u001b[0mpair\u001b[0m\u001b[0;34m)\u001b[0m\u001b[0;34m\u001b[0m\u001b[0;34m\u001b[0m\u001b[0m\n\u001b[1;32m    380\u001b[0m \u001b[0;34m\u001b[0m\u001b[0m\n\u001b[0;32m--> 381\u001b[0;31m         \u001b[0mself\u001b[0m\u001b[0;34m.\u001b[0m\u001b[0m_cont_handler\u001b[0m\u001b[0;34m.\u001b[0m\u001b[0mendElementNS\u001b[0m\u001b[0;34m(\u001b[0m\u001b[0mpair\u001b[0m\u001b[0;34m,\u001b[0m \u001b[0;32mNone\u001b[0m\u001b[0;34m)\u001b[0m\u001b[0;34m\u001b[0m\u001b[0;34m\u001b[0m\u001b[0m\n\u001b[0m\u001b[1;32m    382\u001b[0m \u001b[0;34m\u001b[0m\u001b[0m\n\u001b[1;32m    383\u001b[0m     \u001b[0;31m# this is not used (call directly to ContentHandler)\u001b[0m\u001b[0;34m\u001b[0m\u001b[0;34m\u001b[0m\u001b[0;34m\u001b[0m\u001b[0m\n",
      "\u001b[0;32m~/anaconda3/lib/python3.7/site-packages/rdflib/plugins/parsers/rdfxml.py\u001b[0m in \u001b[0;36mendElementNS\u001b[0;34m(self, name, qname)\u001b[0m\n\u001b[1;32m    159\u001b[0m \u001b[0;34m\u001b[0m\u001b[0m\n\u001b[1;32m    160\u001b[0m     \u001b[0;32mdef\u001b[0m \u001b[0mendElementNS\u001b[0m\u001b[0;34m(\u001b[0m\u001b[0mself\u001b[0m\u001b[0;34m,\u001b[0m \u001b[0mname\u001b[0m\u001b[0;34m,\u001b[0m \u001b[0mqname\u001b[0m\u001b[0;34m)\u001b[0m\u001b[0;34m:\u001b[0m\u001b[0;34m\u001b[0m\u001b[0;34m\u001b[0m\u001b[0m\n\u001b[0;32m--> 161\u001b[0;31m         \u001b[0mself\u001b[0m\u001b[0;34m.\u001b[0m\u001b[0mcurrent\u001b[0m\u001b[0;34m.\u001b[0m\u001b[0mend\u001b[0m\u001b[0;34m(\u001b[0m\u001b[0mname\u001b[0m\u001b[0;34m,\u001b[0m \u001b[0mqname\u001b[0m\u001b[0;34m)\u001b[0m\u001b[0;34m\u001b[0m\u001b[0;34m\u001b[0m\u001b[0m\n\u001b[0m\u001b[1;32m    162\u001b[0m         \u001b[0mself\u001b[0m\u001b[0;34m.\u001b[0m\u001b[0mstack\u001b[0m\u001b[0;34m.\u001b[0m\u001b[0mpop\u001b[0m\u001b[0;34m(\u001b[0m\u001b[0;34m)\u001b[0m\u001b[0;34m\u001b[0m\u001b[0;34m\u001b[0m\u001b[0m\n\u001b[1;32m    163\u001b[0m \u001b[0;34m\u001b[0m\u001b[0m\n",
      "\u001b[0;32m~/anaconda3/lib/python3.7/site-packages/rdflib/plugins/parsers/rdfxml.py\u001b[0m in \u001b[0;36mnode_element_end\u001b[0;34m(self, name, qname)\u001b[0m\n\u001b[1;32m    331\u001b[0m         \u001b[0;32mif\u001b[0m \u001b[0mself\u001b[0m\u001b[0;34m.\u001b[0m\u001b[0mparent\u001b[0m\u001b[0;34m.\u001b[0m\u001b[0mobject\u001b[0m \u001b[0;32mand\u001b[0m \u001b[0mself\u001b[0m\u001b[0;34m.\u001b[0m\u001b[0mcurrent\u001b[0m \u001b[0;34m!=\u001b[0m \u001b[0mself\u001b[0m\u001b[0;34m.\u001b[0m\u001b[0mstack\u001b[0m\u001b[0;34m[\u001b[0m\u001b[0;36m2\u001b[0m\u001b[0;34m]\u001b[0m\u001b[0;34m:\u001b[0m\u001b[0;34m\u001b[0m\u001b[0;34m\u001b[0m\u001b[0m\n\u001b[1;32m    332\u001b[0m \u001b[0;34m\u001b[0m\u001b[0m\n\u001b[0;32m--> 333\u001b[0;31m             \u001b[0mself\u001b[0m\u001b[0;34m.\u001b[0m\u001b[0merror\u001b[0m\u001b[0;34m(\u001b[0m\u001b[0;34m\"Repeat node-elements inside property elements: %s\"\u001b[0m\u001b[0;34m%\u001b[0m\u001b[0;34m\"\"\u001b[0m\u001b[0;34m.\u001b[0m\u001b[0mjoin\u001b[0m\u001b[0;34m(\u001b[0m\u001b[0mname\u001b[0m\u001b[0;34m)\u001b[0m\u001b[0;34m)\u001b[0m\u001b[0;34m\u001b[0m\u001b[0;34m\u001b[0m\u001b[0m\n\u001b[0m\u001b[1;32m    334\u001b[0m \u001b[0;34m\u001b[0m\u001b[0m\n\u001b[1;32m    335\u001b[0m         \u001b[0mself\u001b[0m\u001b[0;34m.\u001b[0m\u001b[0mparent\u001b[0m\u001b[0;34m.\u001b[0m\u001b[0mobject\u001b[0m \u001b[0;34m=\u001b[0m \u001b[0mself\u001b[0m\u001b[0;34m.\u001b[0m\u001b[0mcurrent\u001b[0m\u001b[0;34m.\u001b[0m\u001b[0msubject\u001b[0m\u001b[0;34m\u001b[0m\u001b[0;34m\u001b[0m\u001b[0m\n",
      "\u001b[0;32m~/anaconda3/lib/python3.7/site-packages/rdflib/plugins/parsers/rdfxml.py\u001b[0m in \u001b[0;36merror\u001b[0;34m(self, message)\u001b[0m\n\u001b[1;32m    185\u001b[0m                                \u001b[0mlocator\u001b[0m\u001b[0;34m.\u001b[0m\u001b[0mgetLineNumber\u001b[0m\u001b[0;34m(\u001b[0m\u001b[0;34m)\u001b[0m\u001b[0;34m,\u001b[0m\u001b[0;34m\u001b[0m\u001b[0;34m\u001b[0m\u001b[0m\n\u001b[1;32m    186\u001b[0m                                locator.getColumnNumber())\n\u001b[0;32m--> 187\u001b[0;31m         \u001b[0;32mraise\u001b[0m \u001b[0mParserError\u001b[0m\u001b[0;34m(\u001b[0m\u001b[0minfo\u001b[0m \u001b[0;34m+\u001b[0m \u001b[0mmessage\u001b[0m\u001b[0;34m)\u001b[0m\u001b[0;34m\u001b[0m\u001b[0;34m\u001b[0m\u001b[0m\n\u001b[0m\u001b[1;32m    188\u001b[0m \u001b[0;34m\u001b[0m\u001b[0m\n\u001b[1;32m    189\u001b[0m     \u001b[0;32mdef\u001b[0m \u001b[0mget_current\u001b[0m\u001b[0;34m(\u001b[0m\u001b[0mself\u001b[0m\u001b[0;34m)\u001b[0m\u001b[0;34m:\u001b[0m\u001b[0;34m\u001b[0m\u001b[0;34m\u001b[0m\u001b[0m\n",
      "\u001b[0;31mParserError\u001b[0m: file:///Users/yan/Google%20Drive/django/otmaponto/match/ontology_mapping/data/hydrography/hydrography-v1/cree-swo/source.rdf:2638:35: Repeat node-elements inside property elements: http://www.w3.org/2002/07/owl#Class"
     ]
    }
   ],
   "source": [
    "mapper.align(source_url, target_url, output_url)"
   ]
  },
  {
   "cell_type": "code",
   "execution_count": null,
   "id": "30089467-e8a5-4266-bb44-a671413d5fe6",
   "metadata": {},
   "outputs": [],
   "source": [
    "preds = maponto.load_alignments(output_url, 'predicted')\n",
    "maponto.evaluate(preds, refs_url)"
   ]
  },
  {
   "cell_type": "code",
   "execution_count": null,
   "id": "65dc2b88-f4c2-4ae2-850b-2e84feaa2247",
   "metadata": {},
   "outputs": [],
   "source": []
  },
  {
   "cell_type": "code",
   "execution_count": 18,
   "id": "8a2294d9-6e84-477e-988f-c2a63bd3505f",
   "metadata": {},
   "outputs": [],
   "source": [
    "source_url = \"../data/hydrography/hydrography-v1/hydro3-swo/source.rdf\"\n",
    "target_url = \"../data/hydrography/hydrography-v1/hydro3-swo/target.rdf\"\n",
    "output_url = '../data/results/hydrograph_hydro3_swo_alignment.rdf'\n",
    "refs_url = \"../data/hydrography/hydrography-v1/hydro3-swo/reference.rdf\""
   ]
  },
  {
   "cell_type": "code",
   "execution_count": 19,
   "id": "ada4cb35-af5f-49f1-81c8-e5f4879ffff1",
   "metadata": {},
   "outputs": [
    {
     "name": "stderr",
     "output_type": "stream",
     "text": [
      "INFO:root:Python ensemble mapper info: map ../data/hydrography/hydrography-v1/hydro3-swo/source.rdf to ../data/hydrography/hydrography-v1/hydro3-swo/target.rdf\n"
     ]
    },
    {
     "ename": "ParserError",
     "evalue": "file:///Users/yan/Google%20Drive/django/otmaponto/match/ontology_mapping/data/hydrography/hydrography-v1/hydro3-swo/source.rdf:15:101: Repeat node-elements inside property elements: http://www.w3.org/2002/07/owl#Literal",
     "output_type": "error",
     "traceback": [
      "\u001b[0;31m---------------------------------------------------------------------------\u001b[0m",
      "\u001b[0;31mParserError\u001b[0m                               Traceback (most recent call last)",
      "\u001b[0;32m<ipython-input-19-6770be26f0b5>\u001b[0m in \u001b[0;36m<module>\u001b[0;34m\u001b[0m\n\u001b[0;32m----> 1\u001b[0;31m \u001b[0mmapper\u001b[0m\u001b[0;34m.\u001b[0m\u001b[0malign\u001b[0m\u001b[0;34m(\u001b[0m\u001b[0msource_url\u001b[0m\u001b[0;34m,\u001b[0m \u001b[0mtarget_url\u001b[0m\u001b[0;34m,\u001b[0m \u001b[0moutput_url\u001b[0m\u001b[0;34m)\u001b[0m\u001b[0;34m\u001b[0m\u001b[0;34m\u001b[0m\u001b[0m\n\u001b[0m",
      "\u001b[0;32m~/Google Drive/django/otmaponto/match/ontology_mapping/src/OTMapper.py\u001b[0m in \u001b[0;36malign\u001b[0;34m(self, source_url, target_url, output_url)\u001b[0m\n\u001b[1;32m   1433\u001b[0m \u001b[0;34m\u001b[0m\u001b[0m\n\u001b[1;32m   1434\u001b[0m     \u001b[0;32mdef\u001b[0m \u001b[0malign\u001b[0m\u001b[0;34m(\u001b[0m\u001b[0mself\u001b[0m\u001b[0;34m,\u001b[0m \u001b[0msource_url\u001b[0m\u001b[0;34m,\u001b[0m \u001b[0mtarget_url\u001b[0m\u001b[0;34m,\u001b[0m \u001b[0moutput_url\u001b[0m\u001b[0;34m)\u001b[0m\u001b[0;34m:\u001b[0m\u001b[0;34m\u001b[0m\u001b[0;34m\u001b[0m\u001b[0m\n\u001b[0;32m-> 1435\u001b[0;31m         \u001b[0mmatch\u001b[0m\u001b[0;34m(\u001b[0m\u001b[0msource_url\u001b[0m\u001b[0;34m,\u001b[0m \u001b[0mtarget_url\u001b[0m\u001b[0;34m,\u001b[0m \u001b[0mself\u001b[0m\u001b[0;34m.\u001b[0m\u001b[0membs_model\u001b[0m\u001b[0;34m,\u001b[0m \u001b[0moutput_url\u001b[0m\u001b[0;34m,\u001b[0m \u001b[0;32mNone\u001b[0m\u001b[0;34m)\u001b[0m\u001b[0;34m\u001b[0m\u001b[0;34m\u001b[0m\u001b[0m\n\u001b[0m\u001b[1;32m   1436\u001b[0m \u001b[0;34m\u001b[0m\u001b[0m\n\u001b[1;32m   1437\u001b[0m \u001b[0;34m\u001b[0m\u001b[0m\n",
      "\u001b[0;32m~/Google Drive/django/otmaponto/match/ontology_mapping/src/OTMapper.py\u001b[0m in \u001b[0;36mmatch\u001b[0;34m(source_url, target_url, embs_model, output_url, input_alignment_url)\u001b[0m\n\u001b[1;32m   1402\u001b[0m \u001b[0;34m\u001b[0m\u001b[0m\n\u001b[1;32m   1403\u001b[0m \u001b[0;34m\u001b[0m\u001b[0m\n\u001b[0;32m-> 1404\u001b[0;31m     \u001b[0mresulting_alignment\u001b[0m \u001b[0;34m=\u001b[0m \u001b[0mensemble_map\u001b[0m\u001b[0;34m(\u001b[0m\u001b[0msource_url\u001b[0m\u001b[0;34m,\u001b[0m \u001b[0mtarget_url\u001b[0m\u001b[0;34m,\u001b[0m \u001b[0membs_model\u001b[0m\u001b[0;34m)\u001b[0m\u001b[0;34m\u001b[0m\u001b[0;34m\u001b[0m\u001b[0m\n\u001b[0m\u001b[1;32m   1405\u001b[0m \u001b[0;34m\u001b[0m\u001b[0m\n\u001b[1;32m   1406\u001b[0m \u001b[0;34m\u001b[0m\u001b[0m\n",
      "\u001b[0;32m~/Google Drive/django/otmaponto/match/ontology_mapping/src/OTMapper.py\u001b[0m in \u001b[0;36mensemble_map\u001b[0;34m(source_url, target_url, embs_model)\u001b[0m\n\u001b[1;32m   1316\u001b[0m \u001b[0;34m\u001b[0m\u001b[0m\n\u001b[1;32m   1317\u001b[0m     \u001b[0msource_graph\u001b[0m \u001b[0;34m=\u001b[0m \u001b[0mGraph\u001b[0m\u001b[0;34m(\u001b[0m\u001b[0;34m)\u001b[0m\u001b[0;34m\u001b[0m\u001b[0;34m\u001b[0m\u001b[0m\n\u001b[0;32m-> 1318\u001b[0;31m     \u001b[0msource_graph\u001b[0m\u001b[0;34m.\u001b[0m\u001b[0mparse\u001b[0m\u001b[0;34m(\u001b[0m\u001b[0msource_url\u001b[0m\u001b[0;34m)\u001b[0m\u001b[0;34m\u001b[0m\u001b[0;34m\u001b[0m\u001b[0m\n\u001b[0m\u001b[1;32m   1319\u001b[0m     \u001b[0msource_graph\u001b[0m\u001b[0;34m.\u001b[0m\u001b[0mnamespace_manager\u001b[0m\u001b[0;34m.\u001b[0m\u001b[0mbind\u001b[0m\u001b[0;34m(\u001b[0m\u001b[0;34m\"owl\"\u001b[0m\u001b[0;34m,\u001b[0m \u001b[0mOWL_NS\u001b[0m\u001b[0;34m)\u001b[0m\u001b[0;34m\u001b[0m\u001b[0;34m\u001b[0m\u001b[0m\n\u001b[1;32m   1320\u001b[0m     \u001b[0mlogging\u001b[0m\u001b[0;34m.\u001b[0m\u001b[0minfo\u001b[0m\u001b[0;34m(\u001b[0m\u001b[0;34m\"Read source with %s triples.\"\u001b[0m\u001b[0;34m,\u001b[0m \u001b[0mlen\u001b[0m\u001b[0;34m(\u001b[0m\u001b[0msource_graph\u001b[0m\u001b[0;34m)\u001b[0m\u001b[0;34m)\u001b[0m\u001b[0;34m\u001b[0m\u001b[0;34m\u001b[0m\u001b[0m\n",
      "\u001b[0;32m~/anaconda3/lib/python3.7/site-packages/rdflib/graph.py\u001b[0m in \u001b[0;36mparse\u001b[0;34m(self, source, publicID, format, location, file, data, **args)\u001b[0m\n\u001b[1;32m   1076\u001b[0m         \u001b[0mparser\u001b[0m \u001b[0;34m=\u001b[0m \u001b[0mplugin\u001b[0m\u001b[0;34m.\u001b[0m\u001b[0mget\u001b[0m\u001b[0;34m(\u001b[0m\u001b[0mformat\u001b[0m\u001b[0;34m,\u001b[0m \u001b[0mParser\u001b[0m\u001b[0;34m)\u001b[0m\u001b[0;34m(\u001b[0m\u001b[0;34m)\u001b[0m\u001b[0;34m\u001b[0m\u001b[0;34m\u001b[0m\u001b[0m\n\u001b[1;32m   1077\u001b[0m         \u001b[0;32mtry\u001b[0m\u001b[0;34m:\u001b[0m\u001b[0;34m\u001b[0m\u001b[0;34m\u001b[0m\u001b[0m\n\u001b[0;32m-> 1078\u001b[0;31m             \u001b[0mparser\u001b[0m\u001b[0;34m.\u001b[0m\u001b[0mparse\u001b[0m\u001b[0;34m(\u001b[0m\u001b[0msource\u001b[0m\u001b[0;34m,\u001b[0m \u001b[0mself\u001b[0m\u001b[0;34m,\u001b[0m \u001b[0;34m**\u001b[0m\u001b[0margs\u001b[0m\u001b[0;34m)\u001b[0m\u001b[0;34m\u001b[0m\u001b[0;34m\u001b[0m\u001b[0m\n\u001b[0m\u001b[1;32m   1079\u001b[0m         \u001b[0;32mfinally\u001b[0m\u001b[0;34m:\u001b[0m\u001b[0;34m\u001b[0m\u001b[0;34m\u001b[0m\u001b[0m\n\u001b[1;32m   1080\u001b[0m             \u001b[0;32mif\u001b[0m \u001b[0msource\u001b[0m\u001b[0;34m.\u001b[0m\u001b[0mauto_close\u001b[0m\u001b[0;34m:\u001b[0m\u001b[0;34m\u001b[0m\u001b[0;34m\u001b[0m\u001b[0m\n",
      "\u001b[0;32m~/anaconda3/lib/python3.7/site-packages/rdflib/plugins/parsers/rdfxml.py\u001b[0m in \u001b[0;36mparse\u001b[0;34m(self, source, sink, **args)\u001b[0m\n\u001b[1;32m    577\u001b[0m         \u001b[0;31m# content_handler.reset()\u001b[0m\u001b[0;34m\u001b[0m\u001b[0;34m\u001b[0m\u001b[0;34m\u001b[0m\u001b[0m\n\u001b[1;32m    578\u001b[0m         \u001b[0;31m# self._parser.reset()\u001b[0m\u001b[0;34m\u001b[0m\u001b[0;34m\u001b[0m\u001b[0;34m\u001b[0m\u001b[0m\n\u001b[0;32m--> 579\u001b[0;31m         \u001b[0mself\u001b[0m\u001b[0;34m.\u001b[0m\u001b[0m_parser\u001b[0m\u001b[0;34m.\u001b[0m\u001b[0mparse\u001b[0m\u001b[0;34m(\u001b[0m\u001b[0msource\u001b[0m\u001b[0;34m)\u001b[0m\u001b[0;34m\u001b[0m\u001b[0;34m\u001b[0m\u001b[0m\n\u001b[0m",
      "\u001b[0;32m~/anaconda3/lib/python3.7/xml/sax/expatreader.py\u001b[0m in \u001b[0;36mparse\u001b[0;34m(self, source)\u001b[0m\n\u001b[1;32m    109\u001b[0m             \u001b[0mself\u001b[0m\u001b[0;34m.\u001b[0m\u001b[0mreset\u001b[0m\u001b[0;34m(\u001b[0m\u001b[0;34m)\u001b[0m\u001b[0;34m\u001b[0m\u001b[0;34m\u001b[0m\u001b[0m\n\u001b[1;32m    110\u001b[0m             \u001b[0mself\u001b[0m\u001b[0;34m.\u001b[0m\u001b[0m_cont_handler\u001b[0m\u001b[0;34m.\u001b[0m\u001b[0msetDocumentLocator\u001b[0m\u001b[0;34m(\u001b[0m\u001b[0mExpatLocator\u001b[0m\u001b[0;34m(\u001b[0m\u001b[0mself\u001b[0m\u001b[0;34m)\u001b[0m\u001b[0;34m)\u001b[0m\u001b[0;34m\u001b[0m\u001b[0;34m\u001b[0m\u001b[0m\n\u001b[0;32m--> 111\u001b[0;31m             \u001b[0mxmlreader\u001b[0m\u001b[0;34m.\u001b[0m\u001b[0mIncrementalParser\u001b[0m\u001b[0;34m.\u001b[0m\u001b[0mparse\u001b[0m\u001b[0;34m(\u001b[0m\u001b[0mself\u001b[0m\u001b[0;34m,\u001b[0m \u001b[0msource\u001b[0m\u001b[0;34m)\u001b[0m\u001b[0;34m\u001b[0m\u001b[0;34m\u001b[0m\u001b[0m\n\u001b[0m\u001b[1;32m    112\u001b[0m         \u001b[0;32mexcept\u001b[0m\u001b[0;34m:\u001b[0m\u001b[0;34m\u001b[0m\u001b[0;34m\u001b[0m\u001b[0m\n\u001b[1;32m    113\u001b[0m             \u001b[0;31m# bpo-30264: Close the source on error to not leak resources:\u001b[0m\u001b[0;34m\u001b[0m\u001b[0;34m\u001b[0m\u001b[0;34m\u001b[0m\u001b[0m\n",
      "\u001b[0;32m~/anaconda3/lib/python3.7/xml/sax/xmlreader.py\u001b[0m in \u001b[0;36mparse\u001b[0;34m(self, source)\u001b[0m\n\u001b[1;32m    123\u001b[0m         \u001b[0mbuffer\u001b[0m \u001b[0;34m=\u001b[0m \u001b[0mfile\u001b[0m\u001b[0;34m.\u001b[0m\u001b[0mread\u001b[0m\u001b[0;34m(\u001b[0m\u001b[0mself\u001b[0m\u001b[0;34m.\u001b[0m\u001b[0m_bufsize\u001b[0m\u001b[0;34m)\u001b[0m\u001b[0;34m\u001b[0m\u001b[0;34m\u001b[0m\u001b[0m\n\u001b[1;32m    124\u001b[0m         \u001b[0;32mwhile\u001b[0m \u001b[0mbuffer\u001b[0m\u001b[0;34m:\u001b[0m\u001b[0;34m\u001b[0m\u001b[0;34m\u001b[0m\u001b[0m\n\u001b[0;32m--> 125\u001b[0;31m             \u001b[0mself\u001b[0m\u001b[0;34m.\u001b[0m\u001b[0mfeed\u001b[0m\u001b[0;34m(\u001b[0m\u001b[0mbuffer\u001b[0m\u001b[0;34m)\u001b[0m\u001b[0;34m\u001b[0m\u001b[0;34m\u001b[0m\u001b[0m\n\u001b[0m\u001b[1;32m    126\u001b[0m             \u001b[0mbuffer\u001b[0m \u001b[0;34m=\u001b[0m \u001b[0mfile\u001b[0m\u001b[0;34m.\u001b[0m\u001b[0mread\u001b[0m\u001b[0;34m(\u001b[0m\u001b[0mself\u001b[0m\u001b[0;34m.\u001b[0m\u001b[0m_bufsize\u001b[0m\u001b[0;34m)\u001b[0m\u001b[0;34m\u001b[0m\u001b[0;34m\u001b[0m\u001b[0m\n\u001b[1;32m    127\u001b[0m         \u001b[0mself\u001b[0m\u001b[0;34m.\u001b[0m\u001b[0mclose\u001b[0m\u001b[0;34m(\u001b[0m\u001b[0;34m)\u001b[0m\u001b[0;34m\u001b[0m\u001b[0;34m\u001b[0m\u001b[0m\n",
      "\u001b[0;32m~/anaconda3/lib/python3.7/xml/sax/expatreader.py\u001b[0m in \u001b[0;36mfeed\u001b[0;34m(self, data, isFinal)\u001b[0m\n\u001b[1;32m    215\u001b[0m             \u001b[0;31m# document. When feeding chunks, they are not normally final -\u001b[0m\u001b[0;34m\u001b[0m\u001b[0;34m\u001b[0m\u001b[0;34m\u001b[0m\u001b[0m\n\u001b[1;32m    216\u001b[0m             \u001b[0;31m# except when invoked from close.\u001b[0m\u001b[0;34m\u001b[0m\u001b[0;34m\u001b[0m\u001b[0;34m\u001b[0m\u001b[0m\n\u001b[0;32m--> 217\u001b[0;31m             \u001b[0mself\u001b[0m\u001b[0;34m.\u001b[0m\u001b[0m_parser\u001b[0m\u001b[0;34m.\u001b[0m\u001b[0mParse\u001b[0m\u001b[0;34m(\u001b[0m\u001b[0mdata\u001b[0m\u001b[0;34m,\u001b[0m \u001b[0misFinal\u001b[0m\u001b[0;34m)\u001b[0m\u001b[0;34m\u001b[0m\u001b[0;34m\u001b[0m\u001b[0m\n\u001b[0m\u001b[1;32m    218\u001b[0m         \u001b[0;32mexcept\u001b[0m \u001b[0mexpat\u001b[0m\u001b[0;34m.\u001b[0m\u001b[0merror\u001b[0m \u001b[0;32mas\u001b[0m \u001b[0me\u001b[0m\u001b[0;34m:\u001b[0m\u001b[0;34m\u001b[0m\u001b[0;34m\u001b[0m\u001b[0m\n\u001b[1;32m    219\u001b[0m             \u001b[0mexc\u001b[0m \u001b[0;34m=\u001b[0m \u001b[0mSAXParseException\u001b[0m\u001b[0;34m(\u001b[0m\u001b[0mexpat\u001b[0m\u001b[0;34m.\u001b[0m\u001b[0mErrorString\u001b[0m\u001b[0;34m(\u001b[0m\u001b[0me\u001b[0m\u001b[0;34m.\u001b[0m\u001b[0mcode\u001b[0m\u001b[0;34m)\u001b[0m\u001b[0;34m,\u001b[0m \u001b[0me\u001b[0m\u001b[0;34m,\u001b[0m \u001b[0mself\u001b[0m\u001b[0;34m)\u001b[0m\u001b[0;34m\u001b[0m\u001b[0;34m\u001b[0m\u001b[0m\n",
      "\u001b[0;32m/opt/concourse/worker/volumes/live/13cf9768-d104-4df5-6143-5360c0d9e8b3/volume/python_1585235027941/work/Modules/pyexpat.c\u001b[0m in \u001b[0;36mEndElement\u001b[0;34m()\u001b[0m\n",
      "\u001b[0;32m~/anaconda3/lib/python3.7/xml/sax/expatreader.py\u001b[0m in \u001b[0;36mend_element_ns\u001b[0;34m(self, name)\u001b[0m\n\u001b[1;32m    379\u001b[0m             \u001b[0mpair\u001b[0m \u001b[0;34m=\u001b[0m \u001b[0mtuple\u001b[0m\u001b[0;34m(\u001b[0m\u001b[0mpair\u001b[0m\u001b[0;34m)\u001b[0m\u001b[0;34m\u001b[0m\u001b[0;34m\u001b[0m\u001b[0m\n\u001b[1;32m    380\u001b[0m \u001b[0;34m\u001b[0m\u001b[0m\n\u001b[0;32m--> 381\u001b[0;31m         \u001b[0mself\u001b[0m\u001b[0;34m.\u001b[0m\u001b[0m_cont_handler\u001b[0m\u001b[0;34m.\u001b[0m\u001b[0mendElementNS\u001b[0m\u001b[0;34m(\u001b[0m\u001b[0mpair\u001b[0m\u001b[0;34m,\u001b[0m \u001b[0;32mNone\u001b[0m\u001b[0;34m)\u001b[0m\u001b[0;34m\u001b[0m\u001b[0;34m\u001b[0m\u001b[0m\n\u001b[0m\u001b[1;32m    382\u001b[0m \u001b[0;34m\u001b[0m\u001b[0m\n\u001b[1;32m    383\u001b[0m     \u001b[0;31m# this is not used (call directly to ContentHandler)\u001b[0m\u001b[0;34m\u001b[0m\u001b[0;34m\u001b[0m\u001b[0;34m\u001b[0m\u001b[0m\n",
      "\u001b[0;32m~/anaconda3/lib/python3.7/site-packages/rdflib/plugins/parsers/rdfxml.py\u001b[0m in \u001b[0;36mendElementNS\u001b[0;34m(self, name, qname)\u001b[0m\n\u001b[1;32m    159\u001b[0m \u001b[0;34m\u001b[0m\u001b[0m\n\u001b[1;32m    160\u001b[0m     \u001b[0;32mdef\u001b[0m \u001b[0mendElementNS\u001b[0m\u001b[0;34m(\u001b[0m\u001b[0mself\u001b[0m\u001b[0;34m,\u001b[0m \u001b[0mname\u001b[0m\u001b[0;34m,\u001b[0m \u001b[0mqname\u001b[0m\u001b[0;34m)\u001b[0m\u001b[0;34m:\u001b[0m\u001b[0;34m\u001b[0m\u001b[0;34m\u001b[0m\u001b[0m\n\u001b[0;32m--> 161\u001b[0;31m         \u001b[0mself\u001b[0m\u001b[0;34m.\u001b[0m\u001b[0mcurrent\u001b[0m\u001b[0;34m.\u001b[0m\u001b[0mend\u001b[0m\u001b[0;34m(\u001b[0m\u001b[0mname\u001b[0m\u001b[0;34m,\u001b[0m \u001b[0mqname\u001b[0m\u001b[0;34m)\u001b[0m\u001b[0;34m\u001b[0m\u001b[0;34m\u001b[0m\u001b[0m\n\u001b[0m\u001b[1;32m    162\u001b[0m         \u001b[0mself\u001b[0m\u001b[0;34m.\u001b[0m\u001b[0mstack\u001b[0m\u001b[0;34m.\u001b[0m\u001b[0mpop\u001b[0m\u001b[0;34m(\u001b[0m\u001b[0;34m)\u001b[0m\u001b[0;34m\u001b[0m\u001b[0;34m\u001b[0m\u001b[0m\n\u001b[1;32m    163\u001b[0m \u001b[0;34m\u001b[0m\u001b[0m\n",
      "\u001b[0;32m~/anaconda3/lib/python3.7/site-packages/rdflib/plugins/parsers/rdfxml.py\u001b[0m in \u001b[0;36mnode_element_end\u001b[0;34m(self, name, qname)\u001b[0m\n\u001b[1;32m    331\u001b[0m         \u001b[0;32mif\u001b[0m \u001b[0mself\u001b[0m\u001b[0;34m.\u001b[0m\u001b[0mparent\u001b[0m\u001b[0;34m.\u001b[0m\u001b[0mobject\u001b[0m \u001b[0;32mand\u001b[0m \u001b[0mself\u001b[0m\u001b[0;34m.\u001b[0m\u001b[0mcurrent\u001b[0m \u001b[0;34m!=\u001b[0m \u001b[0mself\u001b[0m\u001b[0;34m.\u001b[0m\u001b[0mstack\u001b[0m\u001b[0;34m[\u001b[0m\u001b[0;36m2\u001b[0m\u001b[0;34m]\u001b[0m\u001b[0;34m:\u001b[0m\u001b[0;34m\u001b[0m\u001b[0;34m\u001b[0m\u001b[0m\n\u001b[1;32m    332\u001b[0m \u001b[0;34m\u001b[0m\u001b[0m\n\u001b[0;32m--> 333\u001b[0;31m             \u001b[0mself\u001b[0m\u001b[0;34m.\u001b[0m\u001b[0merror\u001b[0m\u001b[0;34m(\u001b[0m\u001b[0;34m\"Repeat node-elements inside property elements: %s\"\u001b[0m\u001b[0;34m%\u001b[0m\u001b[0;34m\"\"\u001b[0m\u001b[0;34m.\u001b[0m\u001b[0mjoin\u001b[0m\u001b[0;34m(\u001b[0m\u001b[0mname\u001b[0m\u001b[0;34m)\u001b[0m\u001b[0;34m)\u001b[0m\u001b[0;34m\u001b[0m\u001b[0;34m\u001b[0m\u001b[0m\n\u001b[0m\u001b[1;32m    334\u001b[0m \u001b[0;34m\u001b[0m\u001b[0m\n\u001b[1;32m    335\u001b[0m         \u001b[0mself\u001b[0m\u001b[0;34m.\u001b[0m\u001b[0mparent\u001b[0m\u001b[0;34m.\u001b[0m\u001b[0mobject\u001b[0m \u001b[0;34m=\u001b[0m \u001b[0mself\u001b[0m\u001b[0;34m.\u001b[0m\u001b[0mcurrent\u001b[0m\u001b[0;34m.\u001b[0m\u001b[0msubject\u001b[0m\u001b[0;34m\u001b[0m\u001b[0;34m\u001b[0m\u001b[0m\n",
      "\u001b[0;32m~/anaconda3/lib/python3.7/site-packages/rdflib/plugins/parsers/rdfxml.py\u001b[0m in \u001b[0;36merror\u001b[0;34m(self, message)\u001b[0m\n\u001b[1;32m    185\u001b[0m                                \u001b[0mlocator\u001b[0m\u001b[0;34m.\u001b[0m\u001b[0mgetLineNumber\u001b[0m\u001b[0;34m(\u001b[0m\u001b[0;34m)\u001b[0m\u001b[0;34m,\u001b[0m\u001b[0;34m\u001b[0m\u001b[0;34m\u001b[0m\u001b[0m\n\u001b[1;32m    186\u001b[0m                                locator.getColumnNumber())\n\u001b[0;32m--> 187\u001b[0;31m         \u001b[0;32mraise\u001b[0m \u001b[0mParserError\u001b[0m\u001b[0;34m(\u001b[0m\u001b[0minfo\u001b[0m \u001b[0;34m+\u001b[0m \u001b[0mmessage\u001b[0m\u001b[0;34m)\u001b[0m\u001b[0;34m\u001b[0m\u001b[0;34m\u001b[0m\u001b[0m\n\u001b[0m\u001b[1;32m    188\u001b[0m \u001b[0;34m\u001b[0m\u001b[0m\n\u001b[1;32m    189\u001b[0m     \u001b[0;32mdef\u001b[0m \u001b[0mget_current\u001b[0m\u001b[0;34m(\u001b[0m\u001b[0mself\u001b[0m\u001b[0;34m)\u001b[0m\u001b[0;34m:\u001b[0m\u001b[0;34m\u001b[0m\u001b[0;34m\u001b[0m\u001b[0m\n",
      "\u001b[0;31mParserError\u001b[0m: file:///Users/yan/Google%20Drive/django/otmaponto/match/ontology_mapping/data/hydrography/hydrography-v1/hydro3-swo/source.rdf:15:101: Repeat node-elements inside property elements: http://www.w3.org/2002/07/owl#Literal"
     ]
    }
   ],
   "source": [
    "mapper.align(source_url, target_url, output_url)"
   ]
  },
  {
   "cell_type": "code",
   "execution_count": null,
   "id": "9ad462b1-d2e9-4193-b63b-43a543742cdc",
   "metadata": {},
   "outputs": [],
   "source": [
    "preds = maponto.load_alignments(output_url, 'predicted')\n",
    "maponto.evaluate(preds, refs_url)"
   ]
  },
  {
   "cell_type": "markdown",
   "id": "944489bf-ac21-4bc1-ad71-31dcbf64fea8",
   "metadata": {},
   "source": [
    "# Popenslaved"
   ]
  },
  {
   "cell_type": "code",
   "execution_count": 35,
   "id": "65b54a3c-37bc-4fad-aff4-f9b130e0cf5c",
   "metadata": {},
   "outputs": [],
   "source": [
    "source_url = \"../data/popenslaved/popenslaved-v1/enslaved-wikidata/source.rdf\"\n",
    "target_url = \"../data/popenslaved/popenslaved-v1/enslaved-wikidata/target.rdf\"\n",
    "output_url = '../data/results/popenslaved_enslaved_wikidata_alignment.rdf'\n",
    "refs_url = \"../data/popenslaved/popenslaved-v1/enslaved-wikidata/reference.rdf\""
   ]
  },
  {
   "cell_type": "code",
   "execution_count": 36,
   "id": "b55f159a-39f3-4c39-be6a-a9f3a7246087",
   "metadata": {},
   "outputs": [
    {
     "name": "stderr",
     "output_type": "stream",
     "text": [
      "INFO:root:Python ensemble mapper info: map ../data/popenslaved/popenslaved-v1/enslaved-wikidata/source.rdf to ../data/popenslaved/popenslaved-v1/enslaved-wikidata/target.rdf\n",
      "INFO:root:Read source with 68133 triples.\n",
      "INFO:root:Read target with 83515 triples.\n",
      "INFO:root:MAP CONCEPTS\n",
      "INFO:root:The number of level_1 predicted mapping is 8.\n",
      "INFO:root:Retrieving Synsets by WordNet...\n",
      "INFO:root:The number of level_2 predicted mapping is 1\n",
      "INFO:root:Compute the related words for each source concept....\n",
      "33it [00:00, 147.65it/s]\n",
      "INFO:root:Total number of source concepts computed with relatd words is 33\n",
      "INFO:root:Compute the related words for each target concept....\n",
      "9it [00:00, 140.96it/s]\n",
      "INFO:root:Total number of target concepts computed with related words is 9\n",
      "100%|██████████| 33/33 [00:00<00:00, 40926.09it/s]\n",
      "INFO:root:The number of level_3 predicted mapping is 6\n",
      "INFO:root:Compute Pairwise Wasserstein Distances...\n",
      "100%|██████████| 27/27 [00:00<00:00, 563.70it/s]\n",
      "INFO:root:The number of level_4 predicted mapping is 1\n",
      "INFO:root:Skip level_5 mapping.\n",
      "INFO:root:Matching Label Embeddings by Optimal Transport...\n",
      "INFO:root:Computing the Ground Embedding Costs between the Source and Target Points...\n",
      "INFO:root:The shape of the cost matrix is (26, 2)\n",
      "INFO:root:Computing Optimal Transport Plan...\n",
      "INFO:root:Computing Wasserstein distance by the Sinkhorn algorithm...\n",
      "INFO:root:The Sinkhorn got warnings. Computing Wasserstein distance by the EMD algorithm...\n",
      "INFO:root:Making Mappings from a Pairwise OT Plan Matrix by Mutual NN...\n",
      "INFO:root:The number of level_6 predicted mapping is 2\n",
      "INFO:root:TOTAL NUMBER OF MAPPINGS BETWEEN CONCPETS IS 18\n",
      "INFO:root:=================================================\n",
      "INFO:root:MAP OBJECT PROPERTIES\n",
      "INFO:root:Retrieving Synsets by WordNet...\n",
      "INFO:root:Compute the related words for each source concept....\n"
     ]
    },
    {
     "name": "stdout",
     "output_type": "stream",
     "text": [
      "Warning: numerical errors at iteration 0\n"
     ]
    },
    {
     "name": "stderr",
     "output_type": "stream",
     "text": [
      "49it [00:00, 146.99it/s]\n",
      "INFO:root:Total number of source concepts computed with relatd words is 49\n",
      "INFO:root:Compute the related words for each target concept....\n",
      "0it [00:00, ?it/s]\n",
      "INFO:root:Total number of target concepts computed with related words is 0\n",
      "INFO:root:Skip the level_4 mapping.\n",
      "INFO:root:Skip the level_5 mapping.\n",
      "INFO:root:Skip the level_6 mappping.\n",
      "INFO:root:TOTAL NUMBER OF MAPPINGS BETWEEN OBJECT PROPERTIES IS 0\n",
      "INFO:root:========================================================\n",
      "INFO:root:MAP DATATYPE PROPERTIES\n",
      "INFO:root:Retrieving Synsets by WordNet...\n",
      "INFO:root:Compute the related words for each source concept....\n",
      "17it [00:00, 147.55it/s]\n",
      "INFO:root:Total number of source concepts computed with relatd words is 17\n",
      "INFO:root:Compute the related words for each target concept....\n",
      "0it [00:00, ?it/s]\n",
      "INFO:root:Total number of target concepts computed with related words is 0\n",
      "INFO:root:Skip the level_4 mapping.\n",
      "INFO:root:Skip the level_5 mapping.\n",
      "INFO:root:Skip the level_6 mappping.\n",
      "INFO:root:TOTAL NUMBER OF MAPPINGS BETWEEN DATATYPE PROPERTIES IS 0\n",
      "INFO:root:===========================================================\n"
     ]
    }
   ],
   "source": [
    "mapper.align(source_url, target_url, output_url)"
   ]
  },
  {
   "cell_type": "code",
   "execution_count": 37,
   "id": "2cf8ed57-0d4b-4099-ad8d-adf6fc69f8b8",
   "metadata": {},
   "outputs": [
    {
     "name": "stdout",
     "output_type": "stream",
     "text": [
      "Total number of predicted is 18\n",
      "Total number of references is 98\n"
     ]
    },
    {
     "ename": "KeyError",
     "evalue": "'rdf:resource'",
     "output_type": "error",
     "traceback": [
      "\u001b[0;31m---------------------------------------------------------------------------\u001b[0m",
      "\u001b[0;31mKeyError\u001b[0m                                  Traceback (most recent call last)",
      "\u001b[0;32m<ipython-input-37-5e41e11c6cf8>\u001b[0m in \u001b[0;36m<module>\u001b[0;34m\u001b[0m\n\u001b[1;32m      1\u001b[0m \u001b[0mpreds\u001b[0m \u001b[0;34m=\u001b[0m \u001b[0mmaponto\u001b[0m\u001b[0;34m.\u001b[0m\u001b[0mload_alignments\u001b[0m\u001b[0;34m(\u001b[0m\u001b[0moutput_url\u001b[0m\u001b[0;34m,\u001b[0m \u001b[0;34m'predicted'\u001b[0m\u001b[0;34m)\u001b[0m\u001b[0;34m\u001b[0m\u001b[0;34m\u001b[0m\u001b[0m\n\u001b[0;32m----> 2\u001b[0;31m \u001b[0mmaponto\u001b[0m\u001b[0;34m.\u001b[0m\u001b[0mevaluate\u001b[0m\u001b[0;34m(\u001b[0m\u001b[0mpreds\u001b[0m\u001b[0;34m,\u001b[0m \u001b[0mrefs_url\u001b[0m\u001b[0;34m)\u001b[0m\u001b[0;34m\u001b[0m\u001b[0;34m\u001b[0m\u001b[0m\n\u001b[0m",
      "\u001b[0;32m~/django/otmaponto/match/ontology_mapping/src/OTMapOnto.py\u001b[0m in \u001b[0;36mevaluate\u001b[0;34m(align_df, refs_rdf_path)\u001b[0m\n\u001b[1;32m     72\u001b[0m         \u001b[0moutput\u001b[0m\u001b[0;34m:\u001b[0m \u001b[0mprint\u001b[0m \u001b[0mprecision\u001b[0m\u001b[0;34m,\u001b[0m \u001b[0mrecall\u001b[0m\u001b[0;34m,\u001b[0m \u001b[0mf1\u001b[0m\u001b[0;34m-\u001b[0m\u001b[0mmeaure\u001b[0m\u001b[0;34m\u001b[0m\u001b[0;34m\u001b[0m\u001b[0m\n\u001b[1;32m     73\u001b[0m     \"\"\"\n\u001b[0;32m---> 74\u001b[0;31m     \u001b[0mrefs_df\u001b[0m \u001b[0;34m=\u001b[0m \u001b[0mload_alignments\u001b[0m\u001b[0;34m(\u001b[0m\u001b[0mrefs_rdf_path\u001b[0m\u001b[0;34m,\u001b[0m \u001b[0;34m'references'\u001b[0m\u001b[0;34m)\u001b[0m\u001b[0;34m\u001b[0m\u001b[0;34m\u001b[0m\u001b[0m\n\u001b[0m\u001b[1;32m     75\u001b[0m \u001b[0;34m\u001b[0m\u001b[0m\n\u001b[1;32m     76\u001b[0m     matched_df = align_df.merge(refs_df, how='inner', left_on=['source', 'target'], \\\n",
      "\u001b[0;32m~/django/otmaponto/match/ontology_mapping/src/OTMapOnto.py\u001b[0m in \u001b[0;36mload_alignments\u001b[0;34m(rdf_path, name)\u001b[0m\n\u001b[1;32m     55\u001b[0m     \u001b[0muri_maps\u001b[0m \u001b[0;34m=\u001b[0m \u001b[0;34m[\u001b[0m\u001b[0;34m]\u001b[0m\u001b[0;34m\u001b[0m\u001b[0;34m\u001b[0m\u001b[0m\n\u001b[1;32m     56\u001b[0m     \u001b[0;32mfor\u001b[0m \u001b[0mele\u001b[0m \u001b[0;32min\u001b[0m \u001b[0mmaps\u001b[0m\u001b[0;34m:\u001b[0m\u001b[0;34m\u001b[0m\u001b[0;34m\u001b[0m\u001b[0m\n\u001b[0;32m---> 57\u001b[0;31m         \u001b[0me1\u001b[0m \u001b[0;34m=\u001b[0m \u001b[0mele\u001b[0m\u001b[0;34m.\u001b[0m\u001b[0mgetElementsByTagName\u001b[0m\u001b[0;34m(\u001b[0m\u001b[0;34m'entity1'\u001b[0m\u001b[0;34m)\u001b[0m\u001b[0;34m[\u001b[0m\u001b[0;36m0\u001b[0m\u001b[0;34m]\u001b[0m\u001b[0;34m.\u001b[0m\u001b[0mattributes\u001b[0m\u001b[0;34m[\u001b[0m\u001b[0;34m'rdf:resource'\u001b[0m\u001b[0;34m]\u001b[0m\u001b[0;34m.\u001b[0m\u001b[0mvalue\u001b[0m\u001b[0;34m\u001b[0m\u001b[0;34m\u001b[0m\u001b[0m\n\u001b[0m\u001b[1;32m     58\u001b[0m         \u001b[0me2\u001b[0m \u001b[0;34m=\u001b[0m \u001b[0mele\u001b[0m\u001b[0;34m.\u001b[0m\u001b[0mgetElementsByTagName\u001b[0m\u001b[0;34m(\u001b[0m\u001b[0;34m'entity2'\u001b[0m\u001b[0;34m)\u001b[0m\u001b[0;34m[\u001b[0m\u001b[0;36m0\u001b[0m\u001b[0;34m]\u001b[0m\u001b[0;34m.\u001b[0m\u001b[0mattributes\u001b[0m\u001b[0;34m[\u001b[0m\u001b[0;34m'rdf:resource'\u001b[0m\u001b[0;34m]\u001b[0m\u001b[0;34m.\u001b[0m\u001b[0mvalue\u001b[0m\u001b[0;34m\u001b[0m\u001b[0;34m\u001b[0m\u001b[0m\n\u001b[1;32m     59\u001b[0m         \u001b[0mrel\u001b[0m \u001b[0;34m=\u001b[0m \u001b[0mele\u001b[0m\u001b[0;34m.\u001b[0m\u001b[0mgetElementsByTagName\u001b[0m\u001b[0;34m(\u001b[0m\u001b[0;34m'relation'\u001b[0m\u001b[0;34m)\u001b[0m\u001b[0;34m[\u001b[0m\u001b[0;36m0\u001b[0m\u001b[0;34m]\u001b[0m\u001b[0;34m.\u001b[0m\u001b[0mchildNodes\u001b[0m\u001b[0;34m[\u001b[0m\u001b[0;36m0\u001b[0m\u001b[0;34m]\u001b[0m\u001b[0;34m.\u001b[0m\u001b[0mdata\u001b[0m\u001b[0;34m\u001b[0m\u001b[0;34m\u001b[0m\u001b[0m\n",
      "\u001b[0;32m~/anaconda3/lib/python3.8/xml/dom/minidom.py\u001b[0m in \u001b[0;36m__getitem__\u001b[0;34m(self, attname_or_tuple)\u001b[0m\n\u001b[1;32m    550\u001b[0m             \u001b[0;32mreturn\u001b[0m \u001b[0mself\u001b[0m\u001b[0;34m.\u001b[0m\u001b[0m_attrsNS\u001b[0m\u001b[0;34m[\u001b[0m\u001b[0mattname_or_tuple\u001b[0m\u001b[0;34m]\u001b[0m\u001b[0;34m\u001b[0m\u001b[0;34m\u001b[0m\u001b[0m\n\u001b[1;32m    551\u001b[0m         \u001b[0;32melse\u001b[0m\u001b[0;34m:\u001b[0m\u001b[0;34m\u001b[0m\u001b[0;34m\u001b[0m\u001b[0m\n\u001b[0;32m--> 552\u001b[0;31m             \u001b[0;32mreturn\u001b[0m \u001b[0mself\u001b[0m\u001b[0;34m.\u001b[0m\u001b[0m_attrs\u001b[0m\u001b[0;34m[\u001b[0m\u001b[0mattname_or_tuple\u001b[0m\u001b[0;34m]\u001b[0m\u001b[0;34m\u001b[0m\u001b[0;34m\u001b[0m\u001b[0m\n\u001b[0m\u001b[1;32m    553\u001b[0m \u001b[0;34m\u001b[0m\u001b[0m\n\u001b[1;32m    554\u001b[0m     \u001b[0;31m# same as set\u001b[0m\u001b[0;34m\u001b[0m\u001b[0;34m\u001b[0m\u001b[0;34m\u001b[0m\u001b[0m\n",
      "\u001b[0;31mKeyError\u001b[0m: 'rdf:resource'"
     ]
    }
   ],
   "source": [
    "preds = maponto.load_alignments(output_url, 'predicted')\n",
    "maponto.evaluate(preds, refs_url)"
   ]
  },
  {
   "cell_type": "markdown",
   "id": "1453d039-951a-4a30-99f3-f834223652e3",
   "metadata": {},
   "source": [
    "# Popgeolink"
   ]
  },
  {
   "cell_type": "code",
   "execution_count": 23,
   "id": "80a7df34-0724-4ebd-b709-0e7f6715696e",
   "metadata": {},
   "outputs": [],
   "source": [
    "source_url = \"../data/popgeolink/popgeolink-v1/popgbo-popgmo/source.rdf\"\n",
    "target_url = \"../data/popgeolink/popgeolink-v1/popgbo-popgmo/target.rdf\"\n",
    "output_url = '../data/results/popgeolink_popgbo_popgmo_alignment.rdf'\n",
    "refs_url = \"../data/popgeolink/popgeolink-v1/popgbo-popgmo/reference.rdf\""
   ]
  },
  {
   "cell_type": "code",
   "execution_count": 24,
   "id": "c360ff25-7aab-4386-b203-7e4a48ef3018",
   "metadata": {},
   "outputs": [
    {
     "name": "stderr",
     "output_type": "stream",
     "text": [
      "INFO:root:Python ensemble mapper info: map ../data/popgeolink/popgeolink-v1/popgbo-popgmo/source.rdf to ../data/popgeolink/popgeolink-v1/popgbo-popgmo/target.rdf\n"
     ]
    },
    {
     "ename": "ParserError",
     "evalue": "file:///Users/yan/Google%20Drive/django/otmaponto/match/ontology_mapping/data/popgeolink/popgeolink-v1/popgbo-popgmo/source.rdf:21:62: Repeat node-elements inside property elements: http://www.w3.org/2002/07/owl#IRI",
     "output_type": "error",
     "traceback": [
      "\u001b[0;31m---------------------------------------------------------------------------\u001b[0m",
      "\u001b[0;31mParserError\u001b[0m                               Traceback (most recent call last)",
      "\u001b[0;32m<ipython-input-24-6770be26f0b5>\u001b[0m in \u001b[0;36m<module>\u001b[0;34m\u001b[0m\n\u001b[0;32m----> 1\u001b[0;31m \u001b[0mmapper\u001b[0m\u001b[0;34m.\u001b[0m\u001b[0malign\u001b[0m\u001b[0;34m(\u001b[0m\u001b[0msource_url\u001b[0m\u001b[0;34m,\u001b[0m \u001b[0mtarget_url\u001b[0m\u001b[0;34m,\u001b[0m \u001b[0moutput_url\u001b[0m\u001b[0;34m)\u001b[0m\u001b[0;34m\u001b[0m\u001b[0;34m\u001b[0m\u001b[0m\n\u001b[0m",
      "\u001b[0;32m~/Google Drive/django/otmaponto/match/ontology_mapping/src/OTMapper.py\u001b[0m in \u001b[0;36malign\u001b[0;34m(self, source_url, target_url, output_url)\u001b[0m\n\u001b[1;32m   1433\u001b[0m \u001b[0;34m\u001b[0m\u001b[0m\n\u001b[1;32m   1434\u001b[0m     \u001b[0;32mdef\u001b[0m \u001b[0malign\u001b[0m\u001b[0;34m(\u001b[0m\u001b[0mself\u001b[0m\u001b[0;34m,\u001b[0m \u001b[0msource_url\u001b[0m\u001b[0;34m,\u001b[0m \u001b[0mtarget_url\u001b[0m\u001b[0;34m,\u001b[0m \u001b[0moutput_url\u001b[0m\u001b[0;34m)\u001b[0m\u001b[0;34m:\u001b[0m\u001b[0;34m\u001b[0m\u001b[0;34m\u001b[0m\u001b[0m\n\u001b[0;32m-> 1435\u001b[0;31m         \u001b[0mmatch\u001b[0m\u001b[0;34m(\u001b[0m\u001b[0msource_url\u001b[0m\u001b[0;34m,\u001b[0m \u001b[0mtarget_url\u001b[0m\u001b[0;34m,\u001b[0m \u001b[0mself\u001b[0m\u001b[0;34m.\u001b[0m\u001b[0membs_model\u001b[0m\u001b[0;34m,\u001b[0m \u001b[0moutput_url\u001b[0m\u001b[0;34m,\u001b[0m \u001b[0;32mNone\u001b[0m\u001b[0;34m)\u001b[0m\u001b[0;34m\u001b[0m\u001b[0;34m\u001b[0m\u001b[0m\n\u001b[0m\u001b[1;32m   1436\u001b[0m \u001b[0;34m\u001b[0m\u001b[0m\n\u001b[1;32m   1437\u001b[0m \u001b[0;34m\u001b[0m\u001b[0m\n",
      "\u001b[0;32m~/Google Drive/django/otmaponto/match/ontology_mapping/src/OTMapper.py\u001b[0m in \u001b[0;36mmatch\u001b[0;34m(source_url, target_url, embs_model, output_url, input_alignment_url)\u001b[0m\n\u001b[1;32m   1402\u001b[0m \u001b[0;34m\u001b[0m\u001b[0m\n\u001b[1;32m   1403\u001b[0m \u001b[0;34m\u001b[0m\u001b[0m\n\u001b[0;32m-> 1404\u001b[0;31m     \u001b[0mresulting_alignment\u001b[0m \u001b[0;34m=\u001b[0m \u001b[0mensemble_map\u001b[0m\u001b[0;34m(\u001b[0m\u001b[0msource_url\u001b[0m\u001b[0;34m,\u001b[0m \u001b[0mtarget_url\u001b[0m\u001b[0;34m,\u001b[0m \u001b[0membs_model\u001b[0m\u001b[0;34m)\u001b[0m\u001b[0;34m\u001b[0m\u001b[0;34m\u001b[0m\u001b[0m\n\u001b[0m\u001b[1;32m   1405\u001b[0m \u001b[0;34m\u001b[0m\u001b[0m\n\u001b[1;32m   1406\u001b[0m \u001b[0;34m\u001b[0m\u001b[0m\n",
      "\u001b[0;32m~/Google Drive/django/otmaponto/match/ontology_mapping/src/OTMapper.py\u001b[0m in \u001b[0;36mensemble_map\u001b[0;34m(source_url, target_url, embs_model)\u001b[0m\n\u001b[1;32m   1316\u001b[0m \u001b[0;34m\u001b[0m\u001b[0m\n\u001b[1;32m   1317\u001b[0m     \u001b[0msource_graph\u001b[0m \u001b[0;34m=\u001b[0m \u001b[0mGraph\u001b[0m\u001b[0;34m(\u001b[0m\u001b[0;34m)\u001b[0m\u001b[0;34m\u001b[0m\u001b[0;34m\u001b[0m\u001b[0m\n\u001b[0;32m-> 1318\u001b[0;31m     \u001b[0msource_graph\u001b[0m\u001b[0;34m.\u001b[0m\u001b[0mparse\u001b[0m\u001b[0;34m(\u001b[0m\u001b[0msource_url\u001b[0m\u001b[0;34m)\u001b[0m\u001b[0;34m\u001b[0m\u001b[0;34m\u001b[0m\u001b[0m\n\u001b[0m\u001b[1;32m   1319\u001b[0m     \u001b[0msource_graph\u001b[0m\u001b[0;34m.\u001b[0m\u001b[0mnamespace_manager\u001b[0m\u001b[0;34m.\u001b[0m\u001b[0mbind\u001b[0m\u001b[0;34m(\u001b[0m\u001b[0;34m\"owl\"\u001b[0m\u001b[0;34m,\u001b[0m \u001b[0mOWL_NS\u001b[0m\u001b[0;34m)\u001b[0m\u001b[0;34m\u001b[0m\u001b[0;34m\u001b[0m\u001b[0m\n\u001b[1;32m   1320\u001b[0m     \u001b[0mlogging\u001b[0m\u001b[0;34m.\u001b[0m\u001b[0minfo\u001b[0m\u001b[0;34m(\u001b[0m\u001b[0;34m\"Read source with %s triples.\"\u001b[0m\u001b[0;34m,\u001b[0m \u001b[0mlen\u001b[0m\u001b[0;34m(\u001b[0m\u001b[0msource_graph\u001b[0m\u001b[0;34m)\u001b[0m\u001b[0;34m)\u001b[0m\u001b[0;34m\u001b[0m\u001b[0;34m\u001b[0m\u001b[0m\n",
      "\u001b[0;32m~/anaconda3/lib/python3.7/site-packages/rdflib/graph.py\u001b[0m in \u001b[0;36mparse\u001b[0;34m(self, source, publicID, format, location, file, data, **args)\u001b[0m\n\u001b[1;32m   1076\u001b[0m         \u001b[0mparser\u001b[0m \u001b[0;34m=\u001b[0m \u001b[0mplugin\u001b[0m\u001b[0;34m.\u001b[0m\u001b[0mget\u001b[0m\u001b[0;34m(\u001b[0m\u001b[0mformat\u001b[0m\u001b[0;34m,\u001b[0m \u001b[0mParser\u001b[0m\u001b[0;34m)\u001b[0m\u001b[0;34m(\u001b[0m\u001b[0;34m)\u001b[0m\u001b[0;34m\u001b[0m\u001b[0;34m\u001b[0m\u001b[0m\n\u001b[1;32m   1077\u001b[0m         \u001b[0;32mtry\u001b[0m\u001b[0;34m:\u001b[0m\u001b[0;34m\u001b[0m\u001b[0;34m\u001b[0m\u001b[0m\n\u001b[0;32m-> 1078\u001b[0;31m             \u001b[0mparser\u001b[0m\u001b[0;34m.\u001b[0m\u001b[0mparse\u001b[0m\u001b[0;34m(\u001b[0m\u001b[0msource\u001b[0m\u001b[0;34m,\u001b[0m \u001b[0mself\u001b[0m\u001b[0;34m,\u001b[0m \u001b[0;34m**\u001b[0m\u001b[0margs\u001b[0m\u001b[0;34m)\u001b[0m\u001b[0;34m\u001b[0m\u001b[0;34m\u001b[0m\u001b[0m\n\u001b[0m\u001b[1;32m   1079\u001b[0m         \u001b[0;32mfinally\u001b[0m\u001b[0;34m:\u001b[0m\u001b[0;34m\u001b[0m\u001b[0;34m\u001b[0m\u001b[0m\n\u001b[1;32m   1080\u001b[0m             \u001b[0;32mif\u001b[0m \u001b[0msource\u001b[0m\u001b[0;34m.\u001b[0m\u001b[0mauto_close\u001b[0m\u001b[0;34m:\u001b[0m\u001b[0;34m\u001b[0m\u001b[0;34m\u001b[0m\u001b[0m\n",
      "\u001b[0;32m~/anaconda3/lib/python3.7/site-packages/rdflib/plugins/parsers/rdfxml.py\u001b[0m in \u001b[0;36mparse\u001b[0;34m(self, source, sink, **args)\u001b[0m\n\u001b[1;32m    577\u001b[0m         \u001b[0;31m# content_handler.reset()\u001b[0m\u001b[0;34m\u001b[0m\u001b[0;34m\u001b[0m\u001b[0;34m\u001b[0m\u001b[0m\n\u001b[1;32m    578\u001b[0m         \u001b[0;31m# self._parser.reset()\u001b[0m\u001b[0;34m\u001b[0m\u001b[0;34m\u001b[0m\u001b[0;34m\u001b[0m\u001b[0m\n\u001b[0;32m--> 579\u001b[0;31m         \u001b[0mself\u001b[0m\u001b[0;34m.\u001b[0m\u001b[0m_parser\u001b[0m\u001b[0;34m.\u001b[0m\u001b[0mparse\u001b[0m\u001b[0;34m(\u001b[0m\u001b[0msource\u001b[0m\u001b[0;34m)\u001b[0m\u001b[0;34m\u001b[0m\u001b[0;34m\u001b[0m\u001b[0m\n\u001b[0m",
      "\u001b[0;32m~/anaconda3/lib/python3.7/xml/sax/expatreader.py\u001b[0m in \u001b[0;36mparse\u001b[0;34m(self, source)\u001b[0m\n\u001b[1;32m    109\u001b[0m             \u001b[0mself\u001b[0m\u001b[0;34m.\u001b[0m\u001b[0mreset\u001b[0m\u001b[0;34m(\u001b[0m\u001b[0;34m)\u001b[0m\u001b[0;34m\u001b[0m\u001b[0;34m\u001b[0m\u001b[0m\n\u001b[1;32m    110\u001b[0m             \u001b[0mself\u001b[0m\u001b[0;34m.\u001b[0m\u001b[0m_cont_handler\u001b[0m\u001b[0;34m.\u001b[0m\u001b[0msetDocumentLocator\u001b[0m\u001b[0;34m(\u001b[0m\u001b[0mExpatLocator\u001b[0m\u001b[0;34m(\u001b[0m\u001b[0mself\u001b[0m\u001b[0;34m)\u001b[0m\u001b[0;34m)\u001b[0m\u001b[0;34m\u001b[0m\u001b[0;34m\u001b[0m\u001b[0m\n\u001b[0;32m--> 111\u001b[0;31m             \u001b[0mxmlreader\u001b[0m\u001b[0;34m.\u001b[0m\u001b[0mIncrementalParser\u001b[0m\u001b[0;34m.\u001b[0m\u001b[0mparse\u001b[0m\u001b[0;34m(\u001b[0m\u001b[0mself\u001b[0m\u001b[0;34m,\u001b[0m \u001b[0msource\u001b[0m\u001b[0;34m)\u001b[0m\u001b[0;34m\u001b[0m\u001b[0;34m\u001b[0m\u001b[0m\n\u001b[0m\u001b[1;32m    112\u001b[0m         \u001b[0;32mexcept\u001b[0m\u001b[0;34m:\u001b[0m\u001b[0;34m\u001b[0m\u001b[0;34m\u001b[0m\u001b[0m\n\u001b[1;32m    113\u001b[0m             \u001b[0;31m# bpo-30264: Close the source on error to not leak resources:\u001b[0m\u001b[0;34m\u001b[0m\u001b[0;34m\u001b[0m\u001b[0;34m\u001b[0m\u001b[0m\n",
      "\u001b[0;32m~/anaconda3/lib/python3.7/xml/sax/xmlreader.py\u001b[0m in \u001b[0;36mparse\u001b[0;34m(self, source)\u001b[0m\n\u001b[1;32m    123\u001b[0m         \u001b[0mbuffer\u001b[0m \u001b[0;34m=\u001b[0m \u001b[0mfile\u001b[0m\u001b[0;34m.\u001b[0m\u001b[0mread\u001b[0m\u001b[0;34m(\u001b[0m\u001b[0mself\u001b[0m\u001b[0;34m.\u001b[0m\u001b[0m_bufsize\u001b[0m\u001b[0;34m)\u001b[0m\u001b[0;34m\u001b[0m\u001b[0;34m\u001b[0m\u001b[0m\n\u001b[1;32m    124\u001b[0m         \u001b[0;32mwhile\u001b[0m \u001b[0mbuffer\u001b[0m\u001b[0;34m:\u001b[0m\u001b[0;34m\u001b[0m\u001b[0;34m\u001b[0m\u001b[0m\n\u001b[0;32m--> 125\u001b[0;31m             \u001b[0mself\u001b[0m\u001b[0;34m.\u001b[0m\u001b[0mfeed\u001b[0m\u001b[0;34m(\u001b[0m\u001b[0mbuffer\u001b[0m\u001b[0;34m)\u001b[0m\u001b[0;34m\u001b[0m\u001b[0;34m\u001b[0m\u001b[0m\n\u001b[0m\u001b[1;32m    126\u001b[0m             \u001b[0mbuffer\u001b[0m \u001b[0;34m=\u001b[0m \u001b[0mfile\u001b[0m\u001b[0;34m.\u001b[0m\u001b[0mread\u001b[0m\u001b[0;34m(\u001b[0m\u001b[0mself\u001b[0m\u001b[0;34m.\u001b[0m\u001b[0m_bufsize\u001b[0m\u001b[0;34m)\u001b[0m\u001b[0;34m\u001b[0m\u001b[0;34m\u001b[0m\u001b[0m\n\u001b[1;32m    127\u001b[0m         \u001b[0mself\u001b[0m\u001b[0;34m.\u001b[0m\u001b[0mclose\u001b[0m\u001b[0;34m(\u001b[0m\u001b[0;34m)\u001b[0m\u001b[0;34m\u001b[0m\u001b[0;34m\u001b[0m\u001b[0m\n",
      "\u001b[0;32m~/anaconda3/lib/python3.7/xml/sax/expatreader.py\u001b[0m in \u001b[0;36mfeed\u001b[0;34m(self, data, isFinal)\u001b[0m\n\u001b[1;32m    215\u001b[0m             \u001b[0;31m# document. When feeding chunks, they are not normally final -\u001b[0m\u001b[0;34m\u001b[0m\u001b[0;34m\u001b[0m\u001b[0;34m\u001b[0m\u001b[0m\n\u001b[1;32m    216\u001b[0m             \u001b[0;31m# except when invoked from close.\u001b[0m\u001b[0;34m\u001b[0m\u001b[0;34m\u001b[0m\u001b[0;34m\u001b[0m\u001b[0m\n\u001b[0;32m--> 217\u001b[0;31m             \u001b[0mself\u001b[0m\u001b[0;34m.\u001b[0m\u001b[0m_parser\u001b[0m\u001b[0;34m.\u001b[0m\u001b[0mParse\u001b[0m\u001b[0;34m(\u001b[0m\u001b[0mdata\u001b[0m\u001b[0;34m,\u001b[0m \u001b[0misFinal\u001b[0m\u001b[0;34m)\u001b[0m\u001b[0;34m\u001b[0m\u001b[0;34m\u001b[0m\u001b[0m\n\u001b[0m\u001b[1;32m    218\u001b[0m         \u001b[0;32mexcept\u001b[0m \u001b[0mexpat\u001b[0m\u001b[0;34m.\u001b[0m\u001b[0merror\u001b[0m \u001b[0;32mas\u001b[0m \u001b[0me\u001b[0m\u001b[0;34m:\u001b[0m\u001b[0;34m\u001b[0m\u001b[0;34m\u001b[0m\u001b[0m\n\u001b[1;32m    219\u001b[0m             \u001b[0mexc\u001b[0m \u001b[0;34m=\u001b[0m \u001b[0mSAXParseException\u001b[0m\u001b[0;34m(\u001b[0m\u001b[0mexpat\u001b[0m\u001b[0;34m.\u001b[0m\u001b[0mErrorString\u001b[0m\u001b[0;34m(\u001b[0m\u001b[0me\u001b[0m\u001b[0;34m.\u001b[0m\u001b[0mcode\u001b[0m\u001b[0;34m)\u001b[0m\u001b[0;34m,\u001b[0m \u001b[0me\u001b[0m\u001b[0;34m,\u001b[0m \u001b[0mself\u001b[0m\u001b[0;34m)\u001b[0m\u001b[0;34m\u001b[0m\u001b[0;34m\u001b[0m\u001b[0m\n",
      "\u001b[0;32m/opt/concourse/worker/volumes/live/13cf9768-d104-4df5-6143-5360c0d9e8b3/volume/python_1585235027941/work/Modules/pyexpat.c\u001b[0m in \u001b[0;36mEndElement\u001b[0;34m()\u001b[0m\n",
      "\u001b[0;32m~/anaconda3/lib/python3.7/xml/sax/expatreader.py\u001b[0m in \u001b[0;36mend_element_ns\u001b[0;34m(self, name)\u001b[0m\n\u001b[1;32m    379\u001b[0m             \u001b[0mpair\u001b[0m \u001b[0;34m=\u001b[0m \u001b[0mtuple\u001b[0m\u001b[0;34m(\u001b[0m\u001b[0mpair\u001b[0m\u001b[0;34m)\u001b[0m\u001b[0;34m\u001b[0m\u001b[0;34m\u001b[0m\u001b[0m\n\u001b[1;32m    380\u001b[0m \u001b[0;34m\u001b[0m\u001b[0m\n\u001b[0;32m--> 381\u001b[0;31m         \u001b[0mself\u001b[0m\u001b[0;34m.\u001b[0m\u001b[0m_cont_handler\u001b[0m\u001b[0;34m.\u001b[0m\u001b[0mendElementNS\u001b[0m\u001b[0;34m(\u001b[0m\u001b[0mpair\u001b[0m\u001b[0;34m,\u001b[0m \u001b[0;32mNone\u001b[0m\u001b[0;34m)\u001b[0m\u001b[0;34m\u001b[0m\u001b[0;34m\u001b[0m\u001b[0m\n\u001b[0m\u001b[1;32m    382\u001b[0m \u001b[0;34m\u001b[0m\u001b[0m\n\u001b[1;32m    383\u001b[0m     \u001b[0;31m# this is not used (call directly to ContentHandler)\u001b[0m\u001b[0;34m\u001b[0m\u001b[0;34m\u001b[0m\u001b[0;34m\u001b[0m\u001b[0m\n",
      "\u001b[0;32m~/anaconda3/lib/python3.7/site-packages/rdflib/plugins/parsers/rdfxml.py\u001b[0m in \u001b[0;36mendElementNS\u001b[0;34m(self, name, qname)\u001b[0m\n\u001b[1;32m    159\u001b[0m \u001b[0;34m\u001b[0m\u001b[0m\n\u001b[1;32m    160\u001b[0m     \u001b[0;32mdef\u001b[0m \u001b[0mendElementNS\u001b[0m\u001b[0;34m(\u001b[0m\u001b[0mself\u001b[0m\u001b[0;34m,\u001b[0m \u001b[0mname\u001b[0m\u001b[0;34m,\u001b[0m \u001b[0mqname\u001b[0m\u001b[0;34m)\u001b[0m\u001b[0;34m:\u001b[0m\u001b[0;34m\u001b[0m\u001b[0;34m\u001b[0m\u001b[0m\n\u001b[0;32m--> 161\u001b[0;31m         \u001b[0mself\u001b[0m\u001b[0;34m.\u001b[0m\u001b[0mcurrent\u001b[0m\u001b[0;34m.\u001b[0m\u001b[0mend\u001b[0m\u001b[0;34m(\u001b[0m\u001b[0mname\u001b[0m\u001b[0;34m,\u001b[0m \u001b[0mqname\u001b[0m\u001b[0;34m)\u001b[0m\u001b[0;34m\u001b[0m\u001b[0;34m\u001b[0m\u001b[0m\n\u001b[0m\u001b[1;32m    162\u001b[0m         \u001b[0mself\u001b[0m\u001b[0;34m.\u001b[0m\u001b[0mstack\u001b[0m\u001b[0;34m.\u001b[0m\u001b[0mpop\u001b[0m\u001b[0;34m(\u001b[0m\u001b[0;34m)\u001b[0m\u001b[0;34m\u001b[0m\u001b[0;34m\u001b[0m\u001b[0m\n\u001b[1;32m    163\u001b[0m \u001b[0;34m\u001b[0m\u001b[0m\n",
      "\u001b[0;32m~/anaconda3/lib/python3.7/site-packages/rdflib/plugins/parsers/rdfxml.py\u001b[0m in \u001b[0;36mnode_element_end\u001b[0;34m(self, name, qname)\u001b[0m\n\u001b[1;32m    331\u001b[0m         \u001b[0;32mif\u001b[0m \u001b[0mself\u001b[0m\u001b[0;34m.\u001b[0m\u001b[0mparent\u001b[0m\u001b[0;34m.\u001b[0m\u001b[0mobject\u001b[0m \u001b[0;32mand\u001b[0m \u001b[0mself\u001b[0m\u001b[0;34m.\u001b[0m\u001b[0mcurrent\u001b[0m \u001b[0;34m!=\u001b[0m \u001b[0mself\u001b[0m\u001b[0;34m.\u001b[0m\u001b[0mstack\u001b[0m\u001b[0;34m[\u001b[0m\u001b[0;36m2\u001b[0m\u001b[0;34m]\u001b[0m\u001b[0;34m:\u001b[0m\u001b[0;34m\u001b[0m\u001b[0;34m\u001b[0m\u001b[0m\n\u001b[1;32m    332\u001b[0m \u001b[0;34m\u001b[0m\u001b[0m\n\u001b[0;32m--> 333\u001b[0;31m             \u001b[0mself\u001b[0m\u001b[0;34m.\u001b[0m\u001b[0merror\u001b[0m\u001b[0;34m(\u001b[0m\u001b[0;34m\"Repeat node-elements inside property elements: %s\"\u001b[0m\u001b[0;34m%\u001b[0m\u001b[0;34m\"\"\u001b[0m\u001b[0;34m.\u001b[0m\u001b[0mjoin\u001b[0m\u001b[0;34m(\u001b[0m\u001b[0mname\u001b[0m\u001b[0;34m)\u001b[0m\u001b[0;34m)\u001b[0m\u001b[0;34m\u001b[0m\u001b[0;34m\u001b[0m\u001b[0m\n\u001b[0m\u001b[1;32m    334\u001b[0m \u001b[0;34m\u001b[0m\u001b[0m\n\u001b[1;32m    335\u001b[0m         \u001b[0mself\u001b[0m\u001b[0;34m.\u001b[0m\u001b[0mparent\u001b[0m\u001b[0;34m.\u001b[0m\u001b[0mobject\u001b[0m \u001b[0;34m=\u001b[0m \u001b[0mself\u001b[0m\u001b[0;34m.\u001b[0m\u001b[0mcurrent\u001b[0m\u001b[0;34m.\u001b[0m\u001b[0msubject\u001b[0m\u001b[0;34m\u001b[0m\u001b[0;34m\u001b[0m\u001b[0m\n",
      "\u001b[0;32m~/anaconda3/lib/python3.7/site-packages/rdflib/plugins/parsers/rdfxml.py\u001b[0m in \u001b[0;36merror\u001b[0;34m(self, message)\u001b[0m\n\u001b[1;32m    185\u001b[0m                                \u001b[0mlocator\u001b[0m\u001b[0;34m.\u001b[0m\u001b[0mgetLineNumber\u001b[0m\u001b[0;34m(\u001b[0m\u001b[0;34m)\u001b[0m\u001b[0;34m,\u001b[0m\u001b[0;34m\u001b[0m\u001b[0;34m\u001b[0m\u001b[0m\n\u001b[1;32m    186\u001b[0m                                locator.getColumnNumber())\n\u001b[0;32m--> 187\u001b[0;31m         \u001b[0;32mraise\u001b[0m \u001b[0mParserError\u001b[0m\u001b[0;34m(\u001b[0m\u001b[0minfo\u001b[0m \u001b[0;34m+\u001b[0m \u001b[0mmessage\u001b[0m\u001b[0;34m)\u001b[0m\u001b[0;34m\u001b[0m\u001b[0;34m\u001b[0m\u001b[0m\n\u001b[0m\u001b[1;32m    188\u001b[0m \u001b[0;34m\u001b[0m\u001b[0m\n\u001b[1;32m    189\u001b[0m     \u001b[0;32mdef\u001b[0m \u001b[0mget_current\u001b[0m\u001b[0;34m(\u001b[0m\u001b[0mself\u001b[0m\u001b[0;34m)\u001b[0m\u001b[0;34m:\u001b[0m\u001b[0;34m\u001b[0m\u001b[0;34m\u001b[0m\u001b[0m\n",
      "\u001b[0;31mParserError\u001b[0m: file:///Users/yan/Google%20Drive/django/otmaponto/match/ontology_mapping/data/popgeolink/popgeolink-v1/popgbo-popgmo/source.rdf:21:62: Repeat node-elements inside property elements: http://www.w3.org/2002/07/owl#IRI"
     ]
    }
   ],
   "source": [
    "mapper.align(source_url, target_url, output_url)"
   ]
  },
  {
   "cell_type": "code",
   "execution_count": null,
   "id": "7c12cb10-a80c-41c1-be0a-6562ae35e325",
   "metadata": {},
   "outputs": [],
   "source": [
    "preds = maponto.load_alignments(output_url, 'predicted')\n",
    "maponto.evaluate(preds, refs_url)"
   ]
  },
  {
   "cell_type": "code",
   "execution_count": null,
   "id": "f9811c1b-47ed-4d4b-aba7-ff7bb6603ade",
   "metadata": {},
   "outputs": [],
   "source": []
  }
 ],
 "metadata": {
  "kernelspec": {
   "display_name": "Python 3",
   "language": "python",
   "name": "python3"
  },
  "language_info": {
   "codemirror_mode": {
    "name": "ipython",
    "version": 3
   },
   "file_extension": ".py",
   "mimetype": "text/x-python",
   "name": "python",
   "nbconvert_exporter": "python",
   "pygments_lexer": "ipython3",
   "version": "3.8.8"
  }
 },
 "nbformat": 4,
 "nbformat_minor": 5
}
