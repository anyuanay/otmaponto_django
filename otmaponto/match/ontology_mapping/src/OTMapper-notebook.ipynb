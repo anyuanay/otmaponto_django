{
 "cells": [
  {
   "cell_type": "markdown",
   "id": "f03aa0d4-3dac-4b21-b28d-6fe23d216a89",
   "metadata": {},
   "source": [
    "# OTMapper test"
   ]
  },
  {
   "cell_type": "code",
   "execution_count": 1,
   "id": "2c2084bc-9fd5-4ea6-9748-d7ab6232f1c1",
   "metadata": {},
   "outputs": [
    {
     "name": "stderr",
     "output_type": "stream",
     "text": [
      "/home/ubuntu/data_analysis/django/otmaponto/match/ontology_mapping/src/corpus_build_utils.py:46: SyntaxWarning: \"is not\" with a literal. Did you mean \"!=\"?\n",
      "  if _x.find('has') is not -1:\n",
      "INFO:root:logging info test\n"
     ]
    }
   ],
   "source": [
    "import OTMapOnto as maponto\n",
    "import OTMapper as otmapper\n",
    "import OTNeighborhood_TDA as mapneighbor\n",
    "from rdflib import Graph"
   ]
  },
  {
   "cell_type": "code",
   "execution_count": 2,
   "id": "27961270-37cb-4143-9dbb-8fcf5b64fee5",
   "metadata": {},
   "outputs": [
    {
     "name": "stderr",
     "output_type": "stream",
     "text": [
      "INFO:root:Load pre-trained embeddings for about 10 mins if the model hasn't been load yet.\n",
      "INFO:root:Loading the pre-trained Fasttext model...Please be patient...It may take about 10 mins to load...\n",
      "INFO:gensim.models._fasttext_bin:loading 2000000 words for fastText model from ../model/crawl-300d-2M-subword.bin\n"
     ]
    },
    {
     "name": "stdout",
     "output_type": "stream",
     "text": [
      "Loading the pre-trained Fasttext model...Please be patient...It may take about 10 mins to load...\n"
     ]
    },
    {
     "name": "stderr",
     "output_type": "stream",
     "text": [
      "ERROR:gensim.models._fasttext_bin:failed to decode invalid unicode bytes b'DeutschHrvatskiEnglishDanskNederlandssuomiFran\\xc3\\xa7ais\\xce\\x95\\xce\\xbb\\xce\\xbb\\xce'; replacing invalid characters, using 'DeutschHrvatskiEnglishDanskNederlandssuomiFrançaisΕλλ\\\\xce'\n",
      "ERROR:gensim.models._fasttext_bin:failed to decode invalid unicode bytes b'\\xe3\\x81\\x99\\xe3\\x81\\xb9\\xe3\\x81\\xa6\\xe3\\x81\\xae\\xe5\\x9b\\x9e\\xe7\\xad\\x94\\xe3\\x82\\x92\\xe9\\x9d\\x9e\\xe8\\xa1\\xa8\\xe7\\xa4\\xba\\xe3\\x81\\xab\\xe3\\x81\\x99\\xe3\\x82\\x8b\\xe8\\xb3\\xaa\\xe5\\x95\\x8f\\xe3\\x82\\x92\\xe5\\x89\\x8a\\xe9\\x99\\xa4\\xe3\\x81\\x97\\xe3'; replacing invalid characters, using 'すべての回答を非表示にする質問を削除し\\\\xe3'\n",
      "ERROR:gensim.models._fasttext_bin:failed to decode invalid unicode bytes b'00Z\\xe9\\x83\\xa8\\xe5\\xb1\\x8b\\xe3\\x82\\xbf\\xe3\\x82\\xa4\\xe3\\x83\\x97\\xe3\\x81\\xbe\\xe3\\x82\\x8b\\xe3\\x81\\xbe\\xe3\\x82\\x8b\\xe8\\xb2\\xb8\\xe5\\x88\\x87\\xe5\\xbb\\xba\\xe7\\x89\\xa9\\xe3\\x82\\xbf\\xe3\\x82\\xa4\\xe3\\x83\\x97\\xe4\\xb8\\x80\\xe8\\xbb\\x92\\xe5'; replacing invalid characters, using '00Z部屋タイプまるまる貸切建物タイプ一軒\\\\xe5'\n",
      "ERROR:gensim.models._fasttext_bin:failed to decode invalid unicode bytes b'2017\\xe6\\x88\\xbf\\xe9\\x97\\xb4\\xe7\\xb1\\xbb\\xe5\\x9e\\x8b\\xe7\\x8b\\xac\\xe7\\xab\\x8b\\xe6\\x88\\xbf\\xe9\\x97\\xb4\\xe6\\x88\\xbf\\xe6\\xba\\x90\\xe7\\xb1\\xbb\\xe5\\x9e\\x8b\\xe7\\x8b\\xac\\xe7\\xab\\x8b\\xe5\\xb1\\x8b\\xe5\\x8f\\xaf\\xe4\\xbd\\x8f2\\xe5\\x8d'; replacing invalid characters, using '2017房间类型独立房间房源类型独立屋可住2\\\\xe5\\\\x8d'\n",
      "ERROR:gensim.models._fasttext_bin:failed to decode invalid unicode bytes b'2016\\xe6\\x88\\xbf\\xe9\\x97\\xb4\\xe7\\xb1\\xbb\\xe5\\x9e\\x8b\\xe7\\x8b\\xac\\xe7\\xab\\x8b\\xe6\\x88\\xbf\\xe9\\x97\\xb4\\xe6\\x88\\xbf\\xe6\\xba\\x90\\xe7\\xb1\\xbb\\xe5\\x9e\\x8b\\xe7\\x8b\\xac\\xe7\\xab\\x8b\\xe5\\xb1\\x8b\\xe5\\x8f\\xaf\\xe4\\xbd\\x8f2\\xe5\\x8d'; replacing invalid characters, using '2016房间类型独立房间房源类型独立屋可住2\\\\xe5\\\\x8d'\n",
      "ERROR:gensim.models._fasttext_bin:failed to decode invalid unicode bytes b'00Z\\xe9\\x83\\xa8\\xe5\\xb1\\x8b\\xe3\\x82\\xbf\\xe3\\x82\\xa4\\xe3\\x83\\x97\\xe3\\x81\\xbe\\xe3\\x82\\x8b\\xe3\\x81\\xbe\\xe3\\x82\\x8b\\xe8\\xb2\\xb8\\xe5\\x88\\x87\\xe5\\xbb\\xba\\xe7\\x89\\xa9\\xe3\\x82\\xbf\\xe3\\x82\\xa4\\xe3\\x83\\x97\\xe5\\x88\\xa5\\xe8\\x8d\\x98\\xe5'; replacing invalid characters, using '00Z部屋タイプまるまる貸切建物タイプ別荘\\\\xe5'\n",
      "ERROR:gensim.models._fasttext_bin:failed to decode invalid unicode bytes b'\\xe6\\xb6\\x88\\xe8\\xb2\\xbb\\xe8\\x80\\x85\\xe7\\x9f\\xa5\\xe9\\x81\\x93\\xe4\\xb8\\x80\\xe5\\x80\\x8b\\xe8\\xa3\\xbd\\xe9\\x80\\xa0\\xe5\\x95\\x86\\xe5\\x85\\xb6\\xe4\\xb8\\xad\\xe4\\xb8\\x80\\xe5\\x80\\x8b\\xe7\\x94\\xa2\\xe5\\x93\\x81\\xe7\\x9a\\x84\\xe4\\xb8\\x80\\xe8\\x88\\xac\\xe5'; replacing invalid characters, using '消費者知道一個製造商其中一個產品的一般\\\\xe5'\n",
      "ERROR:gensim.models._fasttext_bin:failed to decode invalid unicode bytes b'\\xce\\xb9\\xce\\xb4\\xce\\xb9\\xce\\xbf\\xce\\xba\\xcf\\x84\\xce\\xb7\\xcf\\x83\\xce\\xaf\\xce\\xb1\\xcf\\x82\\xce\\x94\\xce\\xb9\\xce\\xb1\\xce\\xbc\\xce\\xad\\xcf\\x81\\xce\\xb9\\xcf\\x83\\xce\\xbc\\xce\\xb1\\xce\\x86\\xcf\\x84\\xce\\xbf\\xce\\xbc\\xce\\xb12\\xce\\xa5\\xcf\\x80\\xce'; replacing invalid characters, using 'ιδιοκτησίαςΔιαμέρισμαΆτομα2Υπ\\\\xce'\n",
      "ERROR:gensim.models._fasttext_bin:failed to decode invalid unicode bytes b'\\xe6\\x88\\x96\\xe5\\x85\\xb6\\xe4\\xbb\\x96\\xe5\\xae\\x98\\xe6\\x96\\xb9\\xe7\\x82\\xb9\\xe8\\xaf\\x84\\xe6\\x94\\xb6\\xe9\\x9b\\x86\\xe5\\x90\\x88\\xe4\\xbd\\x9c\\xe4\\xbc\\x99\\xe4\\xbc\\xb4\\xe6\\x8f\\x90\\xe4\\xbe\\x9b\\xe7\\x9a\\x84\\xe5\\xb7\\xa5\\xe5\\x85\\xb7\\xe9\\xbc\\x93\\xe5'; replacing invalid characters, using '或其他官方点评收集合作伙伴提供的工具鼓\\\\xe5'\n",
      "ERROR:gensim.models._fasttext_bin:failed to decode invalid unicode bytes b'00Z\\xe6\\x88\\xbf\\xe9\\x96\\x93\\xe9\\xa1\\x9e\\xe5\\x9e\\x8b\\xe7\\xa7\\x81\\xe4\\xba\\xba\\xe6\\x88\\xbf\\xe9\\x96\\x93\\xe6\\x88\\xbf\\xe6\\xba\\x90\\xe9\\xa1\\x9e\\xe5\\x9e\\x8b\\xe5\\xae\\xb6\\xe5\\xba\\xad\\xe5\\xbc\\x8f\\xe6\\x97\\x85\\xe9\\xa4\\xa8\\xe5\\x8f\\xaf\\xe4'; replacing invalid characters, using '00Z房間類型私人房間房源類型家庭式旅館可\\\\xe4'\n",
      "INFO:gensim.utils:FastText lifecycle event {'params': 'FastText(vocab=0, vector_size=300, alpha=0.025)', 'datetime': '2021-09-02T22:37:49.716826', 'gensim': '4.0.1', 'python': '3.8.8 (default, Apr 13 2021, 19:58:26) \\n[GCC 7.3.0]', 'platform': 'Linux-5.4.0-81-generic-x86_64-with-glibc2.10', 'event': 'created'}\n",
      "INFO:gensim.models.word2vec:Updating model with new vocabulary\n",
      "INFO:gensim.utils:FastText lifecycle event {'msg': 'added 2000000 new unique words (100.0%% of original 2000000) and increased the count of 0 pre-existing words (0.0%% of original 2000000)', 'datetime': '2021-09-02T22:38:18.447879', 'gensim': '4.0.1', 'python': '3.8.8 (default, Apr 13 2021, 19:58:26) \\n[GCC 7.3.0]', 'platform': 'Linux-5.4.0-81-generic-x86_64-with-glibc2.10', 'event': 'prepare_vocab'}\n",
      "INFO:gensim.models.word2vec:deleting the raw counts dictionary of 2000000 items\n",
      "INFO:gensim.models.word2vec:sample=1e-05 downsamples 2869 most-common words\n",
      "INFO:gensim.utils:FastText lifecycle event {'msg': 'downsampling leaves estimated 153327037539.57678 word corpus (30.4%% of prior 505076145972)', 'datetime': '2021-09-02T22:38:49.246965', 'gensim': '4.0.1', 'python': '3.8.8 (default, Apr 13 2021, 19:58:26) \\n[GCC 7.3.0]', 'platform': 'Linux-5.4.0-81-generic-x86_64-with-glibc2.10', 'event': 'prepare_vocab'}\n",
      "INFO:gensim.utils:FastText lifecycle event {'msg': 'loaded (4000000, 300) weight matrix for fastText model from ../model/crawl-300d-2M-subword.bin', 'datetime': '2021-09-02T22:41:26.916831', 'gensim': '4.0.1', 'python': '3.8.8 (default, Apr 13 2021, 19:58:26) \\n[GCC 7.3.0]', 'platform': 'Linux-5.4.0-81-generic-x86_64-with-glibc2.10', 'event': 'load_fasttext_format'}\n",
      "INFO:root:Completed loading the pre-trained Fasttext model.\n"
     ]
    },
    {
     "name": "stdout",
     "output_type": "stream",
     "text": [
      "Completed loading the pre-trained Fasttext model.\n",
      "CPU times: user 3min 46s, sys: 17.5 s, total: 4min 3s\n",
      "Wall time: 6min 16s\n"
     ]
    }
   ],
   "source": [
    "%%time\n",
    "model_path=\"../model/crawl-300d-2M-subword.bin\"\n",
    "embs_model = maponto.load_embeddings(model_path, None)"
   ]
  },
  {
   "cell_type": "code",
   "execution_count": 5,
   "id": "359a96c6-67dd-46df-be52-a37ce2567d2e",
   "metadata": {},
   "outputs": [],
   "source": [
    "mapper = otmapper.Mapper(embs_model)"
   ]
  },
  {
   "cell_type": "markdown",
   "id": "55f3ecb7-fb57-4fb5-bbd7-d521c3e9823c",
   "metadata": {},
   "source": [
    "# MSE Benchmark"
   ]
  },
  {
   "cell_type": "code",
   "execution_count": 9,
   "id": "62bdc49d-dd17-46f7-8d2c-93497d69a76c",
   "metadata": {},
   "outputs": [
    {
     "name": "stderr",
     "output_type": "stream",
     "text": [
      "INFO:root:logging info test\n"
     ]
    },
    {
     "data": {
      "text/plain": [
       "<module 'OTMapper' from '/home/ubuntu/django/otmaponto/match/ontology_mapping/src/OTMapper.py'>"
      ]
     },
     "execution_count": 9,
     "metadata": {},
     "output_type": "execute_result"
    }
   ],
   "source": [
    "import importlib\n",
    "importlib.reload(maponto)\n",
    "importlib.reload(mapneighbor)\n",
    "importlib.reload(otmapper)"
   ]
  },
  {
   "cell_type": "code",
   "execution_count": 10,
   "id": "73d61a07-efcd-4b56-a705-9a23eb76d6f2",
   "metadata": {},
   "outputs": [],
   "source": [
    "source_url = \"../data/MSE-Benchmark/testCases/firstTestCase/MaterialInformation-Reduced.owl\"\n",
    "target_url = \"../data/MSE-Benchmark/testCases/firstTestCase/MatOnto.owl\"\n",
    "output_url = '../data/results/MSE_firstTest_case_alignments.rdf'\n",
    "refs_url = \"../data/MSE-Benchmark/testCases/firstTestCase/RefAlign1.rdf\""
   ]
  },
  {
   "cell_type": "code",
   "execution_count": 11,
   "id": "059ff6c9-49fb-4ae4-b563-a9ac8748c9bc",
   "metadata": {},
   "outputs": [
    {
     "name": "stderr",
     "output_type": "stream",
     "text": [
      "INFO:root:Python ensemble mapper info: map ../data/MSE-Benchmark/testCases/firstTestCase/MaterialInformation-Reduced.owl to ../data/MSE-Benchmark/testCases/firstTestCase/MatOnto.owl\n",
      "INFO:root:Read source with 309 triples.\n",
      "INFO:root:Read target with 11363 triples.\n",
      "INFO:root:MAP CONCEPTS\n",
      "INFO:root:The number of level_1 predicted mapping is 2.\n",
      "INFO:root:Retrieving Synsets by WordNet...\n",
      "INFO:root:The number of level_2 predicted mapping is 5\n",
      "INFO:root:Compute the related words for each source concept....\n",
      "25it [00:00, 150.59it/s]\n",
      "INFO:root:Total number of source concepts computed with relatd words is 25\n",
      "INFO:root:Compute the related words for each target concept....\n",
      "820it [00:05, 146.18it/s]\n",
      "INFO:root:Total number of target concepts computed with related words is 818\n",
      "100%|██████████| 25/25 [00:00<00:00, 646.18it/s]\n",
      "INFO:root:The number of level_3 predicted mapping is 10\n",
      "INFO:root:Compute Pairwise Wasserstein Distances...\n",
      "100%|██████████| 15/15 [00:07<00:00,  2.08it/s]\n",
      "INFO:root:The number of level_4 predicted mapping is 2\n",
      "INFO:root:Skip level_5 mapping.\n",
      "INFO:root:Matching Label Embeddings by Optimal Transport...\n",
      "INFO:root:Computing the Ground Embedding Costs between the Source and Target Points...\n",
      "INFO:root:The shape of the cost matrix is (13, 808)\n",
      "INFO:root:Computing Optimal Transport Plan...\n",
      "INFO:root:Computing Wasserstein distance by the Sinkhorn algorithm...\n",
      "INFO:root:The Sinkhorn got warnings. Computing Wasserstein distance by the EMD algorithm...\n",
      "INFO:root:Making Mappings from a Pairwise OT Plan Matrix by Mutual NN...\n",
      "INFO:root:The number of level_6 predicted mapping is 13\n",
      "INFO:root:TOTAL NUMBER OF MAPPINGS BETWEEN CONCPETS IS 32\n",
      "INFO:root:=================================================\n",
      "INFO:root:MAP OBJECT PROPERTIES\n",
      "INFO:root:The number of level_1 predicted mapping is 2.\n",
      "INFO:root:Retrieving Synsets by WordNet...\n",
      "INFO:root:Compute the related words for each source concept....\n"
     ]
    },
    {
     "name": "stdout",
     "output_type": "stream",
     "text": [
      "Warning: numerical errors at iteration 0\n"
     ]
    },
    {
     "name": "stderr",
     "output_type": "stream",
     "text": [
      "9it [00:00, 138.59it/s]\n",
      "INFO:root:Total number of source concepts computed with relatd words is 9\n",
      "INFO:root:Compute the related words for each target concept....\n",
      "80it [00:00, 154.47it/s]\n",
      "INFO:root:Total number of target concepts computed with related words is 80\n",
      "100%|██████████| 9/9 [00:00<00:00, 6528.66it/s]\n",
      "INFO:root:The number of level_3 predicted mapping is 2\n",
      "INFO:root:Skip the level_4 mapping.\n",
      "INFO:root:Skip the level_5 mapping.\n",
      "INFO:root:Skip the level_6 mappping.\n",
      "INFO:root:TOTAL NUMBER OF MAPPINGS BETWEEN OBJECT PROPERTIES IS 4\n",
      "INFO:root:========================================================\n",
      "INFO:root:MAP DATATYPE PROPERTIES\n",
      "INFO:root:Retrieving Synsets by WordNet...\n",
      "INFO:root:Compute the related words for each source concept....\n",
      "32it [00:00, 151.45it/s]\n",
      "INFO:root:Total number of source concepts computed with relatd words is 32\n",
      "INFO:root:Compute the related words for each target concept....\n",
      "13it [00:00, 155.97it/s]\n",
      "INFO:root:Total number of target concepts computed with related words is 13\n",
      "100%|██████████| 32/32 [00:00<00:00, 38646.05it/s]\n",
      "INFO:root:The number of level_3 predicted mapping is 3\n",
      "INFO:root:Skip the level_4 mapping.\n",
      "INFO:root:Skip the level_5 mapping.\n",
      "INFO:root:Skip the level_6 mappping.\n",
      "INFO:root:TOTAL NUMBER OF MAPPINGS BETWEEN DATATYPE PROPERTIES IS 3\n",
      "INFO:root:===========================================================\n"
     ]
    }
   ],
   "source": [
    "mapper.align(source_url, target_url, output_url)"
   ]
  },
  {
   "cell_type": "code",
   "execution_count": 12,
   "id": "bd41521f-00f3-4dae-8949-c4002fec79e1",
   "metadata": {},
   "outputs": [
    {
     "name": "stdout",
     "output_type": "stream",
     "text": [
      "Total number of None is 39\n",
      "Total number of references is 23\n",
      "Total correctly predicted alignments is 9\n",
      "Total number of predicted is 39\n",
      "Precision is 0.23076923076923078\n",
      "Recall is 0.391304347826087\n",
      "F1-Measure is 0.2903225806451613\n"
     ]
    }
   ],
   "source": [
    "preds = maponto.load_alignments(output_url, None)\n",
    "maponto.evaluate(preds, refs_url)"
   ]
  },
  {
   "cell_type": "code",
   "execution_count": 13,
   "id": "c8e66ba9-3ebe-425d-8e28-edc59c381110",
   "metadata": {},
   "outputs": [],
   "source": [
    "source_url = \"../data/MSE-Benchmark/testCases/secondTestCase/MaterialInformation.owl\"\n",
    "target_url = \"../data/MSE-Benchmark/testCases/secondTestCase/MatOnto.owl\"\n",
    "output_url = '../data/results/MSE_secondTest_case_alignments.rdf'\n",
    "refs_url = \"../data/MSE-Benchmark/testCases/secondTestCase/RefAlign2.rdf\""
   ]
  },
  {
   "cell_type": "code",
   "execution_count": 14,
   "id": "5c62ce2d-92f5-4c31-b2d5-2c187074d30d",
   "metadata": {},
   "outputs": [
    {
     "name": "stderr",
     "output_type": "stream",
     "text": [
      "INFO:root:Python ensemble mapper info: map ../data/MSE-Benchmark/testCases/secondTestCase/MaterialInformation.owl to ../data/MSE-Benchmark/testCases/secondTestCase/MatOnto.owl\n",
      "INFO:root:Read source with 2350 triples.\n",
      "INFO:root:Read target with 11362 triples.\n",
      "INFO:root:MAP CONCEPTS\n",
      "INFO:root:The number of level_1 predicted mapping is 59.\n",
      "INFO:root:Retrieving Synsets by WordNet...\n",
      "INFO:root:The number of level_2 predicted mapping is 209\n",
      "INFO:root:Compute the related words for each source concept....\n",
      "362it [00:02, 151.23it/s]\n",
      "INFO:root:Total number of source concepts computed with relatd words is 362\n",
      "INFO:root:Compute the related words for each target concept....\n",
      "643it [00:04, 153.73it/s]\n",
      "INFO:root:Total number of target concepts computed with related words is 641\n",
      "100%|██████████| 362/362 [00:00<00:00, 825.87it/s]\n",
      "INFO:root:The number of level_3 predicted mapping is 67\n",
      "INFO:root:Compute Pairwise Wasserstein Distances...\n",
      "100%|██████████| 295/295 [01:50<00:00,  2.68it/s]\n",
      "INFO:root:The number of level_4 predicted mapping is 10\n",
      "INFO:root:Skip level_5 mapping.\n",
      "INFO:root:Matching Label Embeddings by Optimal Transport...\n",
      "INFO:root:Computing the Ground Embedding Costs between the Source and Target Points...\n",
      "INFO:root:The shape of the cost matrix is (285, 566)\n",
      "INFO:root:Computing Optimal Transport Plan...\n",
      "INFO:root:Computing Wasserstein distance by the Sinkhorn algorithm...\n",
      "INFO:root:Making Mappings from a Pairwise OT Plan Matrix by Mutual NN...\n",
      "INFO:root:The number of level_6 predicted mapping is 169\n",
      "INFO:root:TOTAL NUMBER OF MAPPINGS BETWEEN CONCPETS IS 514\n",
      "INFO:root:=================================================\n",
      "INFO:root:MAP OBJECT PROPERTIES\n",
      "INFO:root:The number of level_1 predicted mapping is 2.\n",
      "INFO:root:Retrieving Synsets by WordNet...\n",
      "INFO:root:Compute the related words for each source concept....\n",
      "26it [00:00, 148.85it/s]\n",
      "INFO:root:Total number of source concepts computed with relatd words is 26\n",
      "INFO:root:Compute the related words for each target concept....\n",
      "80it [00:00, 152.22it/s]\n",
      "INFO:root:Total number of target concepts computed with related words is 80\n",
      "100%|██████████| 26/26 [00:00<00:00, 5954.57it/s]\n",
      "INFO:root:The number of level_3 predicted mapping is 3\n",
      "INFO:root:Skip the level_4 mapping.\n",
      "INFO:root:Skip the level_5 mapping.\n",
      "INFO:root:Skip the level_6 mappping.\n",
      "INFO:root:TOTAL NUMBER OF MAPPINGS BETWEEN OBJECT PROPERTIES IS 5\n",
      "INFO:root:========================================================\n",
      "INFO:root:MAP DATATYPE PROPERTIES\n",
      "INFO:root:The number of level_1 predicted mapping is 1.\n",
      "INFO:root:Retrieving Synsets by WordNet...\n",
      "INFO:root:The number of level_2 predicted mapping is 1\n",
      "INFO:root:Compute the related words for each source concept....\n",
      "68it [00:00, 150.83it/s]\n",
      "INFO:root:Total number of source concepts computed with relatd words is 68\n",
      "INFO:root:Compute the related words for each target concept....\n",
      "11it [00:00, 155.02it/s]\n",
      "INFO:root:Total number of target concepts computed with related words is 11\n",
      "100%|██████████| 68/68 [00:00<00:00, 45891.02it/s]\n",
      "INFO:root:The number of level_3 predicted mapping is 3\n",
      "INFO:root:Skip the level_4 mapping.\n",
      "INFO:root:Skip the level_5 mapping.\n",
      "INFO:root:Skip the level_6 mappping.\n",
      "INFO:root:TOTAL NUMBER OF MAPPINGS BETWEEN DATATYPE PROPERTIES IS 5\n",
      "INFO:root:===========================================================\n"
     ]
    }
   ],
   "source": [
    "mapper.align(source_url, target_url, output_url)"
   ]
  },
  {
   "cell_type": "code",
   "execution_count": 15,
   "id": "503f8bb9-5582-43c9-9993-d572a9e2c76c",
   "metadata": {},
   "outputs": [
    {
     "name": "stdout",
     "output_type": "stream",
     "text": [
      "Total number of None is 524\n",
      "Total number of references is 302\n",
      "Total correctly predicted alignments is 168\n",
      "Total number of predicted is 524\n",
      "Precision is 0.32061068702290074\n",
      "Recall is 0.5562913907284768\n",
      "F1-Measure is 0.4067796610169491\n"
     ]
    }
   ],
   "source": [
    "preds = maponto.load_alignments(output_url, None)\n",
    "maponto.evaluate(preds, refs_url)"
   ]
  },
  {
   "cell_type": "code",
   "execution_count": 16,
   "id": "fba7db95-e016-4b55-ac05-83facb9ae4e0",
   "metadata": {},
   "outputs": [],
   "source": [
    "source_url = \"../data/MSE-Benchmark/testCases/thirdTestCase/MaterialInformation.owl\"\n",
    "target_url = \"../data/MSE-Benchmark/testCases/thirdTestCase/EMMO.owl\"\n",
    "output_url = '../data/results/MSE_thirdTest_case_alignments.rdf'\n",
    "refs_url = \"../data/MSE-Benchmark/testCases/thirdTestCase/RefAlign3.rdf\""
   ]
  },
  {
   "cell_type": "code",
   "execution_count": 17,
   "id": "bdb2e6b1-7da1-44d5-a8dc-85d23fec940d",
   "metadata": {},
   "outputs": [
    {
     "name": "stderr",
     "output_type": "stream",
     "text": [
      "INFO:root:Python ensemble mapper info: map ../data/MSE-Benchmark/testCases/thirdTestCase/MaterialInformation.owl to ../data/MSE-Benchmark/testCases/thirdTestCase/EMMO.owl\n",
      "INFO:root:Read source with 2350 triples.\n",
      "INFO:root:Read target with 32 triples.\n",
      "INFO:root:MAP CONCEPTS\n",
      "INFO:root:Retrieving Synsets by WordNet...\n",
      "INFO:root:Compute the related words for each source concept....\n",
      "533it [00:03, 152.93it/s]\n",
      "INFO:root:Total number of source concepts computed with relatd words is 533\n",
      "INFO:root:Compute the related words for each target concept....\n",
      "0it [00:00, ?it/s]\n",
      "INFO:root:Total number of target concepts computed with related words is 0\n",
      "INFO:root:Compute Pairwise Wasserstein Distances...\n",
      "INFO:root:Skip level_5 mapping.\n",
      "INFO:root:TOTAL NUMBER OF MAPPINGS BETWEEN CONCPETS IS 0\n",
      "INFO:root:=================================================\n",
      "INFO:root:MAP OBJECT PROPERTIES\n",
      "INFO:root:Retrieving Synsets by WordNet...\n",
      "INFO:root:Compute the related words for each source concept....\n",
      "28it [00:00, 153.58it/s]\n",
      "INFO:root:Total number of source concepts computed with relatd words is 28\n",
      "INFO:root:Compute the related words for each target concept....\n",
      "0it [00:00, ?it/s]\n",
      "INFO:root:Total number of target concepts computed with related words is 0\n",
      "INFO:root:Skip the level_4 mapping.\n",
      "INFO:root:Skip the level_5 mapping.\n",
      "INFO:root:Skip the level_6 mappping.\n",
      "INFO:root:TOTAL NUMBER OF MAPPINGS BETWEEN OBJECT PROPERTIES IS 0\n",
      "INFO:root:========================================================\n",
      "INFO:root:MAP DATATYPE PROPERTIES\n",
      "INFO:root:Retrieving Synsets by WordNet...\n",
      "INFO:root:Compute the related words for each source concept....\n",
      "70it [00:00, 152.80it/s]\n",
      "INFO:root:Total number of source concepts computed with relatd words is 70\n",
      "INFO:root:Compute the related words for each target concept....\n",
      "0it [00:00, ?it/s]\n",
      "INFO:root:Total number of target concepts computed with related words is 0\n",
      "INFO:root:Skip the level_4 mapping.\n",
      "INFO:root:Skip the level_5 mapping.\n",
      "INFO:root:Skip the level_6 mappping.\n",
      "INFO:root:TOTAL NUMBER OF MAPPINGS BETWEEN DATATYPE PROPERTIES IS 0\n",
      "INFO:root:===========================================================\n"
     ]
    }
   ],
   "source": [
    "mapper.align(source_url, target_url, output_url)"
   ]
  },
  {
   "cell_type": "code",
   "execution_count": 18,
   "id": "df85af66-15ac-4155-a09a-fa0212bdf0b0",
   "metadata": {},
   "outputs": [
    {
     "name": "stdout",
     "output_type": "stream",
     "text": [
      "Total number of None is 0\n",
      "Total number of references is 63\n",
      "Total correctly predicted alignments is 0\n"
     ]
    },
    {
     "ename": "ZeroDivisionError",
     "evalue": "division by zero",
     "output_type": "error",
     "traceback": [
      "\u001b[0;31m---------------------------------------------------------------------------\u001b[0m",
      "\u001b[0;31mZeroDivisionError\u001b[0m                         Traceback (most recent call last)",
      "\u001b[0;32m<ipython-input-18-d13adc3721e2>\u001b[0m in \u001b[0;36m<module>\u001b[0;34m\u001b[0m\n\u001b[1;32m      1\u001b[0m \u001b[0mpreds\u001b[0m \u001b[0;34m=\u001b[0m \u001b[0mmaponto\u001b[0m\u001b[0;34m.\u001b[0m\u001b[0mload_alignments\u001b[0m\u001b[0;34m(\u001b[0m\u001b[0moutput_url\u001b[0m\u001b[0;34m,\u001b[0m \u001b[0;32mNone\u001b[0m\u001b[0;34m)\u001b[0m\u001b[0;34m\u001b[0m\u001b[0;34m\u001b[0m\u001b[0m\n\u001b[0;32m----> 2\u001b[0;31m \u001b[0mmaponto\u001b[0m\u001b[0;34m.\u001b[0m\u001b[0mevaluate\u001b[0m\u001b[0;34m(\u001b[0m\u001b[0mpreds\u001b[0m\u001b[0;34m,\u001b[0m \u001b[0mrefs_url\u001b[0m\u001b[0;34m)\u001b[0m\u001b[0;34m\u001b[0m\u001b[0;34m\u001b[0m\u001b[0m\n\u001b[0m",
      "\u001b[0;32m~/django/otmaponto/match/ontology_mapping/src/OTMapOnto.py\u001b[0m in \u001b[0;36mevaluate\u001b[0;34m(align_df, refs_rdf_path)\u001b[0m\n\u001b[1;32m     79\u001b[0m     \u001b[0mprint\u001b[0m\u001b[0;34m(\u001b[0m\u001b[0;34m\"Total correctly predicted alignments is {}\"\u001b[0m\u001b[0;34m.\u001b[0m\u001b[0mformat\u001b[0m\u001b[0;34m(\u001b[0m\u001b[0mmatched_df\u001b[0m\u001b[0;34m.\u001b[0m\u001b[0mshape\u001b[0m\u001b[0;34m[\u001b[0m\u001b[0;36m0\u001b[0m\u001b[0;34m]\u001b[0m\u001b[0;34m)\u001b[0m\u001b[0;34m)\u001b[0m\u001b[0;34m\u001b[0m\u001b[0;34m\u001b[0m\u001b[0m\n\u001b[1;32m     80\u001b[0m \u001b[0;34m\u001b[0m\u001b[0m\n\u001b[0;32m---> 81\u001b[0;31m     \u001b[0mp\u001b[0m \u001b[0;34m=\u001b[0m \u001b[0mmatched_df\u001b[0m\u001b[0;34m.\u001b[0m\u001b[0mshape\u001b[0m\u001b[0;34m[\u001b[0m\u001b[0;36m0\u001b[0m\u001b[0;34m]\u001b[0m \u001b[0;34m/\u001b[0m \u001b[0malign_df\u001b[0m\u001b[0;34m.\u001b[0m\u001b[0mshape\u001b[0m\u001b[0;34m[\u001b[0m\u001b[0;36m0\u001b[0m\u001b[0;34m]\u001b[0m\u001b[0;34m\u001b[0m\u001b[0;34m\u001b[0m\u001b[0m\n\u001b[0m\u001b[1;32m     82\u001b[0m     \u001b[0mr\u001b[0m \u001b[0;34m=\u001b[0m \u001b[0mmatched_df\u001b[0m\u001b[0;34m.\u001b[0m\u001b[0mshape\u001b[0m\u001b[0;34m[\u001b[0m\u001b[0;36m0\u001b[0m\u001b[0;34m]\u001b[0m \u001b[0;34m/\u001b[0m \u001b[0mrefs_df\u001b[0m\u001b[0;34m.\u001b[0m\u001b[0mshape\u001b[0m\u001b[0;34m[\u001b[0m\u001b[0;36m0\u001b[0m\u001b[0;34m]\u001b[0m\u001b[0;34m\u001b[0m\u001b[0;34m\u001b[0m\u001b[0m\n\u001b[1;32m     83\u001b[0m     \u001b[0mf\u001b[0m \u001b[0;34m=\u001b[0m \u001b[0;36m2\u001b[0m \u001b[0;34m/\u001b[0m \u001b[0;34m(\u001b[0m\u001b[0;36m1\u001b[0m\u001b[0;34m/\u001b[0m\u001b[0mp\u001b[0m \u001b[0;34m+\u001b[0m \u001b[0;36m1\u001b[0m\u001b[0;34m/\u001b[0m\u001b[0mr\u001b[0m\u001b[0;34m)\u001b[0m\u001b[0;34m\u001b[0m\u001b[0;34m\u001b[0m\u001b[0m\n",
      "\u001b[0;31mZeroDivisionError\u001b[0m: division by zero"
     ]
    }
   ],
   "source": [
    "preds = maponto.load_alignments(output_url, None)\n",
    "maponto.evaluate(preds, refs_url)"
   ]
  },
  {
   "cell_type": "markdown",
   "id": "abd1741a-efff-4c1a-be4c-d3bf77d18135",
   "metadata": {},
   "source": [
    "# Anatomy"
   ]
  },
  {
   "cell_type": "code",
   "execution_count": 19,
   "id": "7b12f35b-a1e0-42cf-972d-fb3699a8eba2",
   "metadata": {},
   "outputs": [],
   "source": [
    "source_url = \"../data/anatomy_track/anatomy_track-default/mouse-human-suite/source.rdf\"\n",
    "target_url = \"../data/anatomy_track/anatomy_track-default/mouse-human-suite/target.rdf\"\n",
    "output_url = '../data/results/mouse_human_alignments.rdf'\n",
    "refs_url = \"../data/anatomy_track/anatomy_track-default/mouse-human-suite/reference.rdf\""
   ]
  },
  {
   "cell_type": "code",
   "execution_count": 20,
   "id": "f0098721-0692-424a-a38b-fa283826c7b6",
   "metadata": {},
   "outputs": [
    {
     "name": "stderr",
     "output_type": "stream",
     "text": [
      "INFO:root:Python ensemble mapper info: map ../data/anatomy_track/anatomy_track-default/mouse-human-suite/source.rdf to ../data/anatomy_track/anatomy_track-default/mouse-human-suite/target.rdf\n",
      "INFO:root:Read source with 15958 triples.\n",
      "INFO:root:Read target with 35354 triples.\n",
      "INFO:root:MAP CONCEPTS\n",
      "INFO:root:The number of level_1 predicted mapping is 951.\n",
      "INFO:root:Retrieving Synsets by WordNet...\n",
      "INFO:root:The number of level_2 predicted mapping is 32\n",
      "INFO:root:Skip the level_3 mapping.\n",
      "INFO:root:Skip the level_4 mapping.\n",
      "INFO:root:Skip the level_5 mapping.\n",
      "INFO:root:Matching Label Embeddings by Optimal Transport...\n",
      "INFO:root:Computing the Ground Embedding Costs between the Source and Target Points...\n",
      "INFO:root:The shape of the cost matrix is (1757, 2315)\n",
      "INFO:root:Computing Optimal Transport Plan...\n",
      "INFO:root:Computing Wasserstein distance by the Sinkhorn algorithm...\n",
      "INFO:root:Making Mappings from a Pairwise OT Plan Matrix by Mutual NN...\n",
      "INFO:root:The number of level_6 predicted mapping is 920\n",
      "INFO:root:TOTAL NUMBER OF MAPPINGS BETWEEN CONCPETS IS 1903\n",
      "INFO:root:=================================================\n",
      "INFO:root:MAP OBJECT PROPERTIES\n",
      "INFO:root:The number of level_1 predicted mapping is 2.\n",
      "INFO:root:Retrieving Synsets by WordNet...\n",
      "INFO:root:Compute the related words for each source concept....\n",
      "1it [00:00, 147.79it/s]\n",
      "INFO:root:Total number of source concepts computed with relatd words is 1\n",
      "INFO:root:Compute the related words for each target concept....\n",
      "0it [00:00, ?it/s]\n",
      "INFO:root:Total number of target concepts computed with related words is 0\n",
      "INFO:root:Skip the level_4 mapping.\n",
      "INFO:root:Skip the level_5 mapping.\n",
      "INFO:root:Skip the level_6 mappping.\n",
      "INFO:root:TOTAL NUMBER OF MAPPINGS BETWEEN OBJECT PROPERTIES IS 2\n",
      "INFO:root:========================================================\n",
      "INFO:root:MAP DATATYPE PROPERTIES\n",
      "INFO:root:Retrieving Synsets by WordNet...\n",
      "INFO:root:Compute the related words for each source concept....\n",
      "0it [00:00, ?it/s]\n",
      "INFO:root:Total number of source concepts computed with relatd words is 0\n",
      "INFO:root:Compute the related words for each target concept....\n",
      "0it [00:00, ?it/s]\n",
      "INFO:root:Total number of target concepts computed with related words is 0\n",
      "INFO:root:Skip the level_4 mapping.\n",
      "INFO:root:Skip the level_5 mapping.\n",
      "INFO:root:Skip the level_6 mappping.\n",
      "INFO:root:TOTAL NUMBER OF MAPPINGS BETWEEN DATATYPE PROPERTIES IS 0\n",
      "INFO:root:===========================================================\n"
     ]
    }
   ],
   "source": [
    "mapper.align(source_url, target_url, output_url)"
   ]
  },
  {
   "cell_type": "code",
   "execution_count": 21,
   "id": "dd1a9a33-f68b-4fd3-853c-8c30b4a3ff80",
   "metadata": {},
   "outputs": [
    {
     "name": "stdout",
     "output_type": "stream",
     "text": [
      "Total number of None is 1905\n",
      "Total number of references is 1516\n",
      "Total correctly predicted alignments is 1230\n",
      "Total number of predicted is 1905\n",
      "Precision is 0.6456692913385826\n",
      "Recall is 0.8113456464379947\n",
      "F1-Measure is 0.7190879859690149\n"
     ]
    }
   ],
   "source": [
    "preds = maponto.load_alignments(output_url, None)\n",
    "maponto.evaluate(preds, refs_url)"
   ]
  },
  {
   "cell_type": "markdown",
   "id": "446e3ba2-0185-4b74-8593-fcb937befa19",
   "metadata": {},
   "source": [
    "# Conference"
   ]
  },
  {
   "cell_type": "code",
   "execution_count": 22,
   "id": "7369085a-efae-493d-a7fb-0f17e66d16e4",
   "metadata": {},
   "outputs": [
    {
     "name": "stderr",
     "output_type": "stream",
     "text": [
      "INFO:root:Python ensemble mapper info: map ../data/conference/conference-v1/cmt-conference/source.rdf to ../data/conference/conference-v1/cmt-conference/target.rdf\n",
      "INFO:root:Read source with 412 triples.\n",
      "INFO:root:Read target with 639 triples.\n",
      "INFO:root:MAP CONCEPTS\n",
      "INFO:root:The number of level_1 predicted mapping is 6.\n",
      "INFO:root:Retrieving Synsets by WordNet...\n",
      "INFO:root:The number of level_2 predicted mapping is 1\n",
      "INFO:root:Compute the related words for each source concept....\n",
      "22it [00:00, 126.73it/s]\n",
      "INFO:root:Total number of source concepts computed with relatd words is 22\n",
      "INFO:root:Compute the related words for each target concept....\n",
      "52it [00:00, 125.01it/s]\n",
      "INFO:root:Total number of target concepts computed with related words is 52\n",
      "100%|██████████| 22/22 [00:00<00:00, 10444.22it/s]\n",
      "INFO:root:The number of level_3 predicted mapping is 7\n",
      "INFO:root:Compute Pairwise Wasserstein Distances...\n",
      "100%|██████████| 15/15 [00:00<00:00, 35.32it/s]\n",
      "INFO:root:The number of level_4 predicted mapping is 1\n",
      "INFO:root:Skip level_5 mapping.\n",
      "INFO:root:Matching Label Embeddings by Optimal Transport...\n",
      "INFO:root:Computing the Ground Embedding Costs between the Source and Target Points...\n",
      "INFO:root:The shape of the cost matrix is (14, 44)\n",
      "INFO:root:Computing Optimal Transport Plan...\n",
      "INFO:root:Computing Wasserstein distance by the Sinkhorn algorithm...\n",
      "INFO:root:The Sinkhorn got warnings. Computing Wasserstein distance by the EMD algorithm...\n",
      "INFO:root:Making Mappings from a Pairwise OT Plan Matrix by Mutual NN...\n",
      "INFO:root:The number of level_6 predicted mapping is 13\n",
      "INFO:root:TOTAL NUMBER OF MAPPINGS BETWEEN CONCPETS IS 28\n",
      "INFO:root:=================================================\n",
      "INFO:root:MAP OBJECT PROPERTIES\n",
      "INFO:root:Retrieving Synsets by WordNet...\n",
      "INFO:root:The number of level_2 predicted mapping is 1\n",
      "INFO:root:Compute the related words for each source concept....\n"
     ]
    },
    {
     "name": "stdout",
     "output_type": "stream",
     "text": [
      "Warning: numerical errors at iteration 0\n"
     ]
    },
    {
     "name": "stderr",
     "output_type": "stream",
     "text": [
      "48it [00:00, 145.60it/s]\n",
      "INFO:root:Total number of source concepts computed with relatd words is 48\n",
      "INFO:root:Compute the related words for each target concept....\n",
      "45it [00:00, 154.95it/s]\n",
      "INFO:root:Total number of target concepts computed with related words is 45\n",
      "100%|██████████| 48/48 [00:00<00:00, 9896.12it/s]\n",
      "INFO:root:The number of level_3 predicted mapping is 6\n",
      "INFO:root:Skip the level_4 mapping.\n",
      "INFO:root:Skip the level_5 mapping.\n",
      "INFO:root:Skip the level_6 mappping.\n",
      "INFO:root:TOTAL NUMBER OF MAPPINGS BETWEEN OBJECT PROPERTIES IS 7\n",
      "INFO:root:========================================================\n",
      "INFO:root:MAP DATATYPE PROPERTIES\n",
      "INFO:root:The number of level_1 predicted mapping is 2.\n",
      "INFO:root:Retrieving Synsets by WordNet...\n",
      "INFO:root:Compute the related words for each source concept....\n",
      "8it [00:00, 149.84it/s]\n",
      "INFO:root:Total number of source concepts computed with relatd words is 8\n",
      "INFO:root:Compute the related words for each target concept....\n",
      "16it [00:00, 153.16it/s]\n",
      "INFO:root:Total number of target concepts computed with related words is 16\n",
      "100%|██████████| 8/8 [00:00<00:00, 15293.72it/s]\n",
      "INFO:root:The number of level_3 predicted mapping is 2\n",
      "INFO:root:Skip the level_4 mapping.\n",
      "INFO:root:Skip the level_5 mapping.\n",
      "INFO:root:Skip the level_6 mappping.\n",
      "INFO:root:TOTAL NUMBER OF MAPPINGS BETWEEN DATATYPE PROPERTIES IS 4\n",
      "INFO:root:===========================================================\n"
     ]
    },
    {
     "name": "stdout",
     "output_type": "stream",
     "text": [
      "Total number of None is 39\n",
      "Total number of references is 15\n",
      "Total correctly predicted alignments is 10\n",
      "Total number of predicted is 39\n",
      "Precision is 0.2564102564102564\n",
      "Recall is 0.6666666666666666\n",
      "F1-Measure is 0.37037037037037035\n"
     ]
    }
   ],
   "source": [
    "source_url = \"../data/conference/conference-v1/cmt-conference/source.rdf\"\n",
    "target_url = \"../data/conference/conference-v1/cmt-conference/target.rdf\"\n",
    "output_url = '../data/results/cmt_conference_alignments.rdf'\n",
    "refs_url = \"../data/conference/conference-v1/cmt-conference/reference.rdf\"\n",
    "mapper.align(source_url, target_url, output_url)\n",
    "preds = maponto.load_alignments(output_url, None)\n",
    "maponto.evaluate(preds, refs_url)"
   ]
  },
  {
   "cell_type": "markdown",
   "id": "25ddd8ff-df5e-44c9-b20a-6f9039aecb07",
   "metadata": {},
   "source": [
    "# IIMB Benchmark"
   ]
  },
  {
   "cell_type": "code",
   "execution_count": 23,
   "id": "832bdd25-d29a-4beb-b049-67cfc2fd1890",
   "metadata": {},
   "outputs": [],
   "source": [
    "source_url = \"../data/iimb/v1/072/source.rdf\"\n",
    "target_url = \"../data/iimb/v1/072/target.rdf\"\n",
    "output_url = '../data/results/iimb_source_target_072_alignment.rdf'\n",
    "refs_url = \"../data/iimb/v1/072/reference.rdf\""
   ]
  },
  {
   "cell_type": "code",
   "execution_count": 24,
   "id": "095236e1-9373-4d93-9d03-d8f51314e669",
   "metadata": {},
   "outputs": [
    {
     "name": "stderr",
     "output_type": "stream",
     "text": [
      "INFO:root:Python ensemble mapper info: map ../data/iimb/v1/072/source.rdf to ../data/iimb/v1/072/target.rdf\n",
      "INFO:root:Read source with 2617 triples.\n",
      "INFO:root:Read target with 5874 triples.\n",
      "INFO:root:MAP CONCEPTS\n",
      "INFO:root:The number of level_1 predicted mapping is 29.\n",
      "INFO:root:Retrieving Synsets by WordNet...\n",
      "INFO:root:Compute the related words for each source concept....\n",
      "0it [00:00, ?it/s]\n",
      "INFO:root:Total number of source concepts computed with relatd words is 0\n",
      "INFO:root:Compute the related words for each target concept....\n",
      "0it [00:00, ?it/s]\n",
      "INFO:root:Total number of target concepts computed with related words is 0\n",
      "INFO:root:Compute Pairwise Wasserstein Distances...\n",
      "INFO:root:Skip level_5 mapping.\n",
      "INFO:root:TOTAL NUMBER OF MAPPINGS BETWEEN CONCPETS IS 29\n",
      "INFO:root:=================================================\n",
      "INFO:root:MAP OBJECT PROPERTIES\n",
      "INFO:root:The number of level_1 predicted mapping is 36.\n",
      "INFO:root:Retrieving Synsets by WordNet...\n",
      "INFO:root:Compute the related words for each source concept....\n",
      "0it [00:00, ?it/s]\n",
      "INFO:root:Total number of source concepts computed with relatd words is 0\n",
      "INFO:root:Compute the related words for each target concept....\n",
      "1it [00:00, 129.15it/s]\n",
      "INFO:root:Total number of target concepts computed with related words is 1\n",
      "INFO:root:Skip the level_4 mapping.\n",
      "INFO:root:Skip the level_5 mapping.\n",
      "INFO:root:Skip the level_6 mappping.\n",
      "INFO:root:TOTAL NUMBER OF MAPPINGS BETWEEN OBJECT PROPERTIES IS 36\n",
      "INFO:root:========================================================\n",
      "INFO:root:MAP DATATYPE PROPERTIES\n",
      "INFO:root:The number of level_1 predicted mapping is 13.\n",
      "INFO:root:Retrieving Synsets by WordNet...\n",
      "INFO:root:Compute the related words for each source concept....\n",
      "0it [00:00, ?it/s]\n",
      "INFO:root:Total number of source concepts computed with relatd words is 0\n",
      "INFO:root:Compute the related words for each target concept....\n",
      "0it [00:00, ?it/s]\n",
      "INFO:root:Total number of target concepts computed with related words is 0\n",
      "INFO:root:Skip the level_4 mapping.\n",
      "INFO:root:Skip the level_5 mapping.\n",
      "INFO:root:Skip the level_6 mappping.\n",
      "INFO:root:TOTAL NUMBER OF MAPPINGS BETWEEN DATATYPE PROPERTIES IS 13\n",
      "INFO:root:===========================================================\n"
     ]
    }
   ],
   "source": [
    "mapper.align(source_url, target_url, output_url)"
   ]
  },
  {
   "cell_type": "code",
   "execution_count": 25,
   "id": "5a134d71-a64e-419a-9c34-b7fc896a6186",
   "metadata": {},
   "outputs": [
    {
     "name": "stdout",
     "output_type": "stream",
     "text": [
      "Total number of None is 78\n",
      "Total number of references is 169\n",
      "Total correctly predicted alignments is 0\n"
     ]
    },
    {
     "ename": "ZeroDivisionError",
     "evalue": "float division by zero",
     "output_type": "error",
     "traceback": [
      "\u001b[0;31m---------------------------------------------------------------------------\u001b[0m",
      "\u001b[0;31mZeroDivisionError\u001b[0m                         Traceback (most recent call last)",
      "\u001b[0;32m<ipython-input-25-d13adc3721e2>\u001b[0m in \u001b[0;36m<module>\u001b[0;34m\u001b[0m\n\u001b[1;32m      1\u001b[0m \u001b[0mpreds\u001b[0m \u001b[0;34m=\u001b[0m \u001b[0mmaponto\u001b[0m\u001b[0;34m.\u001b[0m\u001b[0mload_alignments\u001b[0m\u001b[0;34m(\u001b[0m\u001b[0moutput_url\u001b[0m\u001b[0;34m,\u001b[0m \u001b[0;32mNone\u001b[0m\u001b[0;34m)\u001b[0m\u001b[0;34m\u001b[0m\u001b[0;34m\u001b[0m\u001b[0m\n\u001b[0;32m----> 2\u001b[0;31m \u001b[0mmaponto\u001b[0m\u001b[0;34m.\u001b[0m\u001b[0mevaluate\u001b[0m\u001b[0;34m(\u001b[0m\u001b[0mpreds\u001b[0m\u001b[0;34m,\u001b[0m \u001b[0mrefs_url\u001b[0m\u001b[0;34m)\u001b[0m\u001b[0;34m\u001b[0m\u001b[0;34m\u001b[0m\u001b[0m\n\u001b[0m",
      "\u001b[0;32m~/django/otmaponto/match/ontology_mapping/src/OTMapOnto.py\u001b[0m in \u001b[0;36mevaluate\u001b[0;34m(align_df, refs_rdf_path)\u001b[0m\n\u001b[1;32m     81\u001b[0m     \u001b[0mp\u001b[0m \u001b[0;34m=\u001b[0m \u001b[0mmatched_df\u001b[0m\u001b[0;34m.\u001b[0m\u001b[0mshape\u001b[0m\u001b[0;34m[\u001b[0m\u001b[0;36m0\u001b[0m\u001b[0;34m]\u001b[0m \u001b[0;34m/\u001b[0m \u001b[0malign_df\u001b[0m\u001b[0;34m.\u001b[0m\u001b[0mshape\u001b[0m\u001b[0;34m[\u001b[0m\u001b[0;36m0\u001b[0m\u001b[0;34m]\u001b[0m\u001b[0;34m\u001b[0m\u001b[0;34m\u001b[0m\u001b[0m\n\u001b[1;32m     82\u001b[0m     \u001b[0mr\u001b[0m \u001b[0;34m=\u001b[0m \u001b[0mmatched_df\u001b[0m\u001b[0;34m.\u001b[0m\u001b[0mshape\u001b[0m\u001b[0;34m[\u001b[0m\u001b[0;36m0\u001b[0m\u001b[0;34m]\u001b[0m \u001b[0;34m/\u001b[0m \u001b[0mrefs_df\u001b[0m\u001b[0;34m.\u001b[0m\u001b[0mshape\u001b[0m\u001b[0;34m[\u001b[0m\u001b[0;36m0\u001b[0m\u001b[0;34m]\u001b[0m\u001b[0;34m\u001b[0m\u001b[0;34m\u001b[0m\u001b[0m\n\u001b[0;32m---> 83\u001b[0;31m     \u001b[0mf\u001b[0m \u001b[0;34m=\u001b[0m \u001b[0;36m2\u001b[0m \u001b[0;34m/\u001b[0m \u001b[0;34m(\u001b[0m\u001b[0;36m1\u001b[0m\u001b[0;34m/\u001b[0m\u001b[0mp\u001b[0m \u001b[0;34m+\u001b[0m \u001b[0;36m1\u001b[0m\u001b[0;34m/\u001b[0m\u001b[0mr\u001b[0m\u001b[0;34m)\u001b[0m\u001b[0;34m\u001b[0m\u001b[0;34m\u001b[0m\u001b[0m\n\u001b[0m\u001b[1;32m     84\u001b[0m     \u001b[0mprint\u001b[0m\u001b[0;34m(\u001b[0m\u001b[0;34m\"Total number of predicted is {}\"\u001b[0m\u001b[0;34m.\u001b[0m\u001b[0mformat\u001b[0m\u001b[0;34m(\u001b[0m\u001b[0malign_df\u001b[0m\u001b[0;34m.\u001b[0m\u001b[0mshape\u001b[0m\u001b[0;34m[\u001b[0m\u001b[0;36m0\u001b[0m\u001b[0;34m]\u001b[0m\u001b[0;34m)\u001b[0m\u001b[0;34m)\u001b[0m\u001b[0;34m\u001b[0m\u001b[0;34m\u001b[0m\u001b[0m\n\u001b[1;32m     85\u001b[0m     \u001b[0mprint\u001b[0m\u001b[0;34m(\u001b[0m\u001b[0;34m\"Precision is {}\"\u001b[0m\u001b[0;34m.\u001b[0m\u001b[0mformat\u001b[0m\u001b[0;34m(\u001b[0m\u001b[0mp\u001b[0m\u001b[0;34m)\u001b[0m\u001b[0;34m)\u001b[0m\u001b[0;34m\u001b[0m\u001b[0;34m\u001b[0m\u001b[0m\n",
      "\u001b[0;31mZeroDivisionError\u001b[0m: float division by zero"
     ]
    }
   ],
   "source": [
    "preds = maponto.load_alignments(output_url, None)\n",
    "maponto.evaluate(preds, refs_url)"
   ]
  },
  {
   "cell_type": "markdown",
   "id": "3de01ff6-1d9e-45a5-94fa-de533dca3332",
   "metadata": {},
   "source": [
    "# Knowledge Graph"
   ]
  },
  {
   "cell_type": "code",
   "execution_count": 363,
   "id": "3aca24cb-1250-41c7-a1e9-88bd29462c35",
   "metadata": {},
   "outputs": [],
   "source": [
    "#source_url = \"../data/knowledgegraph/commonkg/nell-dbpedia/source.rdf\"\n",
    "#target_url = \"../data/knowledgegraph/commonkg/nell-dbpedia/target.rdf\"\n",
    "#output_url = '../data/results/knowledgegraph_commonkg_alignment.rdf'\n",
    "#refs_url = \"../data/knowledgegraph/commonkg/nell-dbpedia/reference.rdf\"\n",
    "source_url = \"../data/knowledgegraph/small-test/test-small/source.rdf\"\n",
    "target_url = \"../data/knowledgegraph/small-test/test-small/target.rdf\"\n",
    "output_url = '../data/results/knowledgegraph_small_test_alignment.rdf'\n",
    "refs_url = \"../data/knowledgegraph/small-test/test-small/reference.rdf\""
   ]
  },
  {
   "cell_type": "code",
   "execution_count": 364,
   "id": "ba4ffd67-7a10-49d3-b7c9-d7e6d1416d13",
   "metadata": {},
   "outputs": [
    {
     "name": "stderr",
     "output_type": "stream",
     "text": [
      "INFO:root:Python ensemble mapper info: map ../data/knowledgegraph/small-test/test-small/source.rdf to ../data/knowledgegraph/small-test/test-small/target.rdf\n",
      "INFO:root:Read source with 39 triples.\n",
      "INFO:root:Read target with 26 triples.\n",
      "INFO:root:MAP CONCEPTS\n",
      "INFO:root:The number of level_1 predicted mapping is 1.\n",
      "INFO:root:Retrieving Synsets by WordNet...\n",
      "INFO:root:Compute the related words for each source concept....\n",
      "0it [00:00, ?it/s]\n",
      "INFO:root:Total number of source concepts computed with relatd words is 0\n",
      "INFO:root:Compute the related words for each target concept....\n",
      "0it [00:00, ?it/s]\n",
      "INFO:root:Total number of target concepts computed with related words is 0\n",
      "INFO:root:Compute Pairwise Wasserstein Distances...\n",
      "INFO:root:Skip level_5 mapping.\n",
      "INFO:root:TOTAL NUMBER OF MAPPINGS BETWEEN CONCPETS IS 1\n",
      "INFO:root:=================================================\n",
      "INFO:root:MAP OBJECT PROPERTIES\n",
      "INFO:root:========================================================\n",
      "INFO:root:MAP DATATYPE PROPERTIES\n",
      "INFO:root:===========================================================\n"
     ]
    }
   ],
   "source": [
    "mapper.align(source_url, target_url, output_url)"
   ]
  },
  {
   "cell_type": "code",
   "execution_count": 365,
   "id": "3353fdd9-b2f8-49a1-ba2d-6f1dcf45c459",
   "metadata": {},
   "outputs": [
    {
     "name": "stdout",
     "output_type": "stream",
     "text": [
      "Total number of None is 1\n",
      "Total number of references is 1\n",
      "Total correctly predicted alignments is 0\n"
     ]
    },
    {
     "ename": "ZeroDivisionError",
     "evalue": "float division by zero",
     "output_type": "error",
     "traceback": [
      "\u001b[0;31m---------------------------------------------------------------------------\u001b[0m",
      "\u001b[0;31mZeroDivisionError\u001b[0m                         Traceback (most recent call last)",
      "\u001b[0;32m<ipython-input-365-d13adc3721e2>\u001b[0m in \u001b[0;36m<module>\u001b[0;34m\u001b[0m\n\u001b[1;32m      1\u001b[0m \u001b[0mpreds\u001b[0m \u001b[0;34m=\u001b[0m \u001b[0mmaponto\u001b[0m\u001b[0;34m.\u001b[0m\u001b[0mload_alignments\u001b[0m\u001b[0;34m(\u001b[0m\u001b[0moutput_url\u001b[0m\u001b[0;34m,\u001b[0m \u001b[0;32mNone\u001b[0m\u001b[0;34m)\u001b[0m\u001b[0;34m\u001b[0m\u001b[0;34m\u001b[0m\u001b[0m\n\u001b[0;32m----> 2\u001b[0;31m \u001b[0mmaponto\u001b[0m\u001b[0;34m.\u001b[0m\u001b[0mevaluate\u001b[0m\u001b[0;34m(\u001b[0m\u001b[0mpreds\u001b[0m\u001b[0;34m,\u001b[0m \u001b[0mrefs_url\u001b[0m\u001b[0;34m)\u001b[0m\u001b[0;34m\u001b[0m\u001b[0;34m\u001b[0m\u001b[0m\n\u001b[0m",
      "\u001b[0;32m~/Google Drive/django/otmaponto/match/ontology_mapping/src/OTMapOnto.py\u001b[0m in \u001b[0;36mevaluate\u001b[0;34m(align_df, refs_rdf_path)\u001b[0m\n\u001b[1;32m     80\u001b[0m     \u001b[0mp\u001b[0m \u001b[0;34m=\u001b[0m \u001b[0mmatched_df\u001b[0m\u001b[0;34m.\u001b[0m\u001b[0mshape\u001b[0m\u001b[0;34m[\u001b[0m\u001b[0;36m0\u001b[0m\u001b[0;34m]\u001b[0m \u001b[0;34m/\u001b[0m \u001b[0malign_df\u001b[0m\u001b[0;34m.\u001b[0m\u001b[0mshape\u001b[0m\u001b[0;34m[\u001b[0m\u001b[0;36m0\u001b[0m\u001b[0;34m]\u001b[0m\u001b[0;34m\u001b[0m\u001b[0;34m\u001b[0m\u001b[0m\n\u001b[1;32m     81\u001b[0m     \u001b[0mr\u001b[0m \u001b[0;34m=\u001b[0m \u001b[0mmatched_df\u001b[0m\u001b[0;34m.\u001b[0m\u001b[0mshape\u001b[0m\u001b[0;34m[\u001b[0m\u001b[0;36m0\u001b[0m\u001b[0;34m]\u001b[0m \u001b[0;34m/\u001b[0m \u001b[0mrefs_df\u001b[0m\u001b[0;34m.\u001b[0m\u001b[0mshape\u001b[0m\u001b[0;34m[\u001b[0m\u001b[0;36m0\u001b[0m\u001b[0;34m]\u001b[0m\u001b[0;34m\u001b[0m\u001b[0;34m\u001b[0m\u001b[0m\n\u001b[0;32m---> 82\u001b[0;31m     \u001b[0mf\u001b[0m \u001b[0;34m=\u001b[0m \u001b[0;36m2\u001b[0m \u001b[0;34m/\u001b[0m \u001b[0;34m(\u001b[0m\u001b[0;36m1\u001b[0m\u001b[0;34m/\u001b[0m\u001b[0mp\u001b[0m \u001b[0;34m+\u001b[0m \u001b[0;36m1\u001b[0m\u001b[0;34m/\u001b[0m\u001b[0mr\u001b[0m\u001b[0;34m)\u001b[0m\u001b[0;34m\u001b[0m\u001b[0;34m\u001b[0m\u001b[0m\n\u001b[0m\u001b[1;32m     83\u001b[0m     \u001b[0mprint\u001b[0m\u001b[0;34m(\u001b[0m\u001b[0;34m\"Total number of predicted is {}\"\u001b[0m\u001b[0;34m.\u001b[0m\u001b[0mformat\u001b[0m\u001b[0;34m(\u001b[0m\u001b[0malign_df\u001b[0m\u001b[0;34m.\u001b[0m\u001b[0mshape\u001b[0m\u001b[0;34m[\u001b[0m\u001b[0;36m0\u001b[0m\u001b[0;34m]\u001b[0m\u001b[0;34m)\u001b[0m\u001b[0;34m)\u001b[0m\u001b[0;34m\u001b[0m\u001b[0;34m\u001b[0m\u001b[0m\n\u001b[1;32m     84\u001b[0m     \u001b[0mprint\u001b[0m\u001b[0;34m(\u001b[0m\u001b[0;34m\"Precision is {}\"\u001b[0m\u001b[0;34m.\u001b[0m\u001b[0mformat\u001b[0m\u001b[0;34m(\u001b[0m\u001b[0mp\u001b[0m\u001b[0;34m)\u001b[0m\u001b[0;34m)\u001b[0m\u001b[0;34m\u001b[0m\u001b[0;34m\u001b[0m\u001b[0m\n",
      "\u001b[0;31mZeroDivisionError\u001b[0m: float division by zero"
     ]
    }
   ],
   "source": [
    "preds = maponto.load_alignments(output_url, None)\n",
    "maponto.evaluate(preds, refs_url)"
   ]
  },
  {
   "cell_type": "code",
   "execution_count": 4,
   "id": "c2fefa13-d6dc-4032-9f14-23032f9b5e15",
   "metadata": {},
   "outputs": [],
   "source": [
    "source_url = \"../data/knowledgegraph/v3/ontologies/starwars.rdf\"\n",
    "target_url = \"../data/knowledgegraph/v3/ontologies/swg.rdf\"\n",
    "output_url = '../data/results/knowledgegraph_starwars_swg_alignment.rdf'\n",
    "refs_url = \"../data/knowledgegraph/v3/references/starwars-swg.rdf\""
   ]
  },
  {
   "cell_type": "code",
   "execution_count": 5,
   "id": "5cfe0a1e-2b75-4e08-a397-9760b90af0f0",
   "metadata": {},
   "outputs": [
    {
     "name": "stderr",
     "output_type": "stream",
     "text": [
      "INFO:root:Python ensemble mapper info: map ../data/knowledgegraph/v3/ontologies/starwars.rdf to ../data/knowledgegraph/v3/ontologies/swg.rdf\n",
      "INFO:root:Read source with 8246033 triples.\n",
      "INFO:root:Read target with 254354 triples.\n",
      "INFO:root:MAP CONCEPTS\n",
      "INFO:root:The number of level_1 predicted mapping is 12.\n",
      "INFO:root:Retrieving Synsets by WordNet...\n",
      "INFO:root:The number of level_2 predicted mapping is 4\n",
      "INFO:root:Compute the related words for each source concept....\n",
      "9it [00:00, 83.70it/s]"
     ]
    },
    {
     "name": "stdout",
     "output_type": "stream",
     "text": [
      "OTNeighborhood_TDA.get_relatedWords_count(): res=rdfgraph.query(q)\n",
      "OTNeighborhood_TDA.get_relatedWords_count(): res=rdfgraph.query(q)\n",
      "OTNeighborhood_TDA.get_relatedWords_count(): res=rdfgraph.query(q)\n",
      "OTNeighborhood_TDA.get_relatedWords_count(): res=rdfgraph.query(q)\n",
      "OTNeighborhood_TDA.get_relatedWords_count(): res=rdfgraph.query(q)\n",
      "OTNeighborhood_TDA.get_relatedWords_count(): res=rdfgraph.query(q)\n",
      "OTNeighborhood_TDA.get_relatedWords_count(): res=rdfgraph.query(q)\n",
      "OTNeighborhood_TDA.get_relatedWords_count(): res=rdfgraph.query(q)\n",
      "OTNeighborhood_TDA.get_relatedWords_count(): res=rdfgraph.query(q)\n",
      "OTNeighborhood_TDA.get_relatedWords_count(): res=rdfgraph.query(q)\n",
      "OTNeighborhood_TDA.get_relatedWords_count(): res=rdfgraph.query(q)\n",
      "OTNeighborhood_TDA.get_relatedWords_count(): res=rdfgraph.query(q)\n",
      "OTNeighborhood_TDA.get_relatedWords_count(): res=rdfgraph.query(q)\n",
      "OTNeighborhood_TDA.get_relatedWords_count(): res=rdfgraph.query(q)\n",
      "OTNeighborhood_TDA.get_relatedWords_count(): res=rdfgraph.query(q)\n",
      "OTNeighborhood_TDA.get_relatedWords_count(): res=rdfgraph.query(q)\n",
      "OTNeighborhood_TDA.get_relatedWords_count(): res=rdfgraph.query(q)\n"
     ]
    },
    {
     "name": "stderr",
     "output_type": "stream",
     "text": [
      "27it [00:00, 81.43it/s]"
     ]
    },
    {
     "name": "stdout",
     "output_type": "stream",
     "text": [
      "OTNeighborhood_TDA.get_relatedWords_count(): res=rdfgraph.query(q)\n",
      "OTNeighborhood_TDA.get_relatedWords_count(): res=rdfgraph.query(q)\n",
      "OTNeighborhood_TDA.get_relatedWords_count(): res=rdfgraph.query(q)\n",
      "OTNeighborhood_TDA.get_relatedWords_count(): res=rdfgraph.query(q)\n",
      "OTNeighborhood_TDA.get_relatedWords_count(): res=rdfgraph.query(q)\n",
      "OTNeighborhood_TDA.get_relatedWords_count(): res=rdfgraph.query(q)\n",
      "OTNeighborhood_TDA.get_relatedWords_count(): res=rdfgraph.query(q)\n",
      "OTNeighborhood_TDA.get_relatedWords_count(): res=rdfgraph.query(q)\n",
      "OTNeighborhood_TDA.get_relatedWords_count(): res=rdfgraph.query(q)\n",
      "OTNeighborhood_TDA.get_relatedWords_count(): res=rdfgraph.query(q)\n",
      "OTNeighborhood_TDA.get_relatedWords_count(): res=rdfgraph.query(q)\n",
      "OTNeighborhood_TDA.get_relatedWords_count(): res=rdfgraph.query(q)\n",
      "OTNeighborhood_TDA.get_relatedWords_count(): res=rdfgraph.query(q)\n",
      "OTNeighborhood_TDA.get_relatedWords_count(): res=rdfgraph.query(q)\n",
      "OTNeighborhood_TDA.get_relatedWords_count(): res=rdfgraph.query(q)\n",
      "OTNeighborhood_TDA.get_relatedWords_count(): res=rdfgraph.query(q)\n",
      "OTNeighborhood_TDA.get_relatedWords_count(): res=rdfgraph.query(q)\n"
     ]
    },
    {
     "name": "stderr",
     "output_type": "stream",
     "text": [
      "45it [00:00, 78.08it/s]"
     ]
    },
    {
     "name": "stdout",
     "output_type": "stream",
     "text": [
      "OTNeighborhood_TDA.get_relatedWords_count(): res=rdfgraph.query(q)\n",
      "OTNeighborhood_TDA.get_relatedWords_count(): res=rdfgraph.query(q)\n",
      "OTNeighborhood_TDA.get_relatedWords_count(): res=rdfgraph.query(q)\n",
      "OTNeighborhood_TDA.get_relatedWords_count(): res=rdfgraph.query(q)\n",
      "OTNeighborhood_TDA.get_relatedWords_count(): res=rdfgraph.query(q)\n",
      "OTNeighborhood_TDA.get_relatedWords_count(): res=rdfgraph.query(q)\n",
      "OTNeighborhood_TDA.get_relatedWords_count(): res=rdfgraph.query(q)\n",
      "OTNeighborhood_TDA.get_relatedWords_count(): res=rdfgraph.query(q)\n",
      "OTNeighborhood_TDA.get_relatedWords_count(): res=rdfgraph.query(q)\n",
      "OTNeighborhood_TDA.get_relatedWords_count(): res=rdfgraph.query(q)\n",
      "OTNeighborhood_TDA.get_relatedWords_count(): res=rdfgraph.query(q)\n",
      "OTNeighborhood_TDA.get_relatedWords_count(): res=rdfgraph.query(q)\n",
      "OTNeighborhood_TDA.get_relatedWords_count(): res=rdfgraph.query(q)\n",
      "OTNeighborhood_TDA.get_relatedWords_count(): res=rdfgraph.query(q)\n",
      "OTNeighborhood_TDA.get_relatedWords_count(): res=rdfgraph.query(q)\n",
      "OTNeighborhood_TDA.get_relatedWords_count(): res=rdfgraph.query(q)\n",
      "OTNeighborhood_TDA.get_relatedWords_count(): res=rdfgraph.query(q)\n"
     ]
    },
    {
     "name": "stderr",
     "output_type": "stream",
     "text": [
      "63it [00:00, 80.19it/s]"
     ]
    },
    {
     "name": "stdout",
     "output_type": "stream",
     "text": [
      "OTNeighborhood_TDA.get_relatedWords_count(): res=rdfgraph.query(q)\n",
      "OTNeighborhood_TDA.get_relatedWords_count(): res=rdfgraph.query(q)\n",
      "OTNeighborhood_TDA.get_relatedWords_count(): res=rdfgraph.query(q)\n",
      "OTNeighborhood_TDA.get_relatedWords_count(): res=rdfgraph.query(q)\n",
      "OTNeighborhood_TDA.get_relatedWords_count(): res=rdfgraph.query(q)\n",
      "OTNeighborhood_TDA.get_relatedWords_count(): res=rdfgraph.query(q)\n",
      "OTNeighborhood_TDA.get_relatedWords_count(): res=rdfgraph.query(q)\n",
      "OTNeighborhood_TDA.get_relatedWords_count(): res=rdfgraph.query(q)\n",
      "OTNeighborhood_TDA.get_relatedWords_count(): res=rdfgraph.query(q)\n",
      "OTNeighborhood_TDA.get_relatedWords_count(): res=rdfgraph.query(q)\n",
      "OTNeighborhood_TDA.get_relatedWords_count(): res=rdfgraph.query(q)\n",
      "OTNeighborhood_TDA.get_relatedWords_count(): res=rdfgraph.query(q)\n",
      "OTNeighborhood_TDA.get_relatedWords_count(): res=rdfgraph.query(q)\n",
      "OTNeighborhood_TDA.get_relatedWords_count(): res=rdfgraph.query(q)\n",
      "OTNeighborhood_TDA.get_relatedWords_count(): res=rdfgraph.query(q)\n",
      "OTNeighborhood_TDA.get_relatedWords_count(): res=rdfgraph.query(q)\n",
      "OTNeighborhood_TDA.get_relatedWords_count(): res=rdfgraph.query(q)\n",
      "OTNeighborhood_TDA.get_relatedWords_count(): res=rdfgraph.query(q)\n",
      "OTNeighborhood_TDA.get_relatedWords_count(): res=rdfgraph.query(q)\n",
      "OTNeighborhood_TDA.get_relatedWords_count(): res=rdfgraph.query(q)\n"
     ]
    },
    {
     "name": "stderr",
     "output_type": "stream",
     "text": [
      "81it [00:00, 84.78it/s]"
     ]
    },
    {
     "name": "stdout",
     "output_type": "stream",
     "text": [
      "OTNeighborhood_TDA.get_relatedWords_count(): res=rdfgraph.query(q)\n",
      "OTNeighborhood_TDA.get_relatedWords_count(): res=rdfgraph.query(q)\n",
      "OTNeighborhood_TDA.get_relatedWords_count(): res=rdfgraph.query(q)\n",
      "OTNeighborhood_TDA.get_relatedWords_count(): res=rdfgraph.query(q)\n",
      "OTNeighborhood_TDA.get_relatedWords_count(): res=rdfgraph.query(q)\n",
      "OTNeighborhood_TDA.get_relatedWords_count(): res=rdfgraph.query(q)\n",
      "OTNeighborhood_TDA.get_relatedWords_count(): res=rdfgraph.query(q)\n",
      "OTNeighborhood_TDA.get_relatedWords_count(): res=rdfgraph.query(q)\n",
      "OTNeighborhood_TDA.get_relatedWords_count(): res=rdfgraph.query(q)\n",
      "OTNeighborhood_TDA.get_relatedWords_count(): res=rdfgraph.query(q)\n",
      "OTNeighborhood_TDA.get_relatedWords_count(): res=rdfgraph.query(q)\n",
      "OTNeighborhood_TDA.get_relatedWords_count(): res=rdfgraph.query(q)\n",
      "OTNeighborhood_TDA.get_relatedWords_count(): res=rdfgraph.query(q)\n",
      "OTNeighborhood_TDA.get_relatedWords_count(): res=rdfgraph.query(q)\n",
      "OTNeighborhood_TDA.get_relatedWords_count(): res=rdfgraph.query(q)\n",
      "OTNeighborhood_TDA.get_relatedWords_count(): res=rdfgraph.query(q)\n",
      "OTNeighborhood_TDA.get_relatedWords_count(): res=rdfgraph.query(q)\n"
     ]
    },
    {
     "name": "stderr",
     "output_type": "stream",
     "text": [
      "99it [00:01, 81.45it/s]"
     ]
    },
    {
     "name": "stdout",
     "output_type": "stream",
     "text": [
      "OTNeighborhood_TDA.get_relatedWords_count(): res=rdfgraph.query(q)\n",
      "OTNeighborhood_TDA.get_relatedWords_count(): res=rdfgraph.query(q)\n",
      "OTNeighborhood_TDA.get_relatedWords_count(): res=rdfgraph.query(q)\n",
      "OTNeighborhood_TDA.get_relatedWords_count(): res=rdfgraph.query(q)\n",
      "OTNeighborhood_TDA.get_relatedWords_count(): res=rdfgraph.query(q)\n",
      "OTNeighborhood_TDA.get_relatedWords_count(): res=rdfgraph.query(q)\n",
      "OTNeighborhood_TDA.get_relatedWords_count(): res=rdfgraph.query(q)\n",
      "OTNeighborhood_TDA.get_relatedWords_count(): res=rdfgraph.query(q)\n",
      "OTNeighborhood_TDA.get_relatedWords_count(): res=rdfgraph.query(q)\n",
      "OTNeighborhood_TDA.get_relatedWords_count(): res=rdfgraph.query(q)\n",
      "OTNeighborhood_TDA.get_relatedWords_count(): res=rdfgraph.query(q)\n",
      "OTNeighborhood_TDA.get_relatedWords_count(): res=rdfgraph.query(q)\n",
      "OTNeighborhood_TDA.get_relatedWords_count(): res=rdfgraph.query(q)\n",
      "OTNeighborhood_TDA.get_relatedWords_count(): res=rdfgraph.query(q)\n",
      "OTNeighborhood_TDA.get_relatedWords_count(): res=rdfgraph.query(q)\n",
      "OTNeighborhood_TDA.get_relatedWords_count(): res=rdfgraph.query(q)\n",
      "OTNeighborhood_TDA.get_relatedWords_count(): res=rdfgraph.query(q)\n"
     ]
    },
    {
     "name": "stderr",
     "output_type": "stream",
     "text": [
      "117it [00:01, 84.66it/s]"
     ]
    },
    {
     "name": "stdout",
     "output_type": "stream",
     "text": [
      "OTNeighborhood_TDA.get_relatedWords_count(): res=rdfgraph.query(q)\n",
      "OTNeighborhood_TDA.get_relatedWords_count(): res=rdfgraph.query(q)\n",
      "OTNeighborhood_TDA.get_relatedWords_count(): res=rdfgraph.query(q)\n",
      "OTNeighborhood_TDA.get_relatedWords_count(): res=rdfgraph.query(q)\n",
      "OTNeighborhood_TDA.get_relatedWords_count(): res=rdfgraph.query(q)\n",
      "OTNeighborhood_TDA.get_relatedWords_count(): res=rdfgraph.query(q)\n",
      "OTNeighborhood_TDA.get_relatedWords_count(): res=rdfgraph.query(q)\n",
      "OTNeighborhood_TDA.get_relatedWords_count(): res=rdfgraph.query(q)\n",
      "OTNeighborhood_TDA.get_relatedWords_count(): res=rdfgraph.query(q)\n",
      "OTNeighborhood_TDA.get_relatedWords_count(): res=rdfgraph.query(q)\n",
      "OTNeighborhood_TDA.get_relatedWords_count(): res=rdfgraph.query(q)\n",
      "OTNeighborhood_TDA.get_relatedWords_count(): res=rdfgraph.query(q)\n",
      "OTNeighborhood_TDA.get_relatedWords_count(): res=rdfgraph.query(q)\n",
      "OTNeighborhood_TDA.get_relatedWords_count(): res=rdfgraph.query(q)\n",
      "OTNeighborhood_TDA.get_relatedWords_count(): res=rdfgraph.query(q)\n",
      "OTNeighborhood_TDA.get_relatedWords_count(): res=rdfgraph.query(q)\n",
      "OTNeighborhood_TDA.get_relatedWords_count(): res=rdfgraph.query(q)\n",
      "OTNeighborhood_TDA.get_relatedWords_count(): res=rdfgraph.query(q)\n",
      "OTNeighborhood_TDA.get_relatedWords_count(): res=rdfgraph.query(q)\n"
     ]
    },
    {
     "name": "stderr",
     "output_type": "stream",
     "text": [
      "136it [00:01, 86.92it/s]"
     ]
    },
    {
     "name": "stdout",
     "output_type": "stream",
     "text": [
      "OTNeighborhood_TDA.get_relatedWords_count(): res=rdfgraph.query(q)\n",
      "OTNeighborhood_TDA.get_relatedWords_count(): res=rdfgraph.query(q)\n",
      "OTNeighborhood_TDA.get_relatedWords_count(): res=rdfgraph.query(q)\n",
      "OTNeighborhood_TDA.get_relatedWords_count(): res=rdfgraph.query(q)\n",
      "OTNeighborhood_TDA.get_relatedWords_count(): res=rdfgraph.query(q)\n",
      "OTNeighborhood_TDA.get_relatedWords_count(): res=rdfgraph.query(q)\n",
      "OTNeighborhood_TDA.get_relatedWords_count(): res=rdfgraph.query(q)\n",
      "OTNeighborhood_TDA.get_relatedWords_count(): res=rdfgraph.query(q)\n",
      "OTNeighborhood_TDA.get_relatedWords_count(): res=rdfgraph.query(q)\n",
      "OTNeighborhood_TDA.get_relatedWords_count(): res=rdfgraph.query(q)\n",
      "OTNeighborhood_TDA.get_relatedWords_count(): res=rdfgraph.query(q)\n",
      "OTNeighborhood_TDA.get_relatedWords_count(): res=rdfgraph.query(q)\n",
      "OTNeighborhood_TDA.get_relatedWords_count(): res=rdfgraph.query(q)\n",
      "OTNeighborhood_TDA.get_relatedWords_count(): res=rdfgraph.query(q)\n",
      "OTNeighborhood_TDA.get_relatedWords_count(): res=rdfgraph.query(q)\n",
      "OTNeighborhood_TDA.get_relatedWords_count(): res=rdfgraph.query(q)\n",
      "OTNeighborhood_TDA.get_relatedWords_count(): res=rdfgraph.query(q)\n",
      "OTNeighborhood_TDA.get_relatedWords_count(): res=rdfgraph.query(q)\n",
      "OTNeighborhood_TDA.get_relatedWords_count(): res=rdfgraph.query(q)\n",
      "OTNeighborhood_TDA.get_relatedWords_count(): res=rdfgraph.query(q)\n"
     ]
    },
    {
     "name": "stderr",
     "output_type": "stream",
     "text": [
      "155it [00:01, 87.52it/s]"
     ]
    },
    {
     "name": "stdout",
     "output_type": "stream",
     "text": [
      "OTNeighborhood_TDA.get_relatedWords_count(): res=rdfgraph.query(q)\n",
      "OTNeighborhood_TDA.get_relatedWords_count(): res=rdfgraph.query(q)\n",
      "OTNeighborhood_TDA.get_relatedWords_count(): res=rdfgraph.query(q)\n",
      "OTNeighborhood_TDA.get_relatedWords_count(): res=rdfgraph.query(q)\n",
      "OTNeighborhood_TDA.get_relatedWords_count(): res=rdfgraph.query(q)\n",
      "OTNeighborhood_TDA.get_relatedWords_count(): res=rdfgraph.query(q)\n",
      "OTNeighborhood_TDA.get_relatedWords_count(): res=rdfgraph.query(q)\n",
      "OTNeighborhood_TDA.get_relatedWords_count(): res=rdfgraph.query(q)\n",
      "OTNeighborhood_TDA.get_relatedWords_count(): res=rdfgraph.query(q)\n",
      "OTNeighborhood_TDA.get_relatedWords_count(): res=rdfgraph.query(q)\n",
      "OTNeighborhood_TDA.get_relatedWords_count(): res=rdfgraph.query(q)\n",
      "OTNeighborhood_TDA.get_relatedWords_count(): res=rdfgraph.query(q)\n",
      "OTNeighborhood_TDA.get_relatedWords_count(): res=rdfgraph.query(q)\n",
      "OTNeighborhood_TDA.get_relatedWords_count(): res=rdfgraph.query(q)\n",
      "OTNeighborhood_TDA.get_relatedWords_count(): res=rdfgraph.query(q)\n",
      "OTNeighborhood_TDA.get_relatedWords_count(): res=rdfgraph.query(q)\n",
      "OTNeighborhood_TDA.get_relatedWords_count(): res=rdfgraph.query(q)\n",
      "OTNeighborhood_TDA.get_relatedWords_count(): res=rdfgraph.query(q)\n",
      "OTNeighborhood_TDA.get_relatedWords_count(): res=rdfgraph.query(q)\n"
     ]
    },
    {
     "name": "stderr",
     "output_type": "stream",
     "text": [
      "173it [00:02, 84.76it/s]"
     ]
    },
    {
     "name": "stdout",
     "output_type": "stream",
     "text": [
      "OTNeighborhood_TDA.get_relatedWords_count(): res=rdfgraph.query(q)\n",
      "OTNeighborhood_TDA.get_relatedWords_count(): res=rdfgraph.query(q)\n",
      "OTNeighborhood_TDA.get_relatedWords_count(): res=rdfgraph.query(q)\n",
      "OTNeighborhood_TDA.get_relatedWords_count(): res=rdfgraph.query(q)\n",
      "OTNeighborhood_TDA.get_relatedWords_count(): res=rdfgraph.query(q)\n",
      "OTNeighborhood_TDA.get_relatedWords_count(): res=rdfgraph.query(q)\n",
      "OTNeighborhood_TDA.get_relatedWords_count(): res=rdfgraph.query(q)\n",
      "OTNeighborhood_TDA.get_relatedWords_count(): res=rdfgraph.query(q)\n",
      "OTNeighborhood_TDA.get_relatedWords_count(): res=rdfgraph.query(q)\n",
      "OTNeighborhood_TDA.get_relatedWords_count(): res=rdfgraph.query(q)\n",
      "OTNeighborhood_TDA.get_relatedWords_count(): res=rdfgraph.query(q)\n",
      "OTNeighborhood_TDA.get_relatedWords_count(): res=rdfgraph.query(q)\n",
      "OTNeighborhood_TDA.get_relatedWords_count(): res=rdfgraph.query(q)\n",
      "OTNeighborhood_TDA.get_relatedWords_count(): res=rdfgraph.query(q)\n",
      "OTNeighborhood_TDA.get_relatedWords_count(): res=rdfgraph.query(q)\n",
      "OTNeighborhood_TDA.get_relatedWords_count(): res=rdfgraph.query(q)\n",
      "OTNeighborhood_TDA.get_relatedWords_count(): res=rdfgraph.query(q)\n"
     ]
    },
    {
     "name": "stderr",
     "output_type": "stream",
     "text": [
      "191it [00:02, 83.64it/s]"
     ]
    },
    {
     "name": "stdout",
     "output_type": "stream",
     "text": [
      "OTNeighborhood_TDA.get_relatedWords_count(): res=rdfgraph.query(q)\n",
      "OTNeighborhood_TDA.get_relatedWords_count(): res=rdfgraph.query(q)\n",
      "OTNeighborhood_TDA.get_relatedWords_count(): res=rdfgraph.query(q)\n",
      "OTNeighborhood_TDA.get_relatedWords_count(): res=rdfgraph.query(q)\n",
      "OTNeighborhood_TDA.get_relatedWords_count(): res=rdfgraph.query(q)\n",
      "OTNeighborhood_TDA.get_relatedWords_count(): res=rdfgraph.query(q)\n",
      "OTNeighborhood_TDA.get_relatedWords_count(): res=rdfgraph.query(q)\n",
      "OTNeighborhood_TDA.get_relatedWords_count(): res=rdfgraph.query(q)\n",
      "OTNeighborhood_TDA.get_relatedWords_count(): res=rdfgraph.query(q)\n",
      "OTNeighborhood_TDA.get_relatedWords_count(): res=rdfgraph.query(q)\n",
      "OTNeighborhood_TDA.get_relatedWords_count(): res=rdfgraph.query(q)\n",
      "OTNeighborhood_TDA.get_relatedWords_count(): res=rdfgraph.query(q)\n",
      "OTNeighborhood_TDA.get_relatedWords_count(): res=rdfgraph.query(q)\n",
      "OTNeighborhood_TDA.get_relatedWords_count(): res=rdfgraph.query(q)\n",
      "OTNeighborhood_TDA.get_relatedWords_count(): res=rdfgraph.query(q)\n",
      "OTNeighborhood_TDA.get_relatedWords_count(): res=rdfgraph.query(q)\n",
      "OTNeighborhood_TDA.get_relatedWords_count(): res=rdfgraph.query(q)\n"
     ]
    },
    {
     "name": "stderr",
     "output_type": "stream",
     "text": [
      "210it [00:02, 86.32it/s]"
     ]
    },
    {
     "name": "stdout",
     "output_type": "stream",
     "text": [
      "OTNeighborhood_TDA.get_relatedWords_count(): res=rdfgraph.query(q)\n",
      "OTNeighborhood_TDA.get_relatedWords_count(): res=rdfgraph.query(q)\n",
      "OTNeighborhood_TDA.get_relatedWords_count(): res=rdfgraph.query(q)\n",
      "OTNeighborhood_TDA.get_relatedWords_count(): res=rdfgraph.query(q)\n",
      "OTNeighborhood_TDA.get_relatedWords_count(): res=rdfgraph.query(q)\n",
      "OTNeighborhood_TDA.get_relatedWords_count(): res=rdfgraph.query(q)\n",
      "OTNeighborhood_TDA.get_relatedWords_count(): res=rdfgraph.query(q)\n",
      "OTNeighborhood_TDA.get_relatedWords_count(): res=rdfgraph.query(q)\n",
      "OTNeighborhood_TDA.get_relatedWords_count(): res=rdfgraph.query(q)\n",
      "OTNeighborhood_TDA.get_relatedWords_count(): res=rdfgraph.query(q)\n",
      "OTNeighborhood_TDA.get_relatedWords_count(): res=rdfgraph.query(q)\n",
      "OTNeighborhood_TDA.get_relatedWords_count(): res=rdfgraph.query(q)\n",
      "OTNeighborhood_TDA.get_relatedWords_count(): res=rdfgraph.query(q)\n",
      "OTNeighborhood_TDA.get_relatedWords_count(): res=rdfgraph.query(q)\n",
      "OTNeighborhood_TDA.get_relatedWords_count(): res=rdfgraph.query(q)\n",
      "OTNeighborhood_TDA.get_relatedWords_count(): res=rdfgraph.query(q)\n",
      "OTNeighborhood_TDA.get_relatedWords_count(): res=rdfgraph.query(q)\n",
      "OTNeighborhood_TDA.get_relatedWords_count(): res=rdfgraph.query(q)\n",
      "OTNeighborhood_TDA.get_relatedWords_count(): res=rdfgraph.query(q)\n",
      "OTNeighborhood_TDA.get_relatedWords_count(): res=rdfgraph.query(q)\n",
      "OTNeighborhood_TDA.get_relatedWords_count(): res=rdfgraph.query(q)\n"
     ]
    },
    {
     "name": "stderr",
     "output_type": "stream",
     "text": [
      "229it [00:02, 83.06it/s]"
     ]
    },
    {
     "name": "stdout",
     "output_type": "stream",
     "text": [
      "OTNeighborhood_TDA.get_relatedWords_count(): res=rdfgraph.query(q)\n",
      "OTNeighborhood_TDA.get_relatedWords_count(): res=rdfgraph.query(q)\n",
      "OTNeighborhood_TDA.get_relatedWords_count(): res=rdfgraph.query(q)\n",
      "OTNeighborhood_TDA.get_relatedWords_count(): res=rdfgraph.query(q)\n",
      "OTNeighborhood_TDA.get_relatedWords_count(): res=rdfgraph.query(q)\n",
      "OTNeighborhood_TDA.get_relatedWords_count(): res=rdfgraph.query(q)\n",
      "OTNeighborhood_TDA.get_relatedWords_count(): res=rdfgraph.query(q)\n",
      "OTNeighborhood_TDA.get_relatedWords_count(): res=rdfgraph.query(q)\n",
      "OTNeighborhood_TDA.get_relatedWords_count(): res=rdfgraph.query(q)\n",
      "OTNeighborhood_TDA.get_relatedWords_count(): res=rdfgraph.query(q)\n",
      "OTNeighborhood_TDA.get_relatedWords_count(): res=rdfgraph.query(q)\n",
      "OTNeighborhood_TDA.get_relatedWords_count(): res=rdfgraph.query(q)\n",
      "OTNeighborhood_TDA.get_relatedWords_count(): res=rdfgraph.query(q)\n",
      "OTNeighborhood_TDA.get_relatedWords_count(): res=rdfgraph.query(q)\n",
      "OTNeighborhood_TDA.get_relatedWords_count(): res=rdfgraph.query(q)\n",
      "OTNeighborhood_TDA.get_relatedWords_count(): res=rdfgraph.query(q)\n",
      "OTNeighborhood_TDA.get_relatedWords_count(): res=rdfgraph.query(q)\n"
     ]
    },
    {
     "name": "stderr",
     "output_type": "stream",
     "text": [
      "255it [00:03, 84.49it/s]\n",
      "INFO:root:Total number of source concepts computed with relatd words is 254\n",
      "INFO:root:Compute the related words for each target concept....\n"
     ]
    },
    {
     "name": "stdout",
     "output_type": "stream",
     "text": [
      "OTNeighborhood_TDA.get_relatedWords_count(): res=rdfgraph.query(q)\n",
      "OTNeighborhood_TDA.get_relatedWords_count(): res=rdfgraph.query(q)\n",
      "OTNeighborhood_TDA.get_relatedWords_count(): res=rdfgraph.query(q)\n",
      "OTNeighborhood_TDA.get_relatedWords_count(): res=rdfgraph.query(q)\n",
      "OTNeighborhood_TDA.get_relatedWords_count(): res=rdfgraph.query(q)\n",
      "OTNeighborhood_TDA.get_relatedWords_count(): res=rdfgraph.query(q)\n",
      "OTNeighborhood_TDA.get_relatedWords_count(): res=rdfgraph.query(q)\n",
      "OTNeighborhood_TDA.get_relatedWords_count(): res=rdfgraph.query(q)\n",
      "OTNeighborhood_TDA.get_relatedWords_count(): res=rdfgraph.query(q)\n",
      "OTNeighborhood_TDA.get_relatedWords_count(): res=rdfgraph.query(q)\n",
      "OTNeighborhood_TDA.get_relatedWords_count(): res=rdfgraph.query(q)\n",
      "OTNeighborhood_TDA.get_relatedWords_count(): res=rdfgraph.query(q)\n",
      "OTNeighborhood_TDA.get_relatedWords_count(): res=rdfgraph.query(q)\n",
      "OTNeighborhood_TDA.get_relatedWords_count(): res=rdfgraph.query(q)\n",
      "OTNeighborhood_TDA.get_relatedWords_count(): res=rdfgraph.query(q)\n",
      "OTNeighborhood_TDA.get_relatedWords_count(): res=rdfgraph.query(q)\n",
      "OTNeighborhood_TDA.get_relatedWords_count(): res=rdfgraph.query(q)\n",
      "OTNeighborhood_TDA.get_relatedWords_count(): res=rdfgraph.query(q)\n",
      "OTNeighborhood_TDA.get_relatedWords_count(): res=rdfgraph.query(q)\n",
      "OTNeighborhood_TDA.get_relatedWords_count(): res=rdfgraph.query(q)\n"
     ]
    },
    {
     "name": "stderr",
     "output_type": "stream",
     "text": [
      "9it [00:00, 77.27it/s]"
     ]
    },
    {
     "name": "stdout",
     "output_type": "stream",
     "text": [
      "OTNeighborhood_TDA.get_relatedWords_count(): res=rdfgraph.query(q)\n",
      "OTNeighborhood_TDA.get_relatedWords_count(): res=rdfgraph.query(q)\n",
      "OTNeighborhood_TDA.get_relatedWords_count(): res=rdfgraph.query(q)\n",
      "OTNeighborhood_TDA.get_relatedWords_count(): res=rdfgraph.query(q)\n",
      "OTNeighborhood_TDA.get_relatedWords_count(): res=rdfgraph.query(q)\n",
      "OTNeighborhood_TDA.get_relatedWords_count(): res=rdfgraph.query(q)\n",
      "OTNeighborhood_TDA.get_relatedWords_count(): res=rdfgraph.query(q)\n",
      "OTNeighborhood_TDA.get_relatedWords_count(): res=rdfgraph.query(q)\n",
      "OTNeighborhood_TDA.get_relatedWords_count(): res=rdfgraph.query(q)\n",
      "OTNeighborhood_TDA.get_relatedWords_count(): res=rdfgraph.query(q)\n",
      "OTNeighborhood_TDA.get_relatedWords_count(): res=rdfgraph.query(q)\n",
      "OTNeighborhood_TDA.get_relatedWords_count(): res=rdfgraph.query(q)\n",
      "OTNeighborhood_TDA.get_relatedWords_count(): res=rdfgraph.query(q)\n",
      "OTNeighborhood_TDA.get_relatedWords_count(): res=rdfgraph.query(q)\n",
      "OTNeighborhood_TDA.get_relatedWords_count(): res=rdfgraph.query(q)\n",
      "OTNeighborhood_TDA.get_relatedWords_count(): res=rdfgraph.query(q)\n",
      "OTNeighborhood_TDA.get_relatedWords_count(): res=rdfgraph.query(q)\n",
      "OTNeighborhood_TDA.get_relatedWords_count(): res=rdfgraph.query(q)\n"
     ]
    },
    {
     "name": "stderr",
     "output_type": "stream",
     "text": [
      "28it [00:00, 85.36it/s]"
     ]
    },
    {
     "name": "stdout",
     "output_type": "stream",
     "text": [
      "OTNeighborhood_TDA.get_relatedWords_count(): res=rdfgraph.query(q)\n",
      "OTNeighborhood_TDA.get_relatedWords_count(): res=rdfgraph.query(q)\n",
      "OTNeighborhood_TDA.get_relatedWords_count(): res=rdfgraph.query(q)\n",
      "OTNeighborhood_TDA.get_relatedWords_count(): res=rdfgraph.query(q)\n",
      "OTNeighborhood_TDA.get_relatedWords_count(): res=rdfgraph.query(q)\n",
      "OTNeighborhood_TDA.get_relatedWords_count(): res=rdfgraph.query(q)\n",
      "OTNeighborhood_TDA.get_relatedWords_count(): res=rdfgraph.query(q)\n",
      "OTNeighborhood_TDA.get_relatedWords_count(): res=rdfgraph.query(q)\n",
      "OTNeighborhood_TDA.get_relatedWords_count(): res=rdfgraph.query(q)\n",
      "OTNeighborhood_TDA.get_relatedWords_count(): res=rdfgraph.query(q)\n",
      "OTNeighborhood_TDA.get_relatedWords_count(): res=rdfgraph.query(q)\n",
      "OTNeighborhood_TDA.get_relatedWords_count(): res=rdfgraph.query(q)\n",
      "OTNeighborhood_TDA.get_relatedWords_count(): res=rdfgraph.query(q)\n",
      "OTNeighborhood_TDA.get_relatedWords_count(): res=rdfgraph.query(q)\n",
      "OTNeighborhood_TDA.get_relatedWords_count(): res=rdfgraph.query(q)\n",
      "OTNeighborhood_TDA.get_relatedWords_count(): res=rdfgraph.query(q)\n",
      "OTNeighborhood_TDA.get_relatedWords_count(): res=rdfgraph.query(q)\n",
      "OTNeighborhood_TDA.get_relatedWords_count(): res=rdfgraph.query(q)\n"
     ]
    },
    {
     "name": "stderr",
     "output_type": "stream",
     "text": [
      "51it [00:00, 86.42it/s]\n",
      "INFO:root:Total number of target concepts computed with related words is 51\n"
     ]
    },
    {
     "name": "stdout",
     "output_type": "stream",
     "text": [
      "OTNeighborhood_TDA.get_relatedWords_count(): res=rdfgraph.query(q)\n",
      "OTNeighborhood_TDA.get_relatedWords_count(): res=rdfgraph.query(q)\n",
      "OTNeighborhood_TDA.get_relatedWords_count(): res=rdfgraph.query(q)\n",
      "OTNeighborhood_TDA.get_relatedWords_count(): res=rdfgraph.query(q)\n",
      "OTNeighborhood_TDA.get_relatedWords_count(): res=rdfgraph.query(q)\n",
      "OTNeighborhood_TDA.get_relatedWords_count(): res=rdfgraph.query(q)\n",
      "OTNeighborhood_TDA.get_relatedWords_count(): res=rdfgraph.query(q)\n",
      "OTNeighborhood_TDA.get_relatedWords_count(): res=rdfgraph.query(q)\n",
      "OTNeighborhood_TDA.get_relatedWords_count(): res=rdfgraph.query(q)\n",
      "OTNeighborhood_TDA.get_relatedWords_count(): res=rdfgraph.query(q)\n",
      "OTNeighborhood_TDA.get_relatedWords_count(): res=rdfgraph.query(q)\n",
      "OTNeighborhood_TDA.get_relatedWords_count(): res=rdfgraph.query(q)\n",
      "OTNeighborhood_TDA.get_relatedWords_count(): res=rdfgraph.query(q)\n",
      "OTNeighborhood_TDA.get_relatedWords_count(): res=rdfgraph.query(q)\n",
      "OTNeighborhood_TDA.get_relatedWords_count(): res=rdfgraph.query(q)\n"
     ]
    },
    {
     "name": "stderr",
     "output_type": "stream",
     "text": [
      "100%|██████████| 255/255 [00:00<00:00, 8959.94it/s]\n",
      "INFO:root:The number of level_3 predicted mapping is 13\n",
      "INFO:root:Compute Pairwise Wasserstein Distances...\n",
      " 17%|█▋        | 40/242 [00:01<00:07, 25.56it/s]/Users/yan/anaconda3/lib/python3.7/site-packages/ot/lp/__init__.py:421: UserWarning: Problem infeasible. Check that a and b are in the simplex\n",
      "  check_result(result_code)\n",
      "100%|██████████| 242/242 [00:07<00:00, 34.19it/s]\n",
      "INFO:root:The number of level_4 predicted mapping is 3\n",
      "INFO:root:Skip level_5 mapping.\n",
      "INFO:root:Matching Label Embeddings by Optimal Transport...\n",
      "INFO:root:Computing the Ground Embedding Costs between the Source and Target Points...\n",
      "INFO:root:The shape of the cost matrix is (239, 35)\n",
      "INFO:root:Computing Optimal Transport Plan...\n",
      "INFO:root:Computing Wasserstein distance by the Sinkhorn algorithm...\n",
      "INFO:root:The Sinkhorn got warnings. Computing Wasserstein distance by the EMD algorithm...\n",
      "INFO:root:Making Mappings from a Pairwise OT Plan Matrix by Mutual NN...\n",
      "INFO:root:The number of level_6 predicted mapping is 35\n",
      "INFO:root:TOTAL NUMBER OF MAPPINGS BETWEEN CONCPETS IS 67\n",
      "INFO:root:=================================================\n",
      "INFO:root:MAP OBJECT PROPERTIES\n",
      "INFO:root:========================================================\n",
      "INFO:root:MAP DATATYPE PROPERTIES\n",
      "INFO:root:===========================================================\n"
     ]
    },
    {
     "name": "stdout",
     "output_type": "stream",
     "text": [
      "Warning: numerical errors at iteration 0\n"
     ]
    }
   ],
   "source": [
    "mapper.align(source_url, target_url, output_url)"
   ]
  },
  {
   "cell_type": "code",
   "execution_count": 6,
   "id": "8ab6804b-39c5-4c00-a71e-168b95e2a0cc",
   "metadata": {},
   "outputs": [
    {
     "name": "stdout",
     "output_type": "stream",
     "text": [
      "Total number of None is 67\n",
      "Total number of references is 1121\n",
      "Total correctly predicted alignments is 6\n",
      "Total number of predicted is 67\n",
      "Precision is 0.08955223880597014\n",
      "Recall is 0.0053523639607493305\n",
      "F1-Measure is 0.010101010101010102\n"
     ]
    }
   ],
   "source": [
    "preds = maponto.load_alignments(output_url, None)\n",
    "maponto.evaluate(preds, refs_url)"
   ]
  },
  {
   "cell_type": "markdown",
   "id": "c3f6beba-953e-4914-9226-35d36d509900",
   "metadata": {},
   "source": [
    "# Biodiv"
   ]
  },
  {
   "cell_type": "code",
   "execution_count": 26,
   "id": "3921eb2e-92e9-4a7d-9614-c83a24c80109",
   "metadata": {},
   "outputs": [],
   "source": [
    "source_url = \"../data/biodiv/2018/envo-sweet/source.rdf\"\n",
    "target_url = \"../data/biodiv/2018/envo-sweet/target.rdf\"\n",
    "output_url = '../data/results/biodiv_2018_envo_sweet_alignment.rdf'\n",
    "refs_url = \"../data/biodiv/2018/envo-sweet/reference.rdf\""
   ]
  },
  {
   "cell_type": "code",
   "execution_count": 27,
   "id": "addd5b3f-151e-45f0-9669-3f43556522ab",
   "metadata": {},
   "outputs": [
    {
     "name": "stderr",
     "output_type": "stream",
     "text": [
      "INFO:root:Python ensemble mapper info: map ../data/biodiv/2018/envo-sweet/source.rdf to ../data/biodiv/2018/envo-sweet/target.rdf\n",
      "INFO:root:Read source with 83591 triples.\n",
      "INFO:root:Read target with 27799 triples.\n",
      "INFO:root:MAP CONCEPTS\n",
      "INFO:root:The number of level_1 predicted mapping is 469.\n",
      "INFO:root:Retrieving Synsets by WordNet...\n",
      "INFO:root:The number of level_2 predicted mapping is 434\n",
      "INFO:root:Skip the level_3 mapping.\n",
      "INFO:root:Skip the level_4 mapping.\n",
      "INFO:root:Skip the level_5 mapping.\n",
      "INFO:root:Matching Label Embeddings by Optimal Transport...\n",
      "INFO:root:Computing the Ground Embedding Costs between the Source and Target Points...\n",
      "INFO:root:The shape of the cost matrix is (6349, 3808)\n",
      "INFO:root:Computing Optimal Transport Plan...\n",
      "INFO:root:Computing Wasserstein distance by the Sinkhorn algorithm...\n",
      "INFO:root:The Sinkhorn got warnings. Computing Wasserstein distance by the EMD algorithm...\n"
     ]
    },
    {
     "name": "stdout",
     "output_type": "stream",
     "text": [
      "Warning: numerical errors at iteration 204\n"
     ]
    },
    {
     "name": "stderr",
     "output_type": "stream",
     "text": [
      "INFO:root:Making Mappings from a Pairwise OT Plan Matrix by Mutual NN...\n",
      "INFO:root:The number of level_6 predicted mapping is 3517\n",
      "INFO:root:TOTAL NUMBER OF MAPPINGS BETWEEN CONCPETS IS 4420\n",
      "INFO:root:=================================================\n",
      "INFO:root:MAP OBJECT PROPERTIES\n",
      "INFO:root:The number of level_1 predicted mapping is 1.\n",
      "INFO:root:Retrieving Synsets by WordNet...\n",
      "INFO:root:Compute the related words for each source concept....\n",
      "130it [00:00, 147.78it/s]\n",
      "INFO:root:Total number of source concepts computed with relatd words is 130\n",
      "INFO:root:Compute the related words for each target concept....\n",
      "318it [00:02, 148.14it/s]\n",
      "INFO:root:Total number of target concepts computed with related words is 318\n",
      "100%|██████████| 130/130 [00:00<00:00, 2173.24it/s]\n",
      "INFO:root:The number of level_3 predicted mapping is 1\n",
      "INFO:root:Skip the level_4 mapping.\n",
      "INFO:root:Skip the level_5 mapping.\n",
      "INFO:root:Skip the level_6 mappping.\n",
      "INFO:root:TOTAL NUMBER OF MAPPINGS BETWEEN OBJECT PROPERTIES IS 2\n",
      "INFO:root:========================================================\n",
      "INFO:root:MAP DATATYPE PROPERTIES\n",
      "INFO:root:Retrieving Synsets by WordNet...\n",
      "INFO:root:Compute the related words for each source concept....\n",
      "0it [00:00, ?it/s]\n",
      "INFO:root:Total number of source concepts computed with relatd words is 0\n",
      "INFO:root:Compute the related words for each target concept....\n",
      "32it [00:00, 150.12it/s]\n",
      "INFO:root:Total number of target concepts computed with related words is 32\n",
      "INFO:root:Skip the level_4 mapping.\n",
      "INFO:root:Skip the level_5 mapping.\n",
      "INFO:root:Skip the level_6 mappping.\n",
      "INFO:root:TOTAL NUMBER OF MAPPINGS BETWEEN DATATYPE PROPERTIES IS 0\n",
      "INFO:root:===========================================================\n"
     ]
    }
   ],
   "source": [
    "mapper.align(source_url, target_url, output_url)"
   ]
  },
  {
   "cell_type": "code",
   "execution_count": 28,
   "id": "9d246c02-ffd3-4309-85bf-42c89047a404",
   "metadata": {},
   "outputs": [
    {
     "name": "stdout",
     "output_type": "stream",
     "text": [
      "Total number of None is 4422\n",
      "Total number of references is 666\n",
      "Total correctly predicted alignments is 511\n",
      "Total number of predicted is 4422\n",
      "Precision is 0.11555857078245138\n",
      "Recall is 0.7672672672672672\n",
      "F1-Measure is 0.20086477987421386\n"
     ]
    }
   ],
   "source": [
    "preds = maponto.load_alignments(output_url, None)\n",
    "maponto.evaluate(preds, refs_url)"
   ]
  },
  {
   "cell_type": "code",
   "execution_count": 372,
   "id": "87dc0c5b-77d9-4741-bae9-4fda6c3ca313",
   "metadata": {},
   "outputs": [],
   "source": [
    "source_url = \"../data/biodiv/2018/flopo-pto/source.rdf\"\n",
    "target_url = \"../data/biodiv/2018/flopo-pto/target.rdf\"\n",
    "output_url = '../data/results/biodiv_2018_flopo_pto_alignment.rdf'\n",
    "refs_url = \"../data/biodiv/2018/flopo-pto/reference.rdf\""
   ]
  },
  {
   "cell_type": "code",
   "execution_count": 374,
   "id": "c3996a1c-f3e1-45aa-bff3-bbf6e89fd957",
   "metadata": {},
   "outputs": [
    {
     "name": "stderr",
     "output_type": "stream",
     "text": [
      "INFO:root:Python ensemble mapper info: map ../data/biodiv/2018/flopo-pto/source.rdf to ../data/biodiv/2018/flopo-pto/target.rdf\n",
      "INFO:root:Read source with 351761 triples.\n",
      "INFO:root:Read target with 24638 triples.\n",
      "INFO:root:MAP CONCEPTS\n",
      "INFO:root:The number of level_1 predicted mapping is 140.\n",
      "INFO:root:Retrieving Synsets by WordNet...\n",
      "INFO:root:Skip the level_3 mapping.\n",
      "INFO:root:Skip the level_4 mapping.\n",
      "INFO:root:Skip the level_5 mapping.\n",
      "INFO:root:Matching Label Embeddings by Optimal Transport...\n",
      "INFO:root:Computing the Ground Embedding Costs between the Source and Target Points...\n",
      "INFO:root:The shape of the cost matrix is (24059, 1340)\n",
      "INFO:root:Computing Optimal Transport Plan...\n",
      "INFO:root:Computing Wasserstein distance by the Sinkhorn algorithm...\n",
      "INFO:root:Making Mappings from a Pairwise OT Plan Matrix by Mutual NN...\n",
      "INFO:root:The number of level_6 predicted mapping is 1320\n",
      "INFO:root:TOTAL NUMBER OF MAPPINGS BETWEEN CONCPETS IS 1460\n",
      "INFO:root:=================================================\n",
      "INFO:root:MAP OBJECT PROPERTIES\n",
      "INFO:root:The number of level_1 predicted mapping is 1.\n",
      "INFO:root:Retrieving Synsets by WordNet...\n",
      "INFO:root:Compute the related words for each source concept....\n",
      "2it [00:00, 73.06it/s]\n",
      "INFO:root:Total number of source concepts computed with relatd words is 2\n",
      "INFO:root:Compute the related words for each target concept....\n",
      "0it [00:00, ?it/s]\n",
      "INFO:root:Total number of target concepts computed with related words is 0\n",
      "INFO:root:Skip the level_4 mapping.\n",
      "INFO:root:Skip the level_5 mapping.\n",
      "INFO:root:Skip the level_6 mappping.\n",
      "INFO:root:TOTAL NUMBER OF MAPPINGS BETWEEN OBJECT PROPERTIES IS 1\n",
      "INFO:root:========================================================\n",
      "INFO:root:MAP DATATYPE PROPERTIES\n",
      "INFO:root:===========================================================\n"
     ]
    }
   ],
   "source": [
    "mapper.align(source_url, target_url, output_url)"
   ]
  },
  {
   "cell_type": "code",
   "execution_count": 375,
   "id": "3956513a-ec04-4098-bd3b-da13f65f9a1c",
   "metadata": {},
   "outputs": [
    {
     "name": "stdout",
     "output_type": "stream",
     "text": [
      "Total number of None is 1461\n",
      "Total number of references is 245\n",
      "Total correctly predicted alignments is 167\n",
      "Total number of predicted is 1461\n",
      "Precision is 0.11430527036276524\n",
      "Recall is 0.6816326530612244\n",
      "F1-Measure is 0.19577960140679954\n"
     ]
    }
   ],
   "source": [
    "preds = maponto.load_alignments(output_url, None)\n",
    "maponto.evaluate(preds, refs_url)"
   ]
  },
  {
   "cell_type": "markdown",
   "id": "88340102-bb7f-44aa-a64b-da8f8ac2e449",
   "metadata": {},
   "source": [
    "# largebio"
   ]
  },
  {
   "cell_type": "code",
   "execution_count": 376,
   "id": "34abc89f-b586-48ce-9e61-906b149f6ba5",
   "metadata": {},
   "outputs": [],
   "source": [
    "source_url = \"../data/largebio/largebio-all_tasks_2016/small-fma-nci/source.rdf\"\n",
    "target_url = \"../data/largebio/largebio-all_tasks_2016/small-fma-nci/target.rdf\"\n",
    "output_url = '../data/results/largebio_small_fma_nci_alignment.rdf'\n",
    "refs_url = \"../data/largebio/largebio-all_tasks_2016/small-fma-nci/reference.rdf\""
   ]
  },
  {
   "cell_type": "code",
   "execution_count": 378,
   "id": "eae96459-b166-4d28-afd4-de57d58d69d7",
   "metadata": {},
   "outputs": [],
   "source": [
    "source_graph = Graph().parse(source_url)\n",
    "target_graph = Graph().parse(target_url)"
   ]
  },
  {
   "cell_type": "code",
   "execution_count": 379,
   "id": "212598db-968e-4a0f-a767-ddd47eea8002",
   "metadata": {},
   "outputs": [
    {
     "data": {
      "text/plain": [
       "((9142, 3), (17046, 3))"
      ]
     },
     "execution_count": 379,
     "metadata": {},
     "output_type": "execute_result"
    }
   ],
   "source": [
    "slabel_clnd_uris = maponto.clean_labels(maponto.extract_label_uris(source_graph))\n",
    "tlabel_clnd_uris = maponto.clean_labels(maponto.extract_label_uris(target_graph))\n",
    "slabel_clnd_uris.shape, tlabel_clnd_uris.shape"
   ]
  },
  {
   "cell_type": "code",
   "execution_count": 404,
   "id": "70b43414-2034-473c-9dc9-dd4104c58c58",
   "metadata": {},
   "outputs": [],
   "source": [
    "tlabel_clnd_uris = tlabel_clnd_uris[tlabel_clnd_uris.clndLabel != '']"
   ]
  },
  {
   "cell_type": "code",
   "execution_count": 405,
   "id": "ee052a44-5590-421c-af85-0e5de872bf92",
   "metadata": {},
   "outputs": [],
   "source": [
    "sembs = []\n",
    "tembs = []\n",
    "for slabel in slabel_clnd_uris.clndLabel:\n",
    "    sembs.append(maponto.average_embeddings(slabel, 300, embs_model))\n",
    "for tlabel in tlabel_clnd_uris.clndLabel:\n",
    "    tembs.append(maponto.average_embeddings(tlabel, 300, embs_model))"
   ]
  },
  {
   "cell_type": "code",
   "execution_count": 406,
   "id": "2def5acc-6b41-447c-8407-719857f4cda3",
   "metadata": {},
   "outputs": [
    {
     "data": {
      "text/plain": [
       "(9142, 17044)"
      ]
     },
     "execution_count": 406,
     "metadata": {},
     "output_type": "execute_result"
    }
   ],
   "source": [
    "len(sembs), len(tembs)"
   ]
  },
  {
   "cell_type": "code",
   "execution_count": 407,
   "id": "e95e6018-7f25-4254-80d9-35fcecb9fd0a",
   "metadata": {},
   "outputs": [],
   "source": [
    "for i, emb in enumerate(tembs):\n",
    "    try:\n",
    "        if len(emb) != 300:\n",
    "            print(emb)\n",
    "    except:\n",
    "        print(i, emb)"
   ]
  },
  {
   "cell_type": "code",
   "execution_count": 409,
   "id": "7cfd9a91-9f83-4012-95b4-bcf989dea0a3",
   "metadata": {},
   "outputs": [
    {
     "name": "stderr",
     "output_type": "stream",
     "text": [
      "INFO:root:Matching Label Embeddings by Optimal Transport...\n",
      "INFO:root:Computing the Ground Embedding Costs between the Source and Target Points...\n",
      "INFO:root:The shape of the cost matrix is (9142, 17044)\n",
      "INFO:root:Computing Optimal Transport Plan...\n",
      "INFO:root:Computing Wasserstein distance by the Sinkhorn algorithm...\n"
     ]
    },
    {
     "name": "stdout",
     "output_type": "stream",
     "text": [
      "Warning: numerical errors at iteration 361\n"
     ]
    },
    {
     "name": "stderr",
     "output_type": "stream",
     "text": [
      "INFO:root:The Sinkhorn got warnings. Computing Wasserstein distance by the EMD algorithm...\n",
      "INFO:root:Making Mappings from a Pairwise OT Plan Matrix by Mutual NN...\n"
     ]
    },
    {
     "data": {
      "text/html": [
       "<div>\n",
       "<style scoped>\n",
       "    .dataframe tbody tr th:only-of-type {\n",
       "        vertical-align: middle;\n",
       "    }\n",
       "\n",
       "    .dataframe tbody tr th {\n",
       "        vertical-align: top;\n",
       "    }\n",
       "\n",
       "    .dataframe thead th {\n",
       "        text-align: right;\n",
       "    }\n",
       "</style>\n",
       "<table border=\"1\" class=\"dataframe\">\n",
       "  <thead>\n",
       "    <tr style=\"text-align: right;\">\n",
       "      <th></th>\n",
       "      <th>source</th>\n",
       "      <th>source_label</th>\n",
       "      <th>target</th>\n",
       "      <th>target_label</th>\n",
       "    </tr>\n",
       "  </thead>\n",
       "  <tbody>\n",
       "    <tr>\n",
       "      <th>0</th>\n",
       "      <td>http://bioontology.org/projects/ontologies/fma...</td>\n",
       "      <td>APUD cell</td>\n",
       "      <td>http://ncicb.nci.nih.gov/xml/owl/EVS/Thesaurus...</td>\n",
       "      <td>APUD Cell</td>\n",
       "    </tr>\n",
       "    <tr>\n",
       "      <th>1</th>\n",
       "      <td>http://bioontology.org/projects/ontologies/fma...</td>\n",
       "      <td>Abdominopelvic region</td>\n",
       "      <td>http://ncicb.nci.nih.gov/xml/owl/EVS/Thesaurus...</td>\n",
       "      <td>Rectosigmoid Region</td>\n",
       "    </tr>\n",
       "    <tr>\n",
       "      <th>2</th>\n",
       "      <td>http://bioontology.org/projects/ontologies/fma...</td>\n",
       "      <td>Abdomen</td>\n",
       "      <td>http://ncicb.nci.nih.gov/xml/owl/EVS/Thesaurus...</td>\n",
       "      <td>abdomen</td>\n",
       "    </tr>\n",
       "    <tr>\n",
       "      <th>3</th>\n",
       "      <td>http://bioontology.org/projects/ontologies/fma...</td>\n",
       "      <td>Abdominopelvis</td>\n",
       "      <td>http://ncicb.nci.nih.gov/xml/owl/EVS/Thesaurus...</td>\n",
       "      <td>Emperipolesis</td>\n",
       "    </tr>\n",
       "    <tr>\n",
       "      <th>4</th>\n",
       "      <td>http://bioontology.org/projects/ontologies/fma...</td>\n",
       "      <td>Pars abdominalis aortae</td>\n",
       "      <td>http://ncicb.nci.nih.gov/xml/owl/EVS/Thesaurus...</td>\n",
       "      <td>Brainstem Neuroglial Tumor</td>\n",
       "    </tr>\n",
       "    <tr>\n",
       "      <th>...</th>\n",
       "      <td>...</td>\n",
       "      <td>...</td>\n",
       "      <td>...</td>\n",
       "      <td>...</td>\n",
       "    </tr>\n",
       "    <tr>\n",
       "      <th>8343</th>\n",
       "      <td>http://bioontology.org/projects/ontologies/fma...</td>\n",
       "      <td>Zygomaticus major</td>\n",
       "      <td>http://ncicb.nci.nih.gov/xml/owl/EVS/Thesaurus...</td>\n",
       "      <td>Zygomaticus Major</td>\n",
       "    </tr>\n",
       "    <tr>\n",
       "      <th>8344</th>\n",
       "      <td>http://bioontology.org/projects/ontologies/fma...</td>\n",
       "      <td>Musculus zygomaticus major</td>\n",
       "      <td>http://ncicb.nci.nih.gov/xml/owl/EVS/Thesaurus...</td>\n",
       "      <td>Mesothelioma Malignant Recurrent</td>\n",
       "    </tr>\n",
       "    <tr>\n",
       "      <th>8345</th>\n",
       "      <td>http://bioontology.org/projects/ontologies/fma...</td>\n",
       "      <td>Zygomaticus minor</td>\n",
       "      <td>http://ncicb.nci.nih.gov/xml/owl/EVS/Thesaurus...</td>\n",
       "      <td>Zygomaticus Minor</td>\n",
       "    </tr>\n",
       "    <tr>\n",
       "      <th>8346</th>\n",
       "      <td>http://bioontology.org/projects/ontologies/fma...</td>\n",
       "      <td>Musculus zygomaticus minor</td>\n",
       "      <td>http://ncicb.nci.nih.gov/xml/owl/EVS/Thesaurus...</td>\n",
       "      <td>Malignant Cutaneous Melanoma</td>\n",
       "    </tr>\n",
       "    <tr>\n",
       "      <th>8347</th>\n",
       "      <td>http://bioontology.org/projects/ontologies/fma...</td>\n",
       "      <td>Zygote</td>\n",
       "      <td>http://ncicb.nci.nih.gov/xml/owl/EVS/Thesaurus...</td>\n",
       "      <td>Zygote</td>\n",
       "    </tr>\n",
       "  </tbody>\n",
       "</table>\n",
       "<p>8348 rows × 4 columns</p>\n",
       "</div>"
      ],
      "text/plain": [
       "                                                 source  \\\n",
       "0     http://bioontology.org/projects/ontologies/fma...   \n",
       "1     http://bioontology.org/projects/ontologies/fma...   \n",
       "2     http://bioontology.org/projects/ontologies/fma...   \n",
       "3     http://bioontology.org/projects/ontologies/fma...   \n",
       "4     http://bioontology.org/projects/ontologies/fma...   \n",
       "...                                                 ...   \n",
       "8343  http://bioontology.org/projects/ontologies/fma...   \n",
       "8344  http://bioontology.org/projects/ontologies/fma...   \n",
       "8345  http://bioontology.org/projects/ontologies/fma...   \n",
       "8346  http://bioontology.org/projects/ontologies/fma...   \n",
       "8347  http://bioontology.org/projects/ontologies/fma...   \n",
       "\n",
       "                    source_label  \\\n",
       "0                      APUD cell   \n",
       "1          Abdominopelvic region   \n",
       "2                        Abdomen   \n",
       "3                 Abdominopelvis   \n",
       "4        Pars abdominalis aortae   \n",
       "...                          ...   \n",
       "8343           Zygomaticus major   \n",
       "8344  Musculus zygomaticus major   \n",
       "8345           Zygomaticus minor   \n",
       "8346  Musculus zygomaticus minor   \n",
       "8347                      Zygote   \n",
       "\n",
       "                                                 target  \\\n",
       "0     http://ncicb.nci.nih.gov/xml/owl/EVS/Thesaurus...   \n",
       "1     http://ncicb.nci.nih.gov/xml/owl/EVS/Thesaurus...   \n",
       "2     http://ncicb.nci.nih.gov/xml/owl/EVS/Thesaurus...   \n",
       "3     http://ncicb.nci.nih.gov/xml/owl/EVS/Thesaurus...   \n",
       "4     http://ncicb.nci.nih.gov/xml/owl/EVS/Thesaurus...   \n",
       "...                                                 ...   \n",
       "8343  http://ncicb.nci.nih.gov/xml/owl/EVS/Thesaurus...   \n",
       "8344  http://ncicb.nci.nih.gov/xml/owl/EVS/Thesaurus...   \n",
       "8345  http://ncicb.nci.nih.gov/xml/owl/EVS/Thesaurus...   \n",
       "8346  http://ncicb.nci.nih.gov/xml/owl/EVS/Thesaurus...   \n",
       "8347  http://ncicb.nci.nih.gov/xml/owl/EVS/Thesaurus...   \n",
       "\n",
       "                          target_label  \n",
       "0                            APUD Cell  \n",
       "1                  Rectosigmoid Region  \n",
       "2                              abdomen  \n",
       "3                        Emperipolesis  \n",
       "4           Brainstem Neuroglial Tumor  \n",
       "...                                ...  \n",
       "8343                 Zygomaticus Major  \n",
       "8344  Mesothelioma Malignant Recurrent  \n",
       "8345                 Zygomaticus Minor  \n",
       "8346      Malignant Cutaneous Melanoma  \n",
       "8347                            Zygote  \n",
       "\n",
       "[8348 rows x 4 columns]"
      ]
     },
     "execution_count": 409,
     "metadata": {},
     "output_type": "execute_result"
    }
   ],
   "source": [
    "maponto.match_label_embeddings_OT(slabel_clnd_uris, tlabel_clnd_uris, embs_model, \\\n",
    "                        maponto.make_mappings_nn, None, None)"
   ]
  },
  {
   "cell_type": "code",
   "execution_count": 415,
   "id": "68ee0c17-cdf8-4290-8cb8-3c121de3ed84",
   "metadata": {},
   "outputs": [
    {
     "data": {
      "text/plain": [
       "<module 'OTMapOnto' from '/Users/yan/Google Drive/django/otmaponto/match/ontology_mapping/src/OTMapOnto.py'>"
      ]
     },
     "execution_count": 415,
     "metadata": {},
     "output_type": "execute_result"
    }
   ],
   "source": [
    "importlib.reload(maponto)"
   ]
  },
  {
   "cell_type": "code",
   "execution_count": 411,
   "id": "9e1fd8e7-36d2-406d-a401-d69b61f58f39",
   "metadata": {},
   "outputs": [
    {
     "name": "stderr",
     "output_type": "stream",
     "text": [
      "INFO:root:Python ensemble mapper info: map ../data/largebio/largebio-all_tasks_2016/small-fma-nci/source.rdf to ../data/largebio/largebio-all_tasks_2016/small-fma-nci/target.rdf\n",
      "INFO:root:Read source with 16919 triples.\n",
      "INFO:root:Read target with 64857 triples.\n",
      "INFO:root:MAP CONCEPTS\n",
      "INFO:root:The number of level_1 predicted mapping is 3123.\n",
      "INFO:root:Retrieving Synsets by WordNet...\n",
      "INFO:root:The number of level_2 predicted mapping is 25\n",
      "INFO:root:Skip the level_3 mapping.\n",
      "INFO:root:Skip the level_4 mapping.\n",
      "INFO:root:Skip the level_5 mapping.\n",
      "INFO:root:Matching Label Embeddings by Optimal Transport...\n",
      "INFO:root:Computing the Ground Embedding Costs between the Source and Target Points...\n",
      "INFO:root:The shape of the cost matrix is (2899, 12134)\n",
      "INFO:root:Computing Optimal Transport Plan...\n",
      "INFO:root:Computing Wasserstein distance by the Sinkhorn algorithm...\n"
     ]
    },
    {
     "name": "stdout",
     "output_type": "stream",
     "text": [
      "Warning: numerical errors at iteration 0\n"
     ]
    },
    {
     "name": "stderr",
     "output_type": "stream",
     "text": [
      "INFO:root:The Sinkhorn got warnings. Computing Wasserstein distance by the EMD algorithm...\n",
      "INFO:root:Making Mappings from a Pairwise OT Plan Matrix by Mutual NN...\n",
      "INFO:root:The number of level_6 predicted mapping is 2779\n",
      "INFO:root:TOTAL NUMBER OF MAPPINGS BETWEEN CONCPETS IS 5927\n",
      "INFO:root:=================================================\n",
      "INFO:root:MAP OBJECT PROPERTIES\n",
      "INFO:root:========================================================\n",
      "INFO:root:MAP DATATYPE PROPERTIES\n",
      "INFO:root:===========================================================\n"
     ]
    }
   ],
   "source": [
    "mapper.align(source_url, target_url, output_url)"
   ]
  },
  {
   "cell_type": "code",
   "execution_count": 417,
   "id": "78852a92-39da-44de-a23c-2f3ea9aa1bd0",
   "metadata": {},
   "outputs": [
    {
     "name": "stdout",
     "output_type": "stream",
     "text": [
      "Total number of predicted is 5927\n",
      "Total number of references is 3024\n",
      "Total correctly predicted alignments is 3066\n",
      "Total number of predicted is 5927\n",
      "Precision is 0.5172937405095327\n",
      "Recall is 1.0138888888888888\n",
      "F1-Measure is 0.6850631214389454\n"
     ]
    }
   ],
   "source": [
    "preds = maponto.load_alignments(output_url, 'predicted')\n",
    "maponto.evaluate(preds, refs_url)"
   ]
  },
  {
   "cell_type": "code",
   "execution_count": 418,
   "id": "3041827f-ed29-4ccc-b48b-33ecfbe365f0",
   "metadata": {},
   "outputs": [],
   "source": [
    "source_url = \"../data/largebio/largebio-all_tasks_2016/small-fma-snomed/source.rdf\"\n",
    "target_url = \"../data/largebio/largebio-all_tasks_2016/small-fma-snomed/target.rdf\"\n",
    "output_url = '../data/results/largebio_small_fma_snomed_alignment.rdf'\n",
    "refs_url = \"../data/largebio/largebio-all_tasks_2016/small-fma-snomed/reference.rdf\""
   ]
  },
  {
   "cell_type": "code",
   "execution_count": 419,
   "id": "e60db0d6-ecdf-41ec-b9b5-e9810581bf46",
   "metadata": {},
   "outputs": [
    {
     "name": "stderr",
     "output_type": "stream",
     "text": [
      "INFO:root:Python ensemble mapper info: map ../data/largebio/largebio-all_tasks_2016/small-fma-snomed/source.rdf to ../data/largebio/largebio-all_tasks_2016/small-fma-snomed/target.rdf\n",
      "INFO:root:Read source with 47699 triples.\n",
      "INFO:root:Read target with 108957 triples.\n",
      "INFO:root:MAP CONCEPTS\n",
      "INFO:root:The number of level_1 predicted mapping is 1604.\n",
      "INFO:root:Retrieving Synsets by WordNet...\n",
      "INFO:root:The number of level_2 predicted mapping is 70\n",
      "INFO:root:Skip the level_3 mapping.\n",
      "INFO:root:Skip the level_4 mapping.\n",
      "INFO:root:Skip the level_5 mapping.\n",
      "INFO:root:Matching Label Embeddings by Optimal Transport...\n",
      "INFO:root:Computing the Ground Embedding Costs between the Source and Target Points...\n",
      "INFO:root:The shape of the cost matrix is (23230, 11809)\n",
      "INFO:root:Computing Optimal Transport Plan...\n",
      "INFO:root:Computing Wasserstein distance by the Sinkhorn algorithm...\n"
     ]
    },
    {
     "name": "stdout",
     "output_type": "stream",
     "text": [
      "Warning: numerical errors at iteration 663\n"
     ]
    },
    {
     "name": "stderr",
     "output_type": "stream",
     "text": [
      "INFO:root:The Sinkhorn got warnings. Computing Wasserstein distance by the EMD algorithm...\n",
      "INFO:root:Making Mappings from a Pairwise OT Plan Matrix by Mutual NN...\n",
      "INFO:root:The number of level_6 predicted mapping is 11174\n",
      "INFO:root:TOTAL NUMBER OF MAPPINGS BETWEEN CONCPETS IS 12848\n",
      "INFO:root:=================================================\n",
      "INFO:root:MAP OBJECT PROPERTIES\n",
      "INFO:root:========================================================\n",
      "INFO:root:MAP DATATYPE PROPERTIES\n",
      "INFO:root:===========================================================\n"
     ]
    }
   ],
   "source": [
    "mapper.align(source_url, target_url, output_url)"
   ]
  },
  {
   "cell_type": "code",
   "execution_count": 420,
   "id": "6b66260e-f8bc-4ad0-be39-5bf3af3b7534",
   "metadata": {},
   "outputs": [
    {
     "name": "stdout",
     "output_type": "stream",
     "text": [
      "Total number of predicted is 12848\n",
      "Total number of references is 9008\n",
      "Total correctly predicted alignments is 6180\n",
      "Total number of predicted is 12848\n",
      "Precision is 0.48100871731008715\n",
      "Recall is 0.6860568383658969\n",
      "F1-Measure is 0.565519765739385\n"
     ]
    }
   ],
   "source": [
    "preds = maponto.load_alignments(output_url, 'predicted')\n",
    "maponto.evaluate(preds, refs_url)"
   ]
  },
  {
   "cell_type": "code",
   "execution_count": 421,
   "id": "a474c3d6-8a6a-4ced-aa35-17a0346252ab",
   "metadata": {},
   "outputs": [],
   "source": [
    "source_url = \"../data/largebio/largebio-all_tasks_2016/small-snomed-nci/source.rdf\"\n",
    "target_url = \"../data/largebio/largebio-all_tasks_2016/small-snomed-nci/target.rdf\"\n",
    "output_url = '../data/results/largebio_small_snomed_nci_alignment.rdf'\n",
    "refs_url = \"../data/largebio/largebio-all_tasks_2016/small-snomed-nci/reference.rdf\""
   ]
  },
  {
   "cell_type": "code",
   "execution_count": null,
   "id": "9ca29645-b8cc-4030-9b0c-9ec7d2a64b0b",
   "metadata": {},
   "outputs": [
    {
     "name": "stderr",
     "output_type": "stream",
     "text": [
      "INFO:root:Python ensemble mapper info: map ../data/largebio/largebio-all_tasks_2016/small-snomed-nci/source.rdf to ../data/largebio/largebio-all_tasks_2016/small-snomed-nci/target.rdf\n",
      "INFO:root:Read source with 1027068 triples.\n",
      "INFO:root:Read target with 249276 triples.\n",
      "INFO:root:MAP CONCEPTS\n",
      "INFO:root:The number of level_1 predicted mapping is 15049.\n",
      "INFO:root:Retrieving Synsets by WordNet...\n",
      "INFO:root:The number of level_2 predicted mapping is 624\n",
      "INFO:root:Skip the level_3 mapping.\n",
      "INFO:root:Skip the level_4 mapping.\n",
      "INFO:root:Skip the level_5 mapping.\n",
      "INFO:root:Matching Label Embeddings by Optimal Transport...\n",
      "INFO:root:Computing the Ground Embedding Costs between the Source and Target Points...\n",
      "INFO:root:The shape of the cost matrix is (41031, 36011)\n",
      "INFO:root:Computing Optimal Transport Plan...\n",
      "INFO:root:Computing Wasserstein distance by the Sinkhorn algorithm...\n"
     ]
    },
    {
     "name": "stdout",
     "output_type": "stream",
     "text": [
      "Warning: numerical errors at iteration 31\n"
     ]
    }
   ],
   "source": [
    "# Kernel died on running this\n",
    "#mapper.align(source_url, target_url, output_url)"
   ]
  },
  {
   "cell_type": "code",
   "execution_count": null,
   "id": "be717fb5-7150-4b31-b8a2-38028a210909",
   "metadata": {},
   "outputs": [],
   "source": [
    "preds = maponto.load_alignments(output_url, 'predicted')\n",
    "maponto.evaluate(preds, refs_url)"
   ]
  },
  {
   "cell_type": "markdown",
   "id": "d6e3ce27-a174-497f-9515-85d8c1809c85",
   "metadata": {},
   "source": [
    "# Phenotype"
   ]
  },
  {
   "cell_type": "code",
   "execution_count": 29,
   "id": "48ce0b6d-38ba-42c9-be82-211e262fdbbf",
   "metadata": {},
   "outputs": [],
   "source": [
    "source_url = \"../data/phenotype/phenotype-doid-ordo-2017-bioportal/doid-ordo/source.rdf\"\n",
    "target_url = \"../data/phenotype/phenotype-doid-ordo-2017-bioportal/doid-ordo/target.rdf\"\n",
    "output_url = '../data/results/phenotye_doid_ordo_2017_alignment.rdf'\n",
    "refs_url = \"../data/phenotype/phenotype-doid-ordo-2017-bioportal/doid-ordo/reference.rdf\""
   ]
  },
  {
   "cell_type": "code",
   "execution_count": 30,
   "id": "17139afb-ca8b-4ade-9018-b73edeffdec2",
   "metadata": {},
   "outputs": [
    {
     "name": "stderr",
     "output_type": "stream",
     "text": [
      "INFO:root:Python ensemble mapper info: map ../data/phenotype/phenotype-doid-ordo-2017-bioportal/doid-ordo/source.rdf to ../data/phenotype/phenotype-doid-ordo-2017-bioportal/doid-ordo/target.rdf\n",
      "INFO:root:Read source with 203208 triples.\n",
      "INFO:root:Read target with 962199 triples.\n",
      "INFO:root:MAP CONCEPTS\n",
      "INFO:root:The number of level_1 predicted mapping is 1370.\n",
      "INFO:root:Retrieving Synsets by WordNet...\n",
      "INFO:root:The number of level_2 predicted mapping is 4\n",
      "INFO:root:Skip the level_3 mapping.\n",
      "INFO:root:Skip the level_4 mapping.\n",
      "INFO:root:Skip the level_5 mapping.\n",
      "INFO:root:Matching Label Embeddings by Optimal Transport...\n",
      "INFO:root:Computing the Ground Embedding Costs between the Source and Target Points...\n",
      "INFO:root:The shape of the cost matrix is (9594, 12231)\n",
      "INFO:root:Computing Optimal Transport Plan...\n",
      "INFO:root:Computing Wasserstein distance by the Sinkhorn algorithm...\n"
     ]
    },
    {
     "name": "stdout",
     "output_type": "stream",
     "text": [
      "Warning: numerical errors at iteration 329\n"
     ]
    },
    {
     "name": "stderr",
     "output_type": "stream",
     "text": [
      "INFO:root:The Sinkhorn got warnings. Computing Wasserstein distance by the EMD algorithm...\n",
      "INFO:root:Making Mappings from a Pairwise OT Plan Matrix by Mutual NN...\n",
      "INFO:root:The number of level_6 predicted mapping is 6336\n",
      "INFO:root:TOTAL NUMBER OF MAPPINGS BETWEEN CONCPETS IS 7710\n",
      "INFO:root:=================================================\n",
      "INFO:root:MAP OBJECT PROPERTIES\n",
      "INFO:root:Retrieving Synsets by WordNet...\n",
      "INFO:root:Compute the related words for each source concept....\n",
      "19it [00:00, 151.94it/s]\n",
      "INFO:root:Total number of source concepts computed with relatd words is 19\n",
      "INFO:root:Compute the related words for each target concept....\n",
      "4it [00:00, 150.82it/s]\n",
      "INFO:root:Total number of target concepts computed with related words is 4\n",
      "100%|██████████| 19/19 [00:00<00:00, 82326.21it/s]\n",
      "INFO:root:The number of level_3 predicted mapping is 0\n",
      "INFO:root:Skip the level_4 mapping.\n",
      "INFO:root:Skip the level_5 mapping.\n",
      "INFO:root:Skip the level_6 mappping.\n",
      "INFO:root:TOTAL NUMBER OF MAPPINGS BETWEEN OBJECT PROPERTIES IS 0\n",
      "INFO:root:========================================================\n",
      "INFO:root:MAP DATATYPE PROPERTIES\n",
      "INFO:root:Retrieving Synsets by WordNet...\n",
      "INFO:root:Compute the related words for each source concept....\n",
      "0it [00:00, ?it/s]\n",
      "INFO:root:Total number of source concepts computed with relatd words is 0\n",
      "INFO:root:Compute the related words for each target concept....\n",
      "0it [00:00, ?it/s]\n",
      "INFO:root:Total number of target concepts computed with related words is 0\n",
      "INFO:root:Skip the level_4 mapping.\n",
      "INFO:root:Skip the level_5 mapping.\n",
      "INFO:root:Skip the level_6 mappping.\n",
      "INFO:root:TOTAL NUMBER OF MAPPINGS BETWEEN DATATYPE PROPERTIES IS 0\n",
      "INFO:root:===========================================================\n"
     ]
    }
   ],
   "source": [
    "mapper.align(source_url, target_url, output_url)"
   ]
  },
  {
   "cell_type": "code",
   "execution_count": 31,
   "id": "00c5e132-e177-4782-9c6c-bc75b8c842d2",
   "metadata": {},
   "outputs": [
    {
     "name": "stdout",
     "output_type": "stream",
     "text": [
      "Total number of predicted is 7710\n",
      "Total number of references is 1237\n",
      "Total correctly predicted alignments is 1228\n",
      "Total number of predicted is 7710\n",
      "Precision is 0.15927367055771724\n",
      "Recall is 0.9927243330638642\n",
      "F1-Measure is 0.27450542081144513\n"
     ]
    }
   ],
   "source": [
    "preds = maponto.load_alignments(output_url, 'predicted')\n",
    "maponto.evaluate(preds, refs_url)"
   ]
  },
  {
   "cell_type": "code",
   "execution_count": 9,
   "id": "e9398c9a-e1dd-4ba9-bf17-f02a73860dcd",
   "metadata": {},
   "outputs": [],
   "source": [
    "source_graph = Graph().parse(source_url)\n",
    "target_graph = Graph().parse(target_url)\n",
    "slabel_clnd_uris = maponto.clean_labels(maponto.extract_label_uris(source_graph))\n",
    "tlabel_clnd_uris = maponto.clean_labels(maponto.extract_label_uris(target_graph))"
   ]
  },
  {
   "cell_type": "code",
   "execution_count": 10,
   "id": "db79b1dd-711e-46a1-9531-e3e18f360cef",
   "metadata": {},
   "outputs": [
    {
     "name": "stderr",
     "output_type": "stream",
     "text": [
      "INFO:root:Retrieving Synsets by WordNet...\n"
     ]
    },
    {
     "name": "stdout",
     "output_type": "stream",
     "text": [
      "Total number of references is 1237\n",
      "Total correctly predicted alignments is 1222\n",
      "Total number of predicted is 1377\n",
      "Precision is 0.8874364560639071\n",
      "Recall is 0.9878738884397736\n",
      "F1-Measure is 0.9349655700076511\n"
     ]
    }
   ],
   "source": [
    "maponto.evaluate(maponto.match_label_synonyms(slabel_clnd_uris, tlabel_clnd_uris, None), \n",
    "                 refs_url)"
   ]
  },
  {
   "cell_type": "code",
   "execution_count": 11,
   "id": "53534b3d-e90c-4d38-a914-4daae1d5af88",
   "metadata": {},
   "outputs": [],
   "source": [
    "source_url = \"../data/phenotype/phenotype-hp-mp-2017-bioportal/hp-mp/source.rdf\"\n",
    "target_url = \"../data/phenotype/phenotype-hp-mp-2017-bioportal/hp-mp/target.rdf\"\n",
    "output_url = '../data/results/phenotye_hp_mp_2017_alignment.rdf'\n",
    "refs_url = \"../data/phenotype/phenotype-hp-mp-2017-bioportal/hp-mp/reference.rdf\""
   ]
  },
  {
   "cell_type": "code",
   "execution_count": 12,
   "id": "67df3477-d7b3-4de4-937a-162125357204",
   "metadata": {},
   "outputs": [
    {
     "name": "stderr",
     "output_type": "stream",
     "text": [
      "INFO:root:Python ensemble mapper info: map ../data/phenotype/phenotype-hp-mp-2017-bioportal/hp-mp/source.rdf to ../data/phenotype/phenotype-hp-mp-2017-bioportal/hp-mp/target.rdf\n",
      "INFO:root:Read source with 350017 triples.\n",
      "INFO:root:Read target with 334980 triples.\n",
      "INFO:root:MAP CONCEPTS\n",
      "INFO:root:The number of level_1 predicted mapping is 695.\n",
      "INFO:root:Retrieving Synsets by WordNet...\n",
      "INFO:root:The number of level_2 predicted mapping is 15\n",
      "INFO:root:Skip the level_3 mapping.\n",
      "INFO:root:Skip the level_4 mapping.\n",
      "INFO:root:Skip the level_5 mapping.\n",
      "INFO:root:Matching Label Embeddings by Optimal Transport...\n",
      "INFO:root:Computing the Ground Embedding Costs between the Source and Target Points...\n",
      "INFO:root:The shape of the cost matrix is (12082, 11225)\n",
      "INFO:root:Computing Optimal Transport Plan...\n",
      "INFO:root:Computing Wasserstein distance by the Sinkhorn algorithm...\n",
      "INFO:root:Making Mappings from a Pairwise OT Plan Matrix by Mutual NN...\n",
      "INFO:root:The number of level_6 predicted mapping is 5342\n",
      "INFO:root:TOTAL NUMBER OF MAPPINGS BETWEEN CONCPETS IS 6052\n",
      "INFO:root:=================================================\n",
      "INFO:root:MAP OBJECT PROPERTIES\n",
      "INFO:root:The number of level_1 predicted mapping is 1.\n",
      "INFO:root:Retrieving Synsets by WordNet...\n",
      "INFO:root:Compute the related words for each source concept....\n",
      "12it [00:00, 78.60it/s]\n",
      "INFO:root:Total number of source concepts computed with relatd words is 12\n",
      "INFO:root:Compute the related words for each target concept....\n",
      "5it [00:00, 74.97it/s]\n",
      "INFO:root:Total number of target concepts computed with related words is 5\n",
      "100%|██████████| 12/12 [00:00<00:00, 45631.59it/s]\n",
      "INFO:root:The number of level_3 predicted mapping is 0\n",
      "INFO:root:Skip the level_4 mapping.\n",
      "INFO:root:Skip the level_5 mapping.\n",
      "INFO:root:Skip the level_6 mappping.\n",
      "INFO:root:TOTAL NUMBER OF MAPPINGS BETWEEN OBJECT PROPERTIES IS 1\n",
      "INFO:root:========================================================\n",
      "INFO:root:MAP DATATYPE PROPERTIES\n",
      "INFO:root:===========================================================\n"
     ]
    }
   ],
   "source": [
    "mapper.align(source_url, target_url, output_url)"
   ]
  },
  {
   "cell_type": "code",
   "execution_count": 13,
   "id": "d1ec7d21-b3a6-4652-a7fe-715c14af04c6",
   "metadata": {},
   "outputs": [
    {
     "name": "stdout",
     "output_type": "stream",
     "text": [
      "Total number of predicted is 6053\n",
      "Total number of references is 696\n",
      "Total correctly predicted alignments is 690\n",
      "Total number of predicted is 6053\n",
      "Precision is 0.11399306129192135\n",
      "Recall is 0.9913793103448276\n",
      "F1-Measure is 0.20447473699807378\n"
     ]
    }
   ],
   "source": [
    "preds = maponto.load_alignments(output_url, 'predicted')\n",
    "maponto.evaluate(preds, refs_url)"
   ]
  },
  {
   "cell_type": "markdown",
   "id": "6fcb940f-789d-40ed-b65d-fff9df7aa085",
   "metadata": {},
   "source": [
    "# Geolink"
   ]
  },
  {
   "cell_type": "code",
   "execution_count": 14,
   "id": "2e1038a7-24c2-490a-a61a-9d713b8efc41",
   "metadata": {},
   "outputs": [],
   "source": [
    "source_url = \"../data/geolink/geolink-v1/gbo-gmo/source.rdf\"\n",
    "target_url = \"../data/geolink/geolink-v1/gbo-gmo/target.rdf\"\n",
    "output_url = '../data/results/geolink_gbo_gmo_alignment.rdf'\n",
    "refs_url = \"../data/geolink/geolink-v1/gbo-gmo/reference.rdf\""
   ]
  },
  {
   "cell_type": "code",
   "execution_count": 15,
   "id": "557daba3-83ad-4145-9c8b-1c2efbcd7bc1",
   "metadata": {},
   "outputs": [
    {
     "name": "stderr",
     "output_type": "stream",
     "text": [
      "INFO:root:Python ensemble mapper info: map ../data/geolink/geolink-v1/gbo-gmo/source.rdf to ../data/geolink/geolink-v1/gbo-gmo/target.rdf\n"
     ]
    },
    {
     "ename": "ParserError",
     "evalue": "file:///Users/yan/Google%20Drive/django/otmaponto/match/ontology_mapping/data/geolink/geolink-v1/gbo-gmo/source.rdf:21:62: Repeat node-elements inside property elements: http://www.w3.org/2002/07/owl#IRI",
     "output_type": "error",
     "traceback": [
      "\u001b[0;31m---------------------------------------------------------------------------\u001b[0m",
      "\u001b[0;31mParserError\u001b[0m                               Traceback (most recent call last)",
      "\u001b[0;32m<ipython-input-15-6770be26f0b5>\u001b[0m in \u001b[0;36m<module>\u001b[0;34m\u001b[0m\n\u001b[0;32m----> 1\u001b[0;31m \u001b[0mmapper\u001b[0m\u001b[0;34m.\u001b[0m\u001b[0malign\u001b[0m\u001b[0;34m(\u001b[0m\u001b[0msource_url\u001b[0m\u001b[0;34m,\u001b[0m \u001b[0mtarget_url\u001b[0m\u001b[0;34m,\u001b[0m \u001b[0moutput_url\u001b[0m\u001b[0;34m)\u001b[0m\u001b[0;34m\u001b[0m\u001b[0;34m\u001b[0m\u001b[0m\n\u001b[0m",
      "\u001b[0;32m~/Google Drive/django/otmaponto/match/ontology_mapping/src/OTMapper.py\u001b[0m in \u001b[0;36malign\u001b[0;34m(self, source_url, target_url, output_url)\u001b[0m\n\u001b[1;32m   1433\u001b[0m \u001b[0;34m\u001b[0m\u001b[0m\n\u001b[1;32m   1434\u001b[0m     \u001b[0;32mdef\u001b[0m \u001b[0malign\u001b[0m\u001b[0;34m(\u001b[0m\u001b[0mself\u001b[0m\u001b[0;34m,\u001b[0m \u001b[0msource_url\u001b[0m\u001b[0;34m,\u001b[0m \u001b[0mtarget_url\u001b[0m\u001b[0;34m,\u001b[0m \u001b[0moutput_url\u001b[0m\u001b[0;34m)\u001b[0m\u001b[0;34m:\u001b[0m\u001b[0;34m\u001b[0m\u001b[0;34m\u001b[0m\u001b[0m\n\u001b[0;32m-> 1435\u001b[0;31m         \u001b[0mmatch\u001b[0m\u001b[0;34m(\u001b[0m\u001b[0msource_url\u001b[0m\u001b[0;34m,\u001b[0m \u001b[0mtarget_url\u001b[0m\u001b[0;34m,\u001b[0m \u001b[0mself\u001b[0m\u001b[0;34m.\u001b[0m\u001b[0membs_model\u001b[0m\u001b[0;34m,\u001b[0m \u001b[0moutput_url\u001b[0m\u001b[0;34m,\u001b[0m \u001b[0;32mNone\u001b[0m\u001b[0;34m)\u001b[0m\u001b[0;34m\u001b[0m\u001b[0;34m\u001b[0m\u001b[0m\n\u001b[0m\u001b[1;32m   1436\u001b[0m \u001b[0;34m\u001b[0m\u001b[0m\n\u001b[1;32m   1437\u001b[0m \u001b[0;34m\u001b[0m\u001b[0m\n",
      "\u001b[0;32m~/Google Drive/django/otmaponto/match/ontology_mapping/src/OTMapper.py\u001b[0m in \u001b[0;36mmatch\u001b[0;34m(source_url, target_url, embs_model, output_url, input_alignment_url)\u001b[0m\n\u001b[1;32m   1402\u001b[0m \u001b[0;34m\u001b[0m\u001b[0m\n\u001b[1;32m   1403\u001b[0m \u001b[0;34m\u001b[0m\u001b[0m\n\u001b[0;32m-> 1404\u001b[0;31m     \u001b[0mresulting_alignment\u001b[0m \u001b[0;34m=\u001b[0m \u001b[0mensemble_map\u001b[0m\u001b[0;34m(\u001b[0m\u001b[0msource_url\u001b[0m\u001b[0;34m,\u001b[0m \u001b[0mtarget_url\u001b[0m\u001b[0;34m,\u001b[0m \u001b[0membs_model\u001b[0m\u001b[0;34m)\u001b[0m\u001b[0;34m\u001b[0m\u001b[0;34m\u001b[0m\u001b[0m\n\u001b[0m\u001b[1;32m   1405\u001b[0m \u001b[0;34m\u001b[0m\u001b[0m\n\u001b[1;32m   1406\u001b[0m \u001b[0;34m\u001b[0m\u001b[0m\n",
      "\u001b[0;32m~/Google Drive/django/otmaponto/match/ontology_mapping/src/OTMapper.py\u001b[0m in \u001b[0;36mensemble_map\u001b[0;34m(source_url, target_url, embs_model)\u001b[0m\n\u001b[1;32m   1316\u001b[0m \u001b[0;34m\u001b[0m\u001b[0m\n\u001b[1;32m   1317\u001b[0m     \u001b[0msource_graph\u001b[0m \u001b[0;34m=\u001b[0m \u001b[0mGraph\u001b[0m\u001b[0;34m(\u001b[0m\u001b[0;34m)\u001b[0m\u001b[0;34m\u001b[0m\u001b[0;34m\u001b[0m\u001b[0m\n\u001b[0;32m-> 1318\u001b[0;31m     \u001b[0msource_graph\u001b[0m\u001b[0;34m.\u001b[0m\u001b[0mparse\u001b[0m\u001b[0;34m(\u001b[0m\u001b[0msource_url\u001b[0m\u001b[0;34m)\u001b[0m\u001b[0;34m\u001b[0m\u001b[0;34m\u001b[0m\u001b[0m\n\u001b[0m\u001b[1;32m   1319\u001b[0m     \u001b[0msource_graph\u001b[0m\u001b[0;34m.\u001b[0m\u001b[0mnamespace_manager\u001b[0m\u001b[0;34m.\u001b[0m\u001b[0mbind\u001b[0m\u001b[0;34m(\u001b[0m\u001b[0;34m\"owl\"\u001b[0m\u001b[0;34m,\u001b[0m \u001b[0mOWL_NS\u001b[0m\u001b[0;34m)\u001b[0m\u001b[0;34m\u001b[0m\u001b[0;34m\u001b[0m\u001b[0m\n\u001b[1;32m   1320\u001b[0m     \u001b[0mlogging\u001b[0m\u001b[0;34m.\u001b[0m\u001b[0minfo\u001b[0m\u001b[0;34m(\u001b[0m\u001b[0;34m\"Read source with %s triples.\"\u001b[0m\u001b[0;34m,\u001b[0m \u001b[0mlen\u001b[0m\u001b[0;34m(\u001b[0m\u001b[0msource_graph\u001b[0m\u001b[0;34m)\u001b[0m\u001b[0;34m)\u001b[0m\u001b[0;34m\u001b[0m\u001b[0;34m\u001b[0m\u001b[0m\n",
      "\u001b[0;32m~/anaconda3/lib/python3.7/site-packages/rdflib/graph.py\u001b[0m in \u001b[0;36mparse\u001b[0;34m(self, source, publicID, format, location, file, data, **args)\u001b[0m\n\u001b[1;32m   1076\u001b[0m         \u001b[0mparser\u001b[0m \u001b[0;34m=\u001b[0m \u001b[0mplugin\u001b[0m\u001b[0;34m.\u001b[0m\u001b[0mget\u001b[0m\u001b[0;34m(\u001b[0m\u001b[0mformat\u001b[0m\u001b[0;34m,\u001b[0m \u001b[0mParser\u001b[0m\u001b[0;34m)\u001b[0m\u001b[0;34m(\u001b[0m\u001b[0;34m)\u001b[0m\u001b[0;34m\u001b[0m\u001b[0;34m\u001b[0m\u001b[0m\n\u001b[1;32m   1077\u001b[0m         \u001b[0;32mtry\u001b[0m\u001b[0;34m:\u001b[0m\u001b[0;34m\u001b[0m\u001b[0;34m\u001b[0m\u001b[0m\n\u001b[0;32m-> 1078\u001b[0;31m             \u001b[0mparser\u001b[0m\u001b[0;34m.\u001b[0m\u001b[0mparse\u001b[0m\u001b[0;34m(\u001b[0m\u001b[0msource\u001b[0m\u001b[0;34m,\u001b[0m \u001b[0mself\u001b[0m\u001b[0;34m,\u001b[0m \u001b[0;34m**\u001b[0m\u001b[0margs\u001b[0m\u001b[0;34m)\u001b[0m\u001b[0;34m\u001b[0m\u001b[0;34m\u001b[0m\u001b[0m\n\u001b[0m\u001b[1;32m   1079\u001b[0m         \u001b[0;32mfinally\u001b[0m\u001b[0;34m:\u001b[0m\u001b[0;34m\u001b[0m\u001b[0;34m\u001b[0m\u001b[0m\n\u001b[1;32m   1080\u001b[0m             \u001b[0;32mif\u001b[0m \u001b[0msource\u001b[0m\u001b[0;34m.\u001b[0m\u001b[0mauto_close\u001b[0m\u001b[0;34m:\u001b[0m\u001b[0;34m\u001b[0m\u001b[0;34m\u001b[0m\u001b[0m\n",
      "\u001b[0;32m~/anaconda3/lib/python3.7/site-packages/rdflib/plugins/parsers/rdfxml.py\u001b[0m in \u001b[0;36mparse\u001b[0;34m(self, source, sink, **args)\u001b[0m\n\u001b[1;32m    577\u001b[0m         \u001b[0;31m# content_handler.reset()\u001b[0m\u001b[0;34m\u001b[0m\u001b[0;34m\u001b[0m\u001b[0;34m\u001b[0m\u001b[0m\n\u001b[1;32m    578\u001b[0m         \u001b[0;31m# self._parser.reset()\u001b[0m\u001b[0;34m\u001b[0m\u001b[0;34m\u001b[0m\u001b[0;34m\u001b[0m\u001b[0m\n\u001b[0;32m--> 579\u001b[0;31m         \u001b[0mself\u001b[0m\u001b[0;34m.\u001b[0m\u001b[0m_parser\u001b[0m\u001b[0;34m.\u001b[0m\u001b[0mparse\u001b[0m\u001b[0;34m(\u001b[0m\u001b[0msource\u001b[0m\u001b[0;34m)\u001b[0m\u001b[0;34m\u001b[0m\u001b[0;34m\u001b[0m\u001b[0m\n\u001b[0m",
      "\u001b[0;32m~/anaconda3/lib/python3.7/xml/sax/expatreader.py\u001b[0m in \u001b[0;36mparse\u001b[0;34m(self, source)\u001b[0m\n\u001b[1;32m    109\u001b[0m             \u001b[0mself\u001b[0m\u001b[0;34m.\u001b[0m\u001b[0mreset\u001b[0m\u001b[0;34m(\u001b[0m\u001b[0;34m)\u001b[0m\u001b[0;34m\u001b[0m\u001b[0;34m\u001b[0m\u001b[0m\n\u001b[1;32m    110\u001b[0m             \u001b[0mself\u001b[0m\u001b[0;34m.\u001b[0m\u001b[0m_cont_handler\u001b[0m\u001b[0;34m.\u001b[0m\u001b[0msetDocumentLocator\u001b[0m\u001b[0;34m(\u001b[0m\u001b[0mExpatLocator\u001b[0m\u001b[0;34m(\u001b[0m\u001b[0mself\u001b[0m\u001b[0;34m)\u001b[0m\u001b[0;34m)\u001b[0m\u001b[0;34m\u001b[0m\u001b[0;34m\u001b[0m\u001b[0m\n\u001b[0;32m--> 111\u001b[0;31m             \u001b[0mxmlreader\u001b[0m\u001b[0;34m.\u001b[0m\u001b[0mIncrementalParser\u001b[0m\u001b[0;34m.\u001b[0m\u001b[0mparse\u001b[0m\u001b[0;34m(\u001b[0m\u001b[0mself\u001b[0m\u001b[0;34m,\u001b[0m \u001b[0msource\u001b[0m\u001b[0;34m)\u001b[0m\u001b[0;34m\u001b[0m\u001b[0;34m\u001b[0m\u001b[0m\n\u001b[0m\u001b[1;32m    112\u001b[0m         \u001b[0;32mexcept\u001b[0m\u001b[0;34m:\u001b[0m\u001b[0;34m\u001b[0m\u001b[0;34m\u001b[0m\u001b[0m\n\u001b[1;32m    113\u001b[0m             \u001b[0;31m# bpo-30264: Close the source on error to not leak resources:\u001b[0m\u001b[0;34m\u001b[0m\u001b[0;34m\u001b[0m\u001b[0;34m\u001b[0m\u001b[0m\n",
      "\u001b[0;32m~/anaconda3/lib/python3.7/xml/sax/xmlreader.py\u001b[0m in \u001b[0;36mparse\u001b[0;34m(self, source)\u001b[0m\n\u001b[1;32m    123\u001b[0m         \u001b[0mbuffer\u001b[0m \u001b[0;34m=\u001b[0m \u001b[0mfile\u001b[0m\u001b[0;34m.\u001b[0m\u001b[0mread\u001b[0m\u001b[0;34m(\u001b[0m\u001b[0mself\u001b[0m\u001b[0;34m.\u001b[0m\u001b[0m_bufsize\u001b[0m\u001b[0;34m)\u001b[0m\u001b[0;34m\u001b[0m\u001b[0;34m\u001b[0m\u001b[0m\n\u001b[1;32m    124\u001b[0m         \u001b[0;32mwhile\u001b[0m \u001b[0mbuffer\u001b[0m\u001b[0;34m:\u001b[0m\u001b[0;34m\u001b[0m\u001b[0;34m\u001b[0m\u001b[0m\n\u001b[0;32m--> 125\u001b[0;31m             \u001b[0mself\u001b[0m\u001b[0;34m.\u001b[0m\u001b[0mfeed\u001b[0m\u001b[0;34m(\u001b[0m\u001b[0mbuffer\u001b[0m\u001b[0;34m)\u001b[0m\u001b[0;34m\u001b[0m\u001b[0;34m\u001b[0m\u001b[0m\n\u001b[0m\u001b[1;32m    126\u001b[0m             \u001b[0mbuffer\u001b[0m \u001b[0;34m=\u001b[0m \u001b[0mfile\u001b[0m\u001b[0;34m.\u001b[0m\u001b[0mread\u001b[0m\u001b[0;34m(\u001b[0m\u001b[0mself\u001b[0m\u001b[0;34m.\u001b[0m\u001b[0m_bufsize\u001b[0m\u001b[0;34m)\u001b[0m\u001b[0;34m\u001b[0m\u001b[0;34m\u001b[0m\u001b[0m\n\u001b[1;32m    127\u001b[0m         \u001b[0mself\u001b[0m\u001b[0;34m.\u001b[0m\u001b[0mclose\u001b[0m\u001b[0;34m(\u001b[0m\u001b[0;34m)\u001b[0m\u001b[0;34m\u001b[0m\u001b[0;34m\u001b[0m\u001b[0m\n",
      "\u001b[0;32m~/anaconda3/lib/python3.7/xml/sax/expatreader.py\u001b[0m in \u001b[0;36mfeed\u001b[0;34m(self, data, isFinal)\u001b[0m\n\u001b[1;32m    215\u001b[0m             \u001b[0;31m# document. When feeding chunks, they are not normally final -\u001b[0m\u001b[0;34m\u001b[0m\u001b[0;34m\u001b[0m\u001b[0;34m\u001b[0m\u001b[0m\n\u001b[1;32m    216\u001b[0m             \u001b[0;31m# except when invoked from close.\u001b[0m\u001b[0;34m\u001b[0m\u001b[0;34m\u001b[0m\u001b[0;34m\u001b[0m\u001b[0m\n\u001b[0;32m--> 217\u001b[0;31m             \u001b[0mself\u001b[0m\u001b[0;34m.\u001b[0m\u001b[0m_parser\u001b[0m\u001b[0;34m.\u001b[0m\u001b[0mParse\u001b[0m\u001b[0;34m(\u001b[0m\u001b[0mdata\u001b[0m\u001b[0;34m,\u001b[0m \u001b[0misFinal\u001b[0m\u001b[0;34m)\u001b[0m\u001b[0;34m\u001b[0m\u001b[0;34m\u001b[0m\u001b[0m\n\u001b[0m\u001b[1;32m    218\u001b[0m         \u001b[0;32mexcept\u001b[0m \u001b[0mexpat\u001b[0m\u001b[0;34m.\u001b[0m\u001b[0merror\u001b[0m \u001b[0;32mas\u001b[0m \u001b[0me\u001b[0m\u001b[0;34m:\u001b[0m\u001b[0;34m\u001b[0m\u001b[0;34m\u001b[0m\u001b[0m\n\u001b[1;32m    219\u001b[0m             \u001b[0mexc\u001b[0m \u001b[0;34m=\u001b[0m \u001b[0mSAXParseException\u001b[0m\u001b[0;34m(\u001b[0m\u001b[0mexpat\u001b[0m\u001b[0;34m.\u001b[0m\u001b[0mErrorString\u001b[0m\u001b[0;34m(\u001b[0m\u001b[0me\u001b[0m\u001b[0;34m.\u001b[0m\u001b[0mcode\u001b[0m\u001b[0;34m)\u001b[0m\u001b[0;34m,\u001b[0m \u001b[0me\u001b[0m\u001b[0;34m,\u001b[0m \u001b[0mself\u001b[0m\u001b[0;34m)\u001b[0m\u001b[0;34m\u001b[0m\u001b[0;34m\u001b[0m\u001b[0m\n",
      "\u001b[0;32m/opt/concourse/worker/volumes/live/13cf9768-d104-4df5-6143-5360c0d9e8b3/volume/python_1585235027941/work/Modules/pyexpat.c\u001b[0m in \u001b[0;36mEndElement\u001b[0;34m()\u001b[0m\n",
      "\u001b[0;32m~/anaconda3/lib/python3.7/xml/sax/expatreader.py\u001b[0m in \u001b[0;36mend_element_ns\u001b[0;34m(self, name)\u001b[0m\n\u001b[1;32m    379\u001b[0m             \u001b[0mpair\u001b[0m \u001b[0;34m=\u001b[0m \u001b[0mtuple\u001b[0m\u001b[0;34m(\u001b[0m\u001b[0mpair\u001b[0m\u001b[0;34m)\u001b[0m\u001b[0;34m\u001b[0m\u001b[0;34m\u001b[0m\u001b[0m\n\u001b[1;32m    380\u001b[0m \u001b[0;34m\u001b[0m\u001b[0m\n\u001b[0;32m--> 381\u001b[0;31m         \u001b[0mself\u001b[0m\u001b[0;34m.\u001b[0m\u001b[0m_cont_handler\u001b[0m\u001b[0;34m.\u001b[0m\u001b[0mendElementNS\u001b[0m\u001b[0;34m(\u001b[0m\u001b[0mpair\u001b[0m\u001b[0;34m,\u001b[0m \u001b[0;32mNone\u001b[0m\u001b[0;34m)\u001b[0m\u001b[0;34m\u001b[0m\u001b[0;34m\u001b[0m\u001b[0m\n\u001b[0m\u001b[1;32m    382\u001b[0m \u001b[0;34m\u001b[0m\u001b[0m\n\u001b[1;32m    383\u001b[0m     \u001b[0;31m# this is not used (call directly to ContentHandler)\u001b[0m\u001b[0;34m\u001b[0m\u001b[0;34m\u001b[0m\u001b[0;34m\u001b[0m\u001b[0m\n",
      "\u001b[0;32m~/anaconda3/lib/python3.7/site-packages/rdflib/plugins/parsers/rdfxml.py\u001b[0m in \u001b[0;36mendElementNS\u001b[0;34m(self, name, qname)\u001b[0m\n\u001b[1;32m    159\u001b[0m \u001b[0;34m\u001b[0m\u001b[0m\n\u001b[1;32m    160\u001b[0m     \u001b[0;32mdef\u001b[0m \u001b[0mendElementNS\u001b[0m\u001b[0;34m(\u001b[0m\u001b[0mself\u001b[0m\u001b[0;34m,\u001b[0m \u001b[0mname\u001b[0m\u001b[0;34m,\u001b[0m \u001b[0mqname\u001b[0m\u001b[0;34m)\u001b[0m\u001b[0;34m:\u001b[0m\u001b[0;34m\u001b[0m\u001b[0;34m\u001b[0m\u001b[0m\n\u001b[0;32m--> 161\u001b[0;31m         \u001b[0mself\u001b[0m\u001b[0;34m.\u001b[0m\u001b[0mcurrent\u001b[0m\u001b[0;34m.\u001b[0m\u001b[0mend\u001b[0m\u001b[0;34m(\u001b[0m\u001b[0mname\u001b[0m\u001b[0;34m,\u001b[0m \u001b[0mqname\u001b[0m\u001b[0;34m)\u001b[0m\u001b[0;34m\u001b[0m\u001b[0;34m\u001b[0m\u001b[0m\n\u001b[0m\u001b[1;32m    162\u001b[0m         \u001b[0mself\u001b[0m\u001b[0;34m.\u001b[0m\u001b[0mstack\u001b[0m\u001b[0;34m.\u001b[0m\u001b[0mpop\u001b[0m\u001b[0;34m(\u001b[0m\u001b[0;34m)\u001b[0m\u001b[0;34m\u001b[0m\u001b[0;34m\u001b[0m\u001b[0m\n\u001b[1;32m    163\u001b[0m \u001b[0;34m\u001b[0m\u001b[0m\n",
      "\u001b[0;32m~/anaconda3/lib/python3.7/site-packages/rdflib/plugins/parsers/rdfxml.py\u001b[0m in \u001b[0;36mnode_element_end\u001b[0;34m(self, name, qname)\u001b[0m\n\u001b[1;32m    331\u001b[0m         \u001b[0;32mif\u001b[0m \u001b[0mself\u001b[0m\u001b[0;34m.\u001b[0m\u001b[0mparent\u001b[0m\u001b[0;34m.\u001b[0m\u001b[0mobject\u001b[0m \u001b[0;32mand\u001b[0m \u001b[0mself\u001b[0m\u001b[0;34m.\u001b[0m\u001b[0mcurrent\u001b[0m \u001b[0;34m!=\u001b[0m \u001b[0mself\u001b[0m\u001b[0;34m.\u001b[0m\u001b[0mstack\u001b[0m\u001b[0;34m[\u001b[0m\u001b[0;36m2\u001b[0m\u001b[0;34m]\u001b[0m\u001b[0;34m:\u001b[0m\u001b[0;34m\u001b[0m\u001b[0;34m\u001b[0m\u001b[0m\n\u001b[1;32m    332\u001b[0m \u001b[0;34m\u001b[0m\u001b[0m\n\u001b[0;32m--> 333\u001b[0;31m             \u001b[0mself\u001b[0m\u001b[0;34m.\u001b[0m\u001b[0merror\u001b[0m\u001b[0;34m(\u001b[0m\u001b[0;34m\"Repeat node-elements inside property elements: %s\"\u001b[0m\u001b[0;34m%\u001b[0m\u001b[0;34m\"\"\u001b[0m\u001b[0;34m.\u001b[0m\u001b[0mjoin\u001b[0m\u001b[0;34m(\u001b[0m\u001b[0mname\u001b[0m\u001b[0;34m)\u001b[0m\u001b[0;34m)\u001b[0m\u001b[0;34m\u001b[0m\u001b[0;34m\u001b[0m\u001b[0m\n\u001b[0m\u001b[1;32m    334\u001b[0m \u001b[0;34m\u001b[0m\u001b[0m\n\u001b[1;32m    335\u001b[0m         \u001b[0mself\u001b[0m\u001b[0;34m.\u001b[0m\u001b[0mparent\u001b[0m\u001b[0;34m.\u001b[0m\u001b[0mobject\u001b[0m \u001b[0;34m=\u001b[0m \u001b[0mself\u001b[0m\u001b[0;34m.\u001b[0m\u001b[0mcurrent\u001b[0m\u001b[0;34m.\u001b[0m\u001b[0msubject\u001b[0m\u001b[0;34m\u001b[0m\u001b[0;34m\u001b[0m\u001b[0m\n",
      "\u001b[0;32m~/anaconda3/lib/python3.7/site-packages/rdflib/plugins/parsers/rdfxml.py\u001b[0m in \u001b[0;36merror\u001b[0;34m(self, message)\u001b[0m\n\u001b[1;32m    185\u001b[0m                                \u001b[0mlocator\u001b[0m\u001b[0;34m.\u001b[0m\u001b[0mgetLineNumber\u001b[0m\u001b[0;34m(\u001b[0m\u001b[0;34m)\u001b[0m\u001b[0;34m,\u001b[0m\u001b[0;34m\u001b[0m\u001b[0;34m\u001b[0m\u001b[0m\n\u001b[1;32m    186\u001b[0m                                locator.getColumnNumber())\n\u001b[0;32m--> 187\u001b[0;31m         \u001b[0;32mraise\u001b[0m \u001b[0mParserError\u001b[0m\u001b[0;34m(\u001b[0m\u001b[0minfo\u001b[0m \u001b[0;34m+\u001b[0m \u001b[0mmessage\u001b[0m\u001b[0;34m)\u001b[0m\u001b[0;34m\u001b[0m\u001b[0;34m\u001b[0m\u001b[0m\n\u001b[0m\u001b[1;32m    188\u001b[0m \u001b[0;34m\u001b[0m\u001b[0m\n\u001b[1;32m    189\u001b[0m     \u001b[0;32mdef\u001b[0m \u001b[0mget_current\u001b[0m\u001b[0;34m(\u001b[0m\u001b[0mself\u001b[0m\u001b[0;34m)\u001b[0m\u001b[0;34m:\u001b[0m\u001b[0;34m\u001b[0m\u001b[0;34m\u001b[0m\u001b[0m\n",
      "\u001b[0;31mParserError\u001b[0m: file:///Users/yan/Google%20Drive/django/otmaponto/match/ontology_mapping/data/geolink/geolink-v1/gbo-gmo/source.rdf:21:62: Repeat node-elements inside property elements: http://www.w3.org/2002/07/owl#IRI"
     ]
    }
   ],
   "source": [
    "mapper.align(source_url, target_url, output_url)"
   ]
  },
  {
   "cell_type": "code",
   "execution_count": null,
   "id": "e3b1500b-3092-4c49-a285-a0480ea2595c",
   "metadata": {},
   "outputs": [],
   "source": [
    "preds = maponto.load_alignments(output_url, 'predicted')\n",
    "maponto.evaluate(preds, refs_url)"
   ]
  },
  {
   "cell_type": "markdown",
   "id": "803417e1-144e-442c-ac7e-f056ad00f924",
   "metadata": {},
   "source": [
    "# Hydrography"
   ]
  },
  {
   "cell_type": "code",
   "execution_count": 16,
   "id": "eab57cd9-4b1a-428b-9416-e1732bc8efe6",
   "metadata": {},
   "outputs": [],
   "source": [
    "source_url = \"../data/hydrography/hydrography-v1/cree-swo/source.rdf\"\n",
    "target_url = \"../data/hydrography/hydrography-v1/cree-swo/target.rdf\"\n",
    "output_url = '../data/results/hydrograph_cree_swo_alignment.rdf'\n",
    "refs_url = \"../data/hydrography/hydrography-v1/cree-swo/reference.rdf\""
   ]
  },
  {
   "cell_type": "code",
   "execution_count": 17,
   "id": "b5c20ceb-7775-4ce0-99f1-db2909666979",
   "metadata": {},
   "outputs": [
    {
     "name": "stderr",
     "output_type": "stream",
     "text": [
      "INFO:root:Python ensemble mapper info: map ../data/hydrography/hydrography-v1/cree-swo/source.rdf to ../data/hydrography/hydrography-v1/cree-swo/target.rdf\n"
     ]
    },
    {
     "ename": "ParserError",
     "evalue": "file:///Users/yan/Google%20Drive/django/otmaponto/match/ontology_mapping/data/hydrography/hydrography-v1/cree-swo/source.rdf:2638:35: Repeat node-elements inside property elements: http://www.w3.org/2002/07/owl#Class",
     "output_type": "error",
     "traceback": [
      "\u001b[0;31m---------------------------------------------------------------------------\u001b[0m",
      "\u001b[0;31mParserError\u001b[0m                               Traceback (most recent call last)",
      "\u001b[0;32m<ipython-input-17-6770be26f0b5>\u001b[0m in \u001b[0;36m<module>\u001b[0;34m\u001b[0m\n\u001b[0;32m----> 1\u001b[0;31m \u001b[0mmapper\u001b[0m\u001b[0;34m.\u001b[0m\u001b[0malign\u001b[0m\u001b[0;34m(\u001b[0m\u001b[0msource_url\u001b[0m\u001b[0;34m,\u001b[0m \u001b[0mtarget_url\u001b[0m\u001b[0;34m,\u001b[0m \u001b[0moutput_url\u001b[0m\u001b[0;34m)\u001b[0m\u001b[0;34m\u001b[0m\u001b[0;34m\u001b[0m\u001b[0m\n\u001b[0m",
      "\u001b[0;32m~/Google Drive/django/otmaponto/match/ontology_mapping/src/OTMapper.py\u001b[0m in \u001b[0;36malign\u001b[0;34m(self, source_url, target_url, output_url)\u001b[0m\n\u001b[1;32m   1433\u001b[0m \u001b[0;34m\u001b[0m\u001b[0m\n\u001b[1;32m   1434\u001b[0m     \u001b[0;32mdef\u001b[0m \u001b[0malign\u001b[0m\u001b[0;34m(\u001b[0m\u001b[0mself\u001b[0m\u001b[0;34m,\u001b[0m \u001b[0msource_url\u001b[0m\u001b[0;34m,\u001b[0m \u001b[0mtarget_url\u001b[0m\u001b[0;34m,\u001b[0m \u001b[0moutput_url\u001b[0m\u001b[0;34m)\u001b[0m\u001b[0;34m:\u001b[0m\u001b[0;34m\u001b[0m\u001b[0;34m\u001b[0m\u001b[0m\n\u001b[0;32m-> 1435\u001b[0;31m         \u001b[0mmatch\u001b[0m\u001b[0;34m(\u001b[0m\u001b[0msource_url\u001b[0m\u001b[0;34m,\u001b[0m \u001b[0mtarget_url\u001b[0m\u001b[0;34m,\u001b[0m \u001b[0mself\u001b[0m\u001b[0;34m.\u001b[0m\u001b[0membs_model\u001b[0m\u001b[0;34m,\u001b[0m \u001b[0moutput_url\u001b[0m\u001b[0;34m,\u001b[0m \u001b[0;32mNone\u001b[0m\u001b[0;34m)\u001b[0m\u001b[0;34m\u001b[0m\u001b[0;34m\u001b[0m\u001b[0m\n\u001b[0m\u001b[1;32m   1436\u001b[0m \u001b[0;34m\u001b[0m\u001b[0m\n\u001b[1;32m   1437\u001b[0m \u001b[0;34m\u001b[0m\u001b[0m\n",
      "\u001b[0;32m~/Google Drive/django/otmaponto/match/ontology_mapping/src/OTMapper.py\u001b[0m in \u001b[0;36mmatch\u001b[0;34m(source_url, target_url, embs_model, output_url, input_alignment_url)\u001b[0m\n\u001b[1;32m   1402\u001b[0m \u001b[0;34m\u001b[0m\u001b[0m\n\u001b[1;32m   1403\u001b[0m \u001b[0;34m\u001b[0m\u001b[0m\n\u001b[0;32m-> 1404\u001b[0;31m     \u001b[0mresulting_alignment\u001b[0m \u001b[0;34m=\u001b[0m \u001b[0mensemble_map\u001b[0m\u001b[0;34m(\u001b[0m\u001b[0msource_url\u001b[0m\u001b[0;34m,\u001b[0m \u001b[0mtarget_url\u001b[0m\u001b[0;34m,\u001b[0m \u001b[0membs_model\u001b[0m\u001b[0;34m)\u001b[0m\u001b[0;34m\u001b[0m\u001b[0;34m\u001b[0m\u001b[0m\n\u001b[0m\u001b[1;32m   1405\u001b[0m \u001b[0;34m\u001b[0m\u001b[0m\n\u001b[1;32m   1406\u001b[0m \u001b[0;34m\u001b[0m\u001b[0m\n",
      "\u001b[0;32m~/Google Drive/django/otmaponto/match/ontology_mapping/src/OTMapper.py\u001b[0m in \u001b[0;36mensemble_map\u001b[0;34m(source_url, target_url, embs_model)\u001b[0m\n\u001b[1;32m   1316\u001b[0m \u001b[0;34m\u001b[0m\u001b[0m\n\u001b[1;32m   1317\u001b[0m     \u001b[0msource_graph\u001b[0m \u001b[0;34m=\u001b[0m \u001b[0mGraph\u001b[0m\u001b[0;34m(\u001b[0m\u001b[0;34m)\u001b[0m\u001b[0;34m\u001b[0m\u001b[0;34m\u001b[0m\u001b[0m\n\u001b[0;32m-> 1318\u001b[0;31m     \u001b[0msource_graph\u001b[0m\u001b[0;34m.\u001b[0m\u001b[0mparse\u001b[0m\u001b[0;34m(\u001b[0m\u001b[0msource_url\u001b[0m\u001b[0;34m)\u001b[0m\u001b[0;34m\u001b[0m\u001b[0;34m\u001b[0m\u001b[0m\n\u001b[0m\u001b[1;32m   1319\u001b[0m     \u001b[0msource_graph\u001b[0m\u001b[0;34m.\u001b[0m\u001b[0mnamespace_manager\u001b[0m\u001b[0;34m.\u001b[0m\u001b[0mbind\u001b[0m\u001b[0;34m(\u001b[0m\u001b[0;34m\"owl\"\u001b[0m\u001b[0;34m,\u001b[0m \u001b[0mOWL_NS\u001b[0m\u001b[0;34m)\u001b[0m\u001b[0;34m\u001b[0m\u001b[0;34m\u001b[0m\u001b[0m\n\u001b[1;32m   1320\u001b[0m     \u001b[0mlogging\u001b[0m\u001b[0;34m.\u001b[0m\u001b[0minfo\u001b[0m\u001b[0;34m(\u001b[0m\u001b[0;34m\"Read source with %s triples.\"\u001b[0m\u001b[0;34m,\u001b[0m \u001b[0mlen\u001b[0m\u001b[0;34m(\u001b[0m\u001b[0msource_graph\u001b[0m\u001b[0;34m)\u001b[0m\u001b[0;34m)\u001b[0m\u001b[0;34m\u001b[0m\u001b[0;34m\u001b[0m\u001b[0m\n",
      "\u001b[0;32m~/anaconda3/lib/python3.7/site-packages/rdflib/graph.py\u001b[0m in \u001b[0;36mparse\u001b[0;34m(self, source, publicID, format, location, file, data, **args)\u001b[0m\n\u001b[1;32m   1076\u001b[0m         \u001b[0mparser\u001b[0m \u001b[0;34m=\u001b[0m \u001b[0mplugin\u001b[0m\u001b[0;34m.\u001b[0m\u001b[0mget\u001b[0m\u001b[0;34m(\u001b[0m\u001b[0mformat\u001b[0m\u001b[0;34m,\u001b[0m \u001b[0mParser\u001b[0m\u001b[0;34m)\u001b[0m\u001b[0;34m(\u001b[0m\u001b[0;34m)\u001b[0m\u001b[0;34m\u001b[0m\u001b[0;34m\u001b[0m\u001b[0m\n\u001b[1;32m   1077\u001b[0m         \u001b[0;32mtry\u001b[0m\u001b[0;34m:\u001b[0m\u001b[0;34m\u001b[0m\u001b[0;34m\u001b[0m\u001b[0m\n\u001b[0;32m-> 1078\u001b[0;31m             \u001b[0mparser\u001b[0m\u001b[0;34m.\u001b[0m\u001b[0mparse\u001b[0m\u001b[0;34m(\u001b[0m\u001b[0msource\u001b[0m\u001b[0;34m,\u001b[0m \u001b[0mself\u001b[0m\u001b[0;34m,\u001b[0m \u001b[0;34m**\u001b[0m\u001b[0margs\u001b[0m\u001b[0;34m)\u001b[0m\u001b[0;34m\u001b[0m\u001b[0;34m\u001b[0m\u001b[0m\n\u001b[0m\u001b[1;32m   1079\u001b[0m         \u001b[0;32mfinally\u001b[0m\u001b[0;34m:\u001b[0m\u001b[0;34m\u001b[0m\u001b[0;34m\u001b[0m\u001b[0m\n\u001b[1;32m   1080\u001b[0m             \u001b[0;32mif\u001b[0m \u001b[0msource\u001b[0m\u001b[0;34m.\u001b[0m\u001b[0mauto_close\u001b[0m\u001b[0;34m:\u001b[0m\u001b[0;34m\u001b[0m\u001b[0;34m\u001b[0m\u001b[0m\n",
      "\u001b[0;32m~/anaconda3/lib/python3.7/site-packages/rdflib/plugins/parsers/rdfxml.py\u001b[0m in \u001b[0;36mparse\u001b[0;34m(self, source, sink, **args)\u001b[0m\n\u001b[1;32m    577\u001b[0m         \u001b[0;31m# content_handler.reset()\u001b[0m\u001b[0;34m\u001b[0m\u001b[0;34m\u001b[0m\u001b[0;34m\u001b[0m\u001b[0m\n\u001b[1;32m    578\u001b[0m         \u001b[0;31m# self._parser.reset()\u001b[0m\u001b[0;34m\u001b[0m\u001b[0;34m\u001b[0m\u001b[0;34m\u001b[0m\u001b[0m\n\u001b[0;32m--> 579\u001b[0;31m         \u001b[0mself\u001b[0m\u001b[0;34m.\u001b[0m\u001b[0m_parser\u001b[0m\u001b[0;34m.\u001b[0m\u001b[0mparse\u001b[0m\u001b[0;34m(\u001b[0m\u001b[0msource\u001b[0m\u001b[0;34m)\u001b[0m\u001b[0;34m\u001b[0m\u001b[0;34m\u001b[0m\u001b[0m\n\u001b[0m",
      "\u001b[0;32m~/anaconda3/lib/python3.7/xml/sax/expatreader.py\u001b[0m in \u001b[0;36mparse\u001b[0;34m(self, source)\u001b[0m\n\u001b[1;32m    109\u001b[0m             \u001b[0mself\u001b[0m\u001b[0;34m.\u001b[0m\u001b[0mreset\u001b[0m\u001b[0;34m(\u001b[0m\u001b[0;34m)\u001b[0m\u001b[0;34m\u001b[0m\u001b[0;34m\u001b[0m\u001b[0m\n\u001b[1;32m    110\u001b[0m             \u001b[0mself\u001b[0m\u001b[0;34m.\u001b[0m\u001b[0m_cont_handler\u001b[0m\u001b[0;34m.\u001b[0m\u001b[0msetDocumentLocator\u001b[0m\u001b[0;34m(\u001b[0m\u001b[0mExpatLocator\u001b[0m\u001b[0;34m(\u001b[0m\u001b[0mself\u001b[0m\u001b[0;34m)\u001b[0m\u001b[0;34m)\u001b[0m\u001b[0;34m\u001b[0m\u001b[0;34m\u001b[0m\u001b[0m\n\u001b[0;32m--> 111\u001b[0;31m             \u001b[0mxmlreader\u001b[0m\u001b[0;34m.\u001b[0m\u001b[0mIncrementalParser\u001b[0m\u001b[0;34m.\u001b[0m\u001b[0mparse\u001b[0m\u001b[0;34m(\u001b[0m\u001b[0mself\u001b[0m\u001b[0;34m,\u001b[0m \u001b[0msource\u001b[0m\u001b[0;34m)\u001b[0m\u001b[0;34m\u001b[0m\u001b[0;34m\u001b[0m\u001b[0m\n\u001b[0m\u001b[1;32m    112\u001b[0m         \u001b[0;32mexcept\u001b[0m\u001b[0;34m:\u001b[0m\u001b[0;34m\u001b[0m\u001b[0;34m\u001b[0m\u001b[0m\n\u001b[1;32m    113\u001b[0m             \u001b[0;31m# bpo-30264: Close the source on error to not leak resources:\u001b[0m\u001b[0;34m\u001b[0m\u001b[0;34m\u001b[0m\u001b[0;34m\u001b[0m\u001b[0m\n",
      "\u001b[0;32m~/anaconda3/lib/python3.7/xml/sax/xmlreader.py\u001b[0m in \u001b[0;36mparse\u001b[0;34m(self, source)\u001b[0m\n\u001b[1;32m    123\u001b[0m         \u001b[0mbuffer\u001b[0m \u001b[0;34m=\u001b[0m \u001b[0mfile\u001b[0m\u001b[0;34m.\u001b[0m\u001b[0mread\u001b[0m\u001b[0;34m(\u001b[0m\u001b[0mself\u001b[0m\u001b[0;34m.\u001b[0m\u001b[0m_bufsize\u001b[0m\u001b[0;34m)\u001b[0m\u001b[0;34m\u001b[0m\u001b[0;34m\u001b[0m\u001b[0m\n\u001b[1;32m    124\u001b[0m         \u001b[0;32mwhile\u001b[0m \u001b[0mbuffer\u001b[0m\u001b[0;34m:\u001b[0m\u001b[0;34m\u001b[0m\u001b[0;34m\u001b[0m\u001b[0m\n\u001b[0;32m--> 125\u001b[0;31m             \u001b[0mself\u001b[0m\u001b[0;34m.\u001b[0m\u001b[0mfeed\u001b[0m\u001b[0;34m(\u001b[0m\u001b[0mbuffer\u001b[0m\u001b[0;34m)\u001b[0m\u001b[0;34m\u001b[0m\u001b[0;34m\u001b[0m\u001b[0m\n\u001b[0m\u001b[1;32m    126\u001b[0m             \u001b[0mbuffer\u001b[0m \u001b[0;34m=\u001b[0m \u001b[0mfile\u001b[0m\u001b[0;34m.\u001b[0m\u001b[0mread\u001b[0m\u001b[0;34m(\u001b[0m\u001b[0mself\u001b[0m\u001b[0;34m.\u001b[0m\u001b[0m_bufsize\u001b[0m\u001b[0;34m)\u001b[0m\u001b[0;34m\u001b[0m\u001b[0;34m\u001b[0m\u001b[0m\n\u001b[1;32m    127\u001b[0m         \u001b[0mself\u001b[0m\u001b[0;34m.\u001b[0m\u001b[0mclose\u001b[0m\u001b[0;34m(\u001b[0m\u001b[0;34m)\u001b[0m\u001b[0;34m\u001b[0m\u001b[0;34m\u001b[0m\u001b[0m\n",
      "\u001b[0;32m~/anaconda3/lib/python3.7/xml/sax/expatreader.py\u001b[0m in \u001b[0;36mfeed\u001b[0;34m(self, data, isFinal)\u001b[0m\n\u001b[1;32m    215\u001b[0m             \u001b[0;31m# document. When feeding chunks, they are not normally final -\u001b[0m\u001b[0;34m\u001b[0m\u001b[0;34m\u001b[0m\u001b[0;34m\u001b[0m\u001b[0m\n\u001b[1;32m    216\u001b[0m             \u001b[0;31m# except when invoked from close.\u001b[0m\u001b[0;34m\u001b[0m\u001b[0;34m\u001b[0m\u001b[0;34m\u001b[0m\u001b[0m\n\u001b[0;32m--> 217\u001b[0;31m             \u001b[0mself\u001b[0m\u001b[0;34m.\u001b[0m\u001b[0m_parser\u001b[0m\u001b[0;34m.\u001b[0m\u001b[0mParse\u001b[0m\u001b[0;34m(\u001b[0m\u001b[0mdata\u001b[0m\u001b[0;34m,\u001b[0m \u001b[0misFinal\u001b[0m\u001b[0;34m)\u001b[0m\u001b[0;34m\u001b[0m\u001b[0;34m\u001b[0m\u001b[0m\n\u001b[0m\u001b[1;32m    218\u001b[0m         \u001b[0;32mexcept\u001b[0m \u001b[0mexpat\u001b[0m\u001b[0;34m.\u001b[0m\u001b[0merror\u001b[0m \u001b[0;32mas\u001b[0m \u001b[0me\u001b[0m\u001b[0;34m:\u001b[0m\u001b[0;34m\u001b[0m\u001b[0;34m\u001b[0m\u001b[0m\n\u001b[1;32m    219\u001b[0m             \u001b[0mexc\u001b[0m \u001b[0;34m=\u001b[0m \u001b[0mSAXParseException\u001b[0m\u001b[0;34m(\u001b[0m\u001b[0mexpat\u001b[0m\u001b[0;34m.\u001b[0m\u001b[0mErrorString\u001b[0m\u001b[0;34m(\u001b[0m\u001b[0me\u001b[0m\u001b[0;34m.\u001b[0m\u001b[0mcode\u001b[0m\u001b[0;34m)\u001b[0m\u001b[0;34m,\u001b[0m \u001b[0me\u001b[0m\u001b[0;34m,\u001b[0m \u001b[0mself\u001b[0m\u001b[0;34m)\u001b[0m\u001b[0;34m\u001b[0m\u001b[0;34m\u001b[0m\u001b[0m\n",
      "\u001b[0;32m/opt/concourse/worker/volumes/live/13cf9768-d104-4df5-6143-5360c0d9e8b3/volume/python_1585235027941/work/Modules/pyexpat.c\u001b[0m in \u001b[0;36mEndElement\u001b[0;34m()\u001b[0m\n",
      "\u001b[0;32m~/anaconda3/lib/python3.7/xml/sax/expatreader.py\u001b[0m in \u001b[0;36mend_element_ns\u001b[0;34m(self, name)\u001b[0m\n\u001b[1;32m    379\u001b[0m             \u001b[0mpair\u001b[0m \u001b[0;34m=\u001b[0m \u001b[0mtuple\u001b[0m\u001b[0;34m(\u001b[0m\u001b[0mpair\u001b[0m\u001b[0;34m)\u001b[0m\u001b[0;34m\u001b[0m\u001b[0;34m\u001b[0m\u001b[0m\n\u001b[1;32m    380\u001b[0m \u001b[0;34m\u001b[0m\u001b[0m\n\u001b[0;32m--> 381\u001b[0;31m         \u001b[0mself\u001b[0m\u001b[0;34m.\u001b[0m\u001b[0m_cont_handler\u001b[0m\u001b[0;34m.\u001b[0m\u001b[0mendElementNS\u001b[0m\u001b[0;34m(\u001b[0m\u001b[0mpair\u001b[0m\u001b[0;34m,\u001b[0m \u001b[0;32mNone\u001b[0m\u001b[0;34m)\u001b[0m\u001b[0;34m\u001b[0m\u001b[0;34m\u001b[0m\u001b[0m\n\u001b[0m\u001b[1;32m    382\u001b[0m \u001b[0;34m\u001b[0m\u001b[0m\n\u001b[1;32m    383\u001b[0m     \u001b[0;31m# this is not used (call directly to ContentHandler)\u001b[0m\u001b[0;34m\u001b[0m\u001b[0;34m\u001b[0m\u001b[0;34m\u001b[0m\u001b[0m\n",
      "\u001b[0;32m~/anaconda3/lib/python3.7/site-packages/rdflib/plugins/parsers/rdfxml.py\u001b[0m in \u001b[0;36mendElementNS\u001b[0;34m(self, name, qname)\u001b[0m\n\u001b[1;32m    159\u001b[0m \u001b[0;34m\u001b[0m\u001b[0m\n\u001b[1;32m    160\u001b[0m     \u001b[0;32mdef\u001b[0m \u001b[0mendElementNS\u001b[0m\u001b[0;34m(\u001b[0m\u001b[0mself\u001b[0m\u001b[0;34m,\u001b[0m \u001b[0mname\u001b[0m\u001b[0;34m,\u001b[0m \u001b[0mqname\u001b[0m\u001b[0;34m)\u001b[0m\u001b[0;34m:\u001b[0m\u001b[0;34m\u001b[0m\u001b[0;34m\u001b[0m\u001b[0m\n\u001b[0;32m--> 161\u001b[0;31m         \u001b[0mself\u001b[0m\u001b[0;34m.\u001b[0m\u001b[0mcurrent\u001b[0m\u001b[0;34m.\u001b[0m\u001b[0mend\u001b[0m\u001b[0;34m(\u001b[0m\u001b[0mname\u001b[0m\u001b[0;34m,\u001b[0m \u001b[0mqname\u001b[0m\u001b[0;34m)\u001b[0m\u001b[0;34m\u001b[0m\u001b[0;34m\u001b[0m\u001b[0m\n\u001b[0m\u001b[1;32m    162\u001b[0m         \u001b[0mself\u001b[0m\u001b[0;34m.\u001b[0m\u001b[0mstack\u001b[0m\u001b[0;34m.\u001b[0m\u001b[0mpop\u001b[0m\u001b[0;34m(\u001b[0m\u001b[0;34m)\u001b[0m\u001b[0;34m\u001b[0m\u001b[0;34m\u001b[0m\u001b[0m\n\u001b[1;32m    163\u001b[0m \u001b[0;34m\u001b[0m\u001b[0m\n",
      "\u001b[0;32m~/anaconda3/lib/python3.7/site-packages/rdflib/plugins/parsers/rdfxml.py\u001b[0m in \u001b[0;36mnode_element_end\u001b[0;34m(self, name, qname)\u001b[0m\n\u001b[1;32m    331\u001b[0m         \u001b[0;32mif\u001b[0m \u001b[0mself\u001b[0m\u001b[0;34m.\u001b[0m\u001b[0mparent\u001b[0m\u001b[0;34m.\u001b[0m\u001b[0mobject\u001b[0m \u001b[0;32mand\u001b[0m \u001b[0mself\u001b[0m\u001b[0;34m.\u001b[0m\u001b[0mcurrent\u001b[0m \u001b[0;34m!=\u001b[0m \u001b[0mself\u001b[0m\u001b[0;34m.\u001b[0m\u001b[0mstack\u001b[0m\u001b[0;34m[\u001b[0m\u001b[0;36m2\u001b[0m\u001b[0;34m]\u001b[0m\u001b[0;34m:\u001b[0m\u001b[0;34m\u001b[0m\u001b[0;34m\u001b[0m\u001b[0m\n\u001b[1;32m    332\u001b[0m \u001b[0;34m\u001b[0m\u001b[0m\n\u001b[0;32m--> 333\u001b[0;31m             \u001b[0mself\u001b[0m\u001b[0;34m.\u001b[0m\u001b[0merror\u001b[0m\u001b[0;34m(\u001b[0m\u001b[0;34m\"Repeat node-elements inside property elements: %s\"\u001b[0m\u001b[0;34m%\u001b[0m\u001b[0;34m\"\"\u001b[0m\u001b[0;34m.\u001b[0m\u001b[0mjoin\u001b[0m\u001b[0;34m(\u001b[0m\u001b[0mname\u001b[0m\u001b[0;34m)\u001b[0m\u001b[0;34m)\u001b[0m\u001b[0;34m\u001b[0m\u001b[0;34m\u001b[0m\u001b[0m\n\u001b[0m\u001b[1;32m    334\u001b[0m \u001b[0;34m\u001b[0m\u001b[0m\n\u001b[1;32m    335\u001b[0m         \u001b[0mself\u001b[0m\u001b[0;34m.\u001b[0m\u001b[0mparent\u001b[0m\u001b[0;34m.\u001b[0m\u001b[0mobject\u001b[0m \u001b[0;34m=\u001b[0m \u001b[0mself\u001b[0m\u001b[0;34m.\u001b[0m\u001b[0mcurrent\u001b[0m\u001b[0;34m.\u001b[0m\u001b[0msubject\u001b[0m\u001b[0;34m\u001b[0m\u001b[0;34m\u001b[0m\u001b[0m\n",
      "\u001b[0;32m~/anaconda3/lib/python3.7/site-packages/rdflib/plugins/parsers/rdfxml.py\u001b[0m in \u001b[0;36merror\u001b[0;34m(self, message)\u001b[0m\n\u001b[1;32m    185\u001b[0m                                \u001b[0mlocator\u001b[0m\u001b[0;34m.\u001b[0m\u001b[0mgetLineNumber\u001b[0m\u001b[0;34m(\u001b[0m\u001b[0;34m)\u001b[0m\u001b[0;34m,\u001b[0m\u001b[0;34m\u001b[0m\u001b[0;34m\u001b[0m\u001b[0m\n\u001b[1;32m    186\u001b[0m                                locator.getColumnNumber())\n\u001b[0;32m--> 187\u001b[0;31m         \u001b[0;32mraise\u001b[0m \u001b[0mParserError\u001b[0m\u001b[0;34m(\u001b[0m\u001b[0minfo\u001b[0m \u001b[0;34m+\u001b[0m \u001b[0mmessage\u001b[0m\u001b[0;34m)\u001b[0m\u001b[0;34m\u001b[0m\u001b[0;34m\u001b[0m\u001b[0m\n\u001b[0m\u001b[1;32m    188\u001b[0m \u001b[0;34m\u001b[0m\u001b[0m\n\u001b[1;32m    189\u001b[0m     \u001b[0;32mdef\u001b[0m \u001b[0mget_current\u001b[0m\u001b[0;34m(\u001b[0m\u001b[0mself\u001b[0m\u001b[0;34m)\u001b[0m\u001b[0;34m:\u001b[0m\u001b[0;34m\u001b[0m\u001b[0;34m\u001b[0m\u001b[0m\n",
      "\u001b[0;31mParserError\u001b[0m: file:///Users/yan/Google%20Drive/django/otmaponto/match/ontology_mapping/data/hydrography/hydrography-v1/cree-swo/source.rdf:2638:35: Repeat node-elements inside property elements: http://www.w3.org/2002/07/owl#Class"
     ]
    }
   ],
   "source": [
    "mapper.align(source_url, target_url, output_url)"
   ]
  },
  {
   "cell_type": "code",
   "execution_count": null,
   "id": "30089467-e8a5-4266-bb44-a671413d5fe6",
   "metadata": {},
   "outputs": [],
   "source": [
    "preds = maponto.load_alignments(output_url, 'predicted')\n",
    "maponto.evaluate(preds, refs_url)"
   ]
  },
  {
   "cell_type": "code",
   "execution_count": null,
   "id": "65dc2b88-f4c2-4ae2-850b-2e84feaa2247",
   "metadata": {},
   "outputs": [],
   "source": []
  },
  {
   "cell_type": "code",
   "execution_count": 18,
   "id": "8a2294d9-6e84-477e-988f-c2a63bd3505f",
   "metadata": {},
   "outputs": [],
   "source": [
    "source_url = \"../data/hydrography/hydrography-v1/hydro3-swo/source.rdf\"\n",
    "target_url = \"../data/hydrography/hydrography-v1/hydro3-swo/target.rdf\"\n",
    "output_url = '../data/results/hydrograph_hydro3_swo_alignment.rdf'\n",
    "refs_url = \"../data/hydrography/hydrography-v1/hydro3-swo/reference.rdf\""
   ]
  },
  {
   "cell_type": "code",
   "execution_count": 19,
   "id": "ada4cb35-af5f-49f1-81c8-e5f4879ffff1",
   "metadata": {},
   "outputs": [
    {
     "name": "stderr",
     "output_type": "stream",
     "text": [
      "INFO:root:Python ensemble mapper info: map ../data/hydrography/hydrography-v1/hydro3-swo/source.rdf to ../data/hydrography/hydrography-v1/hydro3-swo/target.rdf\n"
     ]
    },
    {
     "ename": "ParserError",
     "evalue": "file:///Users/yan/Google%20Drive/django/otmaponto/match/ontology_mapping/data/hydrography/hydrography-v1/hydro3-swo/source.rdf:15:101: Repeat node-elements inside property elements: http://www.w3.org/2002/07/owl#Literal",
     "output_type": "error",
     "traceback": [
      "\u001b[0;31m---------------------------------------------------------------------------\u001b[0m",
      "\u001b[0;31mParserError\u001b[0m                               Traceback (most recent call last)",
      "\u001b[0;32m<ipython-input-19-6770be26f0b5>\u001b[0m in \u001b[0;36m<module>\u001b[0;34m\u001b[0m\n\u001b[0;32m----> 1\u001b[0;31m \u001b[0mmapper\u001b[0m\u001b[0;34m.\u001b[0m\u001b[0malign\u001b[0m\u001b[0;34m(\u001b[0m\u001b[0msource_url\u001b[0m\u001b[0;34m,\u001b[0m \u001b[0mtarget_url\u001b[0m\u001b[0;34m,\u001b[0m \u001b[0moutput_url\u001b[0m\u001b[0;34m)\u001b[0m\u001b[0;34m\u001b[0m\u001b[0;34m\u001b[0m\u001b[0m\n\u001b[0m",
      "\u001b[0;32m~/Google Drive/django/otmaponto/match/ontology_mapping/src/OTMapper.py\u001b[0m in \u001b[0;36malign\u001b[0;34m(self, source_url, target_url, output_url)\u001b[0m\n\u001b[1;32m   1433\u001b[0m \u001b[0;34m\u001b[0m\u001b[0m\n\u001b[1;32m   1434\u001b[0m     \u001b[0;32mdef\u001b[0m \u001b[0malign\u001b[0m\u001b[0;34m(\u001b[0m\u001b[0mself\u001b[0m\u001b[0;34m,\u001b[0m \u001b[0msource_url\u001b[0m\u001b[0;34m,\u001b[0m \u001b[0mtarget_url\u001b[0m\u001b[0;34m,\u001b[0m \u001b[0moutput_url\u001b[0m\u001b[0;34m)\u001b[0m\u001b[0;34m:\u001b[0m\u001b[0;34m\u001b[0m\u001b[0;34m\u001b[0m\u001b[0m\n\u001b[0;32m-> 1435\u001b[0;31m         \u001b[0mmatch\u001b[0m\u001b[0;34m(\u001b[0m\u001b[0msource_url\u001b[0m\u001b[0;34m,\u001b[0m \u001b[0mtarget_url\u001b[0m\u001b[0;34m,\u001b[0m \u001b[0mself\u001b[0m\u001b[0;34m.\u001b[0m\u001b[0membs_model\u001b[0m\u001b[0;34m,\u001b[0m \u001b[0moutput_url\u001b[0m\u001b[0;34m,\u001b[0m \u001b[0;32mNone\u001b[0m\u001b[0;34m)\u001b[0m\u001b[0;34m\u001b[0m\u001b[0;34m\u001b[0m\u001b[0m\n\u001b[0m\u001b[1;32m   1436\u001b[0m \u001b[0;34m\u001b[0m\u001b[0m\n\u001b[1;32m   1437\u001b[0m \u001b[0;34m\u001b[0m\u001b[0m\n",
      "\u001b[0;32m~/Google Drive/django/otmaponto/match/ontology_mapping/src/OTMapper.py\u001b[0m in \u001b[0;36mmatch\u001b[0;34m(source_url, target_url, embs_model, output_url, input_alignment_url)\u001b[0m\n\u001b[1;32m   1402\u001b[0m \u001b[0;34m\u001b[0m\u001b[0m\n\u001b[1;32m   1403\u001b[0m \u001b[0;34m\u001b[0m\u001b[0m\n\u001b[0;32m-> 1404\u001b[0;31m     \u001b[0mresulting_alignment\u001b[0m \u001b[0;34m=\u001b[0m \u001b[0mensemble_map\u001b[0m\u001b[0;34m(\u001b[0m\u001b[0msource_url\u001b[0m\u001b[0;34m,\u001b[0m \u001b[0mtarget_url\u001b[0m\u001b[0;34m,\u001b[0m \u001b[0membs_model\u001b[0m\u001b[0;34m)\u001b[0m\u001b[0;34m\u001b[0m\u001b[0;34m\u001b[0m\u001b[0m\n\u001b[0m\u001b[1;32m   1405\u001b[0m \u001b[0;34m\u001b[0m\u001b[0m\n\u001b[1;32m   1406\u001b[0m \u001b[0;34m\u001b[0m\u001b[0m\n",
      "\u001b[0;32m~/Google Drive/django/otmaponto/match/ontology_mapping/src/OTMapper.py\u001b[0m in \u001b[0;36mensemble_map\u001b[0;34m(source_url, target_url, embs_model)\u001b[0m\n\u001b[1;32m   1316\u001b[0m \u001b[0;34m\u001b[0m\u001b[0m\n\u001b[1;32m   1317\u001b[0m     \u001b[0msource_graph\u001b[0m \u001b[0;34m=\u001b[0m \u001b[0mGraph\u001b[0m\u001b[0;34m(\u001b[0m\u001b[0;34m)\u001b[0m\u001b[0;34m\u001b[0m\u001b[0;34m\u001b[0m\u001b[0m\n\u001b[0;32m-> 1318\u001b[0;31m     \u001b[0msource_graph\u001b[0m\u001b[0;34m.\u001b[0m\u001b[0mparse\u001b[0m\u001b[0;34m(\u001b[0m\u001b[0msource_url\u001b[0m\u001b[0;34m)\u001b[0m\u001b[0;34m\u001b[0m\u001b[0;34m\u001b[0m\u001b[0m\n\u001b[0m\u001b[1;32m   1319\u001b[0m     \u001b[0msource_graph\u001b[0m\u001b[0;34m.\u001b[0m\u001b[0mnamespace_manager\u001b[0m\u001b[0;34m.\u001b[0m\u001b[0mbind\u001b[0m\u001b[0;34m(\u001b[0m\u001b[0;34m\"owl\"\u001b[0m\u001b[0;34m,\u001b[0m \u001b[0mOWL_NS\u001b[0m\u001b[0;34m)\u001b[0m\u001b[0;34m\u001b[0m\u001b[0;34m\u001b[0m\u001b[0m\n\u001b[1;32m   1320\u001b[0m     \u001b[0mlogging\u001b[0m\u001b[0;34m.\u001b[0m\u001b[0minfo\u001b[0m\u001b[0;34m(\u001b[0m\u001b[0;34m\"Read source with %s triples.\"\u001b[0m\u001b[0;34m,\u001b[0m \u001b[0mlen\u001b[0m\u001b[0;34m(\u001b[0m\u001b[0msource_graph\u001b[0m\u001b[0;34m)\u001b[0m\u001b[0;34m)\u001b[0m\u001b[0;34m\u001b[0m\u001b[0;34m\u001b[0m\u001b[0m\n",
      "\u001b[0;32m~/anaconda3/lib/python3.7/site-packages/rdflib/graph.py\u001b[0m in \u001b[0;36mparse\u001b[0;34m(self, source, publicID, format, location, file, data, **args)\u001b[0m\n\u001b[1;32m   1076\u001b[0m         \u001b[0mparser\u001b[0m \u001b[0;34m=\u001b[0m \u001b[0mplugin\u001b[0m\u001b[0;34m.\u001b[0m\u001b[0mget\u001b[0m\u001b[0;34m(\u001b[0m\u001b[0mformat\u001b[0m\u001b[0;34m,\u001b[0m \u001b[0mParser\u001b[0m\u001b[0;34m)\u001b[0m\u001b[0;34m(\u001b[0m\u001b[0;34m)\u001b[0m\u001b[0;34m\u001b[0m\u001b[0;34m\u001b[0m\u001b[0m\n\u001b[1;32m   1077\u001b[0m         \u001b[0;32mtry\u001b[0m\u001b[0;34m:\u001b[0m\u001b[0;34m\u001b[0m\u001b[0;34m\u001b[0m\u001b[0m\n\u001b[0;32m-> 1078\u001b[0;31m             \u001b[0mparser\u001b[0m\u001b[0;34m.\u001b[0m\u001b[0mparse\u001b[0m\u001b[0;34m(\u001b[0m\u001b[0msource\u001b[0m\u001b[0;34m,\u001b[0m \u001b[0mself\u001b[0m\u001b[0;34m,\u001b[0m \u001b[0;34m**\u001b[0m\u001b[0margs\u001b[0m\u001b[0;34m)\u001b[0m\u001b[0;34m\u001b[0m\u001b[0;34m\u001b[0m\u001b[0m\n\u001b[0m\u001b[1;32m   1079\u001b[0m         \u001b[0;32mfinally\u001b[0m\u001b[0;34m:\u001b[0m\u001b[0;34m\u001b[0m\u001b[0;34m\u001b[0m\u001b[0m\n\u001b[1;32m   1080\u001b[0m             \u001b[0;32mif\u001b[0m \u001b[0msource\u001b[0m\u001b[0;34m.\u001b[0m\u001b[0mauto_close\u001b[0m\u001b[0;34m:\u001b[0m\u001b[0;34m\u001b[0m\u001b[0;34m\u001b[0m\u001b[0m\n",
      "\u001b[0;32m~/anaconda3/lib/python3.7/site-packages/rdflib/plugins/parsers/rdfxml.py\u001b[0m in \u001b[0;36mparse\u001b[0;34m(self, source, sink, **args)\u001b[0m\n\u001b[1;32m    577\u001b[0m         \u001b[0;31m# content_handler.reset()\u001b[0m\u001b[0;34m\u001b[0m\u001b[0;34m\u001b[0m\u001b[0;34m\u001b[0m\u001b[0m\n\u001b[1;32m    578\u001b[0m         \u001b[0;31m# self._parser.reset()\u001b[0m\u001b[0;34m\u001b[0m\u001b[0;34m\u001b[0m\u001b[0;34m\u001b[0m\u001b[0m\n\u001b[0;32m--> 579\u001b[0;31m         \u001b[0mself\u001b[0m\u001b[0;34m.\u001b[0m\u001b[0m_parser\u001b[0m\u001b[0;34m.\u001b[0m\u001b[0mparse\u001b[0m\u001b[0;34m(\u001b[0m\u001b[0msource\u001b[0m\u001b[0;34m)\u001b[0m\u001b[0;34m\u001b[0m\u001b[0;34m\u001b[0m\u001b[0m\n\u001b[0m",
      "\u001b[0;32m~/anaconda3/lib/python3.7/xml/sax/expatreader.py\u001b[0m in \u001b[0;36mparse\u001b[0;34m(self, source)\u001b[0m\n\u001b[1;32m    109\u001b[0m             \u001b[0mself\u001b[0m\u001b[0;34m.\u001b[0m\u001b[0mreset\u001b[0m\u001b[0;34m(\u001b[0m\u001b[0;34m)\u001b[0m\u001b[0;34m\u001b[0m\u001b[0;34m\u001b[0m\u001b[0m\n\u001b[1;32m    110\u001b[0m             \u001b[0mself\u001b[0m\u001b[0;34m.\u001b[0m\u001b[0m_cont_handler\u001b[0m\u001b[0;34m.\u001b[0m\u001b[0msetDocumentLocator\u001b[0m\u001b[0;34m(\u001b[0m\u001b[0mExpatLocator\u001b[0m\u001b[0;34m(\u001b[0m\u001b[0mself\u001b[0m\u001b[0;34m)\u001b[0m\u001b[0;34m)\u001b[0m\u001b[0;34m\u001b[0m\u001b[0;34m\u001b[0m\u001b[0m\n\u001b[0;32m--> 111\u001b[0;31m             \u001b[0mxmlreader\u001b[0m\u001b[0;34m.\u001b[0m\u001b[0mIncrementalParser\u001b[0m\u001b[0;34m.\u001b[0m\u001b[0mparse\u001b[0m\u001b[0;34m(\u001b[0m\u001b[0mself\u001b[0m\u001b[0;34m,\u001b[0m \u001b[0msource\u001b[0m\u001b[0;34m)\u001b[0m\u001b[0;34m\u001b[0m\u001b[0;34m\u001b[0m\u001b[0m\n\u001b[0m\u001b[1;32m    112\u001b[0m         \u001b[0;32mexcept\u001b[0m\u001b[0;34m:\u001b[0m\u001b[0;34m\u001b[0m\u001b[0;34m\u001b[0m\u001b[0m\n\u001b[1;32m    113\u001b[0m             \u001b[0;31m# bpo-30264: Close the source on error to not leak resources:\u001b[0m\u001b[0;34m\u001b[0m\u001b[0;34m\u001b[0m\u001b[0;34m\u001b[0m\u001b[0m\n",
      "\u001b[0;32m~/anaconda3/lib/python3.7/xml/sax/xmlreader.py\u001b[0m in \u001b[0;36mparse\u001b[0;34m(self, source)\u001b[0m\n\u001b[1;32m    123\u001b[0m         \u001b[0mbuffer\u001b[0m \u001b[0;34m=\u001b[0m \u001b[0mfile\u001b[0m\u001b[0;34m.\u001b[0m\u001b[0mread\u001b[0m\u001b[0;34m(\u001b[0m\u001b[0mself\u001b[0m\u001b[0;34m.\u001b[0m\u001b[0m_bufsize\u001b[0m\u001b[0;34m)\u001b[0m\u001b[0;34m\u001b[0m\u001b[0;34m\u001b[0m\u001b[0m\n\u001b[1;32m    124\u001b[0m         \u001b[0;32mwhile\u001b[0m \u001b[0mbuffer\u001b[0m\u001b[0;34m:\u001b[0m\u001b[0;34m\u001b[0m\u001b[0;34m\u001b[0m\u001b[0m\n\u001b[0;32m--> 125\u001b[0;31m             \u001b[0mself\u001b[0m\u001b[0;34m.\u001b[0m\u001b[0mfeed\u001b[0m\u001b[0;34m(\u001b[0m\u001b[0mbuffer\u001b[0m\u001b[0;34m)\u001b[0m\u001b[0;34m\u001b[0m\u001b[0;34m\u001b[0m\u001b[0m\n\u001b[0m\u001b[1;32m    126\u001b[0m             \u001b[0mbuffer\u001b[0m \u001b[0;34m=\u001b[0m \u001b[0mfile\u001b[0m\u001b[0;34m.\u001b[0m\u001b[0mread\u001b[0m\u001b[0;34m(\u001b[0m\u001b[0mself\u001b[0m\u001b[0;34m.\u001b[0m\u001b[0m_bufsize\u001b[0m\u001b[0;34m)\u001b[0m\u001b[0;34m\u001b[0m\u001b[0;34m\u001b[0m\u001b[0m\n\u001b[1;32m    127\u001b[0m         \u001b[0mself\u001b[0m\u001b[0;34m.\u001b[0m\u001b[0mclose\u001b[0m\u001b[0;34m(\u001b[0m\u001b[0;34m)\u001b[0m\u001b[0;34m\u001b[0m\u001b[0;34m\u001b[0m\u001b[0m\n",
      "\u001b[0;32m~/anaconda3/lib/python3.7/xml/sax/expatreader.py\u001b[0m in \u001b[0;36mfeed\u001b[0;34m(self, data, isFinal)\u001b[0m\n\u001b[1;32m    215\u001b[0m             \u001b[0;31m# document. When feeding chunks, they are not normally final -\u001b[0m\u001b[0;34m\u001b[0m\u001b[0;34m\u001b[0m\u001b[0;34m\u001b[0m\u001b[0m\n\u001b[1;32m    216\u001b[0m             \u001b[0;31m# except when invoked from close.\u001b[0m\u001b[0;34m\u001b[0m\u001b[0;34m\u001b[0m\u001b[0;34m\u001b[0m\u001b[0m\n\u001b[0;32m--> 217\u001b[0;31m             \u001b[0mself\u001b[0m\u001b[0;34m.\u001b[0m\u001b[0m_parser\u001b[0m\u001b[0;34m.\u001b[0m\u001b[0mParse\u001b[0m\u001b[0;34m(\u001b[0m\u001b[0mdata\u001b[0m\u001b[0;34m,\u001b[0m \u001b[0misFinal\u001b[0m\u001b[0;34m)\u001b[0m\u001b[0;34m\u001b[0m\u001b[0;34m\u001b[0m\u001b[0m\n\u001b[0m\u001b[1;32m    218\u001b[0m         \u001b[0;32mexcept\u001b[0m \u001b[0mexpat\u001b[0m\u001b[0;34m.\u001b[0m\u001b[0merror\u001b[0m \u001b[0;32mas\u001b[0m \u001b[0me\u001b[0m\u001b[0;34m:\u001b[0m\u001b[0;34m\u001b[0m\u001b[0;34m\u001b[0m\u001b[0m\n\u001b[1;32m    219\u001b[0m             \u001b[0mexc\u001b[0m \u001b[0;34m=\u001b[0m \u001b[0mSAXParseException\u001b[0m\u001b[0;34m(\u001b[0m\u001b[0mexpat\u001b[0m\u001b[0;34m.\u001b[0m\u001b[0mErrorString\u001b[0m\u001b[0;34m(\u001b[0m\u001b[0me\u001b[0m\u001b[0;34m.\u001b[0m\u001b[0mcode\u001b[0m\u001b[0;34m)\u001b[0m\u001b[0;34m,\u001b[0m \u001b[0me\u001b[0m\u001b[0;34m,\u001b[0m \u001b[0mself\u001b[0m\u001b[0;34m)\u001b[0m\u001b[0;34m\u001b[0m\u001b[0;34m\u001b[0m\u001b[0m\n",
      "\u001b[0;32m/opt/concourse/worker/volumes/live/13cf9768-d104-4df5-6143-5360c0d9e8b3/volume/python_1585235027941/work/Modules/pyexpat.c\u001b[0m in \u001b[0;36mEndElement\u001b[0;34m()\u001b[0m\n",
      "\u001b[0;32m~/anaconda3/lib/python3.7/xml/sax/expatreader.py\u001b[0m in \u001b[0;36mend_element_ns\u001b[0;34m(self, name)\u001b[0m\n\u001b[1;32m    379\u001b[0m             \u001b[0mpair\u001b[0m \u001b[0;34m=\u001b[0m \u001b[0mtuple\u001b[0m\u001b[0;34m(\u001b[0m\u001b[0mpair\u001b[0m\u001b[0;34m)\u001b[0m\u001b[0;34m\u001b[0m\u001b[0;34m\u001b[0m\u001b[0m\n\u001b[1;32m    380\u001b[0m \u001b[0;34m\u001b[0m\u001b[0m\n\u001b[0;32m--> 381\u001b[0;31m         \u001b[0mself\u001b[0m\u001b[0;34m.\u001b[0m\u001b[0m_cont_handler\u001b[0m\u001b[0;34m.\u001b[0m\u001b[0mendElementNS\u001b[0m\u001b[0;34m(\u001b[0m\u001b[0mpair\u001b[0m\u001b[0;34m,\u001b[0m \u001b[0;32mNone\u001b[0m\u001b[0;34m)\u001b[0m\u001b[0;34m\u001b[0m\u001b[0;34m\u001b[0m\u001b[0m\n\u001b[0m\u001b[1;32m    382\u001b[0m \u001b[0;34m\u001b[0m\u001b[0m\n\u001b[1;32m    383\u001b[0m     \u001b[0;31m# this is not used (call directly to ContentHandler)\u001b[0m\u001b[0;34m\u001b[0m\u001b[0;34m\u001b[0m\u001b[0;34m\u001b[0m\u001b[0m\n",
      "\u001b[0;32m~/anaconda3/lib/python3.7/site-packages/rdflib/plugins/parsers/rdfxml.py\u001b[0m in \u001b[0;36mendElementNS\u001b[0;34m(self, name, qname)\u001b[0m\n\u001b[1;32m    159\u001b[0m \u001b[0;34m\u001b[0m\u001b[0m\n\u001b[1;32m    160\u001b[0m     \u001b[0;32mdef\u001b[0m \u001b[0mendElementNS\u001b[0m\u001b[0;34m(\u001b[0m\u001b[0mself\u001b[0m\u001b[0;34m,\u001b[0m \u001b[0mname\u001b[0m\u001b[0;34m,\u001b[0m \u001b[0mqname\u001b[0m\u001b[0;34m)\u001b[0m\u001b[0;34m:\u001b[0m\u001b[0;34m\u001b[0m\u001b[0;34m\u001b[0m\u001b[0m\n\u001b[0;32m--> 161\u001b[0;31m         \u001b[0mself\u001b[0m\u001b[0;34m.\u001b[0m\u001b[0mcurrent\u001b[0m\u001b[0;34m.\u001b[0m\u001b[0mend\u001b[0m\u001b[0;34m(\u001b[0m\u001b[0mname\u001b[0m\u001b[0;34m,\u001b[0m \u001b[0mqname\u001b[0m\u001b[0;34m)\u001b[0m\u001b[0;34m\u001b[0m\u001b[0;34m\u001b[0m\u001b[0m\n\u001b[0m\u001b[1;32m    162\u001b[0m         \u001b[0mself\u001b[0m\u001b[0;34m.\u001b[0m\u001b[0mstack\u001b[0m\u001b[0;34m.\u001b[0m\u001b[0mpop\u001b[0m\u001b[0;34m(\u001b[0m\u001b[0;34m)\u001b[0m\u001b[0;34m\u001b[0m\u001b[0;34m\u001b[0m\u001b[0m\n\u001b[1;32m    163\u001b[0m \u001b[0;34m\u001b[0m\u001b[0m\n",
      "\u001b[0;32m~/anaconda3/lib/python3.7/site-packages/rdflib/plugins/parsers/rdfxml.py\u001b[0m in \u001b[0;36mnode_element_end\u001b[0;34m(self, name, qname)\u001b[0m\n\u001b[1;32m    331\u001b[0m         \u001b[0;32mif\u001b[0m \u001b[0mself\u001b[0m\u001b[0;34m.\u001b[0m\u001b[0mparent\u001b[0m\u001b[0;34m.\u001b[0m\u001b[0mobject\u001b[0m \u001b[0;32mand\u001b[0m \u001b[0mself\u001b[0m\u001b[0;34m.\u001b[0m\u001b[0mcurrent\u001b[0m \u001b[0;34m!=\u001b[0m \u001b[0mself\u001b[0m\u001b[0;34m.\u001b[0m\u001b[0mstack\u001b[0m\u001b[0;34m[\u001b[0m\u001b[0;36m2\u001b[0m\u001b[0;34m]\u001b[0m\u001b[0;34m:\u001b[0m\u001b[0;34m\u001b[0m\u001b[0;34m\u001b[0m\u001b[0m\n\u001b[1;32m    332\u001b[0m \u001b[0;34m\u001b[0m\u001b[0m\n\u001b[0;32m--> 333\u001b[0;31m             \u001b[0mself\u001b[0m\u001b[0;34m.\u001b[0m\u001b[0merror\u001b[0m\u001b[0;34m(\u001b[0m\u001b[0;34m\"Repeat node-elements inside property elements: %s\"\u001b[0m\u001b[0;34m%\u001b[0m\u001b[0;34m\"\"\u001b[0m\u001b[0;34m.\u001b[0m\u001b[0mjoin\u001b[0m\u001b[0;34m(\u001b[0m\u001b[0mname\u001b[0m\u001b[0;34m)\u001b[0m\u001b[0;34m)\u001b[0m\u001b[0;34m\u001b[0m\u001b[0;34m\u001b[0m\u001b[0m\n\u001b[0m\u001b[1;32m    334\u001b[0m \u001b[0;34m\u001b[0m\u001b[0m\n\u001b[1;32m    335\u001b[0m         \u001b[0mself\u001b[0m\u001b[0;34m.\u001b[0m\u001b[0mparent\u001b[0m\u001b[0;34m.\u001b[0m\u001b[0mobject\u001b[0m \u001b[0;34m=\u001b[0m \u001b[0mself\u001b[0m\u001b[0;34m.\u001b[0m\u001b[0mcurrent\u001b[0m\u001b[0;34m.\u001b[0m\u001b[0msubject\u001b[0m\u001b[0;34m\u001b[0m\u001b[0;34m\u001b[0m\u001b[0m\n",
      "\u001b[0;32m~/anaconda3/lib/python3.7/site-packages/rdflib/plugins/parsers/rdfxml.py\u001b[0m in \u001b[0;36merror\u001b[0;34m(self, message)\u001b[0m\n\u001b[1;32m    185\u001b[0m                                \u001b[0mlocator\u001b[0m\u001b[0;34m.\u001b[0m\u001b[0mgetLineNumber\u001b[0m\u001b[0;34m(\u001b[0m\u001b[0;34m)\u001b[0m\u001b[0;34m,\u001b[0m\u001b[0;34m\u001b[0m\u001b[0;34m\u001b[0m\u001b[0m\n\u001b[1;32m    186\u001b[0m                                locator.getColumnNumber())\n\u001b[0;32m--> 187\u001b[0;31m         \u001b[0;32mraise\u001b[0m \u001b[0mParserError\u001b[0m\u001b[0;34m(\u001b[0m\u001b[0minfo\u001b[0m \u001b[0;34m+\u001b[0m \u001b[0mmessage\u001b[0m\u001b[0;34m)\u001b[0m\u001b[0;34m\u001b[0m\u001b[0;34m\u001b[0m\u001b[0m\n\u001b[0m\u001b[1;32m    188\u001b[0m \u001b[0;34m\u001b[0m\u001b[0m\n\u001b[1;32m    189\u001b[0m     \u001b[0;32mdef\u001b[0m \u001b[0mget_current\u001b[0m\u001b[0;34m(\u001b[0m\u001b[0mself\u001b[0m\u001b[0;34m)\u001b[0m\u001b[0;34m:\u001b[0m\u001b[0;34m\u001b[0m\u001b[0;34m\u001b[0m\u001b[0m\n",
      "\u001b[0;31mParserError\u001b[0m: file:///Users/yan/Google%20Drive/django/otmaponto/match/ontology_mapping/data/hydrography/hydrography-v1/hydro3-swo/source.rdf:15:101: Repeat node-elements inside property elements: http://www.w3.org/2002/07/owl#Literal"
     ]
    }
   ],
   "source": [
    "mapper.align(source_url, target_url, output_url)"
   ]
  },
  {
   "cell_type": "code",
   "execution_count": null,
   "id": "9ad462b1-d2e9-4193-b63b-43a543742cdc",
   "metadata": {},
   "outputs": [],
   "source": [
    "preds = maponto.load_alignments(output_url, 'predicted')\n",
    "maponto.evaluate(preds, refs_url)"
   ]
  },
  {
   "cell_type": "markdown",
   "id": "944489bf-ac21-4bc1-ad71-31dcbf64fea8",
   "metadata": {},
   "source": [
    "# Popenslaved"
   ]
  },
  {
   "cell_type": "code",
   "execution_count": 35,
   "id": "65b54a3c-37bc-4fad-aff4-f9b130e0cf5c",
   "metadata": {},
   "outputs": [],
   "source": [
    "source_url = \"../data/popenslaved/popenslaved-v1/enslaved-wikidata/source.rdf\"\n",
    "target_url = \"../data/popenslaved/popenslaved-v1/enslaved-wikidata/target.rdf\"\n",
    "output_url = '../data/results/popenslaved_enslaved_wikidata_alignment.rdf'\n",
    "refs_url = \"../data/popenslaved/popenslaved-v1/enslaved-wikidata/reference.rdf\""
   ]
  },
  {
   "cell_type": "code",
   "execution_count": 36,
   "id": "b55f159a-39f3-4c39-be6a-a9f3a7246087",
   "metadata": {},
   "outputs": [
    {
     "name": "stderr",
     "output_type": "stream",
     "text": [
      "INFO:root:Python ensemble mapper info: map ../data/popenslaved/popenslaved-v1/enslaved-wikidata/source.rdf to ../data/popenslaved/popenslaved-v1/enslaved-wikidata/target.rdf\n",
      "INFO:root:Read source with 68133 triples.\n",
      "INFO:root:Read target with 83515 triples.\n",
      "INFO:root:MAP CONCEPTS\n",
      "INFO:root:The number of level_1 predicted mapping is 8.\n",
      "INFO:root:Retrieving Synsets by WordNet...\n",
      "INFO:root:The number of level_2 predicted mapping is 1\n",
      "INFO:root:Compute the related words for each source concept....\n",
      "33it [00:00, 147.65it/s]\n",
      "INFO:root:Total number of source concepts computed with relatd words is 33\n",
      "INFO:root:Compute the related words for each target concept....\n",
      "9it [00:00, 140.96it/s]\n",
      "INFO:root:Total number of target concepts computed with related words is 9\n",
      "100%|██████████| 33/33 [00:00<00:00, 40926.09it/s]\n",
      "INFO:root:The number of level_3 predicted mapping is 6\n",
      "INFO:root:Compute Pairwise Wasserstein Distances...\n",
      "100%|██████████| 27/27 [00:00<00:00, 563.70it/s]\n",
      "INFO:root:The number of level_4 predicted mapping is 1\n",
      "INFO:root:Skip level_5 mapping.\n",
      "INFO:root:Matching Label Embeddings by Optimal Transport...\n",
      "INFO:root:Computing the Ground Embedding Costs between the Source and Target Points...\n",
      "INFO:root:The shape of the cost matrix is (26, 2)\n",
      "INFO:root:Computing Optimal Transport Plan...\n",
      "INFO:root:Computing Wasserstein distance by the Sinkhorn algorithm...\n",
      "INFO:root:The Sinkhorn got warnings. Computing Wasserstein distance by the EMD algorithm...\n",
      "INFO:root:Making Mappings from a Pairwise OT Plan Matrix by Mutual NN...\n",
      "INFO:root:The number of level_6 predicted mapping is 2\n",
      "INFO:root:TOTAL NUMBER OF MAPPINGS BETWEEN CONCPETS IS 18\n",
      "INFO:root:=================================================\n",
      "INFO:root:MAP OBJECT PROPERTIES\n",
      "INFO:root:Retrieving Synsets by WordNet...\n",
      "INFO:root:Compute the related words for each source concept....\n"
     ]
    },
    {
     "name": "stdout",
     "output_type": "stream",
     "text": [
      "Warning: numerical errors at iteration 0\n"
     ]
    },
    {
     "name": "stderr",
     "output_type": "stream",
     "text": [
      "49it [00:00, 146.99it/s]\n",
      "INFO:root:Total number of source concepts computed with relatd words is 49\n",
      "INFO:root:Compute the related words for each target concept....\n",
      "0it [00:00, ?it/s]\n",
      "INFO:root:Total number of target concepts computed with related words is 0\n",
      "INFO:root:Skip the level_4 mapping.\n",
      "INFO:root:Skip the level_5 mapping.\n",
      "INFO:root:Skip the level_6 mappping.\n",
      "INFO:root:TOTAL NUMBER OF MAPPINGS BETWEEN OBJECT PROPERTIES IS 0\n",
      "INFO:root:========================================================\n",
      "INFO:root:MAP DATATYPE PROPERTIES\n",
      "INFO:root:Retrieving Synsets by WordNet...\n",
      "INFO:root:Compute the related words for each source concept....\n",
      "17it [00:00, 147.55it/s]\n",
      "INFO:root:Total number of source concepts computed with relatd words is 17\n",
      "INFO:root:Compute the related words for each target concept....\n",
      "0it [00:00, ?it/s]\n",
      "INFO:root:Total number of target concepts computed with related words is 0\n",
      "INFO:root:Skip the level_4 mapping.\n",
      "INFO:root:Skip the level_5 mapping.\n",
      "INFO:root:Skip the level_6 mappping.\n",
      "INFO:root:TOTAL NUMBER OF MAPPINGS BETWEEN DATATYPE PROPERTIES IS 0\n",
      "INFO:root:===========================================================\n"
     ]
    }
   ],
   "source": [
    "mapper.align(source_url, target_url, output_url)"
   ]
  },
  {
   "cell_type": "code",
   "execution_count": 37,
   "id": "2cf8ed57-0d4b-4099-ad8d-adf6fc69f8b8",
   "metadata": {},
   "outputs": [
    {
     "name": "stdout",
     "output_type": "stream",
     "text": [
      "Total number of predicted is 18\n",
      "Total number of references is 98\n"
     ]
    },
    {
     "ename": "KeyError",
     "evalue": "'rdf:resource'",
     "output_type": "error",
     "traceback": [
      "\u001b[0;31m---------------------------------------------------------------------------\u001b[0m",
      "\u001b[0;31mKeyError\u001b[0m                                  Traceback (most recent call last)",
      "\u001b[0;32m<ipython-input-37-5e41e11c6cf8>\u001b[0m in \u001b[0;36m<module>\u001b[0;34m\u001b[0m\n\u001b[1;32m      1\u001b[0m \u001b[0mpreds\u001b[0m \u001b[0;34m=\u001b[0m \u001b[0mmaponto\u001b[0m\u001b[0;34m.\u001b[0m\u001b[0mload_alignments\u001b[0m\u001b[0;34m(\u001b[0m\u001b[0moutput_url\u001b[0m\u001b[0;34m,\u001b[0m \u001b[0;34m'predicted'\u001b[0m\u001b[0;34m)\u001b[0m\u001b[0;34m\u001b[0m\u001b[0;34m\u001b[0m\u001b[0m\n\u001b[0;32m----> 2\u001b[0;31m \u001b[0mmaponto\u001b[0m\u001b[0;34m.\u001b[0m\u001b[0mevaluate\u001b[0m\u001b[0;34m(\u001b[0m\u001b[0mpreds\u001b[0m\u001b[0;34m,\u001b[0m \u001b[0mrefs_url\u001b[0m\u001b[0;34m)\u001b[0m\u001b[0;34m\u001b[0m\u001b[0;34m\u001b[0m\u001b[0m\n\u001b[0m",
      "\u001b[0;32m~/django/otmaponto/match/ontology_mapping/src/OTMapOnto.py\u001b[0m in \u001b[0;36mevaluate\u001b[0;34m(align_df, refs_rdf_path)\u001b[0m\n\u001b[1;32m     72\u001b[0m         \u001b[0moutput\u001b[0m\u001b[0;34m:\u001b[0m \u001b[0mprint\u001b[0m \u001b[0mprecision\u001b[0m\u001b[0;34m,\u001b[0m \u001b[0mrecall\u001b[0m\u001b[0;34m,\u001b[0m \u001b[0mf1\u001b[0m\u001b[0;34m-\u001b[0m\u001b[0mmeaure\u001b[0m\u001b[0;34m\u001b[0m\u001b[0;34m\u001b[0m\u001b[0m\n\u001b[1;32m     73\u001b[0m     \"\"\"\n\u001b[0;32m---> 74\u001b[0;31m     \u001b[0mrefs_df\u001b[0m \u001b[0;34m=\u001b[0m \u001b[0mload_alignments\u001b[0m\u001b[0;34m(\u001b[0m\u001b[0mrefs_rdf_path\u001b[0m\u001b[0;34m,\u001b[0m \u001b[0;34m'references'\u001b[0m\u001b[0;34m)\u001b[0m\u001b[0;34m\u001b[0m\u001b[0;34m\u001b[0m\u001b[0m\n\u001b[0m\u001b[1;32m     75\u001b[0m \u001b[0;34m\u001b[0m\u001b[0m\n\u001b[1;32m     76\u001b[0m     matched_df = align_df.merge(refs_df, how='inner', left_on=['source', 'target'], \\\n",
      "\u001b[0;32m~/django/otmaponto/match/ontology_mapping/src/OTMapOnto.py\u001b[0m in \u001b[0;36mload_alignments\u001b[0;34m(rdf_path, name)\u001b[0m\n\u001b[1;32m     55\u001b[0m     \u001b[0muri_maps\u001b[0m \u001b[0;34m=\u001b[0m \u001b[0;34m[\u001b[0m\u001b[0;34m]\u001b[0m\u001b[0;34m\u001b[0m\u001b[0;34m\u001b[0m\u001b[0m\n\u001b[1;32m     56\u001b[0m     \u001b[0;32mfor\u001b[0m \u001b[0mele\u001b[0m \u001b[0;32min\u001b[0m \u001b[0mmaps\u001b[0m\u001b[0;34m:\u001b[0m\u001b[0;34m\u001b[0m\u001b[0;34m\u001b[0m\u001b[0m\n\u001b[0;32m---> 57\u001b[0;31m         \u001b[0me1\u001b[0m \u001b[0;34m=\u001b[0m \u001b[0mele\u001b[0m\u001b[0;34m.\u001b[0m\u001b[0mgetElementsByTagName\u001b[0m\u001b[0;34m(\u001b[0m\u001b[0;34m'entity1'\u001b[0m\u001b[0;34m)\u001b[0m\u001b[0;34m[\u001b[0m\u001b[0;36m0\u001b[0m\u001b[0;34m]\u001b[0m\u001b[0;34m.\u001b[0m\u001b[0mattributes\u001b[0m\u001b[0;34m[\u001b[0m\u001b[0;34m'rdf:resource'\u001b[0m\u001b[0;34m]\u001b[0m\u001b[0;34m.\u001b[0m\u001b[0mvalue\u001b[0m\u001b[0;34m\u001b[0m\u001b[0;34m\u001b[0m\u001b[0m\n\u001b[0m\u001b[1;32m     58\u001b[0m         \u001b[0me2\u001b[0m \u001b[0;34m=\u001b[0m \u001b[0mele\u001b[0m\u001b[0;34m.\u001b[0m\u001b[0mgetElementsByTagName\u001b[0m\u001b[0;34m(\u001b[0m\u001b[0;34m'entity2'\u001b[0m\u001b[0;34m)\u001b[0m\u001b[0;34m[\u001b[0m\u001b[0;36m0\u001b[0m\u001b[0;34m]\u001b[0m\u001b[0;34m.\u001b[0m\u001b[0mattributes\u001b[0m\u001b[0;34m[\u001b[0m\u001b[0;34m'rdf:resource'\u001b[0m\u001b[0;34m]\u001b[0m\u001b[0;34m.\u001b[0m\u001b[0mvalue\u001b[0m\u001b[0;34m\u001b[0m\u001b[0;34m\u001b[0m\u001b[0m\n\u001b[1;32m     59\u001b[0m         \u001b[0mrel\u001b[0m \u001b[0;34m=\u001b[0m \u001b[0mele\u001b[0m\u001b[0;34m.\u001b[0m\u001b[0mgetElementsByTagName\u001b[0m\u001b[0;34m(\u001b[0m\u001b[0;34m'relation'\u001b[0m\u001b[0;34m)\u001b[0m\u001b[0;34m[\u001b[0m\u001b[0;36m0\u001b[0m\u001b[0;34m]\u001b[0m\u001b[0;34m.\u001b[0m\u001b[0mchildNodes\u001b[0m\u001b[0;34m[\u001b[0m\u001b[0;36m0\u001b[0m\u001b[0;34m]\u001b[0m\u001b[0;34m.\u001b[0m\u001b[0mdata\u001b[0m\u001b[0;34m\u001b[0m\u001b[0;34m\u001b[0m\u001b[0m\n",
      "\u001b[0;32m~/anaconda3/lib/python3.8/xml/dom/minidom.py\u001b[0m in \u001b[0;36m__getitem__\u001b[0;34m(self, attname_or_tuple)\u001b[0m\n\u001b[1;32m    550\u001b[0m             \u001b[0;32mreturn\u001b[0m \u001b[0mself\u001b[0m\u001b[0;34m.\u001b[0m\u001b[0m_attrsNS\u001b[0m\u001b[0;34m[\u001b[0m\u001b[0mattname_or_tuple\u001b[0m\u001b[0;34m]\u001b[0m\u001b[0;34m\u001b[0m\u001b[0;34m\u001b[0m\u001b[0m\n\u001b[1;32m    551\u001b[0m         \u001b[0;32melse\u001b[0m\u001b[0;34m:\u001b[0m\u001b[0;34m\u001b[0m\u001b[0;34m\u001b[0m\u001b[0m\n\u001b[0;32m--> 552\u001b[0;31m             \u001b[0;32mreturn\u001b[0m \u001b[0mself\u001b[0m\u001b[0;34m.\u001b[0m\u001b[0m_attrs\u001b[0m\u001b[0;34m[\u001b[0m\u001b[0mattname_or_tuple\u001b[0m\u001b[0;34m]\u001b[0m\u001b[0;34m\u001b[0m\u001b[0;34m\u001b[0m\u001b[0m\n\u001b[0m\u001b[1;32m    553\u001b[0m \u001b[0;34m\u001b[0m\u001b[0m\n\u001b[1;32m    554\u001b[0m     \u001b[0;31m# same as set\u001b[0m\u001b[0;34m\u001b[0m\u001b[0;34m\u001b[0m\u001b[0;34m\u001b[0m\u001b[0m\n",
      "\u001b[0;31mKeyError\u001b[0m: 'rdf:resource'"
     ]
    }
   ],
   "source": [
    "preds = maponto.load_alignments(output_url, 'predicted')\n",
    "maponto.evaluate(preds, refs_url)"
   ]
  },
  {
   "cell_type": "markdown",
   "id": "1453d039-951a-4a30-99f3-f834223652e3",
   "metadata": {},
   "source": [
    "# Popgeolink"
   ]
  },
  {
   "cell_type": "code",
   "execution_count": 23,
   "id": "80a7df34-0724-4ebd-b709-0e7f6715696e",
   "metadata": {},
   "outputs": [],
   "source": [
    "source_url = \"../data/popgeolink/popgeolink-v1/popgbo-popgmo/source.rdf\"\n",
    "target_url = \"../data/popgeolink/popgeolink-v1/popgbo-popgmo/target.rdf\"\n",
    "output_url = '../data/results/popgeolink_popgbo_popgmo_alignment.rdf'\n",
    "refs_url = \"../data/popgeolink/popgeolink-v1/popgbo-popgmo/reference.rdf\""
   ]
  },
  {
   "cell_type": "code",
   "execution_count": 24,
   "id": "c360ff25-7aab-4386-b203-7e4a48ef3018",
   "metadata": {},
   "outputs": [
    {
     "name": "stderr",
     "output_type": "stream",
     "text": [
      "INFO:root:Python ensemble mapper info: map ../data/popgeolink/popgeolink-v1/popgbo-popgmo/source.rdf to ../data/popgeolink/popgeolink-v1/popgbo-popgmo/target.rdf\n"
     ]
    },
    {
     "ename": "ParserError",
     "evalue": "file:///Users/yan/Google%20Drive/django/otmaponto/match/ontology_mapping/data/popgeolink/popgeolink-v1/popgbo-popgmo/source.rdf:21:62: Repeat node-elements inside property elements: http://www.w3.org/2002/07/owl#IRI",
     "output_type": "error",
     "traceback": [
      "\u001b[0;31m---------------------------------------------------------------------------\u001b[0m",
      "\u001b[0;31mParserError\u001b[0m                               Traceback (most recent call last)",
      "\u001b[0;32m<ipython-input-24-6770be26f0b5>\u001b[0m in \u001b[0;36m<module>\u001b[0;34m\u001b[0m\n\u001b[0;32m----> 1\u001b[0;31m \u001b[0mmapper\u001b[0m\u001b[0;34m.\u001b[0m\u001b[0malign\u001b[0m\u001b[0;34m(\u001b[0m\u001b[0msource_url\u001b[0m\u001b[0;34m,\u001b[0m \u001b[0mtarget_url\u001b[0m\u001b[0;34m,\u001b[0m \u001b[0moutput_url\u001b[0m\u001b[0;34m)\u001b[0m\u001b[0;34m\u001b[0m\u001b[0;34m\u001b[0m\u001b[0m\n\u001b[0m",
      "\u001b[0;32m~/Google Drive/django/otmaponto/match/ontology_mapping/src/OTMapper.py\u001b[0m in \u001b[0;36malign\u001b[0;34m(self, source_url, target_url, output_url)\u001b[0m\n\u001b[1;32m   1433\u001b[0m \u001b[0;34m\u001b[0m\u001b[0m\n\u001b[1;32m   1434\u001b[0m     \u001b[0;32mdef\u001b[0m \u001b[0malign\u001b[0m\u001b[0;34m(\u001b[0m\u001b[0mself\u001b[0m\u001b[0;34m,\u001b[0m \u001b[0msource_url\u001b[0m\u001b[0;34m,\u001b[0m \u001b[0mtarget_url\u001b[0m\u001b[0;34m,\u001b[0m \u001b[0moutput_url\u001b[0m\u001b[0;34m)\u001b[0m\u001b[0;34m:\u001b[0m\u001b[0;34m\u001b[0m\u001b[0;34m\u001b[0m\u001b[0m\n\u001b[0;32m-> 1435\u001b[0;31m         \u001b[0mmatch\u001b[0m\u001b[0;34m(\u001b[0m\u001b[0msource_url\u001b[0m\u001b[0;34m,\u001b[0m \u001b[0mtarget_url\u001b[0m\u001b[0;34m,\u001b[0m \u001b[0mself\u001b[0m\u001b[0;34m.\u001b[0m\u001b[0membs_model\u001b[0m\u001b[0;34m,\u001b[0m \u001b[0moutput_url\u001b[0m\u001b[0;34m,\u001b[0m \u001b[0;32mNone\u001b[0m\u001b[0;34m)\u001b[0m\u001b[0;34m\u001b[0m\u001b[0;34m\u001b[0m\u001b[0m\n\u001b[0m\u001b[1;32m   1436\u001b[0m \u001b[0;34m\u001b[0m\u001b[0m\n\u001b[1;32m   1437\u001b[0m \u001b[0;34m\u001b[0m\u001b[0m\n",
      "\u001b[0;32m~/Google Drive/django/otmaponto/match/ontology_mapping/src/OTMapper.py\u001b[0m in \u001b[0;36mmatch\u001b[0;34m(source_url, target_url, embs_model, output_url, input_alignment_url)\u001b[0m\n\u001b[1;32m   1402\u001b[0m \u001b[0;34m\u001b[0m\u001b[0m\n\u001b[1;32m   1403\u001b[0m \u001b[0;34m\u001b[0m\u001b[0m\n\u001b[0;32m-> 1404\u001b[0;31m     \u001b[0mresulting_alignment\u001b[0m \u001b[0;34m=\u001b[0m \u001b[0mensemble_map\u001b[0m\u001b[0;34m(\u001b[0m\u001b[0msource_url\u001b[0m\u001b[0;34m,\u001b[0m \u001b[0mtarget_url\u001b[0m\u001b[0;34m,\u001b[0m \u001b[0membs_model\u001b[0m\u001b[0;34m)\u001b[0m\u001b[0;34m\u001b[0m\u001b[0;34m\u001b[0m\u001b[0m\n\u001b[0m\u001b[1;32m   1405\u001b[0m \u001b[0;34m\u001b[0m\u001b[0m\n\u001b[1;32m   1406\u001b[0m \u001b[0;34m\u001b[0m\u001b[0m\n",
      "\u001b[0;32m~/Google Drive/django/otmaponto/match/ontology_mapping/src/OTMapper.py\u001b[0m in \u001b[0;36mensemble_map\u001b[0;34m(source_url, target_url, embs_model)\u001b[0m\n\u001b[1;32m   1316\u001b[0m \u001b[0;34m\u001b[0m\u001b[0m\n\u001b[1;32m   1317\u001b[0m     \u001b[0msource_graph\u001b[0m \u001b[0;34m=\u001b[0m \u001b[0mGraph\u001b[0m\u001b[0;34m(\u001b[0m\u001b[0;34m)\u001b[0m\u001b[0;34m\u001b[0m\u001b[0;34m\u001b[0m\u001b[0m\n\u001b[0;32m-> 1318\u001b[0;31m     \u001b[0msource_graph\u001b[0m\u001b[0;34m.\u001b[0m\u001b[0mparse\u001b[0m\u001b[0;34m(\u001b[0m\u001b[0msource_url\u001b[0m\u001b[0;34m)\u001b[0m\u001b[0;34m\u001b[0m\u001b[0;34m\u001b[0m\u001b[0m\n\u001b[0m\u001b[1;32m   1319\u001b[0m     \u001b[0msource_graph\u001b[0m\u001b[0;34m.\u001b[0m\u001b[0mnamespace_manager\u001b[0m\u001b[0;34m.\u001b[0m\u001b[0mbind\u001b[0m\u001b[0;34m(\u001b[0m\u001b[0;34m\"owl\"\u001b[0m\u001b[0;34m,\u001b[0m \u001b[0mOWL_NS\u001b[0m\u001b[0;34m)\u001b[0m\u001b[0;34m\u001b[0m\u001b[0;34m\u001b[0m\u001b[0m\n\u001b[1;32m   1320\u001b[0m     \u001b[0mlogging\u001b[0m\u001b[0;34m.\u001b[0m\u001b[0minfo\u001b[0m\u001b[0;34m(\u001b[0m\u001b[0;34m\"Read source with %s triples.\"\u001b[0m\u001b[0;34m,\u001b[0m \u001b[0mlen\u001b[0m\u001b[0;34m(\u001b[0m\u001b[0msource_graph\u001b[0m\u001b[0;34m)\u001b[0m\u001b[0;34m)\u001b[0m\u001b[0;34m\u001b[0m\u001b[0;34m\u001b[0m\u001b[0m\n",
      "\u001b[0;32m~/anaconda3/lib/python3.7/site-packages/rdflib/graph.py\u001b[0m in \u001b[0;36mparse\u001b[0;34m(self, source, publicID, format, location, file, data, **args)\u001b[0m\n\u001b[1;32m   1076\u001b[0m         \u001b[0mparser\u001b[0m \u001b[0;34m=\u001b[0m \u001b[0mplugin\u001b[0m\u001b[0;34m.\u001b[0m\u001b[0mget\u001b[0m\u001b[0;34m(\u001b[0m\u001b[0mformat\u001b[0m\u001b[0;34m,\u001b[0m \u001b[0mParser\u001b[0m\u001b[0;34m)\u001b[0m\u001b[0;34m(\u001b[0m\u001b[0;34m)\u001b[0m\u001b[0;34m\u001b[0m\u001b[0;34m\u001b[0m\u001b[0m\n\u001b[1;32m   1077\u001b[0m         \u001b[0;32mtry\u001b[0m\u001b[0;34m:\u001b[0m\u001b[0;34m\u001b[0m\u001b[0;34m\u001b[0m\u001b[0m\n\u001b[0;32m-> 1078\u001b[0;31m             \u001b[0mparser\u001b[0m\u001b[0;34m.\u001b[0m\u001b[0mparse\u001b[0m\u001b[0;34m(\u001b[0m\u001b[0msource\u001b[0m\u001b[0;34m,\u001b[0m \u001b[0mself\u001b[0m\u001b[0;34m,\u001b[0m \u001b[0;34m**\u001b[0m\u001b[0margs\u001b[0m\u001b[0;34m)\u001b[0m\u001b[0;34m\u001b[0m\u001b[0;34m\u001b[0m\u001b[0m\n\u001b[0m\u001b[1;32m   1079\u001b[0m         \u001b[0;32mfinally\u001b[0m\u001b[0;34m:\u001b[0m\u001b[0;34m\u001b[0m\u001b[0;34m\u001b[0m\u001b[0m\n\u001b[1;32m   1080\u001b[0m             \u001b[0;32mif\u001b[0m \u001b[0msource\u001b[0m\u001b[0;34m.\u001b[0m\u001b[0mauto_close\u001b[0m\u001b[0;34m:\u001b[0m\u001b[0;34m\u001b[0m\u001b[0;34m\u001b[0m\u001b[0m\n",
      "\u001b[0;32m~/anaconda3/lib/python3.7/site-packages/rdflib/plugins/parsers/rdfxml.py\u001b[0m in \u001b[0;36mparse\u001b[0;34m(self, source, sink, **args)\u001b[0m\n\u001b[1;32m    577\u001b[0m         \u001b[0;31m# content_handler.reset()\u001b[0m\u001b[0;34m\u001b[0m\u001b[0;34m\u001b[0m\u001b[0;34m\u001b[0m\u001b[0m\n\u001b[1;32m    578\u001b[0m         \u001b[0;31m# self._parser.reset()\u001b[0m\u001b[0;34m\u001b[0m\u001b[0;34m\u001b[0m\u001b[0;34m\u001b[0m\u001b[0m\n\u001b[0;32m--> 579\u001b[0;31m         \u001b[0mself\u001b[0m\u001b[0;34m.\u001b[0m\u001b[0m_parser\u001b[0m\u001b[0;34m.\u001b[0m\u001b[0mparse\u001b[0m\u001b[0;34m(\u001b[0m\u001b[0msource\u001b[0m\u001b[0;34m)\u001b[0m\u001b[0;34m\u001b[0m\u001b[0;34m\u001b[0m\u001b[0m\n\u001b[0m",
      "\u001b[0;32m~/anaconda3/lib/python3.7/xml/sax/expatreader.py\u001b[0m in \u001b[0;36mparse\u001b[0;34m(self, source)\u001b[0m\n\u001b[1;32m    109\u001b[0m             \u001b[0mself\u001b[0m\u001b[0;34m.\u001b[0m\u001b[0mreset\u001b[0m\u001b[0;34m(\u001b[0m\u001b[0;34m)\u001b[0m\u001b[0;34m\u001b[0m\u001b[0;34m\u001b[0m\u001b[0m\n\u001b[1;32m    110\u001b[0m             \u001b[0mself\u001b[0m\u001b[0;34m.\u001b[0m\u001b[0m_cont_handler\u001b[0m\u001b[0;34m.\u001b[0m\u001b[0msetDocumentLocator\u001b[0m\u001b[0;34m(\u001b[0m\u001b[0mExpatLocator\u001b[0m\u001b[0;34m(\u001b[0m\u001b[0mself\u001b[0m\u001b[0;34m)\u001b[0m\u001b[0;34m)\u001b[0m\u001b[0;34m\u001b[0m\u001b[0;34m\u001b[0m\u001b[0m\n\u001b[0;32m--> 111\u001b[0;31m             \u001b[0mxmlreader\u001b[0m\u001b[0;34m.\u001b[0m\u001b[0mIncrementalParser\u001b[0m\u001b[0;34m.\u001b[0m\u001b[0mparse\u001b[0m\u001b[0;34m(\u001b[0m\u001b[0mself\u001b[0m\u001b[0;34m,\u001b[0m \u001b[0msource\u001b[0m\u001b[0;34m)\u001b[0m\u001b[0;34m\u001b[0m\u001b[0;34m\u001b[0m\u001b[0m\n\u001b[0m\u001b[1;32m    112\u001b[0m         \u001b[0;32mexcept\u001b[0m\u001b[0;34m:\u001b[0m\u001b[0;34m\u001b[0m\u001b[0;34m\u001b[0m\u001b[0m\n\u001b[1;32m    113\u001b[0m             \u001b[0;31m# bpo-30264: Close the source on error to not leak resources:\u001b[0m\u001b[0;34m\u001b[0m\u001b[0;34m\u001b[0m\u001b[0;34m\u001b[0m\u001b[0m\n",
      "\u001b[0;32m~/anaconda3/lib/python3.7/xml/sax/xmlreader.py\u001b[0m in \u001b[0;36mparse\u001b[0;34m(self, source)\u001b[0m\n\u001b[1;32m    123\u001b[0m         \u001b[0mbuffer\u001b[0m \u001b[0;34m=\u001b[0m \u001b[0mfile\u001b[0m\u001b[0;34m.\u001b[0m\u001b[0mread\u001b[0m\u001b[0;34m(\u001b[0m\u001b[0mself\u001b[0m\u001b[0;34m.\u001b[0m\u001b[0m_bufsize\u001b[0m\u001b[0;34m)\u001b[0m\u001b[0;34m\u001b[0m\u001b[0;34m\u001b[0m\u001b[0m\n\u001b[1;32m    124\u001b[0m         \u001b[0;32mwhile\u001b[0m \u001b[0mbuffer\u001b[0m\u001b[0;34m:\u001b[0m\u001b[0;34m\u001b[0m\u001b[0;34m\u001b[0m\u001b[0m\n\u001b[0;32m--> 125\u001b[0;31m             \u001b[0mself\u001b[0m\u001b[0;34m.\u001b[0m\u001b[0mfeed\u001b[0m\u001b[0;34m(\u001b[0m\u001b[0mbuffer\u001b[0m\u001b[0;34m)\u001b[0m\u001b[0;34m\u001b[0m\u001b[0;34m\u001b[0m\u001b[0m\n\u001b[0m\u001b[1;32m    126\u001b[0m             \u001b[0mbuffer\u001b[0m \u001b[0;34m=\u001b[0m \u001b[0mfile\u001b[0m\u001b[0;34m.\u001b[0m\u001b[0mread\u001b[0m\u001b[0;34m(\u001b[0m\u001b[0mself\u001b[0m\u001b[0;34m.\u001b[0m\u001b[0m_bufsize\u001b[0m\u001b[0;34m)\u001b[0m\u001b[0;34m\u001b[0m\u001b[0;34m\u001b[0m\u001b[0m\n\u001b[1;32m    127\u001b[0m         \u001b[0mself\u001b[0m\u001b[0;34m.\u001b[0m\u001b[0mclose\u001b[0m\u001b[0;34m(\u001b[0m\u001b[0;34m)\u001b[0m\u001b[0;34m\u001b[0m\u001b[0;34m\u001b[0m\u001b[0m\n",
      "\u001b[0;32m~/anaconda3/lib/python3.7/xml/sax/expatreader.py\u001b[0m in \u001b[0;36mfeed\u001b[0;34m(self, data, isFinal)\u001b[0m\n\u001b[1;32m    215\u001b[0m             \u001b[0;31m# document. When feeding chunks, they are not normally final -\u001b[0m\u001b[0;34m\u001b[0m\u001b[0;34m\u001b[0m\u001b[0;34m\u001b[0m\u001b[0m\n\u001b[1;32m    216\u001b[0m             \u001b[0;31m# except when invoked from close.\u001b[0m\u001b[0;34m\u001b[0m\u001b[0;34m\u001b[0m\u001b[0;34m\u001b[0m\u001b[0m\n\u001b[0;32m--> 217\u001b[0;31m             \u001b[0mself\u001b[0m\u001b[0;34m.\u001b[0m\u001b[0m_parser\u001b[0m\u001b[0;34m.\u001b[0m\u001b[0mParse\u001b[0m\u001b[0;34m(\u001b[0m\u001b[0mdata\u001b[0m\u001b[0;34m,\u001b[0m \u001b[0misFinal\u001b[0m\u001b[0;34m)\u001b[0m\u001b[0;34m\u001b[0m\u001b[0;34m\u001b[0m\u001b[0m\n\u001b[0m\u001b[1;32m    218\u001b[0m         \u001b[0;32mexcept\u001b[0m \u001b[0mexpat\u001b[0m\u001b[0;34m.\u001b[0m\u001b[0merror\u001b[0m \u001b[0;32mas\u001b[0m \u001b[0me\u001b[0m\u001b[0;34m:\u001b[0m\u001b[0;34m\u001b[0m\u001b[0;34m\u001b[0m\u001b[0m\n\u001b[1;32m    219\u001b[0m             \u001b[0mexc\u001b[0m \u001b[0;34m=\u001b[0m \u001b[0mSAXParseException\u001b[0m\u001b[0;34m(\u001b[0m\u001b[0mexpat\u001b[0m\u001b[0;34m.\u001b[0m\u001b[0mErrorString\u001b[0m\u001b[0;34m(\u001b[0m\u001b[0me\u001b[0m\u001b[0;34m.\u001b[0m\u001b[0mcode\u001b[0m\u001b[0;34m)\u001b[0m\u001b[0;34m,\u001b[0m \u001b[0me\u001b[0m\u001b[0;34m,\u001b[0m \u001b[0mself\u001b[0m\u001b[0;34m)\u001b[0m\u001b[0;34m\u001b[0m\u001b[0;34m\u001b[0m\u001b[0m\n",
      "\u001b[0;32m/opt/concourse/worker/volumes/live/13cf9768-d104-4df5-6143-5360c0d9e8b3/volume/python_1585235027941/work/Modules/pyexpat.c\u001b[0m in \u001b[0;36mEndElement\u001b[0;34m()\u001b[0m\n",
      "\u001b[0;32m~/anaconda3/lib/python3.7/xml/sax/expatreader.py\u001b[0m in \u001b[0;36mend_element_ns\u001b[0;34m(self, name)\u001b[0m\n\u001b[1;32m    379\u001b[0m             \u001b[0mpair\u001b[0m \u001b[0;34m=\u001b[0m \u001b[0mtuple\u001b[0m\u001b[0;34m(\u001b[0m\u001b[0mpair\u001b[0m\u001b[0;34m)\u001b[0m\u001b[0;34m\u001b[0m\u001b[0;34m\u001b[0m\u001b[0m\n\u001b[1;32m    380\u001b[0m \u001b[0;34m\u001b[0m\u001b[0m\n\u001b[0;32m--> 381\u001b[0;31m         \u001b[0mself\u001b[0m\u001b[0;34m.\u001b[0m\u001b[0m_cont_handler\u001b[0m\u001b[0;34m.\u001b[0m\u001b[0mendElementNS\u001b[0m\u001b[0;34m(\u001b[0m\u001b[0mpair\u001b[0m\u001b[0;34m,\u001b[0m \u001b[0;32mNone\u001b[0m\u001b[0;34m)\u001b[0m\u001b[0;34m\u001b[0m\u001b[0;34m\u001b[0m\u001b[0m\n\u001b[0m\u001b[1;32m    382\u001b[0m \u001b[0;34m\u001b[0m\u001b[0m\n\u001b[1;32m    383\u001b[0m     \u001b[0;31m# this is not used (call directly to ContentHandler)\u001b[0m\u001b[0;34m\u001b[0m\u001b[0;34m\u001b[0m\u001b[0;34m\u001b[0m\u001b[0m\n",
      "\u001b[0;32m~/anaconda3/lib/python3.7/site-packages/rdflib/plugins/parsers/rdfxml.py\u001b[0m in \u001b[0;36mendElementNS\u001b[0;34m(self, name, qname)\u001b[0m\n\u001b[1;32m    159\u001b[0m \u001b[0;34m\u001b[0m\u001b[0m\n\u001b[1;32m    160\u001b[0m     \u001b[0;32mdef\u001b[0m \u001b[0mendElementNS\u001b[0m\u001b[0;34m(\u001b[0m\u001b[0mself\u001b[0m\u001b[0;34m,\u001b[0m \u001b[0mname\u001b[0m\u001b[0;34m,\u001b[0m \u001b[0mqname\u001b[0m\u001b[0;34m)\u001b[0m\u001b[0;34m:\u001b[0m\u001b[0;34m\u001b[0m\u001b[0;34m\u001b[0m\u001b[0m\n\u001b[0;32m--> 161\u001b[0;31m         \u001b[0mself\u001b[0m\u001b[0;34m.\u001b[0m\u001b[0mcurrent\u001b[0m\u001b[0;34m.\u001b[0m\u001b[0mend\u001b[0m\u001b[0;34m(\u001b[0m\u001b[0mname\u001b[0m\u001b[0;34m,\u001b[0m \u001b[0mqname\u001b[0m\u001b[0;34m)\u001b[0m\u001b[0;34m\u001b[0m\u001b[0;34m\u001b[0m\u001b[0m\n\u001b[0m\u001b[1;32m    162\u001b[0m         \u001b[0mself\u001b[0m\u001b[0;34m.\u001b[0m\u001b[0mstack\u001b[0m\u001b[0;34m.\u001b[0m\u001b[0mpop\u001b[0m\u001b[0;34m(\u001b[0m\u001b[0;34m)\u001b[0m\u001b[0;34m\u001b[0m\u001b[0;34m\u001b[0m\u001b[0m\n\u001b[1;32m    163\u001b[0m \u001b[0;34m\u001b[0m\u001b[0m\n",
      "\u001b[0;32m~/anaconda3/lib/python3.7/site-packages/rdflib/plugins/parsers/rdfxml.py\u001b[0m in \u001b[0;36mnode_element_end\u001b[0;34m(self, name, qname)\u001b[0m\n\u001b[1;32m    331\u001b[0m         \u001b[0;32mif\u001b[0m \u001b[0mself\u001b[0m\u001b[0;34m.\u001b[0m\u001b[0mparent\u001b[0m\u001b[0;34m.\u001b[0m\u001b[0mobject\u001b[0m \u001b[0;32mand\u001b[0m \u001b[0mself\u001b[0m\u001b[0;34m.\u001b[0m\u001b[0mcurrent\u001b[0m \u001b[0;34m!=\u001b[0m \u001b[0mself\u001b[0m\u001b[0;34m.\u001b[0m\u001b[0mstack\u001b[0m\u001b[0;34m[\u001b[0m\u001b[0;36m2\u001b[0m\u001b[0;34m]\u001b[0m\u001b[0;34m:\u001b[0m\u001b[0;34m\u001b[0m\u001b[0;34m\u001b[0m\u001b[0m\n\u001b[1;32m    332\u001b[0m \u001b[0;34m\u001b[0m\u001b[0m\n\u001b[0;32m--> 333\u001b[0;31m             \u001b[0mself\u001b[0m\u001b[0;34m.\u001b[0m\u001b[0merror\u001b[0m\u001b[0;34m(\u001b[0m\u001b[0;34m\"Repeat node-elements inside property elements: %s\"\u001b[0m\u001b[0;34m%\u001b[0m\u001b[0;34m\"\"\u001b[0m\u001b[0;34m.\u001b[0m\u001b[0mjoin\u001b[0m\u001b[0;34m(\u001b[0m\u001b[0mname\u001b[0m\u001b[0;34m)\u001b[0m\u001b[0;34m)\u001b[0m\u001b[0;34m\u001b[0m\u001b[0;34m\u001b[0m\u001b[0m\n\u001b[0m\u001b[1;32m    334\u001b[0m \u001b[0;34m\u001b[0m\u001b[0m\n\u001b[1;32m    335\u001b[0m         \u001b[0mself\u001b[0m\u001b[0;34m.\u001b[0m\u001b[0mparent\u001b[0m\u001b[0;34m.\u001b[0m\u001b[0mobject\u001b[0m \u001b[0;34m=\u001b[0m \u001b[0mself\u001b[0m\u001b[0;34m.\u001b[0m\u001b[0mcurrent\u001b[0m\u001b[0;34m.\u001b[0m\u001b[0msubject\u001b[0m\u001b[0;34m\u001b[0m\u001b[0;34m\u001b[0m\u001b[0m\n",
      "\u001b[0;32m~/anaconda3/lib/python3.7/site-packages/rdflib/plugins/parsers/rdfxml.py\u001b[0m in \u001b[0;36merror\u001b[0;34m(self, message)\u001b[0m\n\u001b[1;32m    185\u001b[0m                                \u001b[0mlocator\u001b[0m\u001b[0;34m.\u001b[0m\u001b[0mgetLineNumber\u001b[0m\u001b[0;34m(\u001b[0m\u001b[0;34m)\u001b[0m\u001b[0;34m,\u001b[0m\u001b[0;34m\u001b[0m\u001b[0;34m\u001b[0m\u001b[0m\n\u001b[1;32m    186\u001b[0m                                locator.getColumnNumber())\n\u001b[0;32m--> 187\u001b[0;31m         \u001b[0;32mraise\u001b[0m \u001b[0mParserError\u001b[0m\u001b[0;34m(\u001b[0m\u001b[0minfo\u001b[0m \u001b[0;34m+\u001b[0m \u001b[0mmessage\u001b[0m\u001b[0;34m)\u001b[0m\u001b[0;34m\u001b[0m\u001b[0;34m\u001b[0m\u001b[0m\n\u001b[0m\u001b[1;32m    188\u001b[0m \u001b[0;34m\u001b[0m\u001b[0m\n\u001b[1;32m    189\u001b[0m     \u001b[0;32mdef\u001b[0m \u001b[0mget_current\u001b[0m\u001b[0;34m(\u001b[0m\u001b[0mself\u001b[0m\u001b[0;34m)\u001b[0m\u001b[0;34m:\u001b[0m\u001b[0;34m\u001b[0m\u001b[0;34m\u001b[0m\u001b[0m\n",
      "\u001b[0;31mParserError\u001b[0m: file:///Users/yan/Google%20Drive/django/otmaponto/match/ontology_mapping/data/popgeolink/popgeolink-v1/popgbo-popgmo/source.rdf:21:62: Repeat node-elements inside property elements: http://www.w3.org/2002/07/owl#IRI"
     ]
    }
   ],
   "source": [
    "mapper.align(source_url, target_url, output_url)"
   ]
  },
  {
   "cell_type": "code",
   "execution_count": null,
   "id": "7c12cb10-a80c-41c1-be0a-6562ae35e325",
   "metadata": {},
   "outputs": [],
   "source": [
    "preds = maponto.load_alignments(output_url, 'predicted')\n",
    "maponto.evaluate(preds, refs_url)"
   ]
  },
  {
   "cell_type": "code",
   "execution_count": null,
   "id": "f9811c1b-47ed-4d4b-aba7-ff7bb6603ade",
   "metadata": {},
   "outputs": [],
   "source": []
  }
 ],
 "metadata": {
  "kernelspec": {
   "display_name": "Python 3",
   "language": "python",
   "name": "python3"
  },
  "language_info": {
   "codemirror_mode": {
    "name": "ipython",
    "version": 3
   },
   "file_extension": ".py",
   "mimetype": "text/x-python",
   "name": "python",
   "nbconvert_exporter": "python",
   "pygments_lexer": "ipython3",
   "version": "3.8.8"
  }
 },
 "nbformat": 4,
 "nbformat_minor": 5
}
